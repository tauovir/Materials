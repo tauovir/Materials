{
 "cells": [
  {
   "cell_type": "markdown",
   "id": "8f0553bf",
   "metadata": {},
   "source": [
    "## Create Dictionary"
   ]
  },
  {
   "cell_type": "code",
   "execution_count": 2,
   "id": "e3161cee",
   "metadata": {},
   "outputs": [
    {
     "name": "stdout",
     "output_type": "stream",
     "text": [
      "{}\n",
      "<class 'dict'>\n"
     ]
    }
   ],
   "source": [
    "dict1 = {}  # empty dictionary\n",
    "print(dict1)\n",
    "print(type(dict1))"
   ]
  },
  {
   "cell_type": "code",
   "execution_count": 3,
   "id": "494f2551",
   "metadata": {},
   "outputs": [],
   "source": [
    "data = {\"name\":\"rahul\",\"age\":25,\"city\":\"Meerut\"}"
   ]
  },
  {
   "cell_type": "code",
   "execution_count": 4,
   "id": "d6f19249",
   "metadata": {},
   "outputs": [
    {
     "data": {
      "text/plain": [
       "{'name': 'rahul', 'age': 25, 'city': 'Meerut'}"
      ]
     },
     "execution_count": 4,
     "metadata": {},
     "output_type": "execute_result"
    }
   ],
   "source": [
    "data"
   ]
  },
  {
   "cell_type": "code",
   "execution_count": 6,
   "id": "27f7b648",
   "metadata": {},
   "outputs": [
    {
     "data": {
      "text/plain": [
       "{}"
      ]
     },
     "execution_count": 6,
     "metadata": {},
     "output_type": "execute_result"
    }
   ],
   "source": [
    "# Using Built in function\n",
    "d1 = dict()\n",
    "d1"
   ]
  },
  {
   "cell_type": "code",
   "execution_count": 7,
   "id": "42b55bc2",
   "metadata": {},
   "outputs": [
    {
     "name": "stdout",
     "output_type": "stream",
     "text": [
      "{'name': 'Rahul', 'city': 'Kanpur'}\n"
     ]
    }
   ],
   "source": [
    "# Add Data to dictionary\n",
    "d1['name'] = \"Rahul\"\n",
    "d1['city'] = \"Kanpur\"\n",
    "print(d1)"
   ]
  },
  {
   "cell_type": "markdown",
   "id": "aa55a8f2",
   "metadata": {},
   "source": [
    "## Accesssing element in dictinary"
   ]
  },
  {
   "cell_type": "code",
   "execution_count": 13,
   "id": "abbae016",
   "metadata": {},
   "outputs": [
    {
     "name": "stdout",
     "output_type": "stream",
     "text": [
      "Rahul\n"
     ]
    }
   ],
   "source": [
    "print(d1['name'])"
   ]
  },
  {
   "cell_type": "markdown",
   "id": "cdc05fad",
   "metadata": {},
   "source": [
    "## Traversing Dictionary"
   ]
  },
  {
   "cell_type": "code",
   "execution_count": 14,
   "id": "9d4fc5bb",
   "metadata": {},
   "outputs": [
    {
     "data": {
      "text/plain": [
       "{'name': 'Amit', 'age': 30, 'country': 'India'}"
      ]
     },
     "execution_count": 14,
     "metadata": {},
     "output_type": "execute_result"
    }
   ],
   "source": [
    "# using loop\n",
    "data = {\"name\":\"Amit\",\"age\":30,\"country\":\"India\"}\n",
    "data"
   ]
  },
  {
   "cell_type": "code",
   "execution_count": 17,
   "id": "45e24684",
   "metadata": {},
   "outputs": [
    {
     "name": "stdout",
     "output_type": "stream",
     "text": [
      "name:Amit\n",
      "age:30\n",
      "country:India\n"
     ]
    }
   ],
   "source": [
    "for key in data:\n",
    "    print(key,data[key],sep=':')"
   ]
  },
  {
   "cell_type": "markdown",
   "id": "11fc90dc",
   "metadata": {},
   "source": [
    "## Appending Values to Dictionary"
   ]
  },
  {
   "cell_type": "code",
   "execution_count": 20,
   "id": "4a616d18",
   "metadata": {},
   "outputs": [
    {
     "name": "stdout",
     "output_type": "stream",
     "text": [
      "{'name': 'Amit', 'age': 30, 'country': 'India'}\n",
      "Adding new element....\n",
      "{'name': 'Amit', 'age': 30, 'country': 'India', 'is_working': True}\n"
     ]
    }
   ],
   "source": [
    "data = {\"name\":\"Amit\",\"age\":30,\"country\":\"India\"}\n",
    "print(data)\n",
    "print(\"Adding new element....\")\n",
    "data['is_working'] = True\n",
    "print(data)"
   ]
  },
  {
   "cell_type": "code",
   "execution_count": 19,
   "id": "ceb7d5da",
   "metadata": {},
   "outputs": [],
   "source": [
    "# updating elemnt in dictionary"
   ]
  },
  {
   "cell_type": "code",
   "execution_count": 23,
   "id": "b6d1f7c1",
   "metadata": {},
   "outputs": [
    {
     "name": "stdout",
     "output_type": "stream",
     "text": [
      "{'name': 'Amit', 'age': 30, 'country': 'India'}\n",
      "Updating.......\n",
      "{'name': 'Amit', 'age': 26, 'country': 'India'}\n"
     ]
    }
   ],
   "source": [
    "data = {\"name\":\"Amit\",\"age\":30,\"country\":\"India\"}\n",
    "print(data)\n",
    "print(\"Updating.......\")\n",
    "data['age'] = 26\n",
    "print(data)"
   ]
  },
  {
   "cell_type": "code",
   "execution_count": 24,
   "id": "0d25e5b1",
   "metadata": {},
   "outputs": [],
   "source": [
    "# Merge two dictionary\n",
    "data1 = {1:10,2:20,3:30}\n",
    "data2 = {5:50,6:60,7:70,8:80,9:90}\n",
    "data1.update(data2)"
   ]
  },
  {
   "cell_type": "code",
   "execution_count": 25,
   "id": "04455d07",
   "metadata": {},
   "outputs": [
    {
     "data": {
      "text/plain": [
       "{1: 10, 2: 20, 3: 30, 5: 50, 6: 60, 7: 70, 8: 80, 9: 90}"
      ]
     },
     "execution_count": 25,
     "metadata": {},
     "output_type": "execute_result"
    }
   ],
   "source": [
    "data1"
   ]
  },
  {
   "cell_type": "code",
   "execution_count": 26,
   "id": "a2664338",
   "metadata": {},
   "outputs": [
    {
     "data": {
      "text/plain": [
       "{5: 50, 6: 60, 7: 70, 8: 80, 9: 90}"
      ]
     },
     "execution_count": 26,
     "metadata": {},
     "output_type": "execute_result"
    }
   ],
   "source": [
    "data2"
   ]
  },
  {
   "cell_type": "code",
   "execution_count": 30,
   "id": "3c959a84",
   "metadata": {},
   "outputs": [],
   "source": [
    "# removing Item from Dict"
   ]
  },
  {
   "cell_type": "code",
   "execution_count": 32,
   "id": "84387509",
   "metadata": {},
   "outputs": [
    {
     "data": {
      "text/plain": [
       "{'name': 'Amit', 'class': '10th', 'role': 102030}"
      ]
     },
     "execution_count": 32,
     "metadata": {},
     "output_type": "execute_result"
    }
   ],
   "source": [
    "# using Pop\n",
    "months = {\"name\":\"Amit\",\"class\":\"10th\",\"role\":102030}\n",
    "months"
   ]
  },
  {
   "cell_type": "code",
   "execution_count": 33,
   "id": "6d72f386",
   "metadata": {},
   "outputs": [
    {
     "data": {
      "text/plain": [
       "'10th'"
      ]
     },
     "execution_count": 33,
     "metadata": {},
     "output_type": "execute_result"
    }
   ],
   "source": [
    "months.pop('class')"
   ]
  },
  {
   "cell_type": "code",
   "execution_count": 35,
   "id": "20f922f0",
   "metadata": {},
   "outputs": [
    {
     "data": {
      "text/plain": [
       "{'name': 'Amit', 'role': 102030}"
      ]
     },
     "execution_count": 35,
     "metadata": {},
     "output_type": "execute_result"
    }
   ],
   "source": [
    "months"
   ]
  },
  {
   "cell_type": "code",
   "execution_count": 38,
   "id": "3013b4b7",
   "metadata": {},
   "outputs": [],
   "source": [
    "#months.pop('class')  # if key is not there"
   ]
  },
  {
   "cell_type": "code",
   "execution_count": 39,
   "id": "f6a596fd",
   "metadata": {},
   "outputs": [],
   "source": [
    "# Using del Command"
   ]
  },
  {
   "cell_type": "code",
   "execution_count": 49,
   "id": "9c3cbafe",
   "metadata": {},
   "outputs": [],
   "source": [
    "data = {\"name\":\"Amit\",\"class\":\"10th\",\"role\":102030}"
   ]
  },
  {
   "cell_type": "code",
   "execution_count": 50,
   "id": "7f4c619c",
   "metadata": {},
   "outputs": [],
   "source": [
    "del data['name']"
   ]
  },
  {
   "cell_type": "code",
   "execution_count": 51,
   "id": "ab597b08",
   "metadata": {},
   "outputs": [
    {
     "data": {
      "text/plain": [
       "{'class': '10th', 'role': 102030}"
      ]
     },
     "execution_count": 51,
     "metadata": {},
     "output_type": "execute_result"
    }
   ],
   "source": [
    "data"
   ]
  },
  {
   "cell_type": "markdown",
   "id": "9a05f912",
   "metadata": {},
   "source": [
    "## Membership Operator\n",
    "**in** operator check whether a perticular key is there in dictiinary.It return true if element appear in dectionry else false"
   ]
  },
  {
   "cell_type": "code",
   "execution_count": 64,
   "id": "162f14c6",
   "metadata": {},
   "outputs": [],
   "source": [
    "days = {\"mon\":\"monday\",\"tue\":\"tuesday\",\"wed\":\"wednesday\",\"thu\":\"thursday\",\"fri\":\"friday\",\"sat\":\"saturday\"}"
   ]
  },
  {
   "cell_type": "code",
   "execution_count": 65,
   "id": "b11a9e74",
   "metadata": {},
   "outputs": [
    {
     "data": {
      "text/plain": [
       "True"
      ]
     },
     "execution_count": 65,
     "metadata": {},
     "output_type": "execute_result"
    }
   ],
   "source": [
    "\"wed\" in days"
   ]
  },
  {
   "cell_type": "code",
   "execution_count": 66,
   "id": "beb41fd1",
   "metadata": {},
   "outputs": [
    {
     "data": {
      "text/plain": [
       "False"
      ]
     },
     "execution_count": 66,
     "metadata": {},
     "output_type": "execute_result"
    }
   ],
   "source": [
    "\"sun\" in days"
   ]
  },
  {
   "cell_type": "code",
   "execution_count": 67,
   "id": "9213f7e4",
   "metadata": {},
   "outputs": [],
   "source": [
    "## common function of dictionary"
   ]
  },
  {
   "cell_type": "markdown",
   "id": "0882e44f",
   "metadata": {},
   "source": [
    "### len()\n",
    "This method  returns number of key-value pairs in the given dictionary"
   ]
  },
  {
   "cell_type": "code",
   "execution_count": 69,
   "id": "9bb1fd47",
   "metadata": {},
   "outputs": [
    {
     "name": "stdout",
     "output_type": "stream",
     "text": [
      "6\n"
     ]
    }
   ],
   "source": [
    "days = {\"mon\":\"monday\",\"tue\":\"tuesday\",\"wed\":\"wednesday\",\"thu\":\"thursday\",\"fri\":\"friday\",\"sat\":\"saturday\"}\n",
    "print(len(days))"
   ]
  },
  {
   "cell_type": "markdown",
   "id": "ff185685",
   "metadata": {},
   "source": [
    "## Clear()\n",
    "**It removes all items from the particular dictionary**"
   ]
  },
  {
   "cell_type": "code",
   "execution_count": 71,
   "id": "e699a52a",
   "metadata": {},
   "outputs": [],
   "source": [
    "days = {\"mon\":\"monday\",\"tue\":\"tuesday\",\"wed\":\"wednesday\",\"thu\":\"thursday\",\"fri\":\"friday\",\"sat\":\"saturday\"}\n",
    "days.clear()"
   ]
  },
  {
   "cell_type": "code",
   "execution_count": 72,
   "id": "2359bbd0",
   "metadata": {},
   "outputs": [
    {
     "data": {
      "text/plain": [
       "{}"
      ]
     },
     "execution_count": 72,
     "metadata": {},
     "output_type": "execute_result"
    }
   ],
   "source": [
    "days"
   ]
  },
  {
   "cell_type": "markdown",
   "id": "c6c5320f",
   "metadata": {},
   "source": [
    "## get()\n",
    "It return the value from the given key. If key is not avialable the default value is return"
   ]
  },
  {
   "cell_type": "code",
   "execution_count": 73,
   "id": "7f2c0e80",
   "metadata": {},
   "outputs": [
    {
     "name": "stdout",
     "output_type": "stream",
     "text": [
      "wednesday\n"
     ]
    }
   ],
   "source": [
    "days = {\"mon\":\"monday\",\"tue\":\"tuesday\",\"wed\":\"wednesday\",\"thu\":\"thursday\",\"fri\":\"friday\",\"sat\":\"saturday\"}\n",
    "print(days.get('wed'))"
   ]
  },
  {
   "cell_type": "code",
   "execution_count": 79,
   "id": "bace6181",
   "metadata": {},
   "outputs": [
    {
     "name": "stdout",
     "output_type": "stream",
     "text": [
      "No value\n"
     ]
    }
   ],
   "source": [
    "print(days.get('wed3', \"No value\"))"
   ]
  },
  {
   "cell_type": "markdown",
   "id": "4d3541c7",
   "metadata": {},
   "source": [
    "## items()\n",
    "**it return the content of dictionary as a list of tuple having key-value pair**"
   ]
  },
  {
   "cell_type": "code",
   "execution_count": 80,
   "id": "a0624613",
   "metadata": {},
   "outputs": [
    {
     "data": {
      "text/plain": [
       "dict_items([('mon', 'monday'), ('tue', 'tuesday'), ('wed', 'wednesday'), ('thu', 'thursday'), ('fri', 'friday'), ('sat', 'saturday')])"
      ]
     },
     "execution_count": 80,
     "metadata": {},
     "output_type": "execute_result"
    }
   ],
   "source": [
    "days = {\"mon\":\"monday\",\"tue\":\"tuesday\",\"wed\":\"wednesday\",\"thu\":\"thursday\",\"fri\":\"friday\",\"sat\":\"saturday\"}\n",
    "l1 = days.items()\n",
    "l1"
   ]
  },
  {
   "cell_type": "code",
   "execution_count": 83,
   "id": "952cf1db",
   "metadata": {},
   "outputs": [
    {
     "name": "stdout",
     "output_type": "stream",
     "text": [
      "mon monday\n",
      "tue tuesday\n",
      "wed wednesday\n",
      "thu thursday\n",
      "fri friday\n",
      "sat saturday\n"
     ]
    }
   ],
   "source": [
    "for key, val in days.items():\n",
    "    print(key,val)"
   ]
  },
  {
   "cell_type": "markdown",
   "id": "4f2e9a47",
   "metadata": {},
   "source": [
    "## Keys\n",
    "**It return list of keys in dictionary**"
   ]
  },
  {
   "cell_type": "code",
   "execution_count": 85,
   "id": "459e97ab",
   "metadata": {},
   "outputs": [
    {
     "data": {
      "text/plain": [
       "dict_keys(['mon', 'tue', 'wed', 'thu', 'fri', 'sat'])"
      ]
     },
     "execution_count": 85,
     "metadata": {},
     "output_type": "execute_result"
    }
   ],
   "source": [
    "days = {\"mon\":\"monday\",\"tue\":\"tuesday\",\"wed\":\"wednesday\",\"thu\":\"thursday\",\"fri\":\"friday\",\"sat\":\"saturday\"}\n",
    "days.keys()"
   ]
  },
  {
   "cell_type": "code",
   "execution_count": 90,
   "id": "087ae060",
   "metadata": {},
   "outputs": [
    {
     "name": "stdout",
     "output_type": "stream",
     "text": [
      "mon\n",
      "tue\n",
      "wed\n",
      "thu\n",
      "fri\n",
      "sat\n"
     ]
    }
   ],
   "source": [
    "for x in days.keys():\n",
    "    print(x)"
   ]
  },
  {
   "cell_type": "markdown",
   "id": "dd6ac75c",
   "metadata": {},
   "source": [
    "## values\n",
    "**It return values from key-value pair of dictionary**"
   ]
  },
  {
   "cell_type": "code",
   "execution_count": 92,
   "id": "291eb347",
   "metadata": {},
   "outputs": [
    {
     "data": {
      "text/plain": [
       "dict_values(['monday', 'tuesday', 'wednesday', 'thursday', 'friday', 'saturday'])"
      ]
     },
     "execution_count": 92,
     "metadata": {},
     "output_type": "execute_result"
    }
   ],
   "source": [
    "days = {\"mon\":\"monday\",\"tue\":\"tuesday\",\"wed\":\"wednesday\",\"thu\":\"thursday\",\"fri\":\"friday\",\"sat\":\"saturday\"}\n",
    "days.values()"
   ]
  },
  {
   "cell_type": "code",
   "execution_count": 94,
   "id": "d6f6b6d8",
   "metadata": {},
   "outputs": [
    {
     "data": {
      "text/plain": [
       "dict_values"
      ]
     },
     "execution_count": 94,
     "metadata": {},
     "output_type": "execute_result"
    }
   ],
   "source": [
    "type(days.values())"
   ]
  },
  {
   "cell_type": "code",
   "execution_count": null,
   "id": "e87eb1f8",
   "metadata": {},
   "outputs": [],
   "source": []
  }
 ],
 "metadata": {
  "kernelspec": {
   "display_name": "Python 3 (ipykernel)",
   "language": "python",
   "name": "python3"
  },
  "language_info": {
   "codemirror_mode": {
    "name": "ipython",
    "version": 3
   },
   "file_extension": ".py",
   "mimetype": "text/x-python",
   "name": "python",
   "nbconvert_exporter": "python",
   "pygments_lexer": "ipython3",
   "version": "3.10.4"
  }
 },
 "nbformat": 4,
 "nbformat_minor": 5
}
