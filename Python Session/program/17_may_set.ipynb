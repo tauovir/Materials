{
 "cells": [
  {
   "cell_type": "code",
   "execution_count": 1,
   "id": "95cc11af",
   "metadata": {},
   "outputs": [],
   "source": [
    "# Creating Set"
   ]
  },
  {
   "cell_type": "code",
   "execution_count": 11,
   "id": "d2a12cb0",
   "metadata": {},
   "outputs": [
    {
     "name": "stdout",
     "output_type": "stream",
     "text": [
      "{'Rahul', 100.55, 20, (15, 2)}\n",
      "{10, 20}\n"
     ]
    }
   ],
   "source": [
    "# s1 = set() # empty set, only way {2,3,2}\n",
    "\n",
    "\n",
    "# print(s1)\n",
    "# print(type(s1))\n",
    "# b = {20}\n",
    "# print(b)\n",
    "c = {\"Rahul\",20,100.55,(15,2)}\n",
    "print(c)\n",
    "st1 = {10,20,10,10,10}\n",
    "print(st1)\n",
    "# d = {\"Rahul\",20,100.55,[10,30]} \n",
    "# d2 = {\"Rahul\",20,100.55,{\"name\":\"Tcs\"}} \n"
   ]
  },
  {
   "cell_type": "code",
   "execution_count": 13,
   "id": "45b95d1e",
   "metadata": {},
   "outputs": [
    {
     "name": "stdout",
     "output_type": "stream",
     "text": [
      "{'mango', 'orange', 'pineapple', 'Mango'}\n",
      "{'mango', 'orange', 'pineapple', 'Mango'}\n"
     ]
    }
   ],
   "source": [
    "st1 = set(['mango', 'orange', 'Mango', 'orange', 'pineapple'])\n",
    "print(st1)\n",
    "x = set(('mango', 'orange', 'Mango', 'orange', 'pineapple'))\n",
    "print(x)"
   ]
  },
  {
   "cell_type": "markdown",
   "id": "d56e8c3c",
   "metadata": {},
   "source": [
    "## Accessing Element\n",
    "**Set is an unorder collection, therefore, order of insertion is not same as te order of access**<br>\n",
    "**Being an unorder of collection, items in a set cannot be accessed using indices**\n",
    "**Set can not be sliced**\n"
   ]
  },
  {
   "cell_type": "code",
   "execution_count": 16,
   "id": "82c30ff0",
   "metadata": {},
   "outputs": [],
   "source": [
    "s = {10,20,15,20,30}\n",
    "# s[0]"
   ]
  },
  {
   "cell_type": "code",
   "execution_count": 17,
   "id": "ba2f8fe4",
   "metadata": {},
   "outputs": [
    {
     "name": "stdout",
     "output_type": "stream",
     "text": [
      "10\n",
      "20\n",
      "30\n",
      "15\n"
     ]
    }
   ],
   "source": [
    "for ele in s:\n",
    "    print(ele)"
   ]
  },
  {
   "cell_type": "code",
   "execution_count": 19,
   "id": "88f221fd",
   "metadata": {},
   "outputs": [],
   "source": [
    "# Basic Operations"
   ]
  },
  {
   "cell_type": "markdown",
   "id": "11756e36",
   "metadata": {},
   "source": [
    "# add"
   ]
  },
  {
   "cell_type": "code",
   "execution_count": 18,
   "id": "dab3aac3",
   "metadata": {},
   "outputs": [
    {
     "name": "stdout",
     "output_type": "stream",
     "text": [
      "1823603920672\n",
      "{10, 20, 30}\n",
      "1823603920672\n",
      "{100, 10, 20, 30}\n"
     ]
    }
   ],
   "source": [
    "s = {10,20,30}\n",
    "print(id(s))\n",
    "print(s)\n",
    "s.add(100)\n",
    "print(id(s))\n",
    "print(s)\n"
   ]
  },
  {
   "cell_type": "code",
   "execution_count": 44,
   "id": "2253c6c5",
   "metadata": {},
   "outputs": [],
   "source": [
    "## FrozenSet\n",
    "# s1 = frozenset({10,20,30,60})\n"
   ]
  },
  {
   "cell_type": "code",
   "execution_count": 45,
   "id": "98f00a07",
   "metadata": {},
   "outputs": [],
   "source": [
    "# Basic Operations"
   ]
  },
  {
   "cell_type": "markdown",
   "id": "bde1eae4",
   "metadata": {},
   "source": [
    "## len()"
   ]
  },
  {
   "cell_type": "code",
   "execution_count": 19,
   "id": "19cb628f",
   "metadata": {},
   "outputs": [
    {
     "name": "stdout",
     "output_type": "stream",
     "text": [
      "{10, 20, 50, 30}\n"
     ]
    }
   ],
   "source": [
    "st1 = {10,20,30,50}\n",
    "print(st1)"
   ]
  },
  {
   "cell_type": "markdown",
   "id": "30cbba98",
   "metadata": {},
   "source": [
    "## Membership"
   ]
  },
  {
   "cell_type": "code",
   "execution_count": 20,
   "id": "99079524",
   "metadata": {},
   "outputs": [
    {
     "data": {
      "text/plain": [
       "True"
      ]
     },
     "execution_count": 20,
     "metadata": {},
     "output_type": "execute_result"
    }
   ],
   "source": [
    "st1 = {10,20,30,50}\n",
    "10 in st1"
   ]
  },
  {
   "cell_type": "code",
   "execution_count": 21,
   "id": "6762fa9a",
   "metadata": {},
   "outputs": [
    {
     "data": {
      "text/plain": [
       "True"
      ]
     },
     "execution_count": 21,
     "metadata": {},
     "output_type": "execute_result"
    }
   ],
   "source": [
    "50 in st1"
   ]
  },
  {
   "cell_type": "code",
   "execution_count": 24,
   "id": "63a309dc",
   "metadata": {},
   "outputs": [
    {
     "data": {
      "text/plain": [
       "True"
      ]
     },
     "execution_count": 24,
     "metadata": {},
     "output_type": "execute_result"
    }
   ],
   "source": [
    "500 not in st1"
   ]
  },
  {
   "cell_type": "code",
   "execution_count": null,
   "id": "ef79bb2e",
   "metadata": {},
   "outputs": [],
   "source": [
    "## Unon"
   ]
  },
  {
   "cell_type": "code",
   "execution_count": 31,
   "id": "ff550240",
   "metadata": {},
   "outputs": [
    {
     "name": "stdout",
     "output_type": "stream",
     "text": [
      "{'mango', 'black', 'orange', 'while', 'apple', 'red'}\n"
     ]
    }
   ],
   "source": [
    "s1 = {\"orange\",\"mango\",\"apple\"}\n",
    "s2 = {\"red\",\"black\",\"orange\",\"while\",\"apple\"}\n",
    "union = s1.union(s2)\n",
    "print(union)"
   ]
  },
  {
   "cell_type": "code",
   "execution_count": 26,
   "id": "b6a9fac8",
   "metadata": {},
   "outputs": [
    {
     "data": {
      "text/plain": [
       "{1, 2, 10, 11, 12, 15, 20, 30}"
      ]
     },
     "execution_count": 26,
     "metadata": {},
     "output_type": "execute_result"
    }
   ],
   "source": [
    "a = {10,20,30}\n",
    "b = {1,2,30}\n",
    "c = {10,11,12,15,30}\n",
    "a.union(b,c)"
   ]
  },
  {
   "cell_type": "code",
   "execution_count": 27,
   "id": "86aa6406",
   "metadata": {},
   "outputs": [],
   "source": [
    "#a|b|c"
   ]
  },
  {
   "cell_type": "markdown",
   "id": "5da275dd",
   "metadata": {},
   "source": [
    "## Intersect\n",
    "** resulting set contains only elements that are present in all of the specified sets**"
   ]
  },
  {
   "cell_type": "code",
   "execution_count": 32,
   "id": "4b660280",
   "metadata": {},
   "outputs": [
    {
     "data": {
      "text/plain": [
       "{'orange'}"
      ]
     },
     "execution_count": 32,
     "metadata": {},
     "output_type": "execute_result"
    }
   ],
   "source": [
    "s1 = {\"orange\",\"mango\",\"apple\"}\n",
    "s2 = {\"red\",\"black\",\"orange\",\"while\"}\n",
    "s1.intersection(s2)"
   ]
  },
  {
   "cell_type": "markdown",
   "id": "45f027b7",
   "metadata": {},
   "source": [
    "## difference\n",
    "**s1.difference(s2) and s1 - s2 return the set of all elements that are in s1 but not in s2:**"
   ]
  },
  {
   "cell_type": "code",
   "execution_count": 78,
   "id": "7baa6cfa",
   "metadata": {},
   "outputs": [
    {
     "data": {
      "text/plain": [
       "{'black', 'red', 'while'}"
      ]
     },
     "execution_count": 78,
     "metadata": {},
     "output_type": "execute_result"
    }
   ],
   "source": [
    "s1 = {\"orange\",\"mango\",\"apple\"}\n",
    "s2 = {\"red\",\"black\",\"orange\",\"while\"}\n",
    "s2.difference(s1)"
   ]
  },
  {
   "cell_type": "code",
   "execution_count": 80,
   "id": "68602a38",
   "metadata": {},
   "outputs": [
    {
     "data": {
      "text/plain": [
       "set()"
      ]
     },
     "execution_count": 80,
     "metadata": {},
     "output_type": "execute_result"
    }
   ],
   "source": [
    "s1 = {\"orange\",\"mango\"}\n",
    "s2 = {\"orange\",\"mango\"}\n",
    "s2.difference(s1)"
   ]
  },
  {
   "cell_type": "markdown",
   "id": "d35b6789",
   "metadata": {},
   "source": [
    "## x1.issubset(x2)"
   ]
  },
  {
   "cell_type": "code",
   "execution_count": 95,
   "id": "5e750f78",
   "metadata": {},
   "outputs": [
    {
     "name": "stdout",
     "output_type": "stream",
     "text": [
      "True\n",
      "True\n"
     ]
    }
   ],
   "source": [
    "s1 = {1,2,3,4,5}\n",
    "s2 = {5,2}\n",
    "print(s1.issuperset(s2))\n",
    "print(s2.issubset(s1))"
   ]
  },
  {
   "cell_type": "code",
   "execution_count": 96,
   "id": "c666bd60",
   "metadata": {},
   "outputs": [],
   "source": [
    "## update"
   ]
  },
  {
   "cell_type": "code",
   "execution_count": 107,
   "id": "fb3611c4",
   "metadata": {},
   "outputs": [],
   "source": [
    "s1 = {1,2,3,4,5}\n",
    "s2 = {50,20}\n",
    "s1.update(s2)"
   ]
  },
  {
   "cell_type": "code",
   "execution_count": 108,
   "id": "ccb248c8",
   "metadata": {},
   "outputs": [
    {
     "data": {
      "text/plain": [
       "{1, 2, 3, 4, 5, 20, 50}"
      ]
     },
     "execution_count": 108,
     "metadata": {},
     "output_type": "execute_result"
    }
   ],
   "source": [
    "s1"
   ]
  },
  {
   "cell_type": "markdown",
   "id": "91b40fe4",
   "metadata": {},
   "source": [
    "# Remove\n",
    "**Removes an element from a set. Python raises an exception if <elem> is not in s1**"
   ]
  },
  {
   "cell_type": "code",
   "execution_count": 34,
   "id": "a599c488",
   "metadata": {},
   "outputs": [
    {
     "ename": "KeyError",
     "evalue": "50",
     "output_type": "error",
     "traceback": [
      "\u001b[1;31m---------------------------------------------------------------------------\u001b[0m",
      "\u001b[1;31mKeyError\u001b[0m                                  Traceback (most recent call last)",
      "Input \u001b[1;32mIn [34]\u001b[0m, in \u001b[0;36m<cell line: 2>\u001b[1;34m()\u001b[0m\n\u001b[0;32m      1\u001b[0m s1 \u001b[38;5;241m=\u001b[39m {\u001b[38;5;241m1\u001b[39m,\u001b[38;5;241m2\u001b[39m,\u001b[38;5;241m3\u001b[39m,\u001b[38;5;241m4\u001b[39m,\u001b[38;5;241m5\u001b[39m}\n\u001b[1;32m----> 2\u001b[0m \u001b[43ms1\u001b[49m\u001b[38;5;241;43m.\u001b[39;49m\u001b[43mremove\u001b[49m\u001b[43m(\u001b[49m\u001b[38;5;241;43m50\u001b[39;49m\u001b[43m)\u001b[49m\n\u001b[0;32m      3\u001b[0m \u001b[38;5;28mprint\u001b[39m(s1)\n",
      "\u001b[1;31mKeyError\u001b[0m: 50"
     ]
    }
   ],
   "source": [
    "s1 = {1,2,3,4,5}\n",
    "s1.remove(50)\n",
    "print(s1)"
   ]
  },
  {
   "cell_type": "markdown",
   "id": "949d672f",
   "metadata": {},
   "source": [
    "## discard\n",
    "**Removes an element from a set.**"
   ]
  },
  {
   "cell_type": "code",
   "execution_count": 36,
   "id": "807e6c20",
   "metadata": {},
   "outputs": [],
   "source": [
    "s1 = {1,2,3,4,5}\n",
    "s1.discard(40)\n"
   ]
  },
  {
   "cell_type": "code",
   "execution_count": 119,
   "id": "c2059b6a",
   "metadata": {},
   "outputs": [
    {
     "name": "stdout",
     "output_type": "stream",
     "text": [
      "{1, 2, 3, 5}\n"
     ]
    }
   ],
   "source": [
    "print(s1)"
   ]
  },
  {
   "cell_type": "code",
   "execution_count": 120,
   "id": "e80d39bc",
   "metadata": {},
   "outputs": [],
   "source": [
    "s1.discard(4)"
   ]
  },
  {
   "cell_type": "code",
   "execution_count": 121,
   "id": "2fd182c9",
   "metadata": {},
   "outputs": [
    {
     "name": "stdout",
     "output_type": "stream",
     "text": [
      "{1, 2, 3, 5}\n"
     ]
    }
   ],
   "source": [
    "print(s1)"
   ]
  },
  {
   "cell_type": "markdown",
   "id": "8fe6901c",
   "metadata": {},
   "source": [
    "## pop\n",
    "**Removes a random element from a set.**"
   ]
  },
  {
   "cell_type": "code",
   "execution_count": 125,
   "id": "049485e1",
   "metadata": {},
   "outputs": [
    {
     "data": {
      "text/plain": [
       "1"
      ]
     },
     "execution_count": 125,
     "metadata": {},
     "output_type": "execute_result"
    }
   ],
   "source": [
    "s1 = {1,2,3,4,5}\n",
    "s1.pop()"
   ]
  },
  {
   "cell_type": "code",
   "execution_count": 126,
   "id": "c1ad359c",
   "metadata": {},
   "outputs": [
    {
     "name": "stdout",
     "output_type": "stream",
     "text": [
      "{2, 3, 4, 5}\n",
      "2\n"
     ]
    }
   ],
   "source": [
    "print(s1)\n",
    "print(s1.pop())\n"
   ]
  },
  {
   "cell_type": "code",
   "execution_count": 127,
   "id": "f26f3b39",
   "metadata": {},
   "outputs": [
    {
     "name": "stdout",
     "output_type": "stream",
     "text": [
      "{3, 4, 5}\n",
      "3\n"
     ]
    }
   ],
   "source": [
    "print(s1)\n",
    "print(s1.pop())"
   ]
  },
  {
   "cell_type": "code",
   "execution_count": 128,
   "id": "e6d33875",
   "metadata": {},
   "outputs": [
    {
     "name": "stdout",
     "output_type": "stream",
     "text": [
      "{4, 5}\n",
      "4\n"
     ]
    }
   ],
   "source": [
    "print(s1)\n",
    "print(s1.pop())"
   ]
  },
  {
   "cell_type": "code",
   "execution_count": 129,
   "id": "be73ff5e",
   "metadata": {},
   "outputs": [
    {
     "name": "stdout",
     "output_type": "stream",
     "text": [
      "{5}\n",
      "5\n"
     ]
    }
   ],
   "source": [
    "print(s1)\n",
    "print(s1.pop())"
   ]
  },
  {
   "cell_type": "code",
   "execution_count": 130,
   "id": "9b23bbc8",
   "metadata": {},
   "outputs": [
    {
     "name": "stdout",
     "output_type": "stream",
     "text": [
      "set()\n"
     ]
    },
    {
     "ename": "KeyError",
     "evalue": "'pop from an empty set'",
     "output_type": "error",
     "traceback": [
      "\u001b[1;31m---------------------------------------------------------------------------\u001b[0m",
      "\u001b[1;31mKeyError\u001b[0m                                  Traceback (most recent call last)",
      "Input \u001b[1;32mIn [130]\u001b[0m, in \u001b[0;36m<cell line: 2>\u001b[1;34m()\u001b[0m\n\u001b[0;32m      1\u001b[0m \u001b[38;5;28mprint\u001b[39m(s1)\n\u001b[1;32m----> 2\u001b[0m \u001b[38;5;28mprint\u001b[39m(\u001b[43ms1\u001b[49m\u001b[38;5;241;43m.\u001b[39;49m\u001b[43mpop\u001b[49m\u001b[43m(\u001b[49m\u001b[43m)\u001b[49m)\n",
      "\u001b[1;31mKeyError\u001b[0m: 'pop from an empty set'"
     ]
    }
   ],
   "source": [
    "print(s1)\n",
    "print(s1.pop())"
   ]
  },
  {
   "cell_type": "markdown",
   "id": "947feee0",
   "metadata": {},
   "source": [
    "## clear()\n",
    "**Clears a set.**"
   ]
  },
  {
   "cell_type": "code",
   "execution_count": 131,
   "id": "a8f37dd3",
   "metadata": {},
   "outputs": [
    {
     "name": "stdout",
     "output_type": "stream",
     "text": [
      "set()\n"
     ]
    }
   ],
   "source": [
    "s1 = {1,2,3,4,5}\n",
    "s1.clear()\n",
    "print(s1)"
   ]
  },
  {
   "cell_type": "code",
   "execution_count": null,
   "id": "8a12b10d",
   "metadata": {},
   "outputs": [],
   "source": []
  }
 ],
 "metadata": {
  "kernelspec": {
   "display_name": "Python 3 (ipykernel)",
   "language": "python",
   "name": "python3"
  },
  "language_info": {
   "codemirror_mode": {
    "name": "ipython",
    "version": 3
   },
   "file_extension": ".py",
   "mimetype": "text/x-python",
   "name": "python",
   "nbconvert_exporter": "python",
   "pygments_lexer": "ipython3",
   "version": "3.10.4"
  }
 },
 "nbformat": 4,
 "nbformat_minor": 5
}
