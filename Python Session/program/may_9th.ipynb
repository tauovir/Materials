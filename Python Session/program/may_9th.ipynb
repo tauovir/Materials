{
 "cells": [
  {
   "cell_type": "code",
   "execution_count": 5,
   "id": "93b967ad",
   "metadata": {},
   "outputs": [
    {
     "name": "stdout",
     "output_type": "stream",
     "text": [
      "['False', 'None', 'True', 'and', 'as', 'assert', 'async', 'await', 'break', 'class', 'continue', 'def', 'del', 'elif', 'else', 'except', 'finally', 'for', 'from', 'global', 'if', 'import', 'in', 'is', 'lambda', 'nonlocal', 'not', 'or', 'pass', 'raise', 'return', 'try', 'while', 'with', 'yield']\n"
     ]
    }
   ],
   "source": [
    "# Keywords\n",
    "import keyword\n",
    "print(keyword.kwlist)"
   ]
  },
  {
   "cell_type": "code",
   "execution_count": 7,
   "id": "e79bf895",
   "metadata": {},
   "outputs": [],
   "source": [
    "def f1():\n",
    "    pass"
   ]
  },
  {
   "cell_type": "code",
   "execution_count": 9,
   "id": "f22d2c50",
   "metadata": {},
   "outputs": [],
   "source": [
    "# import = \"hello\""
   ]
  },
  {
   "cell_type": "code",
   "execution_count": 10,
   "id": "f583818a",
   "metadata": {},
   "outputs": [
    {
     "data": {
      "text/plain": [
       "10"
      ]
     },
     "execution_count": 10,
     "metadata": {},
     "output_type": "execute_result"
    }
   ],
   "source": [
    "# case sensitive\n",
    "\n",
    "Def = 10\n",
    "Def"
   ]
  },
  {
   "cell_type": "code",
   "execution_count": 5,
   "id": "a5af2551",
   "metadata": {},
   "outputs": [],
   "source": [
    "# Rules for Writing Identifier"
   ]
  },
  {
   "cell_type": "code",
   "execution_count": 11,
   "id": "21361879",
   "metadata": {},
   "outputs": [],
   "source": [
    "# #Vaild Identifier\n",
    "x = 10\n",
    "_name = 15\n",
    "name10 = \"name\"\n",
    "name_first = \"first name\"\n",
    "Name = \"Caps name\""
   ]
  },
  {
   "cell_type": "code",
   "execution_count": 15,
   "id": "628fd590",
   "metadata": {},
   "outputs": [
    {
     "ename": "SyntaxError",
     "evalue": "invalid syntax (534482566.py, line 4)",
     "output_type": "error",
     "traceback": [
      "\u001b[1;36m  Input \u001b[1;32mIn [15]\u001b[1;36m\u001b[0m\n\u001b[1;33m    class = 10\u001b[0m\n\u001b[1;37m          ^\u001b[0m\n\u001b[1;31mSyntaxError\u001b[0m\u001b[1;31m:\u001b[0m invalid syntax\n"
     ]
    }
   ],
   "source": [
    "# 10x = 10\n",
    "# name@first = 152\n",
    "# -name = 10\n",
    "# class = 10"
   ]
  },
  {
   "cell_type": "code",
   "execution_count": 8,
   "id": "0cfc82ca",
   "metadata": {},
   "outputs": [],
   "source": [
    "# Declaring variable"
   ]
  },
  {
   "cell_type": "code",
   "execution_count": 17,
   "id": "defc6054",
   "metadata": {},
   "outputs": [
    {
     "name": "stdout",
     "output_type": "stream",
     "text": [
      "first name\n",
      "10\n",
      "<class 'str'>\n",
      "<class 'int'>\n"
     ]
    }
   ],
   "source": [
    "name = \"first name\"\n",
    "price = 10\n",
    "print(name)\n",
    "print(price)\n",
    "\n",
    "print(type(name))\n",
    "print(type(price))"
   ]
  },
  {
   "cell_type": "code",
   "execution_count": 18,
   "id": "a128c548",
   "metadata": {},
   "outputs": [
    {
     "name": "stdout",
     "output_type": "stream",
     "text": [
      "10 99.99 hello\n"
     ]
    }
   ],
   "source": [
    "#assigning multiple values to multiple variables\n",
    "a,b,c = 10,99.99,\"hello\"\n",
    "print(a,b,c)"
   ]
  },
  {
   "cell_type": "code",
   "execution_count": 11,
   "id": "a6ab0c42",
   "metadata": {},
   "outputs": [],
   "source": [
    "# python statement"
   ]
  },
  {
   "cell_type": "code",
   "execution_count": 19,
   "id": "1a9b05b5",
   "metadata": {},
   "outputs": [
    {
     "name": "stdout",
     "output_type": "stream",
     "text": [
      "129\n",
      " Helloe there\n"
     ]
    }
   ],
   "source": [
    "a = 2+3*9+100\n",
    "print(a)\n",
    "print(\" Helloe there\")"
   ]
  },
  {
   "cell_type": "code",
   "execution_count": 13,
   "id": "9d913429",
   "metadata": {},
   "outputs": [],
   "source": [
    "# Multi-line statatement"
   ]
  },
  {
   "cell_type": "code",
   "execution_count": 20,
   "id": "ae61bc43",
   "metadata": {},
   "outputs": [
    {
     "name": "stdout",
     "output_type": "stream",
     "text": [
      "22\n"
     ]
    }
   ],
   "source": [
    "cal = 2+3+7 \\\n",
    "        +3+5 \\\n",
    "        +2\n",
    "print(cal)"
   ]
  },
  {
   "cell_type": "code",
   "execution_count": 21,
   "id": "d3ec6fb1",
   "metadata": {},
   "outputs": [
    {
     "name": "stdout",
     "output_type": "stream",
     "text": [
      "Hello I am learningpythonand doing practice\n"
     ]
    }
   ],
   "source": [
    "msg = \"Hello I am learning\" \\\n",
    "        \"python\" \\\n",
    "        \"and doing practice\"\n",
    "print(msg)"
   ]
  },
  {
   "cell_type": "code",
   "execution_count": 24,
   "id": "912460e6",
   "metadata": {},
   "outputs": [
    {
     "name": "stdout",
     "output_type": "stream",
     "text": [
      "[10, 20, 30, 1, 2, 3, 4, 5]\n",
      "<class 'list'>\n"
     ]
    }
   ],
   "source": [
    "data = [10,20,30,\n",
    "       1,2,3\n",
    "        ,4,5\n",
    "       ]\n",
    "print(data)\n",
    "print(type(data))"
   ]
  },
  {
   "cell_type": "code",
   "execution_count": 17,
   "id": "d21404d6",
   "metadata": {},
   "outputs": [],
   "source": [
    "# Literals"
   ]
  },
  {
   "cell_type": "code",
   "execution_count": 27,
   "id": "26df040f",
   "metadata": {},
   "outputs": [
    {
     "name": "stdout",
     "output_type": "stream",
     "text": [
      "1010\n",
      "99\n",
      "200\n"
     ]
    }
   ],
   "source": [
    "a = 0b1010\n",
    "print(a)\n",
    "b = 99\n",
    "print(b)\n",
    "c = 0O310\n",
    "print(c)"
   ]
  },
  {
   "cell_type": "code",
   "execution_count": 19,
   "id": "4c145198",
   "metadata": {},
   "outputs": [
    {
     "data": {
      "text/plain": [
       "64"
      ]
     },
     "execution_count": 19,
     "metadata": {},
     "output_type": "execute_result"
    }
   ],
   "source": [
    "8**2"
   ]
  },
  {
   "cell_type": "code",
   "execution_count": 26,
   "id": "67180ab3",
   "metadata": {},
   "outputs": [
    {
     "name": "stdout",
     "output_type": "stream",
     "text": [
      "True\n",
      "False\n"
     ]
    }
   ],
   "source": [
    "a1 = True # true\n",
    "a2 = False\n",
    "print(a1)\n",
    "print(a2)"
   ]
  },
  {
   "cell_type": "code",
   "execution_count": 21,
   "id": "c5f76ab4",
   "metadata": {
    "scrolled": true
   },
   "outputs": [
    {
     "name": "stdout",
     "output_type": "stream",
     "text": [
      "None\n"
     ]
    }
   ],
   "source": [
    "is_conn = None\n",
    "print(is_conn)"
   ]
  },
  {
   "cell_type": "code",
   "execution_count": 22,
   "id": "d431132d",
   "metadata": {},
   "outputs": [],
   "source": [
    "# Console Input"
   ]
  },
  {
   "cell_type": "code",
   "execution_count": 28,
   "id": "2497d7c8",
   "metadata": {},
   "outputs": [
    {
     "name": "stdout",
     "output_type": "stream",
     "text": [
      "Enter your name:Rahul\n",
      "Rahul\n"
     ]
    }
   ],
   "source": [
    "name = input(\"Enter your name:\")\n",
    "print(name)"
   ]
  },
  {
   "cell_type": "code",
   "execution_count": 29,
   "id": "543b4895",
   "metadata": {},
   "outputs": [
    {
     "name": "stdout",
     "output_type": "stream",
     "text": [
      "Enter your age:25\n",
      "<class 'str'>\n"
     ]
    },
    {
     "ename": "TypeError",
     "evalue": "can only concatenate str (not \"int\") to str",
     "output_type": "error",
     "traceback": [
      "\u001b[1;31m---------------------------------------------------------------------------\u001b[0m",
      "\u001b[1;31mTypeError\u001b[0m                                 Traceback (most recent call last)",
      "Input \u001b[1;32mIn [29]\u001b[0m, in \u001b[0;36m<cell line: 3>\u001b[1;34m()\u001b[0m\n\u001b[0;32m      1\u001b[0m age \u001b[38;5;241m=\u001b[39m \u001b[38;5;28minput\u001b[39m(\u001b[38;5;124m\"\u001b[39m\u001b[38;5;124mEnter your age:\u001b[39m\u001b[38;5;124m\"\u001b[39m)\n\u001b[0;32m      2\u001b[0m \u001b[38;5;28mprint\u001b[39m(\u001b[38;5;28mtype\u001b[39m(age))\n\u001b[1;32m----> 3\u001b[0m age \u001b[38;5;241m=\u001b[39m \u001b[43mage\u001b[49m\u001b[43m \u001b[49m\u001b[38;5;241;43m+\u001b[39;49m\u001b[43m \u001b[49m\u001b[38;5;241;43m10\u001b[39;49m\n",
      "\u001b[1;31mTypeError\u001b[0m: can only concatenate str (not \"int\") to str"
     ]
    }
   ],
   "source": [
    "age = input(\"Enter your age:\")\n",
    "print(type(age))\n",
    "age = age + 10\n"
   ]
  },
  {
   "cell_type": "code",
   "execution_count": 34,
   "id": "db9d153b",
   "metadata": {},
   "outputs": [
    {
     "name": "stdout",
     "output_type": "stream",
     "text": [
      "Enter name,age,city:Rahul 25 Meerut\n",
      "Rahul 25 Meerut\n"
     ]
    }
   ],
   "source": [
    "name,age,city = input(\"Enter name,age,city:\").split(\"-\")\n",
    "print(name,age,city)"
   ]
  },
  {
   "cell_type": "code",
   "execution_count": 45,
   "id": "43669a71",
   "metadata": {},
   "outputs": [
    {
     "name": "stdout",
     "output_type": "stream",
     "text": [
      "Rahul\n",
      "My name is : 25.Age is:Rahul\n",
      "My name is : Orange.Age is:25\n",
      "=============\n",
      "My name is Rahul, Age is: 25\n"
     ]
    }
   ],
   "source": [
    "name = \"Rahul\"\n",
    "age = 25\n",
    "print(name)\n",
    "print(\"My name is : {0}.Age is:{1}\".format(age,name))\n",
    "\n",
    "print(\"My name is : {name1}.Age is:{age1}\".format(name1 = \"Orange\",age1 = age))\n",
    "print(\"=============\")\n",
    "\n",
    "print(f\"My name is {name}, Age is: {age}\")\n"
   ]
  },
  {
   "cell_type": "code",
   "execution_count": null,
   "id": "cf1db472",
   "metadata": {},
   "outputs": [],
   "source": []
  },
  {
   "cell_type": "code",
   "execution_count": 25,
   "id": "231d6fdb",
   "metadata": {},
   "outputs": [],
   "source": [
    "create:\n",
    "assign binary,octal and float literal to variable x,y,z and display them.\n",
    "create string  and boolean literal.\n",
    "create two variable x,y with value 100,50\n",
    "Perform Operaion:\n",
    "x+y,x*y,x/y\n",
    "create variable with below names: and check weather they are connect or not.\n",
    "price = 100\n",
    "25price =100\n",
    "_25price = 100\n",
    "price25 = 100\n",
    "price-25 =100\n",
    "price@50 = 100\n"
   ]
  }
 ],
 "metadata": {
  "kernelspec": {
   "display_name": "Python 3 (ipykernel)",
   "language": "python",
   "name": "python3"
  },
  "language_info": {
   "codemirror_mode": {
    "name": "ipython",
    "version": 3
   },
   "file_extension": ".py",
   "mimetype": "text/x-python",
   "name": "python",
   "nbconvert_exporter": "python",
   "pygments_lexer": "ipython3",
   "version": "3.10.4"
  }
 },
 "nbformat": 4,
 "nbformat_minor": 5
}
