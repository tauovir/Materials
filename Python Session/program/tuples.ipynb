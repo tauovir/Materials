{
 "cells": [
  {
   "cell_type": "markdown",
   "id": "87899ab8",
   "metadata": {},
   "source": [
    "## Tuple"
   ]
  },
  {
   "cell_type": "markdown",
   "id": "2f428fc2",
   "metadata": {},
   "source": [
    "## Tuple Createion\n",
    "**A tuple is enclosed in parentheses/round brackets() for creation and each item is separated by a comma**<br>\n",
    "**Round brackets indicate the start and end of the tuple**<br>"
   ]
  },
  {
   "cell_type": "code",
   "execution_count": 1,
   "id": "ac982a1c",
   "metadata": {},
   "outputs": [],
   "source": [
    "month_names = ('Jan','feb','mar','arp','may','june','july','aug','sep','oct','nov','dec')\n",
    "# month_names"
   ]
  },
  {
   "cell_type": "code",
   "execution_count": 2,
   "id": "935c6c72",
   "metadata": {},
   "outputs": [
    {
     "data": {
      "text/plain": [
       "('name', 'city', 230, 522, 25.66)"
      ]
     },
     "execution_count": 2,
     "metadata": {},
     "output_type": "execute_result"
    }
   ],
   "source": [
    "tpl = ('name','city',230,522,25.66)  # Tuple with mixed Data types\n",
    "tpl\n"
   ]
  },
  {
   "cell_type": "code",
   "execution_count": 3,
   "id": "3a8ff5a7",
   "metadata": {},
   "outputs": [
    {
     "name": "stdout",
     "output_type": "stream",
     "text": [
      "<class 'str'>\n",
      "<class 'tuple'>\n"
     ]
    }
   ],
   "source": [
    "# Single tuple\n",
    "tpl1 = ('a')\n",
    "print(type(tpl1))\n",
    "tpl1 = ('a',) # include final comma else it will be treadted as str/int\n",
    "print(type(tpl1))"
   ]
  },
  {
   "cell_type": "markdown",
   "id": "1b77e58e",
   "metadata": {},
   "source": [
    "### Createing tuple using built_in function"
   ]
  },
  {
   "cell_type": "code",
   "execution_count": 4,
   "id": "ffc032ac",
   "metadata": {},
   "outputs": [
    {
     "data": {
      "text/plain": [
       "tuple"
      ]
     },
     "execution_count": 4,
     "metadata": {},
     "output_type": "execute_result"
    }
   ],
   "source": [
    "t = tuple() # empty tuple\n",
    "type(t)"
   ]
  },
  {
   "cell_type": "code",
   "execution_count": 5,
   "id": "57072b34",
   "metadata": {},
   "outputs": [
    {
     "name": "stdout",
     "output_type": "stream",
     "text": [
      "('Jan', 'feb', 'mar', 'arp', 'may', 'june', 'july', 'aug', 'sep', 'oct', 'nov', 'dec')\n",
      "<class 'tuple'>\n"
     ]
    }
   ],
   "source": [
    "month_names1 = tuple(('Jan','feb','mar','arp','may','june','july','aug','sep','oct','nov','dec'))\n",
    "print(month_names1)\n",
    "print(type(month_names1))"
   ]
  },
  {
   "cell_type": "code",
   "execution_count": 6,
   "id": "26776479",
   "metadata": {},
   "outputs": [
    {
     "data": {
      "text/plain": [
       "('name', 'kahan', 120)"
      ]
     },
     "execution_count": 6,
     "metadata": {},
     "output_type": "execute_result"
    }
   ],
   "source": [
    "t1 = tuple(('name','kahan',120))\n",
    "t1"
   ]
  },
  {
   "cell_type": "code",
   "execution_count": 7,
   "id": "ad250d28",
   "metadata": {},
   "outputs": [],
   "source": [
    "# #\n",
    "# color_name = tuple()\n",
    "# n,i = 3,1\n",
    "# while i<=n:\n",
    "#     a = input(\"Enter color name:\")\n",
    "#     color_name += (a,) # singe typle\n",
    "#     i = i + 1\n",
    "# print(f\"Provided Color:{color_name}\")"
   ]
  },
  {
   "cell_type": "markdown",
   "id": "635f2941",
   "metadata": {},
   "source": [
    "# Nesting Tuples"
   ]
  },
  {
   "cell_type": "code",
   "execution_count": 17,
   "id": "f68fc6d6",
   "metadata": {},
   "outputs": [
    {
     "data": {
      "text/plain": [
       "(('Jan',\n",
       "  'feb',\n",
       "  'mar',\n",
       "  'arp',\n",
       "  'may',\n",
       "  'june',\n",
       "  'july',\n",
       "  'aug',\n",
       "  'sep',\n",
       "  'oct',\n",
       "  'nov',\n",
       "  'dec'),\n",
       " (1, 2, 3, 4, 5, 6, 7, 8, 9, 10, 11, 12))"
      ]
     },
     "execution_count": 17,
     "metadata": {},
     "output_type": "execute_result"
    }
   ],
   "source": [
    "month = ('Jan','feb','mar','arp','may','june','july','aug','sep','oct','nov','dec')\n",
    "month_digit = tuple((1,2,3,4,5,6,7,8,9,10,11,12))\n",
    "nest_tuple = tuple((month,month_digit))\n",
    "nest_tuple = (month,month_digit)\n",
    "nest_tuple"
   ]
  },
  {
   "cell_type": "markdown",
   "id": "a1f03068",
   "metadata": {},
   "source": [
    "## Accessing and Traversing Tuple"
   ]
  },
  {
   "cell_type": "code",
   "execution_count": 26,
   "id": "ca6368f9",
   "metadata": {},
   "outputs": [
    {
     "name": "stdout",
     "output_type": "stream",
     "text": [
      "month_names1[0]: Jan\n",
      "month_names1[3] arp\n",
      "month_names1[-1]: dec\n",
      "month_names1[2:5]: ('mar', 'arp', 'may')\n"
     ]
    }
   ],
   "source": [
    "month_names1 = tuple(('Jan','feb','mar','arp','may','june','july','aug','sep','oct','nov','dec'))\n",
    "print(\"month_names1[0]:\",month_names1[0])\n",
    "print(\"month_names1[3]\",month_names1[3])\n",
    "print(\"month_names1[-1]:\",month_names1[-1])\n",
    "print(\"month_names1[2:5]:\",month_names1[2:5])"
   ]
  },
  {
   "cell_type": "code",
   "execution_count": 30,
   "id": "85c4ff06",
   "metadata": {},
   "outputs": [
    {
     "name": "stdout",
     "output_type": "stream",
     "text": [
      "Jan,feb,mar,arp,may,june,july,aug,sep,oct,nov,dec,"
     ]
    }
   ],
   "source": [
    "for tpl in month_names1:\n",
    "    print(tpl,end=',')"
   ]
  },
  {
   "cell_type": "markdown",
   "id": "425ebce7",
   "metadata": {},
   "source": [
    "## Common Tuple Operation"
   ]
  },
  {
   "cell_type": "markdown",
   "id": "0ab3df9d",
   "metadata": {},
   "source": [
    "## tuple Slicing"
   ]
  },
  {
   "cell_type": "code",
   "execution_count": 46,
   "id": "29b8b5cd",
   "metadata": {},
   "outputs": [
    {
     "name": "stdout",
     "output_type": "stream",
     "text": [
      "month_names1[2:5]: ('mar', 'arp', 'may')\n",
      "month_names1[:-1]: ('Jan', 'feb', 'mar', 'arp', 'may', 'june', 'july', 'aug', 'sep', 'oct', 'nov')\n",
      "month_names1[2:-5]: ('mar', 'arp', 'may', 'june', 'july')\n",
      "month_names1[2:10:3]: ('mar', 'june', 'sep')\n",
      "month_names1[1:11:3]: ('feb', 'may', 'aug', 'nov')\n",
      "month_names1[2:5]: ('mar',)\n"
     ]
    }
   ],
   "source": [
    "month_names1 = tuple(('Jan','feb','mar','arp','may','june','july','aug','sep','oct','nov','dec'))\n",
    "print(\"month_names1[2:5]:\",month_names1[2:5])\n",
    "print(\"month_names1[:-1]:\",month_names1[:-1])\n",
    "print(\"month_names1[2:-5]:\",month_names1[2:-5])\n",
    "print(\"month_names1[2:10:3]:\",month_names1[2:10:3])\n",
    "print(\"month_names1[1:11:3]:\",month_names1[1:11:3]) # take every 3rd ele & skip 2 ele in between\n",
    "print(\"month_names1[2:5]:\",month_names1[2:50000:100])\n"
   ]
  },
  {
   "cell_type": "markdown",
   "id": "f5183ba5",
   "metadata": {},
   "source": [
    "# Tuple Concatenation"
   ]
  },
  {
   "cell_type": "code",
   "execution_count": 53,
   "id": "128ad01f",
   "metadata": {},
   "outputs": [],
   "source": [
    "# x = (1,2,3,4)\n",
    "# y = (10,20,30,40,50,60)\n",
    "# z = x + y\n",
    "# print(z)\n",
    "# z1 = x[1:4] + y[:-3]\n",
    "# print(z1)\n",
    "# z3 = x + x[0]\n",
    "# print(z3)"
   ]
  },
  {
   "cell_type": "code",
   "execution_count": 54,
   "id": "4e7c8a65",
   "metadata": {},
   "outputs": [],
   "source": [
    "# Tuple Repeatation"
   ]
  },
  {
   "cell_type": "code",
   "execution_count": 61,
   "id": "28047dc7",
   "metadata": {},
   "outputs": [
    {
     "name": "stdout",
     "output_type": "stream",
     "text": [
      "('Jan', 'feb', 'mar', 'arp', 'Jan', 'feb', 'mar', 'arp', 'Jan', 'feb', 'mar', 'arp')\n",
      "('Jan', 'feb', 'Jan', 'feb')\n"
     ]
    }
   ],
   "source": [
    "t1 = tuple(('Jan','feb','mar','arp'))\n",
    "t2 = t1 *3\n",
    "print(t2)\n",
    "print(t1[:2] * 2)"
   ]
  },
  {
   "cell_type": "code",
   "execution_count": 62,
   "id": "b729ec3a",
   "metadata": {},
   "outputs": [],
   "source": [
    "t1 = tuple(('Jan','feb','mar','arp'))"
   ]
  },
  {
   "cell_type": "markdown",
   "id": "69987c64",
   "metadata": {},
   "source": [
    "# Membership"
   ]
  },
  {
   "cell_type": "code",
   "execution_count": 68,
   "id": "d93c48b6",
   "metadata": {},
   "outputs": [
    {
     "name": "stdout",
     "output_type": "stream",
     "text": [
      "True\n",
      "False\n",
      "True\n"
     ]
    }
   ],
   "source": [
    "month_names = ('Jan','feb','mar','arp','may','june','july','aug','sep','oct','nov','dec')\n",
    "print('Jan' in month_names)\n",
    "print('jan' in month_names)\n",
    "print('jan' not in month_names)"
   ]
  },
  {
   "cell_type": "markdown",
   "id": "779bea69",
   "metadata": {},
   "source": [
    "### len()\n",
    "Return the length of tuple"
   ]
  },
  {
   "cell_type": "code",
   "execution_count": 69,
   "id": "024ca046",
   "metadata": {},
   "outputs": [
    {
     "name": "stdout",
     "output_type": "stream",
     "text": [
      "12\n"
     ]
    }
   ],
   "source": [
    "month_names = ('Jan','feb','mar','arp','may','june','july','aug','sep','oct','nov','dec')\n",
    "print(len(month_names))"
   ]
  },
  {
   "cell_type": "markdown",
   "id": "734578e8",
   "metadata": {},
   "source": [
    "## count()\n",
    "count the occurence of the an item"
   ]
  },
  {
   "cell_type": "code",
   "execution_count": 72,
   "id": "0fabd9c9",
   "metadata": {},
   "outputs": [
    {
     "data": {
      "text/plain": [
       "3"
      ]
     },
     "execution_count": 72,
     "metadata": {},
     "output_type": "execute_result"
    }
   ],
   "source": [
    "month_names = ('Jan','feb','mar','arp','may','Jan','Jan')\n",
    "month_names.count('Jan')"
   ]
  },
  {
   "cell_type": "markdown",
   "id": "cd2872ae",
   "metadata": {},
   "source": [
    "### any()\n",
    "Return True if a tuple is having atleast one item"
   ]
  },
  {
   "cell_type": "code",
   "execution_count": 82,
   "id": "7b354e0e",
   "metadata": {},
   "outputs": [
    {
     "data": {
      "text/plain": [
       "False"
      ]
     },
     "execution_count": 82,
     "metadata": {},
     "output_type": "execute_result"
    }
   ],
   "source": [
    "month_names = ('Jan','feb','mar','arp','may','Jan','Jan')\n",
    "any(month_names)\n",
    "t1 = tuple() # ()\n",
    "t1 = ()\n",
    "\n",
    "any(t1)"
   ]
  },
  {
   "cell_type": "markdown",
   "id": "6667f166",
   "metadata": {},
   "source": [
    "# min, max, sum\n",
    "To use min(),max() function, all value in tuple must be same type"
   ]
  },
  {
   "cell_type": "code",
   "execution_count": 89,
   "id": "72cee4a4",
   "metadata": {},
   "outputs": [
    {
     "name": "stdout",
     "output_type": "stream",
     "text": [
      "5\n",
      "199\n",
      "220\n"
     ]
    }
   ],
   "source": [
    "# t1 = (10,5,6,199,'2')\n",
    "t1 = (10,5,6,199)\n",
    "print(min(t1))\n",
    "print(max(t1))\n",
    "print(sum(t1))"
   ]
  },
  {
   "cell_type": "code",
   "execution_count": 87,
   "id": "16fdb0cf",
   "metadata": {},
   "outputs": [
    {
     "name": "stdout",
     "output_type": "stream",
     "text": [
      "apr\n",
      "mar\n"
     ]
    }
   ],
   "source": [
    "t1 = ('jan','feb','mar','apr')\n",
    "print(min(t1))\n",
    "print(max(t1))\n",
    "# print(sum(t1))"
   ]
  },
  {
   "cell_type": "code",
   "execution_count": null,
   "id": "48d024ca",
   "metadata": {},
   "outputs": [],
   "source": []
  }
 ],
 "metadata": {
  "kernelspec": {
   "display_name": "Python 3 (ipykernel)",
   "language": "python",
   "name": "python3"
  },
  "language_info": {
   "codemirror_mode": {
    "name": "ipython",
    "version": 3
   },
   "file_extension": ".py",
   "mimetype": "text/x-python",
   "name": "python",
   "nbconvert_exporter": "python",
   "pygments_lexer": "ipython3",
   "version": "3.10.4"
  }
 },
 "nbformat": 4,
 "nbformat_minor": 5
}
