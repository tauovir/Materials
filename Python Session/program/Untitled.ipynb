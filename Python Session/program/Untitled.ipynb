{
 "cells": [
  {
   "cell_type": "code",
   "execution_count": 1,
   "id": "03122ac7",
   "metadata": {},
   "outputs": [
    {
     "ename": "SyntaxError",
     "evalue": "expected ':' (3903105060.py, line 2)",
     "output_type": "error",
     "traceback": [
      "\u001b[1;36m  Input \u001b[1;32mIn [1]\u001b[1;36m\u001b[0m\n\u001b[1;33m    if 2 >1\u001b[0m\n\u001b[1;37m           ^\u001b[0m\n\u001b[1;31mSyntaxError\u001b[0m\u001b[1;31m:\u001b[0m expected ':'\n"
     ]
    }
   ],
   "source": [
    "# other programing lang\n",
    "if 2 >1\n",
    "{\n",
    "    body of if \n",
    "    \n",
    "} else {\n",
    "    body of else\n",
    "}\n",
    "\n",
    "while 2>1 {\n",
    "    body of while loop\n",
    "}\n",
    "\n",
    "function abc(){\n",
    "     body of function\n",
    "}"
   ]
  },
  {
   "cell_type": "code",
   "execution_count": 2,
   "id": "58d4da0c",
   "metadata": {},
   "outputs": [
    {
     "ename": "IndentationError",
     "evalue": "expected an indented block after 'if' statement on line 1 (1566601558.py, line 3)",
     "output_type": "error",
     "traceback": [
      "\u001b[1;36m  Input \u001b[1;32mIn [2]\u001b[1;36m\u001b[0m\n\u001b[1;33m    else:\u001b[0m\n\u001b[1;37m    ^\u001b[0m\n\u001b[1;31mIndentationError\u001b[0m\u001b[1;31m:\u001b[0m expected an indented block after 'if' statement on line 1\n"
     ]
    }
   ],
   "source": [
    "if 2>1:\n",
    "    # block of if\n",
    "else:\n",
    "    # bolc else\n",
    "    \n",
    "x = 10"
   ]
  },
  {
   "cell_type": "code",
   "execution_count": 3,
   "id": "8e3c6aee",
   "metadata": {},
   "outputs": [
    {
     "ename": "IndentationError",
     "evalue": "expected an indented block after function definition on line 3 (3909404992.py, line 5)",
     "output_type": "error",
     "traceback": [
      "\u001b[1;36m  Input \u001b[1;32mIn [3]\u001b[1;36m\u001b[0m\n\u001b[1;33m    print(\"Body of function\")\u001b[0m\n\u001b[1;37m    ^\u001b[0m\n\u001b[1;31mIndentationError\u001b[0m\u001b[1;31m:\u001b[0m expected an indented block after function definition on line 3\n"
     ]
    }
   ],
   "source": [
    "def f1():\n",
    "    \n",
    "    def f1():\n",
    "        \n",
    "    print(\"Body of function\")\n",
    "    if 2 > 1:\n",
    "        print(\"Body of if\")\n",
    "        print(\"Body of if\")\n",
    "        print(\"Body of if\")\n",
    "        print(\"Body of if\")\n",
    "    else:\n",
    "        print(\"Body of else\")\n",
    "        \n",
    "def f2():\n",
    "    pass"
   ]
  },
  {
   "cell_type": "code",
   "execution_count": 6,
   "id": "dbeadd28",
   "metadata": {},
   "outputs": [
    {
     "name": "stdout",
     "output_type": "stream",
     "text": [
      " I am in for\n",
      " I am in for\n",
      " I am in for\n",
      " I am in for\n",
      "I am out side\n"
     ]
    }
   ],
   "source": [
    "# just prtint string\n",
    "#for loop\n",
    "\n",
    "\"\"\"\n",
    "This function is used to find max marks.\n",
    "it takes two parama meters\n",
    "\"\"\"\n",
    "for i in range(1,5):\n",
    "    # printing\n",
    "    print(\" I am in for\")\n",
    "\n",
    "print(\"I am out side\")"
   ]
  },
  {
   "cell_type": "code",
   "execution_count": null,
   "id": "a0b5fb69",
   "metadata": {},
   "outputs": [],
   "source": [
    "def find_max_marks(a,b):\n",
    "    \"\"\"\n",
    "    This function is used to find max marks.\n",
    "    it takes two parama meters\n",
    "    \"\"\""
   ]
  }
 ],
 "metadata": {
  "kernelspec": {
   "display_name": "Python 3 (ipykernel)",
   "language": "python",
   "name": "python3"
  },
  "language_info": {
   "codemirror_mode": {
    "name": "ipython",
    "version": 3
   },
   "file_extension": ".py",
   "mimetype": "text/x-python",
   "name": "python",
   "nbconvert_exporter": "python",
   "pygments_lexer": "ipython3",
   "version": "3.10.4"
  }
 },
 "nbformat": 4,
 "nbformat_minor": 5
}
