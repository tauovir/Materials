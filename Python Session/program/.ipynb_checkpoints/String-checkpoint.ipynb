{
 "cells": [
  {
   "cell_type": "markdown",
   "id": "2f21807b",
   "metadata": {},
   "source": [
    "## String"
   ]
  },
  {
   "cell_type": "code",
   "execution_count": 3,
   "id": "8480ded9",
   "metadata": {},
   "outputs": [
    {
     "data": {
      "text/plain": [
       "'Hello Python'"
      ]
     },
     "execution_count": 3,
     "metadata": {},
     "output_type": "execute_result"
    }
   ],
   "source": [
    "msg = 'Hello Python'\n",
    "msg\n"
   ]
  },
  {
   "cell_type": "code",
   "execution_count": 5,
   "id": "2a783d91",
   "metadata": {},
   "outputs": [
    {
     "data": {
      "text/plain": [
       "'Hello Python'"
      ]
     },
     "execution_count": 5,
     "metadata": {},
     "output_type": "execute_result"
    }
   ],
   "source": [
    "msg = \"Hello Python\"\n",
    "msg"
   ]
  },
  {
   "cell_type": "code",
   "execution_count": 6,
   "id": "7d653058",
   "metadata": {},
   "outputs": [
    {
     "data": {
      "text/plain": [
       "'Hello python'"
      ]
     },
     "execution_count": 6,
     "metadata": {},
     "output_type": "execute_result"
    }
   ],
   "source": [
    "msg = \"\"\"Hello python\"\"\"\n",
    "msg"
   ]
  },
  {
   "cell_type": "markdown",
   "id": "bee40b2c",
   "metadata": {},
   "source": [
    "## String Property\n",
    "**String are immutable** <br>\n",
    "**String can be concatenated using  +**\n",
    "\n"
   ]
  },
  {
   "cell_type": "code",
   "execution_count": 37,
   "id": "611acf58",
   "metadata": {},
   "outputs": [
    {
     "data": {
      "text/plain": [
       "'Hello Python:concate me'"
      ]
     },
     "execution_count": 37,
     "metadata": {},
     "output_type": "execute_result"
    }
   ],
   "source": [
    "msg = \"Hello Python\"\n",
    "# msg[0] = 'B'\n",
    "msg = msg + \":concate me\"\n",
    "msg"
   ]
  },
  {
   "cell_type": "markdown",
   "id": "9b65142e",
   "metadata": {},
   "source": [
    "# String Operation"
   ]
  },
  {
   "cell_type": "markdown",
   "id": "842bf1ae",
   "metadata": {},
   "source": [
    "### Concatenating String\n"
   ]
  },
  {
   "cell_type": "code",
   "execution_count": 47,
   "id": "8e334997",
   "metadata": {},
   "outputs": [
    {
     "name": "stdout",
     "output_type": "stream",
     "text": [
      "Hello\n",
      "Hello from Python\n"
     ]
    }
   ],
   "source": [
    "s1 = \"Hello\"\n",
    "print(s1)\n",
    "s2 = s1 + \" from Python\"\n",
    "print(s2)"
   ]
  },
  {
   "cell_type": "code",
   "execution_count": 50,
   "id": "e0fd1105",
   "metadata": {},
   "outputs": [
    {
     "name": "stdout",
     "output_type": "stream",
     "text": [
      "16\n",
      "610\n"
     ]
    }
   ],
   "source": [
    "print(6+10)\n",
    "print('6' + '10')\n",
    "# print('6' + 10) "
   ]
  },
  {
   "cell_type": "markdown",
   "id": "f4fe8603",
   "metadata": {},
   "source": [
    "# Replicating String\n",
    "The * operator creates a new string by repeating mulple copies of the same string."
   ]
  },
  {
   "cell_type": "code",
   "execution_count": 56,
   "id": "d632b77f",
   "metadata": {},
   "outputs": [
    {
     "name": "stdout",
     "output_type": "stream",
     "text": [
      "Python Python Python Python Python Python Python Python Python Python \n",
      "2-2-2-2-2-2-2-2-2-2-\n"
     ]
    }
   ],
   "source": [
    "msg1 = \"Python \" * 10\n",
    "print(msg1)\n",
    "print('2-' * 10)"
   ]
  },
  {
   "cell_type": "markdown",
   "id": "2251b2a6",
   "metadata": {},
   "source": [
    "## MemberShip Operator\n",
    "Python offers two membership operators for checking wheather a particular charecter exists in string or not.</br>\n",
    "**in operator** : It return True if a charatcer/substrinng exist in the given string .</br>\n",
    "**not in operator** : it returns true if a character/substrinng does not exist in the given string<br>"
   ]
  },
  {
   "cell_type": "code",
   "execution_count": 59,
   "id": "6f7709a8",
   "metadata": {},
   "outputs": [
    {
     "name": "stdout",
     "output_type": "stream",
     "text": [
      "True\n",
      "True\n",
      "False\n"
     ]
    }
   ],
   "source": [
    "msg = \"I am learning python\"\n",
    "print('am' in msg)\n",
    "print(\"ning\" in msg)\n",
    "print(\"hello\" in msg)\n"
   ]
  },
  {
   "cell_type": "code",
   "execution_count": 61,
   "id": "a57814dd",
   "metadata": {},
   "outputs": [
    {
     "name": "stdout",
     "output_type": "stream",
     "text": [
      "True\n",
      "False\n"
     ]
    }
   ],
   "source": [
    "print(\"java\" not in msg)\n",
    "print(\"python\" not in msg)\n"
   ]
  },
  {
   "cell_type": "markdown",
   "id": "b67dd3f9",
   "metadata": {},
   "source": [
    "## String Slicing\n",
    "**string_name [start:end:step]**<br>\n",
    "Slicing is used to retrieve a subset of values.\n",
    "Python  returns a slice of string by returning charecters failling between start position till **end-1**"
   ]
  },
  {
   "cell_type": "code",
   "execution_count": 78,
   "id": "fd4eb16c",
   "metadata": {},
   "outputs": [
    {
     "name": "stdout",
     "output_type": "stream",
     "text": [
      "['H', 'e', 'l', 'l', 'o', ' ', 'P', 'y', 't', 'h', 'o', 'n', ' ', 'p', 'r', 'o', 'g', 'r', 'a', 'm', 'm', 'i', 'n', 'g']\n",
      "str1[0]: H\n",
      "str1[4]: o\n",
      "str1[-1]: g\n",
      "str1[2:10]: llo Pyth\n",
      "str1[2:16:2]: loPto r\n"
     ]
    }
   ],
   "source": [
    "str1 = \"Hello Python programming\"\n",
    "print(list(str1))\n",
    "print(\"str1[0]:\",str1[0])\n",
    "print(\"str1[4]:\",str1[4])\n",
    "print(\"str1[-1]:\",str1[-1])\n",
    "print(\"str1[2:10]:\",str1[2:10])\n",
    "print(\"str1[2:16:2]:\",str1[2:16:2])\n",
    "\n",
    "\n"
   ]
  },
  {
   "cell_type": "code",
   "execution_count": 88,
   "id": "b0eaf4d4",
   "metadata": {},
   "outputs": [
    {
     "name": "stdout",
     "output_type": "stream",
     "text": [
      "str1[1:3] el\n",
      "str1[:10] Hello Pyth\n",
      "str15[5:]  Python programming\n",
      "str1[:] Hello Python programming\n",
      "str1[-5:] mming\n"
     ]
    }
   ],
   "source": [
    "print(\"str1[1:3]\",str1[1:3])\n",
    "# Omitting the first index directs python interpreter to extrcat subtring till second index starting from  the beginning\n",
    "print(\"str1[:10]\",str1[:10])    \n",
    "# Omitting the second index directs python interpreter to extrcat subtring till end index  of string starting from specified pos\n",
    "print(\"str15[5:]\",str1[5:])\n",
    "#Omitting both indices directs python to extract extrcat entire string from 0 index till last index\n",
    "print(\"str1[:]\",str1[:])\n",
    "print(\"str1[-5:]\",str1[-5:])\n"
   ]
  },
  {
   "cell_type": "markdown",
   "id": "4962e8dd",
   "metadata": {},
   "source": [
    "## String Methods and Built-in Function"
   ]
  },
  {
   "cell_type": "code",
   "execution_count": 91,
   "id": "b6d97db9",
   "metadata": {},
   "outputs": [
    {
     "data": {
      "text/plain": [
       "'the most demanding programming langauge is python'"
      ]
     },
     "execution_count": 91,
     "metadata": {},
     "output_type": "execute_result"
    }
   ],
   "source": [
    "m1 = \"the most demanding programming langauge is python\"\n",
    "m1\n"
   ]
  },
  {
   "cell_type": "markdown",
   "id": "ea7bc7ae",
   "metadata": {},
   "source": [
    "### len()"
   ]
  },
  {
   "cell_type": "code",
   "execution_count": 92,
   "id": "1a5a46b0",
   "metadata": {},
   "outputs": [
    {
     "name": "stdout",
     "output_type": "stream",
     "text": [
      "Lenght of string: 49\n"
     ]
    }
   ],
   "source": [
    "print(\"Lenght of string:\",len(m1))"
   ]
  },
  {
   "cell_type": "markdown",
   "id": "c0e1363c",
   "metadata": {},
   "source": [
    "## capitalize()"
   ]
  },
  {
   "cell_type": "code",
   "execution_count": 94,
   "id": "648aef0e",
   "metadata": {},
   "outputs": [
    {
     "data": {
      "text/plain": [
       "'The most demanding programming langauge is python'"
      ]
     },
     "execution_count": 94,
     "metadata": {},
     "output_type": "execute_result"
    }
   ],
   "source": [
    "cap = m1.capitalize()\n",
    "cap"
   ]
  },
  {
   "cell_type": "markdown",
   "id": "b7f9af72",
   "metadata": {},
   "source": [
    "## split()"
   ]
  },
  {
   "cell_type": "code",
   "execution_count": 105,
   "id": "46206614",
   "metadata": {},
   "outputs": [
    {
     "data": {
      "text/plain": [
       "['the', 'most', 'demanding', 'programming', 'langauge', 'is', 'python']"
      ]
     },
     "execution_count": 105,
     "metadata": {},
     "output_type": "execute_result"
    }
   ],
   "source": [
    "splt = m1.split(\" \")\n",
    "splt"
   ]
  },
  {
   "cell_type": "markdown",
   "id": "9ebd117a",
   "metadata": {},
   "source": [
    "## replace\n",
    "replaced all occurrences of the old string"
   ]
  },
  {
   "cell_type": "code",
   "execution_count": 109,
   "id": "a1b932a7",
   "metadata": {},
   "outputs": [
    {
     "data": {
      "text/plain": [
       "'the most popular programming langauge is python'"
      ]
     },
     "execution_count": 109,
     "metadata": {},
     "output_type": "execute_result"
    }
   ],
   "source": [
    "repl = m1.replace(\"demanding\",\"popular\")\n",
    "repl"
   ]
  },
  {
   "cell_type": "markdown",
   "id": "5c100ec6",
   "metadata": {},
   "source": [
    "## find()\n",
    "This function is used to search the first occurrence of substring in the given string. It rerunt lowest index of sub string if \n",
    "find else return -1"
   ]
  },
  {
   "cell_type": "code",
   "execution_count": 117,
   "id": "b219d713",
   "metadata": {},
   "outputs": [
    {
     "data": {
      "text/plain": [
       "43"
      ]
     },
     "execution_count": 117,
     "metadata": {},
     "output_type": "execute_result"
    }
   ],
   "source": [
    "m1.find(\"python\")\n"
   ]
  },
  {
   "cell_type": "markdown",
   "id": "181881a7",
   "metadata": {},
   "source": [
    "## isalpha()\n",
    "It return True if string contains only alphabets"
   ]
  },
  {
   "cell_type": "code",
   "execution_count": 129,
   "id": "c40ae6a0",
   "metadata": {},
   "outputs": [
    {
     "name": "stdout",
     "output_type": "stream",
     "text": [
      "True\n",
      "False\n"
     ]
    }
   ],
   "source": [
    "s1 = \"Apple\"\n",
    "print(s1.isalpha())\n",
    "s2 = \"apple123456\"\n",
    "print(s2.isalpha())"
   ]
  },
  {
   "cell_type": "markdown",
   "id": "ad25ad84",
   "metadata": {},
   "source": [
    "## isalnum\n",
    "alphabets[a-z]</br>\n",
    "number : [0-9]"
   ]
  },
  {
   "cell_type": "code",
   "execution_count": 128,
   "id": "f123bf61",
   "metadata": {},
   "outputs": [
    {
     "name": "stdout",
     "output_type": "stream",
     "text": [
      "True\n",
      "True\n"
     ]
    }
   ],
   "source": [
    "s1 = \"Apple\"\n",
    "print(s1.isalnum())\n",
    "s2 = \"applE123456\"\n",
    "print(s2.isalnum())"
   ]
  },
  {
   "cell_type": "markdown",
   "id": "2acee9b0",
   "metadata": {},
   "source": [
    "## isdigit()\n",
    "Function return s True if string contain only digits"
   ]
  },
  {
   "cell_type": "code",
   "execution_count": 132,
   "id": "0f860c94",
   "metadata": {},
   "outputs": [
    {
     "name": "stdout",
     "output_type": "stream",
     "text": [
      "False\n",
      "True\n",
      "False\n"
     ]
    }
   ],
   "source": [
    "s1 = \"Apple\"\n",
    "print(s1.isdigit())\n",
    "s2 = \"1235\"\n",
    "print(s2.isdigit())\n",
    "s3 = \"1235.55\"\n",
    "print(s3.isdigit())\n"
   ]
  },
  {
   "cell_type": "markdown",
   "id": "0c8f9b04",
   "metadata": {},
   "source": [
    "\n",
    "**lower()**<br>\n",
    "**upper()**<br>\n",
    "**islower()**<br>\n",
    "**isupper()**<br>\n",
    "**lstrip()**<br>\n",
    "**rstrip()**<br>\n",
    "**strip()**<br>"
   ]
  },
  {
   "cell_type": "code",
   "execution_count": 137,
   "id": "d2d7f58c",
   "metadata": {},
   "outputs": [
    {
     "name": "stdout",
     "output_type": "stream",
     "text": [
      "PYTHON PROGRAMMING\n",
      "python programming\n"
     ]
    }
   ],
   "source": [
    "st1 = \"Python Programming\"\n",
    "uppr = st1.upper()\n",
    "lwr = st1.lower()\n",
    "print(uppr)\n",
    "print(lwr)"
   ]
  },
  {
   "cell_type": "code",
   "execution_count": 138,
   "id": "1065e396",
   "metadata": {},
   "outputs": [
    {
     "name": "stdout",
     "output_type": "stream",
     "text": [
      "True\n",
      "False\n"
     ]
    }
   ],
   "source": [
    "print(uppr.isupper())\n",
    "print(uppr.islower())\n"
   ]
  },
  {
   "cell_type": "code",
   "execution_count": 139,
   "id": "d3830c14",
   "metadata": {},
   "outputs": [
    {
     "name": "stdout",
     "output_type": "stream",
     "text": [
      "False\n",
      "True\n"
     ]
    }
   ],
   "source": [
    "print(lwr.isupper())\n",
    "print(lwr.islower())"
   ]
  },
  {
   "cell_type": "code",
   "execution_count": 149,
   "id": "de6ce779",
   "metadata": {},
   "outputs": [
    {
     "name": "stdout",
     "output_type": "stream",
     "text": [
      "19\n",
      "lstrinp:Python programs , length:16\n",
      "rstrp:Python programs , length:18\n",
      "lstrinp:Python programs, length:15\n"
     ]
    }
   ],
   "source": [
    "s1 = \"   Python programs \"\n",
    "print(len(s1))\n",
    "lstrp = s1.lstrip()\n",
    "rstrp = s1.rstrip()\n",
    "strp = s1.strip()\n",
    "\n",
    "print(f\"lstrinp:{lstrp}, length:{len(lstrp)}\")\n",
    "print(f\"rstrp:{lstrp}, length:{len(rstrp)}\")\n",
    "print(f\"lstrinp:{strp}, length:{len(strp)}\")\n"
   ]
  }
 ],
 "metadata": {
  "kernelspec": {
   "display_name": "Python 3 (ipykernel)",
   "language": "python",
   "name": "python3"
  },
  "language_info": {
   "codemirror_mode": {
    "name": "ipython",
    "version": 3
   },
   "file_extension": ".py",
   "mimetype": "text/x-python",
   "name": "python",
   "nbconvert_exporter": "python",
   "pygments_lexer": "ipython3",
   "version": "3.10.4"
  }
 },
 "nbformat": 4,
 "nbformat_minor": 5
}
