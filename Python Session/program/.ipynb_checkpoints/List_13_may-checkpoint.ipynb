{
 "cells": [
  {
   "cell_type": "code",
   "execution_count": 8,
   "id": "6c5d5b40",
   "metadata": {},
   "outputs": [
    {
     "name": "stdout",
     "output_type": "stream",
     "text": [
      "[]\n",
      "[]\n"
     ]
    }
   ],
   "source": [
    "# Empty List\n",
    "l1 = []\n",
    "l2 = list()\n",
    "print(l1)\n",
    "print(l2)"
   ]
  },
  {
   "cell_type": "code",
   "execution_count": 7,
   "id": "57322d2c",
   "metadata": {},
   "outputs": [
    {
     "name": "stdout",
     "output_type": "stream",
     "text": [
      "[1, 2, 3, 4, 5]\n"
     ]
    }
   ],
   "source": [
    "# List of integers\n",
    "l2 = [1,2,3,4,5]\n",
    "print(l2)"
   ]
  },
  {
   "cell_type": "code",
   "execution_count": 5,
   "id": "162e2a99",
   "metadata": {},
   "outputs": [
    {
     "data": {
      "text/plain": [
       "['Apple', 20, 55.55, 'Delhi']"
      ]
     },
     "execution_count": 5,
     "metadata": {},
     "output_type": "execute_result"
    }
   ],
   "source": [
    "# List of different data types\n",
    "l3 = [\"Apple\",20,55.55,\"Delhi\"]\n",
    "l3"
   ]
  },
  {
   "cell_type": "markdown",
   "id": "fdc4d6d1",
   "metadata": {},
   "source": [
    "# Creating List from an existing List"
   ]
  },
  {
   "cell_type": "code",
   "execution_count": 9,
   "id": "7d37961e",
   "metadata": {},
   "outputs": [
    {
     "data": {
      "text/plain": [
       "[1, 2, 3, 4, 6, 6, 7, 8, 9, 10]"
      ]
     },
     "execution_count": 9,
     "metadata": {},
     "output_type": "execute_result"
    }
   ],
   "source": [
    "l1 = [1,2,3,4,6,6,7,8,9,10]\n",
    "l2 = l1[:]   # Copy list\n",
    "l2"
   ]
  },
  {
   "cell_type": "code",
   "execution_count": 10,
   "id": "4254ac6e",
   "metadata": {},
   "outputs": [
    {
     "data": {
      "text/plain": [
       "[2, 3, 4]"
      ]
     },
     "execution_count": 10,
     "metadata": {},
     "output_type": "execute_result"
    }
   ],
   "source": [
    "l3 = l1[1:4]\n",
    "l3"
   ]
  },
  {
   "cell_type": "code",
   "execution_count": 11,
   "id": "396d4579",
   "metadata": {},
   "outputs": [
    {
     "data": {
      "text/plain": [
       "[1, 2, 3, 4, 6, 6, 7, 8, 9, 10]"
      ]
     },
     "execution_count": 11,
     "metadata": {},
     "output_type": "execute_result"
    }
   ],
   "source": [
    "l3 = l1\n",
    "l3"
   ]
  },
  {
   "cell_type": "markdown",
   "id": "beae7d47",
   "metadata": {},
   "source": [
    "# Accessing List element"
   ]
  },
  {
   "cell_type": "code",
   "execution_count": 18,
   "id": "52ba6cc3",
   "metadata": {},
   "outputs": [
    {
     "name": "stdout",
     "output_type": "stream",
     "text": [
      "l1: ['A', 'B', 'C', 'D', 'E', 'F', 'G', 'H']\n",
      "l1[0]: A\n",
      "l1[2]: C\n",
      "l1[-1]: H\n",
      "l1[-3]: F\n"
     ]
    }
   ],
   "source": [
    "str1 = \"ABCDEFGH\"\n",
    "l1 = list(str1)\n",
    "print(\"l1:\",l1)\n",
    "print(\"l1[0]:\",l1[0])\n",
    "print(\"l1[2]:\",l1[2])\n",
    "print(\"l1[-1]:\",l1[-1])\n",
    "print(\"l1[-3]:\",l1[-3])"
   ]
  },
  {
   "cell_type": "code",
   "execution_count": 23,
   "id": "1ba5d8ab",
   "metadata": {},
   "outputs": [],
   "source": [
    "#l1[-15] # error"
   ]
  },
  {
   "cell_type": "markdown",
   "id": "e6a3686a",
   "metadata": {},
   "source": [
    "# Traversing List\n",
    "1. Using <b>IN</b> operator in side for loop\n",
    "2. using range() function"
   ]
  },
  {
   "cell_type": "code",
   "execution_count": 24,
   "id": "6924b3e9",
   "metadata": {},
   "outputs": [
    {
     "data": {
      "text/plain": [
       "['Apple', 'Mangio', 'Banana', 'Pineapple', 'Date']"
      ]
     },
     "execution_count": 24,
     "metadata": {},
     "output_type": "execute_result"
    }
   ],
   "source": [
    "fruit = [\"Apple\",\"Mangio\",'Banana',\"Pineapple\",\"Date\"]\n",
    "fruit"
   ]
  },
  {
   "cell_type": "code",
   "execution_count": 27,
   "id": "aeba5e78",
   "metadata": {},
   "outputs": [
    {
     "name": "stdout",
     "output_type": "stream",
     "text": [
      "APPLE\n",
      "MANGIO\n",
      "BANANA\n",
      "PINEAPPLE\n",
      "DATE\n"
     ]
    }
   ],
   "source": [
    "# Using in Operator\n",
    "for name in fruit:\n",
    "    print(name.upper())"
   ]
  },
  {
   "cell_type": "code",
   "execution_count": 30,
   "id": "4943edbf",
   "metadata": {},
   "outputs": [
    {
     "name": "stdout",
     "output_type": "stream",
     "text": [
      "apple\n",
      "mangio\n",
      "banana\n",
      "pineapple\n",
      "date\n"
     ]
    }
   ],
   "source": [
    "# Using range() function\n",
    "for ind in range(len(fruit)):\n",
    "    print(fruit[ind].lower())"
   ]
  },
  {
   "cell_type": "markdown",
   "id": "203a7bbb",
   "metadata": {},
   "source": [
    "# Testing memberShip"
   ]
  },
  {
   "cell_type": "code",
   "execution_count": 47,
   "id": "af151334",
   "metadata": {},
   "outputs": [],
   "source": [
    "m1 = ['apple','mango','date',\"pineapple\"]\n",
    "# 'orange' in m1"
   ]
  },
  {
   "cell_type": "markdown",
   "id": "5334da4a",
   "metadata": {},
   "source": [
    "# Indexing\n"
   ]
  },
  {
   "cell_type": "code",
   "execution_count": 59,
   "id": "67f98fc2",
   "metadata": {},
   "outputs": [
    {
     "data": {
      "text/plain": [
       "['c', 'o', 'm', 'p', 'u', 't']"
      ]
     },
     "execution_count": 59,
     "metadata": {},
     "output_type": "execute_result"
    }
   ],
   "source": [
    "list1 = list(\"computer\")\n",
    "# list1[1:4]\n",
    "# list1[1:6:2]\n",
    "# list1[3:]\n",
    "# list1[:5]\n",
    "# list1[-1]\n",
    "# list1[-3:]\n",
    "# list1[:-2]\n",
    "\n",
    "\n",
    "\n"
   ]
  },
  {
   "cell_type": "markdown",
   "id": "31e325b6",
   "metadata": {},
   "source": [
    "## Built-IN Function\n",
    "**Append** : List.append() <br>\n",
    "**Insert** : List.insert(index, ele)<br>\n",
    "**Extend** : List.extend(list2) <br>\n",
    "**Index**  : list.index(ele) <br>\n",
    "**Remove** : list.remove(ele) <br>\n",
    "**Sort** : List.sort() <br>\n",
    "**Reverse** : list.reverse() <br>"
   ]
  },
  {
   "cell_type": "markdown",
   "id": "aceb3344",
   "metadata": {},
   "source": [
    "## Append\n",
    "** Append function is used to add a single item to the end of the list**"
   ]
  },
  {
   "cell_type": "code",
   "execution_count": 68,
   "id": "321aed0c",
   "metadata": {},
   "outputs": [
    {
     "data": {
      "text/plain": [
       "[10, 5, 6, 60, 20]"
      ]
     },
     "execution_count": 68,
     "metadata": {},
     "output_type": "execute_result"
    }
   ],
   "source": [
    "m1 = [10,5,6,60,20]\n",
    "m1"
   ]
  },
  {
   "cell_type": "code",
   "execution_count": 69,
   "id": "f7faeade",
   "metadata": {},
   "outputs": [
    {
     "data": {
      "text/plain": [
       "[10, 5, 6, 60, 20, 99]"
      ]
     },
     "execution_count": 69,
     "metadata": {},
     "output_type": "execute_result"
    }
   ],
   "source": [
    "m1.append(99)\n",
    "m1"
   ]
  },
  {
   "cell_type": "markdown",
   "id": "3bc06fe2",
   "metadata": {},
   "source": [
    "## Insert\n",
    "** The insert function can be used to insert an element at specified index**"
   ]
  },
  {
   "cell_type": "code",
   "execution_count": 70,
   "id": "5de1debf",
   "metadata": {},
   "outputs": [
    {
     "data": {
      "text/plain": [
       "[10, 5, 'New Item', 6, 60, 20, 99]"
      ]
     },
     "execution_count": 70,
     "metadata": {},
     "output_type": "execute_result"
    }
   ],
   "source": [
    "m1.insert(2,\"New Item\")\n",
    "m1"
   ]
  },
  {
   "cell_type": "markdown",
   "id": "2b2de5fe",
   "metadata": {},
   "source": [
    "## Extend\n",
    "** The extend method adds one list to the end of the another list**"
   ]
  },
  {
   "cell_type": "code",
   "execution_count": 71,
   "id": "637798d1",
   "metadata": {},
   "outputs": [
    {
     "data": {
      "text/plain": [
       "['a', 'b', 'c', 'd']"
      ]
     },
     "execution_count": 71,
     "metadata": {},
     "output_type": "execute_result"
    }
   ],
   "source": [
    "m1 = list(\"abcd\")\n",
    "m1"
   ]
  },
  {
   "cell_type": "code",
   "execution_count": 72,
   "id": "8c0b24de",
   "metadata": {},
   "outputs": [
    {
     "data": {
      "text/plain": [
       "[1, 2, 3, 4, 5]"
      ]
     },
     "execution_count": 72,
     "metadata": {},
     "output_type": "execute_result"
    }
   ],
   "source": [
    "m2 = [1,2,3,4,5]\n",
    "m2"
   ]
  },
  {
   "cell_type": "code",
   "execution_count": 73,
   "id": "fbb87016",
   "metadata": {},
   "outputs": [
    {
     "data": {
      "text/plain": [
       "['a', 'b', 'c', 'd', 1, 2, 3, 4, 5]"
      ]
     },
     "execution_count": 73,
     "metadata": {},
     "output_type": "execute_result"
    }
   ],
   "source": [
    "m1.extend(m2)\n",
    "m1"
   ]
  },
  {
   "cell_type": "markdown",
   "id": "1168034e",
   "metadata": {},
   "source": [
    "## Reverse\n",
    "**The reverse function in python reverse the order of the list**"
   ]
  },
  {
   "cell_type": "code",
   "execution_count": 88,
   "id": "7361bd43",
   "metadata": {},
   "outputs": [
    {
     "data": {
      "text/plain": [
       "['a', 'b', 'c', 'd', 'e', 'f']"
      ]
     },
     "execution_count": 88,
     "metadata": {},
     "output_type": "execute_result"
    }
   ],
   "source": [
    "m3 = list(\"abcdef\")\n",
    "m3"
   ]
  },
  {
   "cell_type": "code",
   "execution_count": 92,
   "id": "cc052b72",
   "metadata": {},
   "outputs": [
    {
     "name": "stdout",
     "output_type": "stream",
     "text": [
      "['a', 'b', 'c', 'd', 'e', 'f']\n"
     ]
    }
   ],
   "source": [
    "m3.reverse()\n",
    "print(m3)"
   ]
  },
  {
   "cell_type": "markdown",
   "id": "e109be71",
   "metadata": {},
   "source": [
    "## Index\n",
    "**index() function returns the index of first matched item from the list**"
   ]
  },
  {
   "cell_type": "code",
   "execution_count": 113,
   "id": "c7746c2b",
   "metadata": {},
   "outputs": [
    {
     "data": {
      "text/plain": [
       "6"
      ]
     },
     "execution_count": 113,
     "metadata": {},
     "output_type": "execute_result"
    }
   ],
   "source": [
    "list1 = [\"apple\",\"mango\",\"banana2\",\"date\",\"orange\",\"mango\",\"banana\"]\n",
    "list1.index(\"banana\")"
   ]
  },
  {
   "cell_type": "code",
   "execution_count": 114,
   "id": "b60381d3",
   "metadata": {},
   "outputs": [
    {
     "data": {
      "text/plain": [
       "['apple', 'banana', 'banana2', 'date', 'mango', 'mango', 'orange']"
      ]
     },
     "execution_count": 114,
     "metadata": {},
     "output_type": "execute_result"
    }
   ],
   "source": [
    "list1.sort()\n",
    "list1"
   ]
  },
  {
   "cell_type": "code",
   "execution_count": 118,
   "id": "32e4638a",
   "metadata": {},
   "outputs": [
    {
     "data": {
      "text/plain": [
       "['apple', 'banana', 'banana2', 'orange']"
      ]
     },
     "execution_count": 118,
     "metadata": {},
     "output_type": "execute_result"
    }
   ],
   "source": [
    "list1.remove(\"mango\") # error if not ele\n",
    "list1"
   ]
  },
  {
   "cell_type": "markdown",
   "id": "42d0d1c9",
   "metadata": {},
   "source": [
    "## Clear\n",
    "**Clear method removes all element from the list**"
   ]
  },
  {
   "cell_type": "code",
   "execution_count": 121,
   "id": "773d8fd6",
   "metadata": {},
   "outputs": [
    {
     "data": {
      "text/plain": [
       "['apple', 'mango', 'banana2', 'date', 'orange', 'mango', 'banana']"
      ]
     },
     "execution_count": 121,
     "metadata": {},
     "output_type": "execute_result"
    }
   ],
   "source": [
    "list1 = [\"apple\",\"mango\",\"banana2\",\"date\",\"orange\",\"mango\",\"banana\"]\n",
    "list1"
   ]
  },
  {
   "cell_type": "code",
   "execution_count": 123,
   "id": "c58da3d6",
   "metadata": {},
   "outputs": [
    {
     "data": {
      "text/plain": [
       "[]"
      ]
     },
     "execution_count": 123,
     "metadata": {},
     "output_type": "execute_result"
    }
   ],
   "source": [
    "list1.clear()\n",
    "list1"
   ]
  },
  {
   "cell_type": "markdown",
   "id": "e35ce6d8",
   "metadata": {},
   "source": [
    "## Count()\n",
    "** count() method counts how many times an element has occurred in a list and return it**"
   ]
  },
  {
   "cell_type": "code",
   "execution_count": 127,
   "id": "0a107192",
   "metadata": {},
   "outputs": [
    {
     "data": {
      "text/plain": [
       "2"
      ]
     },
     "execution_count": 127,
     "metadata": {},
     "output_type": "execute_result"
    }
   ],
   "source": [
    "# count\n",
    "list1 = [\"apple\",\"mango\",\"banana2\",\"date\",\"orange\",\"mango\",\"banana\"]\n",
    "list1.count(\"mango\")"
   ]
  },
  {
   "cell_type": "markdown",
   "id": "31cd8ff5",
   "metadata": {},
   "source": [
    "## POP\n",
    "** It removes the element from the specified index and also return the element which was removed**"
   ]
  },
  {
   "cell_type": "code",
   "execution_count": 138,
   "id": "c78d645d",
   "metadata": {},
   "outputs": [
    {
     "data": {
      "text/plain": [
       "[20, 30, 40, 50, 60, 70, 80, 90]"
      ]
     },
     "execution_count": 138,
     "metadata": {},
     "output_type": "execute_result"
    }
   ],
   "source": [
    "l1 = [20,30,40,50,60,70,80,90]\n",
    "l1"
   ]
  },
  {
   "cell_type": "code",
   "execution_count": 141,
   "id": "738c60b2",
   "metadata": {},
   "outputs": [
    {
     "data": {
      "text/plain": [
       "50"
      ]
     },
     "execution_count": 141,
     "metadata": {},
     "output_type": "execute_result"
    }
   ],
   "source": [
    "l1.pop(2)"
   ]
  },
  {
   "cell_type": "code",
   "execution_count": 134,
   "id": "f09e7b74",
   "metadata": {},
   "outputs": [
    {
     "data": {
      "text/plain": [
       "50"
      ]
     },
     "execution_count": 134,
     "metadata": {},
     "output_type": "execute_result"
    }
   ],
   "source": [
    "l1.pop(1)"
   ]
  },
  {
   "cell_type": "markdown",
   "id": "1e145ee2",
   "metadata": {},
   "source": [
    "# del statement\n",
    "** dell remove the specified elemnt from the list but does not return the deleted element**"
   ]
  },
  {
   "cell_type": "code",
   "execution_count": 1,
   "id": "49fc157a",
   "metadata": {},
   "outputs": [
    {
     "data": {
      "text/plain": [
       "[20, 30, 70, 80, 90]"
      ]
     },
     "execution_count": 1,
     "metadata": {},
     "output_type": "execute_result"
    }
   ],
   "source": [
    "l1 = [20,30,40,50,60,70,80,90]\n",
    "del l1[2:5]\n",
    "l1\n"
   ]
  }
 ],
 "metadata": {
  "kernelspec": {
   "display_name": "Python 3 (ipykernel)",
   "language": "python",
   "name": "python3"
  },
  "language_info": {
   "codemirror_mode": {
    "name": "ipython",
    "version": 3
   },
   "file_extension": ".py",
   "mimetype": "text/x-python",
   "name": "python",
   "nbconvert_exporter": "python",
   "pygments_lexer": "ipython3",
   "version": "3.10.4"
  }
 },
 "nbformat": 4,
 "nbformat_minor": 5
}
