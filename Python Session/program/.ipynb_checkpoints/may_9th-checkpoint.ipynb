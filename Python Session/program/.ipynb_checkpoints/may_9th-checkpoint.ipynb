{
 "cells": [
  {
   "cell_type": "code",
   "execution_count": 1,
   "id": "6ecdcdf3",
   "metadata": {},
   "outputs": [],
   "source": [
    "# Keywords"
   ]
  },
  {
   "cell_type": "code",
   "execution_count": 2,
   "id": "c0646e80",
   "metadata": {},
   "outputs": [],
   "source": [
    "# def = 10 "
   ]
  },
  {
   "cell_type": "code",
   "execution_count": 3,
   "id": "d114fce4",
   "metadata": {},
   "outputs": [],
   "source": [
    "# import = \"hello\""
   ]
  },
  {
   "cell_type": "code",
   "execution_count": 4,
   "id": "70860a45",
   "metadata": {},
   "outputs": [
    {
     "data": {
      "text/plain": [
       "10"
      ]
     },
     "execution_count": 4,
     "metadata": {},
     "output_type": "execute_result"
    }
   ],
   "source": [
    "# case sensitive\n",
    "\n",
    "Def = 10\n",
    "Def"
   ]
  },
  {
   "cell_type": "code",
   "execution_count": 5,
   "id": "f3f39d91",
   "metadata": {},
   "outputs": [],
   "source": [
    "# Rules for Writing Identifier"
   ]
  },
  {
   "cell_type": "code",
   "execution_count": 6,
   "id": "3e8fccb9",
   "metadata": {},
   "outputs": [],
   "source": [
    "# #Vaild Identifier\n",
    "# x = 10\n",
    "# _name = 15\n",
    "# name10 = \"name\"\n",
    "# name_first = \"first name\"\n",
    "# Name = \"Caps name\""
   ]
  },
  {
   "cell_type": "code",
   "execution_count": 7,
   "id": "39f36b97",
   "metadata": {},
   "outputs": [],
   "source": [
    "# 10x = 10\n",
    "# name@first = 152\n",
    "# -name = 10\n",
    "# class = 10"
   ]
  },
  {
   "cell_type": "code",
   "execution_count": 8,
   "id": "917ebb6b",
   "metadata": {},
   "outputs": [],
   "source": [
    "# Declaring variable"
   ]
  },
  {
   "cell_type": "code",
   "execution_count": 9,
   "id": "b67075f3",
   "metadata": {},
   "outputs": [
    {
     "name": "stdout",
     "output_type": "stream",
     "text": [
      "first name\n",
      "10\n"
     ]
    }
   ],
   "source": [
    "name = \"first name\"\n",
    "price = 10\n",
    "print(name)\n",
    "print(price)"
   ]
  },
  {
   "cell_type": "code",
   "execution_count": 10,
   "id": "e5645b0d",
   "metadata": {},
   "outputs": [
    {
     "name": "stdout",
     "output_type": "stream",
     "text": [
      "10 99.99 hello\n"
     ]
    }
   ],
   "source": [
    "#assigning multiple values to multiple variables\n",
    "a,b,c = 10,99.99,\"hello\"\n",
    "print(a,b,c)"
   ]
  },
  {
   "cell_type": "code",
   "execution_count": 11,
   "id": "3a112082",
   "metadata": {},
   "outputs": [],
   "source": [
    "# python statement"
   ]
  },
  {
   "cell_type": "code",
   "execution_count": 12,
   "id": "9f4a18c1",
   "metadata": {},
   "outputs": [
    {
     "name": "stdout",
     "output_type": "stream",
     "text": [
      "129\n",
      " Helloe there\n"
     ]
    }
   ],
   "source": [
    "a = 2+3*9+100\n",
    "print(a)\n",
    "print(\" Helloe there\")"
   ]
  },
  {
   "cell_type": "code",
   "execution_count": 13,
   "id": "c73e271c",
   "metadata": {},
   "outputs": [],
   "source": [
    "# Multi-line statatement"
   ]
  },
  {
   "cell_type": "code",
   "execution_count": 14,
   "id": "d05c20f9",
   "metadata": {},
   "outputs": [],
   "source": [
    "# cal = 2+3+7 \\\n",
    "#         +3+5 \\\n",
    "#         +2\n",
    "# print(cal)"
   ]
  },
  {
   "cell_type": "code",
   "execution_count": 15,
   "id": "43eddef3",
   "metadata": {},
   "outputs": [],
   "source": [
    "# msg = \"Hello I am learning\" \\\n",
    "#         \"python\" \\\n",
    "#         \"and doing practice\"\n",
    "# print(msg)"
   ]
  },
  {
   "cell_type": "code",
   "execution_count": 16,
   "id": "dd6cc425",
   "metadata": {},
   "outputs": [],
   "source": [
    "# data = [10,20,30,\n",
    "#        1,2,3\n",
    "#         ,4,5\n",
    "#        ]\n",
    "# print(data)"
   ]
  },
  {
   "cell_type": "code",
   "execution_count": 17,
   "id": "096ea052",
   "metadata": {},
   "outputs": [],
   "source": [
    "# Literals"
   ]
  },
  {
   "cell_type": "code",
   "execution_count": 18,
   "id": "ee71071b",
   "metadata": {},
   "outputs": [
    {
     "name": "stdout",
     "output_type": "stream",
     "text": [
      "10\n",
      "99\n",
      "200\n"
     ]
    }
   ],
   "source": [
    "a = 0b1010\n",
    "print(a)\n",
    "b = 99\n",
    "print(b)\n",
    "c = 0O310\n",
    "print(c)"
   ]
  },
  {
   "cell_type": "code",
   "execution_count": 19,
   "id": "2fca3f30",
   "metadata": {},
   "outputs": [
    {
     "data": {
      "text/plain": [
       "64"
      ]
     },
     "execution_count": 19,
     "metadata": {},
     "output_type": "execute_result"
    }
   ],
   "source": [
    "8**2"
   ]
  },
  {
   "cell_type": "code",
   "execution_count": 20,
   "id": "0dd804da",
   "metadata": {},
   "outputs": [
    {
     "name": "stdout",
     "output_type": "stream",
     "text": [
      "True\n",
      "False\n"
     ]
    }
   ],
   "source": [
    "a1 = True\n",
    "a2 = False\n",
    "print(a1)\n",
    "print(a2)"
   ]
  },
  {
   "cell_type": "code",
   "execution_count": 21,
   "id": "0ec88142",
   "metadata": {
    "scrolled": true
   },
   "outputs": [
    {
     "name": "stdout",
     "output_type": "stream",
     "text": [
      "None\n"
     ]
    }
   ],
   "source": [
    "is_conn = None\n",
    "print(is_conn)"
   ]
  },
  {
   "cell_type": "code",
   "execution_count": 22,
   "id": "e31bd778",
   "metadata": {},
   "outputs": [],
   "source": [
    "# Console Input"
   ]
  },
  {
   "cell_type": "code",
   "execution_count": 23,
   "id": "75636e2f",
   "metadata": {},
   "outputs": [
    {
     "name": "stdout",
     "output_type": "stream",
     "text": [
      "Enter your nameKhan\n",
      "Khan\n"
     ]
    }
   ],
   "source": [
    "name = input(\"Enter your name\")\n",
    "print(name)"
   ]
  },
  {
   "cell_type": "code",
   "execution_count": 29,
   "id": "5cddddb4",
   "metadata": {},
   "outputs": [],
   "source": [
    "# age = input(\"Enter your age:\")\n",
    "# print(type(age))\n",
    "# age = age + 10\n"
   ]
  },
  {
   "cell_type": "code",
   "execution_count": 31,
   "id": "8f322466",
   "metadata": {},
   "outputs": [
    {
     "name": "stdout",
     "output_type": "stream",
     "text": [
      "Enter name,age,city:khan 30 meerut\n",
      "khan 30 meerut\n"
     ]
    }
   ],
   "source": [
    "# name,age,city = input(\"Enter name,age,city:\").split(\" \")\n",
    "# print(name,age,city)"
   ]
  },
  {
   "cell_type": "code",
   "execution_count": 37,
   "id": "65a58d70",
   "metadata": {},
   "outputs": [
    {
     "name": "stdout",
     "output_type": "stream",
     "text": [
      "Vallue of x is 110\n",
      "Vallue of x is 55.5\n",
      "20/2 result:10.0\n"
     ]
    }
   ],
   "source": [
    "x = 20+90\n",
    "name = \"Python\"\n",
    "price = 55.50\n",
    "m1 = 20\n",
    "m2 = 2\n",
    "result = m1/m2\n",
    "print(\"Vallue of x is {0}\".format(x))\n",
    "print(\"Vallue of x is {prc}\".format(prc = price))\n",
    "\n",
    "print(f\"{m1}/{m2} result:{result}\")\n"
   ]
  },
  {
   "cell_type": "code",
   "execution_count": 40,
   "id": "827babcc",
   "metadata": {},
   "outputs": [
    {
     "name": "stdout",
     "output_type": "stream",
     "text": [
      "khan's \\is here'\n"
     ]
    }
   ],
   "source": [
    "print(\"khan's \\is here'\")"
   ]
  },
  {
   "cell_type": "code",
   "execution_count": 25,
   "id": "5ce58525",
   "metadata": {},
   "outputs": [],
   "source": [
    "# create:\n",
    "# assign binary,octal and float literal to variable x,y,z and display them.\n",
    "# create string  and boolean literal.\n",
    "# create two variable x,y with value 100,50\n",
    "# Perform Operaion:\n",
    "# x+y,x*y,x/y\n",
    "# create variable with below names: and check weather they are connect or not.\n",
    "# price = 100\n",
    "# 25price =100\n",
    "# _25price = 100\n",
    "# price25 = 100\n",
    "# price-25 =100\n",
    "# price@50 = 100\n"
   ]
  }
 ],
 "metadata": {
  "kernelspec": {
   "display_name": "Python 3 (ipykernel)",
   "language": "python",
   "name": "python3"
  },
  "language_info": {
   "codemirror_mode": {
    "name": "ipython",
    "version": 3
   },
   "file_extension": ".py",
   "mimetype": "text/x-python",
   "name": "python",
   "nbconvert_exporter": "python",
   "pygments_lexer": "ipython3",
   "version": "3.10.4"
  }
 },
 "nbformat": 4,
 "nbformat_minor": 5
}
