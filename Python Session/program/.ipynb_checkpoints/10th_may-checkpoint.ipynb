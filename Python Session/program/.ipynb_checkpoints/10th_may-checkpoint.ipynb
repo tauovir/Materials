{
 "cells": [
  {
   "cell_type": "markdown",
   "id": "a46bf395",
   "metadata": {},
   "source": [
    "## python indentation"
   ]
  },
  {
   "cell_type": "code",
   "execution_count": 3,
   "id": "0bca090f",
   "metadata": {},
   "outputs": [],
   "source": [
    "# x = 10\n",
    "# print(x)"
   ]
  },
  {
   "cell_type": "code",
   "execution_count": 7,
   "id": "28e3411b",
   "metadata": {},
   "outputs": [
    {
     "name": "stdout",
     "output_type": "stream",
     "text": [
      "X is greater\n",
      "x is  greater than 1\n"
     ]
    }
   ],
   "source": [
    "# x = 10\n",
    "\n",
    "# if x > 2:\n",
    "#     print(\"X is greater\")\n",
    "#     if x > 1:\n",
    "#         print(\"x is  greater than 1\")\n",
    "# else:\n",
    "#     print(\"x is less\")"
   ]
  },
  {
   "cell_type": "code",
   "execution_count": 8,
   "id": "dddd2bb3",
   "metadata": {},
   "outputs": [
    {
     "name": "stdout",
     "output_type": "stream",
     "text": [
      "hi\n"
     ]
    }
   ],
   "source": [
    "# This is comment\n",
    "print(\"hi\")"
   ]
  },
  {
   "cell_type": "code",
   "execution_count": 48,
   "id": "7c4d1f5c",
   "metadata": {},
   "outputs": [
    {
     "data": {
      "text/plain": [
       "10"
      ]
     },
     "execution_count": 48,
     "metadata": {},
     "output_type": "execute_result"
    }
   ],
   "source": [
    "# Multi-line comment\n",
    "\"\"\"This is multi-lne \n",
    "comment\"\"\"\n",
    "\n",
    "x = 10\n",
    "x\n"
   ]
  },
  {
   "cell_type": "code",
   "execution_count": 70,
   "id": "ee20bb0e",
   "metadata": {},
   "outputs": [
    {
     "name": "stdout",
     "output_type": "stream",
     "text": [
      "5:<class 'int'>\n",
      "940:<class 'int'>\n",
      "price: 105.66:, type:<class 'float'>\n",
      "cmp: (2+3j):, type:<class 'complex'>\n",
      "z: (6+1j)\n",
      "Real:6.0,imaginary:1.0\n"
     ]
    }
   ],
   "source": [
    "# data types\n",
    "bn = 0b101\n",
    "print(f\"{bn}:{type(bn)}\")\n",
    "oct = 0O321\n",
    "hx = 0X3AC\n",
    "print(f\"{hx}:{type(hx)}\")\n",
    "price = 105.66\n",
    "print(f\"price: {price}:, type:{type(price)}\")\n",
    "x = 2 + 3j\n",
    "y = 4-2j\n",
    "z = x+y\n",
    "print(f\"cmp: {cmp}:, type:{type(cmp)}\")\n",
    "print(\"z:\",z)\n",
    "print(f\"Real:{z.real},imaginary:{z.imag}\")"
   ]
  },
  {
   "cell_type": "code",
   "execution_count": 97,
   "id": "b591ec2c",
   "metadata": {},
   "outputs": [
    {
     "name": "stdout",
     "output_type": "stream",
     "text": [
      "M1: None\n",
      "<class 'NoneType'>\n",
      "<class 'bool'>\n"
     ]
    }
   ],
   "source": [
    "m1 = None\n",
    "print(\"M1:\",m1)\n",
    "print(type(m1))\n",
    "flag = True\n",
    "print(type(flag))"
   ]
  },
  {
   "cell_type": "code",
   "execution_count": 75,
   "id": "ad831c44",
   "metadata": {},
   "outputs": [
    {
     "name": "stdout",
     "output_type": "stream",
     "text": [
      "name: python:, type:<class 'str'>\n",
      "list: [1, 2, 3, 4]:, type:<class 'list'>\n",
      "tuple: (10, 20, 30):, type:<class 'tuple'>\n"
     ]
    }
   ],
   "source": [
    "name = \"python\"\n",
    "l1 = [1,2,3,4]\n",
    "tpl = (10,20,30)\n",
    "print(f\"name: {name}:, type:{type(name)}\")\n",
    "print(f\"list: {l1}:, type:{type(l1)}\")\n",
    "print(f\"tuple: {tpl}:, type:{type(tpl)}\")"
   ]
  },
  {
   "cell_type": "code",
   "execution_count": 78,
   "id": "6918c4fd",
   "metadata": {},
   "outputs": [
    {
     "name": "stdout",
     "output_type": "stream",
     "text": [
      "st: {80, 2, 102, 30}:, type:<class 'set'>\n"
     ]
    }
   ],
   "source": [
    "# Sets\n",
    "st = {2,102,30,80}\n",
    "print(f\"st: {st}:, type:{type(st)}\")"
   ]
  },
  {
   "cell_type": "code",
   "execution_count": 79,
   "id": "e63e6997",
   "metadata": {},
   "outputs": [
    {
     "name": "stdout",
     "output_type": "stream",
     "text": [
      "dict1: {'name': 'Rahul', 'city': 'Delhi', 'mobile': 20303010}:, type:<class 'dict'>\n"
     ]
    }
   ],
   "source": [
    "# Dictinory\n",
    "dict1 = {\"name\" :\"Rahul\",\"city\" : \"Delhi\",\"mobile\" : 20303010}\n",
    "print(f\"dict1: {dict1}:, type:{type(dict1)}\")"
   ]
  },
  {
   "cell_type": "code",
   "execution_count": 95,
   "id": "10b7343a",
   "metadata": {},
   "outputs": [
    {
     "name": "stdout",
     "output_type": "stream",
     "text": [
      "20.66\n",
      "10 20 30\n",
      "100 200 300\n"
     ]
    }
   ],
   "source": [
    "# Varibale Assigment\n",
    "x = 20.66\n",
    "print(x)\n",
    "a = 10;b = 20;c = 30\n",
    "print(a,b,c)\n",
    "x,y,z = 100,200,300\n",
    "print(x,y,z)"
   ]
  },
  {
   "cell_type": "markdown",
   "id": "8aecb909",
   "metadata": {},
   "source": [
    "# Arithmetic  Operator"
   ]
  },
  {
   "cell_type": "code",
   "execution_count": 124,
   "id": "029846eb",
   "metadata": {},
   "outputs": [
    {
     "name": "stdout",
     "output_type": "stream",
     "text": [
      "20+30= 50\n",
      "20-30= -10\n",
      "20*30= 600\n",
      "30/20= 1.5\n",
      "30%20= 10\n",
      "2**5= 32\n",
      "30//20= 1\n",
      "49.5\n"
     ]
    }
   ],
   "source": [
    "print(\"20+30=\",20+30)\n",
    "print(\"20-30=\",20-30)\n",
    "print(\"20*30=\",20*30)\n",
    "print(\"30/20=\",30/20)\n",
    "print(\"30%20=\",30%20)\n",
    "print(\"2**5=\",2**5)\n",
    "# print(\"30//20=\",30//20)\n",
    "x = 12+(3**4-6)/2\n",
    "print(x)"
   ]
  },
  {
   "attachments": {},
   "cell_type": "markdown",
   "id": "bccb3d2a",
   "metadata": {},
   "source": [
    "## Comparison/Relational Operators\n"
   ]
  },
  {
   "cell_type": "code",
   "execution_count": 133,
   "id": "5246f7b2",
   "metadata": {},
   "outputs": [
    {
     "name": "stdout",
     "output_type": "stream",
     "text": [
      "7>3: True\n",
      "2<=5: True\n",
      "10!12: True\n",
      "10!10: False\n",
      "10=9: False\n"
     ]
    }
   ],
   "source": [
    "print(\"7>3:\",7>3)\n",
    "print(\"2<=5:\",2<=5)\n",
    "print(\"10!12:\",10!=12)\n",
    "print(\"10!10:\",10!=10)\n",
    "print(\"10=9:\",10==9)\n"
   ]
  },
  {
   "cell_type": "code",
   "execution_count": 136,
   "id": "d7a6a57d",
   "metadata": {},
   "outputs": [],
   "source": [
    "# Logical Operator"
   ]
  },
  {
   "cell_type": "code",
   "execution_count": 151,
   "id": "f2896348",
   "metadata": {},
   "outputs": [
    {
     "name": "stdout",
     "output_type": "stream",
     "text": [
      "True\n",
      "False\n",
      "True\n"
     ]
    }
   ],
   "source": [
    "x= 10\n",
    "y = 20\n",
    "print(x>5 and y > 15)\n",
    "print(x>10 and y > 15)\n",
    "print(x>10 or y > 15)\n"
   ]
  },
  {
   "cell_type": "markdown",
   "id": "8f7d806b",
   "metadata": {},
   "source": [
    "# Assigment Operator"
   ]
  },
  {
   "cell_type": "code",
   "execution_count": 153,
   "id": "131a83fc",
   "metadata": {},
   "outputs": [],
   "source": []
  },
  {
   "cell_type": "code",
   "execution_count": 161,
   "id": "f6f85f08",
   "metadata": {},
   "outputs": [
    {
     "name": "stdout",
     "output_type": "stream",
     "text": [
      "1000\n"
     ]
    }
   ],
   "source": [
    "x = 10\n",
    "# x = x + 2\n",
    "# x +=2\n",
    "# x = x - 4\n",
    "# x -=2\n",
    "x **= 3\n",
    "print(x)"
   ]
  },
  {
   "cell_type": "code",
   "execution_count": 171,
   "id": "169f859a",
   "metadata": {},
   "outputs": [],
   "source": [
    "# x = 50\n",
    "# y = 50\n",
    "# z = 20\n",
    "# m1 = 20\n",
    "# print(\"x:\",id(x))\n",
    "# print(\"y:\",id(y))\n",
    "# print(\"y:\",id(z))\n",
    "# print(\"m1:\",id(m1))\n",
    "# x is not z"
   ]
  },
  {
   "attachments": {},
   "cell_type": "markdown",
   "id": "141a350e",
   "metadata": {},
   "source": [
    "## Membership operators in and not in"
   ]
  },
  {
   "cell_type": "code",
   "execution_count": 178,
   "id": "5ef260d2",
   "metadata": {},
   "outputs": [
    {
     "name": "stdout",
     "output_type": "stream",
     "text": [
      "True\n",
      "True\n"
     ]
    }
   ],
   "source": [
    "name = \"python\"\n",
    "print(\"hon\" in name)\n",
    "print(\"hin\" not in name)"
   ]
  },
  {
   "cell_type": "markdown",
   "id": "1ab7f034",
   "metadata": {},
   "source": [
    "# Conversion"
   ]
  },
  {
   "cell_type": "code",
   "execution_count": 181,
   "id": "9d43f83e",
   "metadata": {},
   "outputs": [
    {
     "name": "stdout",
     "output_type": "stream",
     "text": [
      "enter age:5\n",
      "<class 'str'>\n",
      "<class 'int'>\n"
     ]
    }
   ],
   "source": [
    "age = input(\"enter age:\")\n",
    "print(type(age))\n",
    "age = int(age)\n",
    "print(type(age))"
   ]
  },
  {
   "cell_type": "code",
   "execution_count": 184,
   "id": "970113a5",
   "metadata": {},
   "outputs": [
    {
     "data": {
      "text/plain": [
       "50"
      ]
     },
     "execution_count": 184,
     "metadata": {},
     "output_type": "execute_result"
    }
   ],
   "source": [
    "x = \"20\"\n",
    "y = 30\n",
    "int(x,)+ y"
   ]
  },
  {
   "cell_type": "code",
   "execution_count": 190,
   "id": "be8cef21",
   "metadata": {},
   "outputs": [
    {
     "data": {
      "text/plain": [
       "'25.66'"
      ]
     },
     "execution_count": 190,
     "metadata": {},
     "output_type": "execute_result"
    }
   ],
   "source": [
    "x = \"10\"\n",
    "p = 25.66\n",
    "str(p)"
   ]
  },
  {
   "cell_type": "code",
   "execution_count": 196,
   "id": "c9674e41",
   "metadata": {},
   "outputs": [
    {
     "data": {
      "text/plain": [
       "False"
      ]
     },
     "execution_count": 196,
     "metadata": {},
     "output_type": "execute_result"
    }
   ],
   "source": [
    "bool(0)"
   ]
  }
 ],
 "metadata": {
  "kernelspec": {
   "display_name": "Python 3 (ipykernel)",
   "language": "python",
   "name": "python3"
  },
  "language_info": {
   "codemirror_mode": {
    "name": "ipython",
    "version": 3
   },
   "file_extension": ".py",
   "mimetype": "text/x-python",
   "name": "python",
   "nbconvert_exporter": "python",
   "pygments_lexer": "ipython3",
   "version": "3.10.4"
  }
 },
 "nbformat": 4,
 "nbformat_minor": 5
}
