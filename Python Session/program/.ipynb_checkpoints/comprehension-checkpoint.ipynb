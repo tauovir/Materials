{
 "cells": [
  {
   "cell_type": "markdown",
   "id": "0fc00b32",
   "metadata": {},
   "source": [
    "# Comprehension\n",
    "Comprehension provide an easy way to create lists,set and dictionary<br>\n",
    "A comprehension  works by looping or iterating over items and assigning them to a container like list,set and dictionary"
   ]
  },
  {
   "cell_type": "markdown",
   "id": "4ca45e55",
   "metadata": {},
   "source": [
    "## List Comprehension\n",
    "List comprehension consist of brackets containing a n expresion followed by a for clause, and zero or more for or if clausees.<br>\n",
    "### list1 = [expresion for var in sequence [optional for/if]"
   ]
  },
  {
   "cell_type": "code",
   "execution_count": 2,
   "id": "76553908",
   "metadata": {},
   "outputs": [],
   "source": [
    "l1 = [x for x in range(10) ]"
   ]
  },
  {
   "cell_type": "code",
   "execution_count": 3,
   "id": "19292e75",
   "metadata": {},
   "outputs": [
    {
     "data": {
      "text/plain": [
       "[0, 1, 2, 3, 4, 5, 6, 7, 8, 9]"
      ]
     },
     "execution_count": 3,
     "metadata": {},
     "output_type": "execute_result"
    }
   ],
   "source": [
    "l1"
   ]
  },
  {
   "cell_type": "code",
   "execution_count": 9,
   "id": "9a1e934b",
   "metadata": {},
   "outputs": [
    {
     "name": "stdout",
     "output_type": "stream",
     "text": [
      "[104, 22, 42]\n"
     ]
    }
   ],
   "source": [
    "l1 = [int(x) + 2 for x in [102,20,40,]]\n",
    "print(l1)"
   ]
  },
  {
   "cell_type": "code",
   "execution_count": 11,
   "id": "d5420411",
   "metadata": {},
   "outputs": [
    {
     "name": "stdout",
     "output_type": "stream",
     "text": [
      "[12, 22, 32]\n"
     ]
    }
   ],
   "source": [
    "l1 = [int(x) + 2 for x in ['10','20','30']]\n",
    "print(l1)"
   ]
  },
  {
   "cell_type": "code",
   "execution_count": 44,
   "id": "199d2246",
   "metadata": {},
   "outputs": [
    {
     "name": "stdout",
     "output_type": "stream",
     "text": [
      "[30, 40, 50]\n"
     ]
    }
   ],
   "source": [
    "def f1(x):\n",
    "    if not x.isdigit():\n",
    "        return x\n",
    "    \n",
    "    return int(x) + 20\n",
    "l1 = [f1(x) for x in ['10','20','30']]\n",
    "print(l1)"
   ]
  },
  {
   "cell_type": "markdown",
   "id": "7bec6a8f",
   "metadata": {},
   "source": [
    "# if stetement in list comprehension\n",
    "**l1 = [expression for member in iterable (if conditional)]**<br>\n",
    "**l1 = [expression (if conditional) for member in iterable]**"
   ]
  },
  {
   "cell_type": "code",
   "execution_count": 20,
   "id": "cc29a526",
   "metadata": {},
   "outputs": [
    {
     "name": "stdout",
     "output_type": "stream",
     "text": [
      "[2, 4, 6, 8, 10, 12, 14, 16, 18]\n"
     ]
    }
   ],
   "source": [
    "even = [x for x in range(1,20) if x%2==0]\n",
    "print(even)"
   ]
  },
  {
   "cell_type": "code",
   "execution_count": 24,
   "id": "9853955f",
   "metadata": {},
   "outputs": [
    {
     "name": "stdout",
     "output_type": "stream",
     "text": [
      "[2, 4, 6, 8, 10, 16, 18]\n"
     ]
    }
   ],
   "source": [
    "# remove 12 and 14\n",
    "l1 = [x for x in even if x <12 or x >=16]\n",
    "print(l1)"
   ]
  },
  {
   "cell_type": "code",
   "execution_count": 46,
   "id": "3db66ce0",
   "metadata": {},
   "outputs": [
    {
     "name": "stdout",
     "output_type": "stream",
     "text": [
      "['lal', 'lal', 'lal', 'lal', 'lal', 12, 14, 16, 18]\n"
     ]
    }
   ],
   "source": [
    "l1 = [x if x >10 else \"lal\" for x in even]\n",
    "print(l1)"
   ]
  },
  {
   "cell_type": "markdown",
   "id": "60bf427c",
   "metadata": {},
   "source": [
    "# if-else stetement in list comprehension\n",
    "when **if-else** both are used placed them before **for**"
   ]
  },
  {
   "cell_type": "code",
   "execution_count": 41,
   "id": "0eec4d9a",
   "metadata": {},
   "outputs": [
    {
     "data": {
      "text/plain": [
       "'T!chn!c!l Pr!gr!ms'"
      ]
     },
     "execution_count": 41,
     "metadata": {},
     "output_type": "execute_result"
    }
   ],
   "source": [
    "# replace vowel with !\n",
    "v = 'aeiou'\n",
    "s1 = [ '!' if alphabet in v else alphabet for alphabet in 'Technical Programs']\n",
    "\"\".join(s1)"
   ]
  },
  {
   "cell_type": "code",
   "execution_count": 38,
   "id": "44c2de4c",
   "metadata": {},
   "outputs": [
    {
     "data": {
      "text/plain": [
       "'I ma not'"
      ]
     },
     "execution_count": 38,
     "metadata": {},
     "output_type": "execute_result"
    }
   ],
   "source": [
    "s"
   ]
  },
  {
   "cell_type": "code",
   "execution_count": 71,
   "id": "a2e51a84",
   "metadata": {},
   "outputs": [
    {
     "data": {
      "text/plain": [
       "[1, 2, 3, 10, 20, 30, 50, 60, 90]"
      ]
     },
     "execution_count": 71,
     "metadata": {},
     "output_type": "execute_result"
    }
   ],
   "source": [
    "l1 = [[1,2,3],[10,20,30],[50,60,90]]\n",
    "l2 = [ele for rows in l1 for ele in rows]\n",
    "l2"
   ]
  },
  {
   "cell_type": "markdown",
   "id": "dd6ab380",
   "metadata": {},
   "source": [
    "# Set Comprehension\n",
    "Set comprehension consistes of braces containing ex expression followed by a **for** cluase and zero or more **for** or **if**\n"
   ]
  },
  {
   "cell_type": "code",
   "execution_count": 75,
   "id": "493d7429",
   "metadata": {},
   "outputs": [
    {
     "data": {
      "text/plain": [
       "{1, 2, 3, 4, 20, 50, 58, 60, 411}"
      ]
     },
     "execution_count": 75,
     "metadata": {},
     "output_type": "execute_result"
    }
   ],
   "source": [
    "l1 = [1,2,3,411,2,3,4,20,50,20,60,58]\n",
    "st1 = {x for x in l1}\n",
    "st1"
   ]
  },
  {
   "cell_type": "code",
   "execution_count": 85,
   "id": "57f8fbef",
   "metadata": {},
   "outputs": [
    {
     "name": "stdout",
     "output_type": "stream",
     "text": [
      "{1, 2, 3, 4, 50, 20, 58, 411, 60}\n"
     ]
    },
    {
     "data": {
      "text/plain": [
       "{1, 2, 3, 4, 20}"
      ]
     },
     "execution_count": 85,
     "metadata": {},
     "output_type": "execute_result"
    }
   ],
   "source": [
    "print(st1)\n",
    "st2 = {num for num in st1 if num <=20}\n",
    "st2"
   ]
  },
  {
   "cell_type": "markdown",
   "id": "e093ef1a",
   "metadata": {},
   "source": [
    "## Dictionary Comprehension"
   ]
  },
  {
   "cell_type": "code",
   "execution_count": 88,
   "id": "bc5f725f",
   "metadata": {},
   "outputs": [],
   "source": [
    "marks = {\"math\" : 20,\"eng\":60,\"phy\" : 55}"
   ]
  },
  {
   "cell_type": "code",
   "execution_count": 89,
   "id": "1c8a7237",
   "metadata": {},
   "outputs": [
    {
     "name": "stdout",
     "output_type": "stream",
     "text": [
      "{'math': 50, 'eng': 90, 'phy': 85}\n"
     ]
    }
   ],
   "source": [
    "d1 = {key:val + 30 for key,val in marks.items() }\n",
    "print(d1)"
   ]
  },
  {
   "cell_type": "code",
   "execution_count": 95,
   "id": "4b600b0f",
   "metadata": {},
   "outputs": [],
   "source": [
    "data = [\n",
    "    {\"name\" : \"rahul\",\"marks\" : '20'},\n",
    "    {\"name\" : \"Mohit\",\"marks\" : '10'},\n",
    "    {\"name\" : \"Ram\",\"marks\" : '30'}\n",
    "]"
   ]
  },
  {
   "cell_type": "code",
   "execution_count": 97,
   "id": "fc43e294",
   "metadata": {},
   "outputs": [],
   "source": [
    "# d1 = {key+str(val) : val for dict1 in data for key,val in dict1.items() if val.isdigit() }"
   ]
  },
  {
   "cell_type": "code",
   "execution_count": 98,
   "id": "5d5c416e",
   "metadata": {},
   "outputs": [
    {
     "data": {
      "text/plain": [
       "{'marks20': '20', 'marks10': '10', 'marks30': '30'}"
      ]
     },
     "execution_count": 98,
     "metadata": {},
     "output_type": "execute_result"
    }
   ],
   "source": [
    "d1"
   ]
  },
  {
   "cell_type": "code",
   "execution_count": null,
   "id": "757aeb8e",
   "metadata": {},
   "outputs": [],
   "source": []
  }
 ],
 "metadata": {
  "kernelspec": {
   "display_name": "Python 3 (ipykernel)",
   "language": "python",
   "name": "python3"
  },
  "language_info": {
   "codemirror_mode": {
    "name": "ipython",
    "version": 3
   },
   "file_extension": ".py",
   "mimetype": "text/x-python",
   "name": "python",
   "nbconvert_exporter": "python",
   "pygments_lexer": "ipython3",
   "version": "3.10.4"
  }
 },
 "nbformat": 4,
 "nbformat_minor": 5
}
