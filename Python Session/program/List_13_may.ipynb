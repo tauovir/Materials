{
 "cells": [
  {
   "cell_type": "code",
   "execution_count": 4,
   "id": "6c5d5b40",
   "metadata": {},
   "outputs": [
    {
     "name": "stdout",
     "output_type": "stream",
     "text": [
      "[]\n",
      "[]\n"
     ]
    }
   ],
   "source": [
    "# Empty List\n",
    "l1 = []\n",
    "l2 = list()\n",
    "print(l1)\n",
    "print(l2)"
   ]
  },
  {
   "cell_type": "code",
   "execution_count": 5,
   "id": "57322d2c",
   "metadata": {},
   "outputs": [
    {
     "name": "stdout",
     "output_type": "stream",
     "text": [
      "[1, 2, 3, 4, 5]\n"
     ]
    }
   ],
   "source": [
    "# # List of integers\n",
    "l2 = [1,2,3,4,5]\n",
    "print(l2)"
   ]
  },
  {
   "cell_type": "code",
   "execution_count": 8,
   "id": "162e2a99",
   "metadata": {},
   "outputs": [
    {
     "data": {
      "text/plain": [
       "['Apple', 20, 55.55, 'Delhi', True]"
      ]
     },
     "execution_count": 8,
     "metadata": {},
     "output_type": "execute_result"
    }
   ],
   "source": [
    "# List of different data types\n",
    "l3 = [\"Apple\",20,55.55,\"Delhi\",True]\n",
    "l3"
   ]
  },
  {
   "cell_type": "markdown",
   "id": "fdc4d6d1",
   "metadata": {},
   "source": [
    "# Creating List from an existing List"
   ]
  },
  {
   "cell_type": "code",
   "execution_count": 10,
   "id": "7d37961e",
   "metadata": {},
   "outputs": [
    {
     "data": {
      "text/plain": [
       "[1, 2, 3, 4, 6, 6, 7, 8, 9, 10]"
      ]
     },
     "execution_count": 10,
     "metadata": {},
     "output_type": "execute_result"
    }
   ],
   "source": [
    "l1 = [1,2,3,4,6,6,7,8,9,10]\n",
    "l2 = l1[:]   # Copy list\n",
    "l2"
   ]
  },
  {
   "cell_type": "code",
   "execution_count": 12,
   "id": "4254ac6e",
   "metadata": {},
   "outputs": [
    {
     "data": {
      "text/plain": [
       "[2, 3, 4]"
      ]
     },
     "execution_count": 12,
     "metadata": {},
     "output_type": "execute_result"
    }
   ],
   "source": [
    "l3 = l1[1:4]\n",
    "l3"
   ]
  },
  {
   "cell_type": "code",
   "execution_count": 13,
   "id": "396d4579",
   "metadata": {},
   "outputs": [],
   "source": [
    "# l3 = l1\n",
    "# l3"
   ]
  },
  {
   "cell_type": "markdown",
   "id": "beae7d47",
   "metadata": {},
   "source": [
    "# Accessing List element"
   ]
  },
  {
   "cell_type": "code",
   "execution_count": 17,
   "id": "52ba6cc3",
   "metadata": {},
   "outputs": [
    {
     "name": "stdout",
     "output_type": "stream",
     "text": [
      "l1: ['A', 'B', 'C', 'D', 'E', 'F', 'G', 'H']\n",
      "l1[0]: A\n",
      "l1[2]: C\n",
      "l1[-1]: H\n",
      "l1[-3]: F\n"
     ]
    }
   ],
   "source": [
    "str1 = \"ABCDEFGH\"\n",
    "l1 = list(str1)\n",
    "print(\"l1:\",l1)\n",
    "print(\"l1[0]:\",l1[0])\n",
    "print(\"l1[2]:\",l1[2])\n",
    "print(\"l1[-1]:\",l1[-1])\n",
    "print(\"l1[-3]:\",l1[-3])"
   ]
  },
  {
   "cell_type": "code",
   "execution_count": 19,
   "id": "1ba5d8ab",
   "metadata": {},
   "outputs": [
    {
     "ename": "IndexError",
     "evalue": "list index out of range",
     "output_type": "error",
     "traceback": [
      "\u001b[1;31m---------------------------------------------------------------------------\u001b[0m",
      "\u001b[1;31mIndexError\u001b[0m                                Traceback (most recent call last)",
      "Input \u001b[1;32mIn [19]\u001b[0m, in \u001b[0;36m<cell line: 1>\u001b[1;34m()\u001b[0m\n\u001b[1;32m----> 1\u001b[0m \u001b[43ml1\u001b[49m\u001b[43m[\u001b[49m\u001b[38;5;241;43m15\u001b[39;49m\u001b[43m]\u001b[49m\n",
      "\u001b[1;31mIndexError\u001b[0m: list index out of range"
     ]
    }
   ],
   "source": [
    "l1[15] # error"
   ]
  },
  {
   "cell_type": "markdown",
   "id": "e6a3686a",
   "metadata": {},
   "source": [
    "# Traversing List\n",
    "1. Using <b>IN</b> operator in side for loop\n",
    "2. using range() function"
   ]
  },
  {
   "cell_type": "code",
   "execution_count": 20,
   "id": "6924b3e9",
   "metadata": {},
   "outputs": [
    {
     "data": {
      "text/plain": [
       "['Apple', 'Mango', 'Banana', 'Pineapple', 'Date']"
      ]
     },
     "execution_count": 20,
     "metadata": {},
     "output_type": "execute_result"
    }
   ],
   "source": [
    "fruit = [\"Apple\",\"Mango\",'Banana',\"Pineapple\",\"Date\"]\n",
    "fruit"
   ]
  },
  {
   "cell_type": "code",
   "execution_count": 24,
   "id": "aeba5e78",
   "metadata": {},
   "outputs": [
    {
     "name": "stdout",
     "output_type": "stream",
     "text": [
      "APPLE\n",
      "<class 'str'>\n",
      "MANGO\n",
      "<class 'str'>\n",
      "BANANA\n",
      "<class 'str'>\n",
      "PINEAPPLE\n",
      "<class 'str'>\n",
      "DATE\n",
      "<class 'str'>\n"
     ]
    }
   ],
   "source": [
    "# # Using in Operator\n",
    "for name in fruit:\n",
    "    print(name.upper())\n",
    "    print(type(name))"
   ]
  },
  {
   "cell_type": "code",
   "execution_count": 28,
   "id": "4943edbf",
   "metadata": {},
   "outputs": [
    {
     "name": "stdout",
     "output_type": "stream",
     "text": [
      "Item at;0 is ;Apple\n",
      "Item at;1 is ;Mango\n",
      "Item at;2 is ;Banana\n",
      "Item at;3 is ;Pineapple\n",
      "Item at;4 is ;Date\n"
     ]
    }
   ],
   "source": [
    "# # Using range() function\n",
    "fruit = [\"Apple\",\"Mango\",'Banana',\"Pineapple\",\"Date\"]\n",
    "for ind in range(len(fruit)):\n",
    "#     print(ind)\n",
    "#     print(fruit[ind])\n",
    "    print(f\"Item at;{ind} is ;{fruit[ind]}\")"
   ]
  },
  {
   "cell_type": "markdown",
   "id": "203a7bbb",
   "metadata": {},
   "source": [
    "# Testing membership\n",
    "**in operator**<br>\n",
    "**not in**"
   ]
  },
  {
   "cell_type": "code",
   "execution_count": 33,
   "id": "af151334",
   "metadata": {},
   "outputs": [
    {
     "data": {
      "text/plain": [
       "True"
      ]
     },
     "execution_count": 33,
     "metadata": {},
     "output_type": "execute_result"
    }
   ],
   "source": [
    "m1 = ['apple','mango','date',\"pineapple\"]\n",
    "# 'mango' in m1\n",
    "'mango22' not in m1"
   ]
  },
  {
   "cell_type": "markdown",
   "id": "5334da4a",
   "metadata": {},
   "source": [
    "# Indexing\n"
   ]
  },
  {
   "cell_type": "code",
   "execution_count": 39,
   "id": "67f98fc2",
   "metadata": {},
   "outputs": [
    {
     "name": "stdout",
     "output_type": "stream",
     "text": [
      "['c', 'o', 'm', 'p', 'u', 't', 'e', 'r']\n"
     ]
    },
    {
     "data": {
      "text/plain": [
       "['c', 'o', 'm', 'p', 'u', 't']"
      ]
     },
     "execution_count": 39,
     "metadata": {},
     "output_type": "execute_result"
    }
   ],
   "source": [
    "list1 = list(\"computer\")\n",
    "print(list1)\n",
    "list1[1:4]\n",
    "list1[1:6:2]\n",
    "list1[3:]\n",
    "list1[:5]\n",
    "list1[-1]\n",
    "list1[-3:]\n",
    "list1[:-2]\n",
    "\n",
    "\n",
    "\n"
   ]
  },
  {
   "cell_type": "markdown",
   "id": "31e325b6",
   "metadata": {},
   "source": [
    "## Built-IN Function\n",
    "**Append** : List.append() <br>\n",
    "**Insert** : List.insert(index, ele)<br>\n",
    "**Extend** : List.extend(list2) <br>\n",
    "**Index**  : list.index(ele) <br>\n",
    "**Remove** : list.remove(ele) <br>\n",
    "**Sort** : List.sort() <br>\n",
    "**Reverse** : list.reverse() <br>"
   ]
  },
  {
   "cell_type": "markdown",
   "id": "aceb3344",
   "metadata": {},
   "source": [
    "## Append\n",
    "** Append function is used to add a single item to the end of the list**"
   ]
  },
  {
   "cell_type": "code",
   "execution_count": 44,
   "id": "321aed0c",
   "metadata": {},
   "outputs": [
    {
     "data": {
      "text/plain": [
       "[10, 5, 6, 60, 20]"
      ]
     },
     "execution_count": 44,
     "metadata": {},
     "output_type": "execute_result"
    }
   ],
   "source": [
    "m1 = [10,5,6,60,20]\n",
    "m1"
   ]
  },
  {
   "cell_type": "code",
   "execution_count": 47,
   "id": "f7faeade",
   "metadata": {},
   "outputs": [
    {
     "data": {
      "text/plain": [
       "[10, 5, 6, 60, 20, 99, 99, 99]"
      ]
     },
     "execution_count": 47,
     "metadata": {},
     "output_type": "execute_result"
    }
   ],
   "source": [
    "m1.append(99)\n",
    "m1"
   ]
  },
  {
   "cell_type": "code",
   "execution_count": 51,
   "id": "966b7ab9",
   "metadata": {},
   "outputs": [
    {
     "data": {
      "text/plain": [
       "[20, 30, 40]"
      ]
     },
     "execution_count": 51,
     "metadata": {},
     "output_type": "execute_result"
    }
   ],
   "source": [
    "m1 = [20,30,40]\n"
   ]
  },
  {
   "cell_type": "markdown",
   "id": "3bc06fe2",
   "metadata": {},
   "source": [
    "## Insert\n",
    "** The insert function can be used to insert an element at specified index**"
   ]
  },
  {
   "cell_type": "code",
   "execution_count": 54,
   "id": "5de1debf",
   "metadata": {},
   "outputs": [],
   "source": [
    "m1 = [10,5,6,60,20]\n",
    "m1.insert(2,\"New Item\")\n",
    "m1.insert(0,\"New2\")\n",
    "m1.insert(20,\"at 2oth pos\")\n"
   ]
  },
  {
   "cell_type": "markdown",
   "id": "2b2de5fe",
   "metadata": {},
   "source": [
    "## Extend\n",
    "** The extend method adds one list to the end of the another list**"
   ]
  },
  {
   "cell_type": "code",
   "execution_count": 55,
   "id": "637798d1",
   "metadata": {},
   "outputs": [
    {
     "data": {
      "text/plain": [
       "['a', 'b', 'c', 'd']"
      ]
     },
     "execution_count": 55,
     "metadata": {},
     "output_type": "execute_result"
    }
   ],
   "source": [
    "m1 = list(\"abcd\")\n",
    "m1"
   ]
  },
  {
   "cell_type": "code",
   "execution_count": 56,
   "id": "8c0b24de",
   "metadata": {},
   "outputs": [
    {
     "data": {
      "text/plain": [
       "[1, 2, 3, 4, 5]"
      ]
     },
     "execution_count": 56,
     "metadata": {},
     "output_type": "execute_result"
    }
   ],
   "source": [
    "m2 = [1,2,3,4,5]\n",
    "m2"
   ]
  },
  {
   "cell_type": "code",
   "execution_count": 57,
   "id": "fbb87016",
   "metadata": {},
   "outputs": [
    {
     "data": {
      "text/plain": [
       "['a', 'b', 'c', 'd', 1, 2, 3, 4, 5]"
      ]
     },
     "execution_count": 57,
     "metadata": {},
     "output_type": "execute_result"
    }
   ],
   "source": [
    "m1.extend(m2)\n",
    "m1"
   ]
  },
  {
   "cell_type": "markdown",
   "id": "1168034e",
   "metadata": {},
   "source": [
    "## Reverse\n",
    "**The reverse function in python reverse the order of the list**"
   ]
  },
  {
   "cell_type": "code",
   "execution_count": 60,
   "id": "7361bd43",
   "metadata": {},
   "outputs": [
    {
     "data": {
      "text/plain": [
       "['a', 'b', 'c', 'd', 'e', 'f', 'a', 'b', 'c', 'd']"
      ]
     },
     "execution_count": 60,
     "metadata": {},
     "output_type": "execute_result"
    }
   ],
   "source": [
    "m3 = list(\"abcdefabcd\")\n",
    "m3"
   ]
  },
  {
   "cell_type": "code",
   "execution_count": 59,
   "id": "cc052b72",
   "metadata": {},
   "outputs": [
    {
     "name": "stdout",
     "output_type": "stream",
     "text": [
      "['f', 'e', 'd', 'c', 'b', 'a']\n"
     ]
    }
   ],
   "source": [
    "m3.reverse()\n",
    "print(m3)"
   ]
  },
  {
   "cell_type": "markdown",
   "id": "e109be71",
   "metadata": {},
   "source": [
    "## index\n",
    "\n",
    "**index() function returns the index of first matched item from the list**"
   ]
  },
  {
   "cell_type": "code",
   "execution_count": 64,
   "id": "30718d50",
   "metadata": {},
   "outputs": [
    {
     "data": {
      "text/plain": [
       "2"
      ]
     },
     "execution_count": 64,
     "metadata": {},
     "output_type": "execute_result"
    }
   ],
   "source": [
    "list1 = [\"apple\",\"mango\",\"banana\",\"date\",\"orange\",\"mango\",\"banana\"]\n",
    "list1.index(\"banana\")"
   ]
  },
  {
   "cell_type": "code",
   "execution_count": 70,
   "id": "b60381d3",
   "metadata": {},
   "outputs": [
    {
     "data": {
      "text/plain": [
       "[2, 3, 5, 5, 9, 10, 60]"
      ]
     },
     "execution_count": 70,
     "metadata": {},
     "output_type": "execute_result"
    }
   ],
   "source": [
    "list1 = [10,2,60,5,9,5,3]\n",
    "list1.sort(reverse = False)\n",
    "list1"
   ]
  },
  {
   "cell_type": "markdown",
   "id": "ede02fa9",
   "metadata": {},
   "source": [
    "## Remove"
   ]
  },
  {
   "cell_type": "code",
   "execution_count": 73,
   "id": "32e4638a",
   "metadata": {},
   "outputs": [
    {
     "ename": "ValueError",
     "evalue": "list.remove(x): x not in list",
     "output_type": "error",
     "traceback": [
      "\u001b[1;31m---------------------------------------------------------------------------\u001b[0m",
      "\u001b[1;31mValueError\u001b[0m                                Traceback (most recent call last)",
      "Input \u001b[1;32mIn [73]\u001b[0m, in \u001b[0;36m<cell line: 2>\u001b[1;34m()\u001b[0m\n\u001b[0;32m      1\u001b[0m list1 \u001b[38;5;241m=\u001b[39m [\u001b[38;5;241m10\u001b[39m,\u001b[38;5;241m2\u001b[39m,\u001b[38;5;241m60\u001b[39m,\u001b[38;5;241m5\u001b[39m,\u001b[38;5;241m9\u001b[39m,\u001b[38;5;241m5\u001b[39m,\u001b[38;5;241m3\u001b[39m]\n\u001b[1;32m----> 2\u001b[0m \u001b[43mlist1\u001b[49m\u001b[38;5;241;43m.\u001b[39;49m\u001b[43mremove\u001b[49m\u001b[43m(\u001b[49m\u001b[38;5;241;43m600\u001b[39;49m\u001b[43m)\u001b[49m \u001b[38;5;66;03m# error if not ele\u001b[39;00m\n\u001b[0;32m      3\u001b[0m list1\n",
      "\u001b[1;31mValueError\u001b[0m: list.remove(x): x not in list"
     ]
    }
   ],
   "source": [
    "list1 = [10,2,60,5,9,5,3]\n",
    "list1.remove(600) # error if not ele\n",
    "list1"
   ]
  },
  {
   "cell_type": "markdown",
   "id": "42d0d1c9",
   "metadata": {},
   "source": [
    "## Clear\n",
    "**Clear method removes all element from the list**"
   ]
  },
  {
   "cell_type": "code",
   "execution_count": 74,
   "id": "773d8fd6",
   "metadata": {},
   "outputs": [
    {
     "data": {
      "text/plain": [
       "['apple', 'mango', 'banana2', 'date', 'orange', 'mango', 'banana']"
      ]
     },
     "execution_count": 74,
     "metadata": {},
     "output_type": "execute_result"
    }
   ],
   "source": [
    "list1 = [\"apple\",\"mango\",\"banana2\",\"date\",\"orange\",\"mango\",\"banana\"]\n",
    "list1"
   ]
  },
  {
   "cell_type": "code",
   "execution_count": 76,
   "id": "c58da3d6",
   "metadata": {},
   "outputs": [
    {
     "data": {
      "text/plain": [
       "list"
      ]
     },
     "execution_count": 76,
     "metadata": {},
     "output_type": "execute_result"
    }
   ],
   "source": [
    "list1.clear()\n",
    "type(list1)"
   ]
  },
  {
   "cell_type": "markdown",
   "id": "0a55d20a",
   "metadata": {},
   "source": [
    "## a.remove(<obj>)\n",
    "**removes object <obj> from list list. If <obj> isn’t in a, an exception is raised:**"
   ]
  },
  {
   "cell_type": "code",
   "execution_count": 27,
   "id": "fcff8355",
   "metadata": {},
   "outputs": [],
   "source": [
    "# a = ['foo', 'bar', 'baz', 'qux', 'quux', 'corge']"
   ]
  },
  {
   "cell_type": "code",
   "execution_count": 28,
   "id": "ef794673",
   "metadata": {},
   "outputs": [],
   "source": [
    "# a.remove('baz')"
   ]
  },
  {
   "cell_type": "markdown",
   "id": "e35ce6d8",
   "metadata": {},
   "source": [
    "## Count()\n",
    "** count() method counts how many times an element has occurred in a list and return it**"
   ]
  },
  {
   "cell_type": "code",
   "execution_count": 79,
   "id": "0a107192",
   "metadata": {},
   "outputs": [
    {
     "data": {
      "text/plain": [
       "0"
      ]
     },
     "execution_count": 79,
     "metadata": {},
     "output_type": "execute_result"
    }
   ],
   "source": [
    "# # count\n",
    "list1 = [\"apple\",\"mango\",\"banana2\",\"date\",\"orange\",\"mango\",\"banana\"]\n",
    "list1.count(\"apple2\")"
   ]
  },
  {
   "cell_type": "markdown",
   "id": "31cd8ff5",
   "metadata": {},
   "source": [
    "## POP\n",
    "** It removes the element from the specified index and also return the element which was removed**"
   ]
  },
  {
   "cell_type": "code",
   "execution_count": 80,
   "id": "c78d645d",
   "metadata": {},
   "outputs": [
    {
     "data": {
      "text/plain": [
       "[20, 30, 40, 50, 60, 70, 80, 90]"
      ]
     },
     "execution_count": 80,
     "metadata": {},
     "output_type": "execute_result"
    }
   ],
   "source": [
    "l1 = [20,30,40,50,60,70,80,90]\n",
    "l1"
   ]
  },
  {
   "cell_type": "code",
   "execution_count": 82,
   "id": "738c60b2",
   "metadata": {},
   "outputs": [
    {
     "data": {
      "text/plain": [
       "80"
      ]
     },
     "execution_count": 82,
     "metadata": {},
     "output_type": "execute_result"
    }
   ],
   "source": [
    "l1.pop(5)"
   ]
  },
  {
   "cell_type": "code",
   "execution_count": 83,
   "id": "f6e5bae9",
   "metadata": {},
   "outputs": [
    {
     "data": {
      "text/plain": [
       "[20, 30, 50, 60, 70, 90]"
      ]
     },
     "execution_count": 83,
     "metadata": {},
     "output_type": "execute_result"
    }
   ],
   "source": [
    "l1"
   ]
  },
  {
   "cell_type": "code",
   "execution_count": 32,
   "id": "f09e7b74",
   "metadata": {},
   "outputs": [],
   "source": [
    "# l1.pop(1)"
   ]
  },
  {
   "cell_type": "markdown",
   "id": "1e145ee2",
   "metadata": {},
   "source": [
    "# del statement\n",
    "** dell remove the specified elemnt from the list but does not return the deleted element**"
   ]
  },
  {
   "cell_type": "code",
   "execution_count": 86,
   "id": "49fc157a",
   "metadata": {},
   "outputs": [
    {
     "data": {
      "text/plain": [
       "[20, 30, 70, 80, 90]"
      ]
     },
     "execution_count": 86,
     "metadata": {},
     "output_type": "execute_result"
    }
   ],
   "source": [
    "l1 = [20,30,40,50,60,70,80,90]\n",
    "del l1[2:5]\n",
    "l1\n"
   ]
  },
  {
   "cell_type": "code",
   "execution_count": null,
   "id": "bb085745",
   "metadata": {},
   "outputs": [],
   "source": []
  },
  {
   "cell_type": "code",
   "execution_count": 92,
   "id": "dc45936b",
   "metadata": {},
   "outputs": [
    {
     "data": {
      "text/plain": [
       "[20, 30, ['apple', 'mango', [10, 20]], 60]"
      ]
     },
     "execution_count": 92,
     "metadata": {},
     "output_type": "execute_result"
    }
   ],
   "source": [
    "l1 = [20,30,[\"apple\",\"mango\",[10,20]],60]\n",
    "l1"
   ]
  },
  {
   "cell_type": "code",
   "execution_count": 96,
   "id": "d5b49cf6",
   "metadata": {},
   "outputs": [
    {
     "data": {
      "text/plain": [
       "10"
      ]
     },
     "execution_count": 96,
     "metadata": {},
     "output_type": "execute_result"
    }
   ],
   "source": [
    "l1[2][2][0]"
   ]
  },
  {
   "cell_type": "code",
   "execution_count": 132,
   "id": "5dceda66",
   "metadata": {},
   "outputs": [
    {
     "ename": "SyntaxError",
     "evalue": "invalid syntax (534167729.py, line 1)",
     "output_type": "error",
     "traceback": [
      "\u001b[1;36m  Input \u001b[1;32mIn [132]\u001b[1;36m\u001b[0m\n\u001b[1;33m    l1 = [,\"Apple\"]\u001b[0m\n\u001b[1;37m          ^\u001b[0m\n\u001b[1;31mSyntaxError\u001b[0m\u001b[1;31m:\u001b[0m invalid syntax\n"
     ]
    }
   ],
   "source": [
    "l1 = [,\"Apple\"]\n",
    "# for i in L1:\n",
    "#     print(i)\n",
    "\n",
    "l2 = []\n",
    "# L1 = ['ganga']\n",
    "# # x = L1.pop(0)\n",
    "# print(x)\n",
    "for i in l1:\n",
    "    print(i)\n"
   ]
  },
  {
   "cell_type": "code",
   "execution_count": 99,
   "id": "f620ac3d",
   "metadata": {},
   "outputs": [
    {
     "data": {
      "text/plain": [
       "['APPLE', 'BANANA']"
      ]
     },
     "execution_count": 99,
     "metadata": {},
     "output_type": "execute_result"
    }
   ],
   "source": [
    "l2"
   ]
  },
  {
   "cell_type": "code",
   "execution_count": 119,
   "id": "ee74d838",
   "metadata": {},
   "outputs": [
    {
     "data": {
      "text/plain": [
       "'Apple'"
      ]
     },
     "execution_count": 119,
     "metadata": {},
     "output_type": "execute_result"
    }
   ],
   "source": [
    "l1 = [\"Apple\",\"banana\",\"ganga\"]\n",
    "l1.pop(0)"
   ]
  },
  {
   "cell_type": "code",
   "execution_count": 124,
   "id": "bd2af7f8",
   "metadata": {},
   "outputs": [
    {
     "data": {
      "text/plain": [
       "[]"
      ]
     },
     "execution_count": 124,
     "metadata": {},
     "output_type": "execute_result"
    }
   ],
   "source": [
    "l1"
   ]
  },
  {
   "cell_type": "code",
   "execution_count": 125,
   "id": "42478276",
   "metadata": {},
   "outputs": [
    {
     "ename": "IndexError",
     "evalue": "pop from empty list",
     "output_type": "error",
     "traceback": [
      "\u001b[1;31m---------------------------------------------------------------------------\u001b[0m",
      "\u001b[1;31mIndexError\u001b[0m                                Traceback (most recent call last)",
      "Input \u001b[1;32mIn [125]\u001b[0m, in \u001b[0;36m<cell line: 1>\u001b[1;34m()\u001b[0m\n\u001b[1;32m----> 1\u001b[0m \u001b[43ml1\u001b[49m\u001b[38;5;241;43m.\u001b[39;49m\u001b[43mpop\u001b[49m\u001b[43m(\u001b[49m\u001b[38;5;241;43m0\u001b[39;49m\u001b[43m)\u001b[49m\n",
      "\u001b[1;31mIndexError\u001b[0m: pop from empty list"
     ]
    }
   ],
   "source": [
    "l1.pop(0)"
   ]
  }
 ],
 "metadata": {
  "kernelspec": {
   "display_name": "Python 3 (ipykernel)",
   "language": "python",
   "name": "python3"
  },
  "language_info": {
   "codemirror_mode": {
    "name": "ipython",
    "version": 3
   },
   "file_extension": ".py",
   "mimetype": "text/x-python",
   "name": "python",
   "nbconvert_exporter": "python",
   "pygments_lexer": "ipython3",
   "version": "3.10.4"
  }
 },
 "nbformat": 4,
 "nbformat_minor": 5
}
