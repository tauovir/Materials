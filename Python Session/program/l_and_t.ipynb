{
 "cells": [
  {
   "cell_type": "markdown",
   "id": "b490c6f5",
   "metadata": {},
   "source": [
    "## Python Lists"
   ]
  },
  {
   "cell_type": "code",
   "execution_count": 1,
   "id": "ed6bcef7",
   "metadata": {},
   "outputs": [],
   "source": [
    "a = ['foo', 'bar', 'baz', 'qux']"
   ]
  },
  {
   "cell_type": "markdown",
   "id": "35bf237f",
   "metadata": {},
   "source": [
    "## The important characteristics of Python lists are as follows:\n",
    "**Lists are ordered**<br>\n",
    "A list is not merely a collection of objects. It is an ordered collection of objects. The order in which you specify the <br>elements when you define a list is an innate characteristic of that list and is maintained for that list’s lifetime<br>\n",
    "**Lists can contain any arbitrary objects.**<br>\n",
    "**List elements can be accessed by index.**<br>\n",
    "**Lists are mutable.**<br>\n",
    "**Lists are dynamic.**<br>\n"
   ]
  },
  {
   "cell_type": "code",
   "execution_count": 3,
   "id": "bdfc232b",
   "metadata": {},
   "outputs": [],
   "source": [
    "a = ['foo', 'bar', 'baz', 'qux']"
   ]
  },
  {
   "cell_type": "code",
   "execution_count": 5,
   "id": "d5b151ca",
   "metadata": {},
   "outputs": [
    {
     "data": {
      "text/plain": [
       "False"
      ]
     },
     "execution_count": 5,
     "metadata": {},
     "output_type": "execute_result"
    }
   ],
   "source": [
    "b = ['baz', 'qux', 'bar', 'foo']\n",
    "a == b"
   ]
  },
  {
   "cell_type": "markdown",
   "id": "4f1703f8",
   "metadata": {},
   "source": [
    "# the elements can be of varying types"
   ]
  },
  {
   "cell_type": "code",
   "execution_count": 13,
   "id": "5173ad10",
   "metadata": {},
   "outputs": [
    {
     "name": "stdout",
     "output_type": "stream",
     "text": [
      "<class 'float'>\n",
      "<class 'str'>\n",
      "<class 'int'>\n",
      "<class 'int'>\n",
      "<class 'str'>\n",
      "<class 'bool'>\n",
      "<class 'float'>\n"
     ]
    }
   ],
   "source": [
    "a = [21.42, 'foobar', 3, 4, 'bark', False, 3.14159]\n",
    "for item in a:\n",
    "    print(type(item))"
   ]
  },
  {
   "cell_type": "markdown",
   "id": "c311f19b",
   "metadata": {},
   "source": [
    "### Lists can even contain complex objects, like functions, classes, and modules, "
   ]
  },
  {
   "cell_type": "code",
   "execution_count": 18,
   "id": "c8f84bf9",
   "metadata": {},
   "outputs": [
    {
     "data": {
      "text/plain": [
       "[int,\n",
       " <function len(obj, /)>,\n",
       " <function __main__.show()>,\n",
       " <module 'math' (built-in)>,\n",
       " str]"
      ]
     },
     "execution_count": 18,
     "metadata": {},
     "output_type": "execute_result"
    }
   ],
   "source": [
    "import math\n",
    "def show():\n",
    "    print(\"show me\")\n",
    "\n",
    "a = [int, len, show, math,str]\n",
    "a"
   ]
  },
  {
   "cell_type": "code",
   "execution_count": 19,
   "id": "06dc04b1",
   "metadata": {},
   "outputs": [],
   "source": [
    "# List objects needn’t be unique. A given object can appear in a list multiple times:"
   ]
  },
  {
   "cell_type": "code",
   "execution_count": 20,
   "id": "7215cdbf",
   "metadata": {},
   "outputs": [],
   "source": [
    "a = ['bark', 'meow', 'woof', 'bark', 'cheep', 'bark']"
   ]
  },
  {
   "cell_type": "markdown",
   "id": "ce71abb8",
   "metadata": {},
   "source": [
    "### List Elements Can Be Accessed by Index"
   ]
  },
  {
   "cell_type": "code",
   "execution_count": 21,
   "id": "72caea33",
   "metadata": {},
   "outputs": [],
   "source": [
    "a = ['foo', 'bar', 'baz', 'qux', 'quux', 'corge']"
   ]
  },
  {
   "cell_type": "code",
   "execution_count": 23,
   "id": "8d87715d",
   "metadata": {},
   "outputs": [
    {
     "data": {
      "text/plain": [
       "['baz', 'qux', 'quux']"
      ]
     },
     "execution_count": 23,
     "metadata": {},
     "output_type": "execute_result"
    }
   ],
   "source": [
    "a[2:5]"
   ]
  },
  {
   "cell_type": "code",
   "execution_count": 24,
   "id": "62a16e3d",
   "metadata": {},
   "outputs": [
    {
     "data": {
      "text/plain": [
       "['bar', 'baz', 'qux']"
      ]
     },
     "execution_count": 24,
     "metadata": {},
     "output_type": "execute_result"
    }
   ],
   "source": [
    "a[-5:-2]"
   ]
  },
  {
   "cell_type": "code",
   "execution_count": 25,
   "id": "b1794525",
   "metadata": {},
   "outputs": [
    {
     "data": {
      "text/plain": [
       "True"
      ]
     },
     "execution_count": 25,
     "metadata": {},
     "output_type": "execute_result"
    }
   ],
   "source": [
    "a[-5:-2] == a[1:4]"
   ]
  },
  {
   "cell_type": "code",
   "execution_count": 27,
   "id": "fa04bbd6",
   "metadata": {},
   "outputs": [
    {
     "name": "stdout",
     "output_type": "stream",
     "text": [
      "['foo', 'bar', 'baz', 'qux'] ['foo', 'bar', 'baz', 'qux']\n",
      "['baz', 'qux', 'quux', 'corge'] ['baz', 'qux', 'quux', 'corge']\n"
     ]
    }
   ],
   "source": [
    "print(a[:4], a[0:4])\n",
    "print(a[2:], a[2:len(a)])"
   ]
  },
  {
   "cell_type": "code",
   "execution_count": 28,
   "id": "bc800190",
   "metadata": {},
   "outputs": [
    {
     "data": {
      "text/plain": [
       "True"
      ]
     },
     "execution_count": 28,
     "metadata": {},
     "output_type": "execute_result"
    }
   ],
   "source": [
    "a[:4] + a[4:] == a"
   ]
  },
  {
   "cell_type": "code",
   "execution_count": 29,
   "id": "c69f496f",
   "metadata": {},
   "outputs": [
    {
     "data": {
      "text/plain": [
       "['foo', 'baz', 'quux']"
      ]
     },
     "execution_count": 29,
     "metadata": {},
     "output_type": "execute_result"
    }
   ],
   "source": [
    "a[0:6:2]"
   ]
  },
  {
   "cell_type": "code",
   "execution_count": 88,
   "id": "116ddf88",
   "metadata": {},
   "outputs": [
    {
     "data": {
      "text/plain": [
       "['bar', 'qux', 'corge']"
      ]
     },
     "execution_count": 88,
     "metadata": {},
     "output_type": "execute_result"
    }
   ],
   "source": [
    "a = ['foo', 'bar', 'baz', 'qux', 'quux', 'corge']\n",
    "a[1:60:2] # 60 it will handle internally"
   ]
  },
  {
   "cell_type": "code",
   "execution_count": 87,
   "id": "c0b3b4a4",
   "metadata": {},
   "outputs": [
    {
     "data": {
      "text/plain": [
       "[5, 'corge', 'qux', 'bar']"
      ]
     },
     "execution_count": 87,
     "metadata": {},
     "output_type": "execute_result"
    }
   ],
   "source": [
    "a[7:0:-2] #################"
   ]
  },
  {
   "cell_type": "code",
   "execution_count": 50,
   "id": "3b406238",
   "metadata": {},
   "outputs": [
    {
     "data": {
      "text/plain": [
       "['quux', 'baz', 'foo']"
      ]
     },
     "execution_count": 50,
     "metadata": {},
     "output_type": "execute_result"
    }
   ],
   "source": [
    "a[-2::-2]"
   ]
  },
  {
   "cell_type": "code",
   "execution_count": 67,
   "id": "40717d00",
   "metadata": {},
   "outputs": [
    {
     "data": {
      "text/plain": [
       "False"
      ]
     },
     "execution_count": 67,
     "metadata": {},
     "output_type": "execute_result"
    }
   ],
   "source": [
    "s == b"
   ]
  },
  {
   "cell_type": "code",
   "execution_count": null,
   "id": "8b1fb8c3",
   "metadata": {},
   "outputs": [],
   "source": [
    "#  if a is a list, a[:] returns a new object that is a copy of a:"
   ]
  },
  {
   "cell_type": "code",
   "execution_count": 94,
   "id": "b967b090",
   "metadata": {},
   "outputs": [
    {
     "name": "stdout",
     "output_type": "stream",
     "text": [
      "2400639845440\n",
      "2400640219008\n"
     ]
    }
   ],
   "source": [
    "b = a[:]\n",
    "print(id(a))\n",
    "print(id(b))"
   ]
  },
  {
   "cell_type": "code",
   "execution_count": 95,
   "id": "f924a747",
   "metadata": {},
   "outputs": [
    {
     "name": "stdout",
     "output_type": "stream",
     "text": [
      "2400639845440\n",
      "2400639845440\n"
     ]
    }
   ],
   "source": [
    "## refrence\n",
    "c = a\n",
    "print(id(a))\n",
    "print(id(c))"
   ]
  },
  {
   "cell_type": "code",
   "execution_count": 91,
   "id": "a167ee23",
   "metadata": {},
   "outputs": [
    {
     "data": {
      "text/plain": [
       "2400640120832"
      ]
     },
     "execution_count": 91,
     "metadata": {},
     "output_type": "execute_result"
    }
   ],
   "source": [
    "id(b)"
   ]
  },
  {
   "cell_type": "markdown",
   "id": "e6e13861",
   "metadata": {},
   "source": [
    "## The in and not in operators:"
   ]
  },
  {
   "cell_type": "code",
   "execution_count": 96,
   "id": "9e807159",
   "metadata": {},
   "outputs": [],
   "source": [
    "a = ['foo', 'bar', 'baz', 'qux', 'quux', 'corge']"
   ]
  },
  {
   "cell_type": "code",
   "execution_count": 97,
   "id": "a9ea5eff",
   "metadata": {},
   "outputs": [
    {
     "name": "stdout",
     "output_type": "stream",
     "text": [
      "True\n",
      "True\n"
     ]
    }
   ],
   "source": [
    "print('qux' in a)\n",
    "print('thud' not in a)"
   ]
  },
  {
   "cell_type": "markdown",
   "id": "7b9b0e35",
   "metadata": {},
   "source": [
    "## The concatenation (+) and replication (*) operators:"
   ]
  },
  {
   "cell_type": "code",
   "execution_count": 99,
   "id": "28be1e03",
   "metadata": {},
   "outputs": [
    {
     "data": {
      "text/plain": [
       "['foo', 'bar', 'baz', 'qux', 'quux', 'corge', 'grault', 'garply']"
      ]
     },
     "execution_count": 99,
     "metadata": {},
     "output_type": "execute_result"
    }
   ],
   "source": [
    "a + ['grault', 'garply']"
   ]
  },
  {
   "cell_type": "code",
   "execution_count": 102,
   "id": "415110a5",
   "metadata": {},
   "outputs": [
    {
     "data": {
      "text/plain": [
       "['a', 'b', 'a', 'b']"
      ]
     },
     "execution_count": 102,
     "metadata": {},
     "output_type": "execute_result"
    }
   ],
   "source": [
    "['a','b'] * 2"
   ]
  },
  {
   "cell_type": "code",
   "execution_count": 103,
   "id": "92f2adbf",
   "metadata": {},
   "outputs": [],
   "source": [
    "## he len(), min(), and max() functions:"
   ]
  },
  {
   "cell_type": "code",
   "execution_count": 104,
   "id": "2a880116",
   "metadata": {},
   "outputs": [
    {
     "name": "stdout",
     "output_type": "stream",
     "text": [
      "6\n",
      "bar\n",
      "qux\n"
     ]
    }
   ],
   "source": [
    "print(len(a))\n",
    "print(min(a))\n",
    "print(max(a))\n"
   ]
  },
  {
   "cell_type": "code",
   "execution_count": 106,
   "id": "9c3aba2d",
   "metadata": {},
   "outputs": [],
   "source": [
    "x = ['a', ['bb', ['ccc', 'ddd'], 'ee', 'ff'], 'g', ['hh', 'ii'], 'j']"
   ]
  },
  {
   "cell_type": "code",
   "execution_count": 111,
   "id": "b2c9991d",
   "metadata": {},
   "outputs": [
    {
     "data": {
      "text/plain": [
       "['bb', ['ccc', 'ddd'], 'ee', 'ff']"
      ]
     },
     "execution_count": 111,
     "metadata": {},
     "output_type": "execute_result"
    }
   ],
   "source": [
    "x[1]"
   ]
  },
  {
   "cell_type": "code",
   "execution_count": 112,
   "id": "4d2cc031",
   "metadata": {},
   "outputs": [],
   "source": [
    "x = ['a', ['bb', ['ccc', 'ddd',['mm',['ppp','ooo']]], 'ee', 'ff'], 'g', ['hh', 'ii'], 'j']"
   ]
  },
  {
   "cell_type": "code",
   "execution_count": 113,
   "id": "371a1396",
   "metadata": {},
   "outputs": [
    {
     "data": {
      "text/plain": [
       "['bb', ['ccc', 'ddd', ['mm', ['ppp', 'ooo']]], 'ee', 'ff']"
      ]
     },
     "execution_count": 113,
     "metadata": {},
     "output_type": "execute_result"
    }
   ],
   "source": [
    "x[1]"
   ]
  },
  {
   "cell_type": "code",
   "execution_count": 124,
   "id": "000b4b96",
   "metadata": {},
   "outputs": [
    {
     "data": {
      "text/plain": [
       "'ooo'"
      ]
     },
     "execution_count": 124,
     "metadata": {},
     "output_type": "execute_result"
    }
   ],
   "source": [
    "x[1][1][2][1:][0][1]\n"
   ]
  },
  {
   "cell_type": "markdown",
   "id": "6c9ef869",
   "metadata": {},
   "source": [
    "## Modifying a Single List Value"
   ]
  },
  {
   "cell_type": "code",
   "execution_count": 151,
   "id": "2da6766e",
   "metadata": {},
   "outputs": [],
   "source": [
    "a = ['foo', 'bar', 'baz', 'qux', 'quux', 'corge']"
   ]
  },
  {
   "cell_type": "code",
   "execution_count": 152,
   "id": "5620b367",
   "metadata": {},
   "outputs": [],
   "source": [
    "a[0:2] = [\"Red\",\"Black\"]"
   ]
  },
  {
   "cell_type": "code",
   "execution_count": 153,
   "id": "a06b159d",
   "metadata": {},
   "outputs": [
    {
     "data": {
      "text/plain": [
       "['Red', 'Black', 'baz', 'qux', 'quux', 'corge']"
      ]
     },
     "execution_count": 153,
     "metadata": {},
     "output_type": "execute_result"
    }
   ],
   "source": [
    "a"
   ]
  },
  {
   "cell_type": "code",
   "execution_count": 154,
   "id": "ec64a58f",
   "metadata": {},
   "outputs": [],
   "source": [
    "# Modifying Multiple List Values\n",
    "# a[m:n] = <iterable>"
   ]
  },
  {
   "cell_type": "code",
   "execution_count": 155,
   "id": "0dc900b6",
   "metadata": {},
   "outputs": [
    {
     "data": {
      "text/plain": [
       "['bar', 'baz', 'qux']"
      ]
     },
     "execution_count": 155,
     "metadata": {},
     "output_type": "execute_result"
    }
   ],
   "source": [
    "a = ['foo', 'bar', 'baz', 'qux', 'quux', 'corge']\n",
    "a[1:4]"
   ]
  },
  {
   "cell_type": "code",
   "execution_count": 156,
   "id": "4dfe7786",
   "metadata": {},
   "outputs": [],
   "source": [
    "a[1:4] = [1.1, 2.2, 3.3, 4.4, 5.5]"
   ]
  },
  {
   "cell_type": "code",
   "execution_count": 157,
   "id": "7a7f82c8",
   "metadata": {},
   "outputs": [
    {
     "data": {
      "text/plain": [
       "['foo', 1.1, 2.2, 3.3, 4.4, 5.5, 'quux', 'corge']"
      ]
     },
     "execution_count": 157,
     "metadata": {},
     "output_type": "execute_result"
    }
   ],
   "source": [
    "a"
   ]
  },
  {
   "cell_type": "code",
   "execution_count": 158,
   "id": "da83266b",
   "metadata": {},
   "outputs": [],
   "source": [
    "a[1:6] = ['Bark!']"
   ]
  },
  {
   "cell_type": "markdown",
   "id": "62a54dec",
   "metadata": {},
   "source": [
    "### The number of elements inserted need not be equal to the number replaced. Python just grows or shrinks the list as needed."
   ]
  },
  {
   "cell_type": "code",
   "execution_count": 166,
   "id": "9c7c5098",
   "metadata": {},
   "outputs": [
    {
     "data": {
      "text/plain": [
       "['foo', 'bar', 'baz', 'qux', 'quux', 'corge']"
      ]
     },
     "execution_count": 166,
     "metadata": {},
     "output_type": "execute_result"
    }
   ],
   "source": [
    "a = ['foo', 'bar', 'baz', 'qux', 'quux', 'corge']\n",
    "a"
   ]
  },
  {
   "cell_type": "code",
   "execution_count": 167,
   "id": "6ec556a7",
   "metadata": {},
   "outputs": [
    {
     "data": {
      "text/plain": [
       "['Broght', 'corge']"
      ]
     },
     "execution_count": 167,
     "metadata": {},
     "output_type": "execute_result"
    }
   ],
   "source": [
    "a[0:5] = [\"Broght\"]\n",
    "a"
   ]
  },
  {
   "cell_type": "code",
   "execution_count": 172,
   "id": "26b883e4",
   "metadata": {},
   "outputs": [
    {
     "data": {
      "text/plain": [
       "[1, [2.1, 2.2, 2.3], 3]"
      ]
     },
     "execution_count": 172,
     "metadata": {},
     "output_type": "execute_result"
    }
   ],
   "source": [
    "a = [1, 2, 3]\n",
    "a[1] = [2.1, 2.2, 2.3]\n",
    "a"
   ]
  },
  {
   "cell_type": "code",
   "execution_count": 177,
   "id": "693931a8",
   "metadata": {},
   "outputs": [],
   "source": [
    "a = ['foo', 'bar', 'baz', 'qux', 'quux', 'corge']"
   ]
  },
  {
   "cell_type": "code",
   "execution_count": 185,
   "id": "1a07d955",
   "metadata": {},
   "outputs": [],
   "source": [
    "a += \"khan\""
   ]
  },
  {
   "cell_type": "code",
   "execution_count": 183,
   "id": "f535bea0",
   "metadata": {},
   "outputs": [
    {
     "data": {
      "text/plain": [
       "['foo', 'bar', 'baz', 'qux', 'quux', 'corge', 'k', 'h', 'a', 'n']"
      ]
     },
     "execution_count": 183,
     "metadata": {},
     "output_type": "execute_result"
    }
   ],
   "source": [
    "a"
   ]
  },
  {
   "cell_type": "markdown",
   "id": "034861f2",
   "metadata": {},
   "source": [
    "## List methods are different. Because lists are mutable, the list methods shown here modify the target list in place."
   ]
  },
  {
   "cell_type": "code",
   "execution_count": 187,
   "id": "0790030e",
   "metadata": {},
   "outputs": [],
   "source": [
    "s = 'foobar'\n",
    "t = s.upper()"
   ]
  },
  {
   "cell_type": "code",
   "execution_count": 189,
   "id": "8fe42bd7",
   "metadata": {},
   "outputs": [
    {
     "data": {
      "text/plain": [
       "False"
      ]
     },
     "execution_count": 189,
     "metadata": {},
     "output_type": "execute_result"
    }
   ],
   "source": [
    "t is s"
   ]
  },
  {
   "cell_type": "code",
   "execution_count": 190,
   "id": "3164144b",
   "metadata": {},
   "outputs": [
    {
     "data": {
      "text/plain": [
       "['a', 'b', 123]"
      ]
     },
     "execution_count": 190,
     "metadata": {},
     "output_type": "execute_result"
    }
   ],
   "source": [
    "a = ['a', 'b']\n",
    "a.append(123)\n",
    "a"
   ]
  },
  {
   "cell_type": "code",
   "execution_count": 191,
   "id": "eed2de97",
   "metadata": {},
   "outputs": [
    {
     "data": {
      "text/plain": [
       "['a', 'b', 123]"
      ]
     },
     "execution_count": 191,
     "metadata": {},
     "output_type": "execute_result"
    }
   ],
   "source": [
    "a + [1, 2, 3]\n",
    "a"
   ]
  },
  {
   "cell_type": "code",
   "execution_count": 199,
   "id": "cca335f8",
   "metadata": {},
   "outputs": [],
   "source": [
    "##a.extend(<iterable>)\n",
    "a = ['a', 'b']\n",
    "a.extend('d')"
   ]
  },
  {
   "cell_type": "code",
   "execution_count": 200,
   "id": "40c41a4a",
   "metadata": {},
   "outputs": [
    {
     "data": {
      "text/plain": [
       "['a', 'b', 'd']"
      ]
     },
     "execution_count": 200,
     "metadata": {},
     "output_type": "execute_result"
    }
   ],
   "source": [
    "a"
   ]
  },
  {
   "cell_type": "code",
   "execution_count": 201,
   "id": "39929719",
   "metadata": {},
   "outputs": [],
   "source": [
    "a.extend([1,2,3])"
   ]
  },
  {
   "cell_type": "code",
   "execution_count": 202,
   "id": "8682ca83",
   "metadata": {},
   "outputs": [
    {
     "data": {
      "text/plain": [
       "['a', 'b', 'd', 1, 2, 3]"
      ]
     },
     "execution_count": 202,
     "metadata": {},
     "output_type": "execute_result"
    }
   ],
   "source": [
    "a"
   ]
  },
  {
   "cell_type": "code",
   "execution_count": 203,
   "id": "78476e59",
   "metadata": {},
   "outputs": [],
   "source": [
    "a.append([1,2,3])"
   ]
  },
  {
   "cell_type": "code",
   "execution_count": 204,
   "id": "cd921a4d",
   "metadata": {},
   "outputs": [
    {
     "data": {
      "text/plain": [
       "['a', 'b', 'd', 1, 2, 3, [1, 2, 3]]"
      ]
     },
     "execution_count": 204,
     "metadata": {},
     "output_type": "execute_result"
    }
   ],
   "source": [
    "a"
   ]
  },
  {
   "cell_type": "code",
   "execution_count": 224,
   "id": "30ddcb42",
   "metadata": {},
   "outputs": [],
   "source": [
    "a = ['foo', 'bar', 'baz', 'qux', 'quux', 'corge']"
   ]
  },
  {
   "cell_type": "code",
   "execution_count": 225,
   "id": "984f9575",
   "metadata": {},
   "outputs": [
    {
     "data": {
      "text/plain": [
       "[3.14159, 'foo', 'bar', 'baz', 'qux', 'quux', 'corge']"
      ]
     },
     "execution_count": 225,
     "metadata": {},
     "output_type": "execute_result"
    }
   ],
   "source": [
    "a.insert(-22, 3.14159) # shring and grow\n",
    "a"
   ]
  },
  {
   "cell_type": "markdown",
   "id": "f8b1b54d",
   "metadata": {},
   "source": [
    "## a.remove(<obj>) removes object <obj> from list a. If <obj> isn’t in a, an exception is raised:"
   ]
  },
  {
   "cell_type": "code",
   "execution_count": 226,
   "id": "97d485ba",
   "metadata": {},
   "outputs": [],
   "source": [
    "a = ['foo', 'bar', 'baz', 'qux', 'quux', 'corge']"
   ]
  },
  {
   "cell_type": "code",
   "execution_count": 228,
   "id": "58dfc4de",
   "metadata": {},
   "outputs": [
    {
     "ename": "ValueError",
     "evalue": "list.remove(x): x not in list",
     "output_type": "error",
     "traceback": [
      "\u001b[1;31m---------------------------------------------------------------------------\u001b[0m",
      "\u001b[1;31mValueError\u001b[0m                                Traceback (most recent call last)",
      "Input \u001b[1;32mIn [228]\u001b[0m, in \u001b[0;36m<cell line: 1>\u001b[1;34m()\u001b[0m\n\u001b[1;32m----> 1\u001b[0m \u001b[43ma\u001b[49m\u001b[38;5;241;43m.\u001b[39;49m\u001b[43mremove\u001b[49m\u001b[43m(\u001b[49m\u001b[38;5;124;43m'\u001b[39;49m\u001b[38;5;124;43mbaz\u001b[39;49m\u001b[38;5;124;43m'\u001b[39;49m\u001b[43m)\u001b[49m\n",
      "\u001b[1;31mValueError\u001b[0m: list.remove(x): x not in list"
     ]
    }
   ],
   "source": [
    "a.remove('baz')"
   ]
  },
  {
   "cell_type": "markdown",
   "id": "317a26fd",
   "metadata": {},
   "source": [
    "## Defining and Using Tuples"
   ]
  },
  {
   "cell_type": "code",
   "execution_count": 230,
   "id": "30efdc5e",
   "metadata": {},
   "outputs": [],
   "source": [
    "#Tuples are identical to lists in all respects, except for the following properties:\n",
    "#Tuples are defined by enclosing the elements in parentheses (()) instead of square brackets ([]).\n",
    "#.Tuples are immutable."
   ]
  },
  {
   "cell_type": "code",
   "execution_count": 231,
   "id": "84d83302",
   "metadata": {},
   "outputs": [],
   "source": [
    "t = ('foo', 'bar', 'baz', 'qux', 'quux', 'corge')"
   ]
  },
  {
   "cell_type": "code",
   "execution_count": 232,
   "id": "64750831",
   "metadata": {},
   "outputs": [
    {
     "data": {
      "text/plain": [
       "('corge', 'quux', 'qux', 'baz', 'bar', 'foo')"
      ]
     },
     "execution_count": 232,
     "metadata": {},
     "output_type": "execute_result"
    }
   ],
   "source": [
    " t[::-1]"
   ]
  },
  {
   "cell_type": "markdown",
   "id": "2cc9ab71",
   "metadata": {},
   "source": [
    "\n",
    "**Doh! Since parentheses are also used to define operator precedence in expressions, Python evaluates the expression (2) as simply the integer 2 and creates an int object. To tell Python that you really want to define a singleton tuple, include a trailing comma (,) just before the closing parenthesis:**"
   ]
  },
  {
   "cell_type": "code",
   "execution_count": 238,
   "id": "1b25b0f5",
   "metadata": {},
   "outputs": [
    {
     "data": {
      "text/plain": [
       "int"
      ]
     },
     "execution_count": 238,
     "metadata": {},
     "output_type": "execute_result"
    }
   ],
   "source": [
    "t = (2)\n",
    "type(t)"
   ]
  },
  {
   "cell_type": "code",
   "execution_count": 235,
   "id": "5b716442",
   "metadata": {},
   "outputs": [
    {
     "data": {
      "text/plain": [
       "int"
      ]
     },
     "execution_count": 235,
     "metadata": {},
     "output_type": "execute_result"
    }
   ],
   "source": []
  },
  {
   "cell_type": "code",
   "execution_count": 239,
   "id": "abfec2a7",
   "metadata": {},
   "outputs": [
    {
     "name": "stdout",
     "output_type": "stream",
     "text": [
      "<class 'tuple'>\n",
      "(2,)\n"
     ]
    }
   ],
   "source": [
    "t = (2,)\n",
    "print(type(t))\n",
    "print(t)"
   ]
  },
  {
   "cell_type": "markdown",
   "id": "74beaafd",
   "metadata": {},
   "source": [
    "## Tuple Assignment, Packing, and Unpacking"
   ]
  },
  {
   "cell_type": "code",
   "execution_count": 240,
   "id": "827d925a",
   "metadata": {},
   "outputs": [
    {
     "name": "stdout",
     "output_type": "stream",
     "text": [
      "('jan', 'feb', 'apr')\n"
     ]
    }
   ],
   "source": [
    "months = (\"jan\",\"feb\",\"apr\")\n",
    "print(months)"
   ]
  },
  {
   "cell_type": "code",
   "execution_count": 249,
   "id": "9fe53c2c",
   "metadata": {},
   "outputs": [],
   "source": [
    "## When unpacking, the number of variables on the left must match the number of values in the tuple:"
   ]
  },
  {
   "cell_type": "code",
   "execution_count": 244,
   "id": "2ca2bd35",
   "metadata": {},
   "outputs": [
    {
     "name": "stdout",
     "output_type": "stream",
     "text": [
      "jan feb apr\n"
     ]
    }
   ],
   "source": [
    "jan,feb,apr = months\n",
    "print(jan,feb,apr)"
   ]
  },
  {
   "cell_type": "code",
   "execution_count": 245,
   "id": "aecd0c1a",
   "metadata": {},
   "outputs": [
    {
     "ename": "ValueError",
     "evalue": "not enough values to unpack (expected 4, got 3)",
     "output_type": "error",
     "traceback": [
      "\u001b[1;31m---------------------------------------------------------------------------\u001b[0m",
      "\u001b[1;31mValueError\u001b[0m                                Traceback (most recent call last)",
      "Input \u001b[1;32mIn [245]\u001b[0m, in \u001b[0;36m<cell line: 1>\u001b[1;34m()\u001b[0m\n\u001b[1;32m----> 1\u001b[0m jan,feb,apr,ext \u001b[38;5;241m=\u001b[39m months\n",
      "\u001b[1;31mValueError\u001b[0m: not enough values to unpack (expected 4, got 3)"
     ]
    }
   ],
   "source": [
    "jan,feb,apr,ext = months"
   ]
  },
  {
   "cell_type": "code",
   "execution_count": 250,
   "id": "7d56f533",
   "metadata": {},
   "outputs": [
    {
     "ename": "ValueError",
     "evalue": "too many values to unpack (expected 2)",
     "output_type": "error",
     "traceback": [
      "\u001b[1;31m---------------------------------------------------------------------------\u001b[0m",
      "\u001b[1;31mValueError\u001b[0m                                Traceback (most recent call last)",
      "Input \u001b[1;32mIn [250]\u001b[0m, in \u001b[0;36m<cell line: 1>\u001b[1;34m()\u001b[0m\n\u001b[1;32m----> 1\u001b[0m jan,feb \u001b[38;5;241m=\u001b[39m months\n",
      "\u001b[1;31mValueError\u001b[0m: too many values to unpack (expected 2)"
     ]
    }
   ],
   "source": [
    "jan,feb = months"
   ]
  },
  {
   "cell_type": "code",
   "execution_count": 248,
   "id": "5ad54656",
   "metadata": {},
   "outputs": [],
   "source": [
    "jan,feb,f = months"
   ]
  },
  {
   "cell_type": "code",
   "execution_count": 254,
   "id": "59dbb73e",
   "metadata": {},
   "outputs": [
    {
     "data": {
      "text/plain": [
       "int"
      ]
     },
     "execution_count": 254,
     "metadata": {},
     "output_type": "execute_result"
    }
   ],
   "source": [
    "t1,t2,t3 = 10,20,3\n",
    "type(t1)"
   ]
  },
  {
   "cell_type": "code",
   "execution_count": null,
   "id": "a9f7e0e6",
   "metadata": {},
   "outputs": [],
   "source": []
  }
 ],
 "metadata": {
  "kernelspec": {
   "display_name": "Python 3 (ipykernel)",
   "language": "python",
   "name": "python3"
  },
  "language_info": {
   "codemirror_mode": {
    "name": "ipython",
    "version": 3
   },
   "file_extension": ".py",
   "mimetype": "text/x-python",
   "name": "python",
   "nbconvert_exporter": "python",
   "pygments_lexer": "ipython3",
   "version": "3.10.4"
  }
 },
 "nbformat": 4,
 "nbformat_minor": 5
}
