{
 "cells": [
  {
   "cell_type": "code",
   "execution_count": 4,
   "id": "a9833bd7",
   "metadata": {},
   "outputs": [],
   "source": [
    "# Install nump\n",
    "# !pip install numpy"
   ]
  },
  {
   "cell_type": "code",
   "execution_count": 5,
   "id": "1dd074e9",
   "metadata": {},
   "outputs": [],
   "source": [
    "# Import numpy\n",
    "import numpy as np"
   ]
  },
  {
   "cell_type": "code",
   "execution_count": 22,
   "id": "c933c2e3",
   "metadata": {},
   "outputs": [
    {
     "data": {
      "text/plain": [
       "array([10, 20, 30, 40], dtype=int16)"
      ]
     },
     "execution_count": 22,
     "metadata": {},
     "output_type": "execute_result"
    }
   ],
   "source": [
    "# Creating Numpy Array\n",
    "a1 = np.array([10,20,30,40], dtype = \"int16\")\n",
    "a1"
   ]
  },
  {
   "cell_type": "code",
   "execution_count": 11,
   "id": "c7356a82",
   "metadata": {},
   "outputs": [
    {
     "data": {
      "text/plain": [
       "dtype('int32')"
      ]
     },
     "execution_count": 11,
     "metadata": {},
     "output_type": "execute_result"
    }
   ],
   "source": [
    "a1.dtype"
   ]
  },
  {
   "cell_type": "code",
   "execution_count": 23,
   "id": "97104307",
   "metadata": {},
   "outputs": [
    {
     "data": {
      "text/plain": [
       "array([[ 1,  2,  3,  4],\n",
       "       [10, 20, 30, 40],\n",
       "       [21, 22, 23, 24]], dtype=int64)"
      ]
     },
     "execution_count": 23,
     "metadata": {},
     "output_type": "execute_result"
    }
   ],
   "source": [
    "# 2-D array\n",
    "arr2 = np.array([\n",
    "    [1,2,3,4],\n",
    "    [10,20,30,40],\n",
    "    [21,22,23,24],],dtype = \"int64\")\n",
    "arr2"
   ]
  },
  {
   "cell_type": "markdown",
   "id": "c84ca4a4",
   "metadata": {},
   "source": [
    "## Numpy Property"
   ]
  },
  {
   "cell_type": "code",
   "execution_count": 13,
   "id": "3484dd66",
   "metadata": {},
   "outputs": [
    {
     "data": {
      "text/plain": [
       "dtype('int32')"
      ]
     },
     "execution_count": 13,
     "metadata": {},
     "output_type": "execute_result"
    }
   ],
   "source": [
    "arr2.dtype"
   ]
  },
  {
   "cell_type": "code",
   "execution_count": 14,
   "id": "caebe5dd",
   "metadata": {},
   "outputs": [
    {
     "name": "stdout",
     "output_type": "stream",
     "text": [
      "(4,)\n",
      "(3, 4)\n"
     ]
    }
   ],
   "source": [
    "# Shape\n",
    "print(a1.shape)\n",
    "print(arr2.shape)"
   ]
  },
  {
   "cell_type": "code",
   "execution_count": 17,
   "id": "61bce26c",
   "metadata": {},
   "outputs": [
    {
     "name": "stdout",
     "output_type": "stream",
     "text": [
      "1\n",
      "2\n"
     ]
    }
   ],
   "source": [
    "# Ndim\n",
    "print(a1.ndim)\n",
    "print(arr2.ndim)"
   ]
  },
  {
   "cell_type": "code",
   "execution_count": 19,
   "id": "79dd95cd",
   "metadata": {},
   "outputs": [
    {
     "name": "stdout",
     "output_type": "stream",
     "text": [
      "4\n",
      "12\n"
     ]
    }
   ],
   "source": [
    "# Size\n",
    "print(a1.size)\n",
    "print(arr2.size)\n"
   ]
  },
  {
   "cell_type": "code",
   "execution_count": 27,
   "id": "4fa3b565",
   "metadata": {},
   "outputs": [
    {
     "name": "stdout",
     "output_type": "stream",
     "text": [
      "1\n",
      "4\n",
      "int8\n"
     ]
    }
   ],
   "source": [
    "# Itemsize\n",
    "a1 = np.array([10,20,30,40], dtype = \"int8\")\n",
    "a2 = np.array([[1,2,3,4],[10,20,30,40],[21,22,23,24],],dtype = \"int32\")\n",
    "arr2\n",
    "print(a1.itemsize)\n",
    "print(a2.itemsize)\n",
    "print(a1.dtype)"
   ]
  },
  {
   "cell_type": "markdown",
   "id": "e2051d2c",
   "metadata": {},
   "source": [
    "## Creat array in other ways"
   ]
  },
  {
   "cell_type": "code",
   "execution_count": 34,
   "id": "a58d778c",
   "metadata": {},
   "outputs": [
    {
     "name": "stdout",
     "output_type": "stream",
     "text": [
      "[[0 0 0]\n",
      " [0 0 0]\n",
      " [0 0 0]\n",
      " [0 0 0]\n",
      " [0 0 0]]\n"
     ]
    }
   ],
   "source": [
    "a1one = np.zeros((5,3),dtype = 'int8')\n",
    "print(a1one)"
   ]
  },
  {
   "cell_type": "code",
   "execution_count": 36,
   "id": "02d2a2dd",
   "metadata": {},
   "outputs": [
    {
     "data": {
      "text/plain": [
       "array([[1., 1., 1.],\n",
       "       [1., 1., 1.],\n",
       "       [1., 1., 1.],\n",
       "       [1., 1., 1.],\n",
       "       [1., 1., 1.]])"
      ]
     },
     "execution_count": 36,
     "metadata": {},
     "output_type": "execute_result"
    }
   ],
   "source": [
    "a1 = np.ones((5,3))\n",
    "a1"
   ]
  },
  {
   "cell_type": "code",
   "execution_count": 41,
   "id": "1c131460",
   "metadata": {},
   "outputs": [
    {
     "name": "stdout",
     "output_type": "stream",
     "text": [
      "2.53125\n"
     ]
    }
   ],
   "source": [
    "# List\n",
    "import time\n",
    "start_time = time.process_time()\n",
    "list1 = [ i for i in range(10000000)]\n",
    "list2 = [x +2 for x in list1]\n",
    "end_time = time.process_time()\n",
    "print(end_time - start_time)\n",
    "\n"
   ]
  },
  {
   "cell_type": "code",
   "execution_count": 42,
   "id": "7b8b652f",
   "metadata": {},
   "outputs": [
    {
     "name": "stdout",
     "output_type": "stream",
     "text": [
      "0.046875\n"
     ]
    }
   ],
   "source": [
    "# Numpy array\n",
    "import time\n",
    "start_time = time.process_time()\n",
    "a1 = np.arange(10000000)\n",
    "a2 = a1 + 2\n",
    "end_time = time.process_time()\n",
    "print(end_time - start_time)"
   ]
  },
  {
   "cell_type": "code",
   "execution_count": 53,
   "id": "cb3b33ac",
   "metadata": {},
   "outputs": [
    {
     "data": {
      "text/plain": [
       "array([20, 21, 22, 23, 24, 25, 26, 27, 28, 29, 30, 31, 32, 33, 34, 35, 36,\n",
       "       37, 38, 39, 40, 41, 42, 43, 44, 45, 46, 47, 48, 49, 50])"
      ]
     },
     "execution_count": 53,
     "metadata": {},
     "output_type": "execute_result"
    }
   ],
   "source": [
    "# arange\n",
    "a1 =np.arange(20,51)\n",
    "a1"
   ]
  },
  {
   "cell_type": "markdown",
   "id": "45e9ee9c",
   "metadata": {},
   "source": [
    "\n",
    "# Indexing and slicing"
   ]
  },
  {
   "cell_type": "code",
   "execution_count": 57,
   "id": "f653bd13",
   "metadata": {},
   "outputs": [
    {
     "data": {
      "text/plain": [
       "array([[10, 20, 30],\n",
       "       [21, 31, 41],\n",
       "       [50, 60, 70]])"
      ]
     },
     "execution_count": 57,
     "metadata": {},
     "output_type": "execute_result"
    }
   ],
   "source": [
    "marks = np.array([\n",
    "    [10,20,30],\n",
    "    [21,31,41],\n",
    "    [50,60,70]])\n",
    "marks"
   ]
  },
  {
   "cell_type": "code",
   "execution_count": 58,
   "id": "8ded2488",
   "metadata": {},
   "outputs": [
    {
     "name": "stdout",
     "output_type": "stream",
     "text": [
      "9\n"
     ]
    }
   ],
   "source": [
    "print(marks.size)"
   ]
  },
  {
   "cell_type": "code",
   "execution_count": 62,
   "id": "96230d68",
   "metadata": {},
   "outputs": [
    {
     "name": "stdout",
     "output_type": "stream",
     "text": [
      "20\n",
      "41\n",
      "50\n"
     ]
    }
   ],
   "source": [
    "print(marks[0,1])\n",
    "print(marks[1,2])\n",
    "print(marks[2,0])\n",
    "\n"
   ]
  },
  {
   "cell_type": "code",
   "execution_count": 63,
   "id": "6d9fa718",
   "metadata": {},
   "outputs": [],
   "source": [
    "a1 = np.arange(1,10)"
   ]
  },
  {
   "cell_type": "code",
   "execution_count": 64,
   "id": "f5e082b5",
   "metadata": {},
   "outputs": [
    {
     "data": {
      "text/plain": [
       "array([1, 2, 3, 4, 5, 6, 7, 8, 9])"
      ]
     },
     "execution_count": 64,
     "metadata": {},
     "output_type": "execute_result"
    }
   ],
   "source": [
    "a1"
   ]
  },
  {
   "cell_type": "markdown",
   "id": "4308ec71",
   "metadata": {},
   "source": [
    "# Slicing with 1-D array"
   ]
  },
  {
   "cell_type": "code",
   "execution_count": 66,
   "id": "3686577d",
   "metadata": {},
   "outputs": [
    {
     "name": "stdout",
     "output_type": "stream",
     "text": [
      "[3 4 5]\n",
      "[1 2 3 4 5 6]\n"
     ]
    }
   ],
   "source": [
    "print(a1[2:5])\n",
    "print(a1[0:6])"
   ]
  },
  {
   "cell_type": "markdown",
   "id": "48c8e601",
   "metadata": {},
   "source": [
    "# Slicing with 2-D array"
   ]
  },
  {
   "cell_type": "raw",
   "id": "f1a6f877",
   "metadata": {},
   "source": []
  },
  {
   "cell_type": "code",
   "execution_count": null,
   "id": "38627dd5",
   "metadata": {},
   "outputs": [],
   "source": []
  }
 ],
 "metadata": {
  "kernelspec": {
   "display_name": "Python 3 (ipykernel)",
   "language": "python",
   "name": "python3"
  },
  "language_info": {
   "codemirror_mode": {
    "name": "ipython",
    "version": 3
   },
   "file_extension": ".py",
   "mimetype": "text/x-python",
   "name": "python",
   "nbconvert_exporter": "python",
   "pygments_lexer": "ipython3",
   "version": "3.10.4"
  }
 },
 "nbformat": 4,
 "nbformat_minor": 5
}
