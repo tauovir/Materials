{
 "cells": [
  {
   "cell_type": "markdown",
   "id": "2f21807b",
   "metadata": {},
   "source": [
    "## String"
   ]
  },
  {
   "cell_type": "code",
   "execution_count": 1,
   "id": "8480ded9",
   "metadata": {},
   "outputs": [
    {
     "data": {
      "text/plain": [
       "'Hello Python'"
      ]
     },
     "execution_count": 1,
     "metadata": {},
     "output_type": "execute_result"
    }
   ],
   "source": [
    "msg = 'Hello Python'\n",
    "msg\n"
   ]
  },
  {
   "cell_type": "code",
   "execution_count": 2,
   "id": "2a783d91",
   "metadata": {},
   "outputs": [
    {
     "data": {
      "text/plain": [
       "'Hello Python'"
      ]
     },
     "execution_count": 2,
     "metadata": {},
     "output_type": "execute_result"
    }
   ],
   "source": [
    "msg = \"Hello Python\"\n",
    "msg"
   ]
  },
  {
   "cell_type": "code",
   "execution_count": 3,
   "id": "7d653058",
   "metadata": {},
   "outputs": [
    {
     "data": {
      "text/plain": [
       "'Hello python'"
      ]
     },
     "execution_count": 3,
     "metadata": {},
     "output_type": "execute_result"
    }
   ],
   "source": [
    "msg = \"\"\"Hello python\"\"\"\n",
    "msg"
   ]
  },
  {
   "cell_type": "markdown",
   "id": "bee40b2c",
   "metadata": {},
   "source": [
    "## String Property\n",
    "**String are immutable** <br>\n",
    "**String can be concatenated using  +**\n",
    "\n"
   ]
  },
  {
   "cell_type": "code",
   "execution_count": 8,
   "id": "611acf58",
   "metadata": {},
   "outputs": [
    {
     "name": "stdout",
     "output_type": "stream",
     "text": [
      "Hello Python:concate me\n"
     ]
    },
    {
     "data": {
      "text/plain": [
       "'Hellopython'"
      ]
     },
     "execution_count": 8,
     "metadata": {},
     "output_type": "execute_result"
    }
   ],
   "source": [
    "msg = \"Hello Python\"\n",
    "\n",
    "# msg[0] = 'B'\n",
    "msg = msg + \":concate me\"\n",
    "# msg\n",
    "print(msg)\n",
    "\n",
    "\"Hello\" + \"python\""
   ]
  },
  {
   "cell_type": "markdown",
   "id": "9b65142e",
   "metadata": {},
   "source": [
    "# String Operation"
   ]
  },
  {
   "cell_type": "markdown",
   "id": "842bf1ae",
   "metadata": {},
   "source": [
    "### Concatenating String\n"
   ]
  },
  {
   "cell_type": "code",
   "execution_count": 9,
   "id": "8e334997",
   "metadata": {},
   "outputs": [
    {
     "name": "stdout",
     "output_type": "stream",
     "text": [
      "Hello\n",
      "Hello from Python\n"
     ]
    }
   ],
   "source": [
    "s1 = \"Hello\"\n",
    "print(s1)\n",
    "s2 = s1 + \" from Python\"\n",
    "print(s2)"
   ]
  },
  {
   "cell_type": "code",
   "execution_count": 13,
   "id": "e0fd1105",
   "metadata": {},
   "outputs": [
    {
     "name": "stdout",
     "output_type": "stream",
     "text": [
      "16\n"
     ]
    }
   ],
   "source": [
    "print(6+10)\n",
    "# print('6' + '10')\n",
    "# print('6' + 10) "
   ]
  },
  {
   "cell_type": "markdown",
   "id": "f4fe8603",
   "metadata": {},
   "source": [
    "# Replicating String\n",
    "The * operator creates a new string by repeating mulple copies of the same string."
   ]
  },
  {
   "cell_type": "code",
   "execution_count": 16,
   "id": "d632b77f",
   "metadata": {},
   "outputs": [
    {
     "name": "stdout",
     "output_type": "stream",
     "text": [
      "Python Python Python Python Python \n",
      "2-2-2-2-2-2-2-2-2-2-\n"
     ]
    }
   ],
   "source": [
    "msg1 = \"Python \" * 5\n",
    "print(msg1)\n",
    "print('2-' * 10)"
   ]
  },
  {
   "cell_type": "markdown",
   "id": "2251b2a6",
   "metadata": {},
   "source": [
    "## MemberShip Operator\n",
    "Python offers two membership operators for checking wheather a particular charecter exists in string or not.</br>\n",
    "**in operator** : It return True if a charatcer/substrinng exist in the given string .</br>\n",
    "**not in operator** : it returns true if a character/substrinng does not exist in the given string<br>"
   ]
  },
  {
   "cell_type": "code",
   "execution_count": 20,
   "id": "6f7709a8",
   "metadata": {},
   "outputs": [
    {
     "name": "stdout",
     "output_type": "stream",
     "text": [
      "True\n",
      "False\n"
     ]
    }
   ],
   "source": [
    "msg = \"I am learning python\"\n",
    "# print('am2' in msg)\n",
    "print(\"ning\" in msg)\n",
    "print(\"hello\" in msg)\n"
   ]
  },
  {
   "cell_type": "code",
   "execution_count": 21,
   "id": "a57814dd",
   "metadata": {},
   "outputs": [
    {
     "name": "stdout",
     "output_type": "stream",
     "text": [
      "True\n",
      "False\n"
     ]
    }
   ],
   "source": [
    "print(\"java\" not in msg)\n",
    "print(\"python\" not in msg)\n"
   ]
  },
  {
   "cell_type": "markdown",
   "id": "b67dd3f9",
   "metadata": {},
   "source": [
    "## String Slicing\n",
    "**string_name [start:end:step]**<br>\n",
    "Slicing is used to retrieve a subset of values.\n",
    "Python  returns a slice of string by returning charecters failling between start position till **end-1**"
   ]
  },
  {
   "cell_type": "code",
   "execution_count": 28,
   "id": "fd4eb16c",
   "metadata": {},
   "outputs": [
    {
     "name": "stdout",
     "output_type": "stream",
     "text": [
      "['H', 'e', 'l', 'l', 'o', ' ', 'P', 'y', 't', 'h', 'o', 'n', ' ', 'p', 'r', 'o', 'g', 'r', 'a', 'm', 'm', 'i', 'n', 'g']\n",
      "str1[0]: H\n",
      "str1[4]: o\n",
      "str1[-1]: g\n",
      "str1[2:10]: llo Pyth\n",
      "str1[2:16:2]: l tnr\n"
     ]
    }
   ],
   "source": [
    "str1 = \"Hello Python programming\"\n",
    "print(list(str1))\n",
    "print(\"str1[0]:\",str1[0])\n",
    "print(\"str1[4]:\",str1[4])\n",
    "print(\"str1[-1]:\",str1[-1])\n",
    "print(\"str1[2:10]:\",str1[2:10])  # end -1 : 9\n",
    "print(\"str1[2:16:2]:\",str1[2:16:3])\n",
    "\n",
    "\n"
   ]
  },
  {
   "cell_type": "code",
   "execution_count": 38,
   "id": "b0eaf4d4",
   "metadata": {},
   "outputs": [
    {
     "name": "stdout",
     "output_type": "stream",
     "text": [
      "str1[1:3] el\n",
      "str1[:10] Hello Pyth\n",
      "str1[5:]  Python programming\n",
      "str1[:] Hello Python programming\n",
      "str1[-5:] mming\n"
     ]
    }
   ],
   "source": [
    "print(\"str1[1:3]\",str1[1:3])\n",
    "# # Omitting the first index directs python interpreter to extrcat subtring till second index starting from  the beginning\n",
    "print(\"str1[:10]\",str1[:10])    \n",
    "# # Omitting the second index directs python interpreter to extrcat subtring till end index  of string starting from specified pos\n",
    "print(\"str1[5:]\",str1[5:])\n",
    "# #Omitting both indices directs python to extract extrcat entire string from 0 index till last index\n",
    "print(\"str1[:]\",str1[:])\n",
    "print(\"str1[-5:]\",str1[-5:])\n"
   ]
  },
  {
   "cell_type": "markdown",
   "id": "4962e8dd",
   "metadata": {},
   "source": [
    "## String Methods and Built-in Function"
   ]
  },
  {
   "cell_type": "code",
   "execution_count": 36,
   "id": "b6d97db9",
   "metadata": {},
   "outputs": [
    {
     "data": {
      "text/plain": [
       "'the most demanding programming langauge is python'"
      ]
     },
     "execution_count": 36,
     "metadata": {},
     "output_type": "execute_result"
    }
   ],
   "source": [
    "m1 = \"the most demanding programming langauge is python\"\n",
    "m1\n"
   ]
  },
  {
   "cell_type": "markdown",
   "id": "ea7bc7ae",
   "metadata": {},
   "source": [
    "### len()"
   ]
  },
  {
   "cell_type": "code",
   "execution_count": 92,
   "id": "1a5a46b0",
   "metadata": {},
   "outputs": [
    {
     "name": "stdout",
     "output_type": "stream",
     "text": [
      "Lenght of string: 49\n"
     ]
    }
   ],
   "source": [
    "print(\"Lenght of string:\",len(m1))"
   ]
  },
  {
   "cell_type": "markdown",
   "id": "c0e1363c",
   "metadata": {},
   "source": [
    "## capitalize()"
   ]
  },
  {
   "cell_type": "code",
   "execution_count": 40,
   "id": "648aef0e",
   "metadata": {},
   "outputs": [
    {
     "data": {
      "text/plain": [
       "'Hello from'"
      ]
     },
     "execution_count": 40,
     "metadata": {},
     "output_type": "execute_result"
    }
   ],
   "source": [
    "s1 = \"hello from\"\n",
    "cap = s1.capitalize()\n",
    "cap"
   ]
  },
  {
   "cell_type": "markdown",
   "id": "b7f9af72",
   "metadata": {},
   "source": [
    "## split()"
   ]
  },
  {
   "cell_type": "code",
   "execution_count": 47,
   "id": "46206614",
   "metadata": {},
   "outputs": [
    {
     "data": {
      "text/plain": [
       "['the most demanding ', ' langauge is python']"
      ]
     },
     "execution_count": 47,
     "metadata": {},
     "output_type": "execute_result"
    }
   ],
   "source": [
    "m1 = \"the most demanding programming langauge is python\"\n",
    "splt = m1.split(\"programming\")\n",
    "splt"
   ]
  },
  {
   "cell_type": "markdown",
   "id": "9ebd117a",
   "metadata": {},
   "source": [
    "## replace\n",
    "replaced all occurrences of the old string"
   ]
  },
  {
   "cell_type": "code",
   "execution_count": 50,
   "id": "a1b932a7",
   "metadata": {},
   "outputs": [
    {
     "data": {
      "text/plain": [
       "'the most demanding programming langauge is python'"
      ]
     },
     "execution_count": 50,
     "metadata": {},
     "output_type": "execute_result"
    }
   ],
   "source": [
    "repl = m1.replace(\"cex\",\"popular\")\n",
    "repl"
   ]
  },
  {
   "cell_type": "markdown",
   "id": "5c100ec6",
   "metadata": {},
   "source": [
    "## find()\n",
    "This function is used to search the first occurrence of substring in the given string. It rerunt lowest index of sub string if \n",
    "find else return -1"
   ]
  },
  {
   "cell_type": "code",
   "execution_count": 52,
   "id": "b219d713",
   "metadata": {},
   "outputs": [
    {
     "name": "stdout",
     "output_type": "stream",
     "text": [
      "49\n",
      "['t', 'h', 'e', ' ', 'm', 'o', 's', 't', ' ', 'd', 'e', 'm', 'a', 'n', 'd', 'i', 'n', 'g', ' ', 'p', 'r', 'o', 'g', 'r', 'a', 'm', 'm', 'i', 'n', 'g', ' ', 'l', 'a', 'n', 'g', 'a', 'u', 'g', 'e', ' ', 'i', 's', ' ', 'p', 'y', 't', 'h', 'o', 'n']\n"
     ]
    },
    {
     "data": {
      "text/plain": [
       "43"
      ]
     },
     "execution_count": 52,
     "metadata": {},
     "output_type": "execute_result"
    }
   ],
   "source": [
    "m1 = \"the most demanding programming langauge is python\"\n",
    "print(len(m1))\n",
    "print(list(m1))\n",
    "m1.find(\"python\")\n"
   ]
  },
  {
   "cell_type": "markdown",
   "id": "181881a7",
   "metadata": {},
   "source": [
    "## isalpha()\n",
    "It return True if string contains only alphabets"
   ]
  },
  {
   "cell_type": "code",
   "execution_count": 53,
   "id": "c40ae6a0",
   "metadata": {},
   "outputs": [
    {
     "name": "stdout",
     "output_type": "stream",
     "text": [
      "True\n",
      "False\n"
     ]
    }
   ],
   "source": [
    "s1 = \"Apple\"\n",
    "print(s1.isalpha())\n",
    "s2 = \"apple123456\"\n",
    "print(s2.isalpha())"
   ]
  },
  {
   "cell_type": "markdown",
   "id": "ad25ad84",
   "metadata": {},
   "source": [
    "## isalnum\n",
    "alphabets[a-z]</br>\n",
    "number : [0-9]"
   ]
  },
  {
   "cell_type": "code",
   "execution_count": 56,
   "id": "f123bf61",
   "metadata": {},
   "outputs": [
    {
     "name": "stdout",
     "output_type": "stream",
     "text": [
      "True\n",
      "True\n",
      "False\n"
     ]
    }
   ],
   "source": [
    "s1 = \"Apple\"\n",
    "print(s1.isalnum())\n",
    "s2 = \"applE123456\"\n",
    "print(s2.isalnum())\n",
    "s2 = \"applE123456#\"\n",
    "print(s2.isalnum())"
   ]
  },
  {
   "cell_type": "markdown",
   "id": "2acee9b0",
   "metadata": {},
   "source": [
    "## isdigit()\n",
    "Function return s True if string contain only digits"
   ]
  },
  {
   "cell_type": "code",
   "execution_count": 59,
   "id": "0f860c94",
   "metadata": {},
   "outputs": [
    {
     "name": "stdout",
     "output_type": "stream",
     "text": [
      "False\n",
      "True\n",
      "False\n"
     ]
    }
   ],
   "source": [
    "s1 = \"Apple333\"\n",
    "print(s1.isdigit())\n",
    "s2 = \"1235\"\n",
    "print(s2.isdigit())\n",
    "s3 = \"1235.55\"\n",
    "print(s3.isdigit())\n"
   ]
  },
  {
   "cell_type": "markdown",
   "id": "0c8f9b04",
   "metadata": {},
   "source": [
    "\n",
    "**lower()**<br>\n",
    "**upper()**<br>\n",
    "**islower()**<br>\n",
    "**isupper()**<br>\n",
    "**lstrip()**<br>\n",
    "**rstrip()**<br>\n",
    "**strip()**<br>"
   ]
  },
  {
   "cell_type": "code",
   "execution_count": 60,
   "id": "d2d7f58c",
   "metadata": {},
   "outputs": [
    {
     "name": "stdout",
     "output_type": "stream",
     "text": [
      "PYTHON PROGRAMMING\n",
      "python programming\n"
     ]
    }
   ],
   "source": [
    "st1 = \"Python Programming\"\n",
    "uppr = st1.upper()\n",
    "lwr = st1.lower()\n",
    "print(uppr)\n",
    "print(lwr)"
   ]
  },
  {
   "cell_type": "code",
   "execution_count": 64,
   "id": "1065e396",
   "metadata": {},
   "outputs": [
    {
     "name": "stdout",
     "output_type": "stream",
     "text": [
      "python programming\n",
      "True\n",
      "False\n"
     ]
    }
   ],
   "source": [
    "print(lwr)\n",
    "print(uppr.isupper())\n",
    "print(uppr.islower())\n"
   ]
  },
  {
   "cell_type": "code",
   "execution_count": 139,
   "id": "d3830c14",
   "metadata": {},
   "outputs": [
    {
     "name": "stdout",
     "output_type": "stream",
     "text": [
      "False\n",
      "True\n"
     ]
    }
   ],
   "source": [
    "print(lwr.isupper())\n",
    "print(lwr.islower())"
   ]
  },
  {
   "cell_type": "code",
   "execution_count": 69,
   "id": "de6ce779",
   "metadata": {},
   "outputs": [
    {
     "name": "stdout",
     "output_type": "stream",
     "text": [
      "19\n",
      "lstrinp:Python programs , length:16\n",
      "rstrp:   Python programs, length:18\n",
      "lstrinp:Python programs, length:15\n"
     ]
    }
   ],
   "source": [
    "s1 = \"   Python programs \"\n",
    "print(len(s1))\n",
    "lstrp = s1.lstrip()\n",
    "rstrp = s1.rstrip()\n",
    "strp = s1.strip()\n",
    "\n",
    "print(f\"lstrinp:{lstrp}, length:{len(lstrp)}\")\n",
    "print(f\"rstrp:{rstrp}, length:{len(rstrp)}\")\n",
    "print(f\"lstrinp:{strp}, length:{len(strp)}\")\n"
   ]
  },
  {
   "cell_type": "code",
   "execution_count": 71,
   "id": "c0e2a1bd",
   "metadata": {},
   "outputs": [
    {
     "name": "stdout",
     "output_type": "stream",
     "text": [
      " \n",
      " \n",
      " \n",
      "P\n",
      "y\n",
      "t\n",
      "h\n",
      "o\n",
      "n\n",
      " \n",
      "p\n",
      "r\n",
      "o\n",
      "g\n",
      "r\n",
      "a\n",
      "m\n",
      "s\n",
      " \n"
     ]
    }
   ],
   "source": [
    "b1 = \"aple@lemon#\"\n",
    "spc = ['@','#']\n",
    "for ch in s1:\n",
    "    print(ch)"
   ]
  },
  {
   "cell_type": "code",
   "execution_count": 79,
   "id": "4d7fa549",
   "metadata": {},
   "outputs": [
    {
     "data": {
      "text/plain": [
       "2468346687600"
      ]
     },
     "execution_count": 79,
     "metadata": {},
     "output_type": "execute_result"
    }
   ],
   "source": [
    "m1 = \"hello python\"\n",
    "id(m1)"
   ]
  },
  {
   "cell_type": "code",
   "execution_count": 80,
   "id": "a7be74eb",
   "metadata": {},
   "outputs": [
    {
     "data": {
      "text/plain": [
       "2468339409136"
      ]
     },
     "execution_count": 80,
     "metadata": {},
     "output_type": "execute_result"
    }
   ],
   "source": [
    "m1 = m1.replace(\"hello\",\"hi\")\n",
    "id(m1)"
   ]
  },
  {
   "cell_type": "code",
   "execution_count": 85,
   "id": "9744a937",
   "metadata": {},
   "outputs": [
    {
     "name": "stdout",
     "output_type": "stream",
     "text": [
      "29\n",
      "['learning', '', 'python', '', 'programming']\n"
     ]
    }
   ],
   "source": [
    "a=\"learning  python  programming\"\n",
    "print(len(a))\n",
    "b=a.split(\" \")\n",
    "print(b)"
   ]
  },
  {
   "cell_type": "code",
   "execution_count": 84,
   "id": "3b511e2c",
   "metadata": {},
   "outputs": [
    {
     "name": "stdout",
     "output_type": "stream",
     "text": [
      "Help on class str in module builtins:\n",
      "\n",
      "class str(object)\n",
      " |  str(object='') -> str\n",
      " |  str(bytes_or_buffer[, encoding[, errors]]) -> str\n",
      " |  \n",
      " |  Create a new string object from the given object. If encoding or\n",
      " |  errors is specified, then the object must expose a data buffer\n",
      " |  that will be decoded using the given encoding and error handler.\n",
      " |  Otherwise, returns the result of object.__str__() (if defined)\n",
      " |  or repr(object).\n",
      " |  encoding defaults to sys.getdefaultencoding().\n",
      " |  errors defaults to 'strict'.\n",
      " |  \n",
      " |  Methods defined here:\n",
      " |  \n",
      " |  __add__(self, value, /)\n",
      " |      Return self+value.\n",
      " |  \n",
      " |  __contains__(self, key, /)\n",
      " |      Return key in self.\n",
      " |  \n",
      " |  __eq__(self, value, /)\n",
      " |      Return self==value.\n",
      " |  \n",
      " |  __format__(self, format_spec, /)\n",
      " |      Return a formatted version of the string as described by format_spec.\n",
      " |  \n",
      " |  __ge__(self, value, /)\n",
      " |      Return self>=value.\n",
      " |  \n",
      " |  __getattribute__(self, name, /)\n",
      " |      Return getattr(self, name).\n",
      " |  \n",
      " |  __getitem__(self, key, /)\n",
      " |      Return self[key].\n",
      " |  \n",
      " |  __getnewargs__(...)\n",
      " |  \n",
      " |  __gt__(self, value, /)\n",
      " |      Return self>value.\n",
      " |  \n",
      " |  __hash__(self, /)\n",
      " |      Return hash(self).\n",
      " |  \n",
      " |  __iter__(self, /)\n",
      " |      Implement iter(self).\n",
      " |  \n",
      " |  __le__(self, value, /)\n",
      " |      Return self<=value.\n",
      " |  \n",
      " |  __len__(self, /)\n",
      " |      Return len(self).\n",
      " |  \n",
      " |  __lt__(self, value, /)\n",
      " |      Return self<value.\n",
      " |  \n",
      " |  __mod__(self, value, /)\n",
      " |      Return self%value.\n",
      " |  \n",
      " |  __mul__(self, value, /)\n",
      " |      Return self*value.\n",
      " |  \n",
      " |  __ne__(self, value, /)\n",
      " |      Return self!=value.\n",
      " |  \n",
      " |  __repr__(self, /)\n",
      " |      Return repr(self).\n",
      " |  \n",
      " |  __rmod__(self, value, /)\n",
      " |      Return value%self.\n",
      " |  \n",
      " |  __rmul__(self, value, /)\n",
      " |      Return value*self.\n",
      " |  \n",
      " |  __sizeof__(self, /)\n",
      " |      Return the size of the string in memory, in bytes.\n",
      " |  \n",
      " |  __str__(self, /)\n",
      " |      Return str(self).\n",
      " |  \n",
      " |  capitalize(self, /)\n",
      " |      Return a capitalized version of the string.\n",
      " |      \n",
      " |      More specifically, make the first character have upper case and the rest lower\n",
      " |      case.\n",
      " |  \n",
      " |  casefold(self, /)\n",
      " |      Return a version of the string suitable for caseless comparisons.\n",
      " |  \n",
      " |  center(self, width, fillchar=' ', /)\n",
      " |      Return a centered string of length width.\n",
      " |      \n",
      " |      Padding is done using the specified fill character (default is a space).\n",
      " |  \n",
      " |  count(...)\n",
      " |      S.count(sub[, start[, end]]) -> int\n",
      " |      \n",
      " |      Return the number of non-overlapping occurrences of substring sub in\n",
      " |      string S[start:end].  Optional arguments start and end are\n",
      " |      interpreted as in slice notation.\n",
      " |  \n",
      " |  encode(self, /, encoding='utf-8', errors='strict')\n",
      " |      Encode the string using the codec registered for encoding.\n",
      " |      \n",
      " |      encoding\n",
      " |        The encoding in which to encode the string.\n",
      " |      errors\n",
      " |        The error handling scheme to use for encoding errors.\n",
      " |        The default is 'strict' meaning that encoding errors raise a\n",
      " |        UnicodeEncodeError.  Other possible values are 'ignore', 'replace' and\n",
      " |        'xmlcharrefreplace' as well as any other name registered with\n",
      " |        codecs.register_error that can handle UnicodeEncodeErrors.\n",
      " |  \n",
      " |  endswith(...)\n",
      " |      S.endswith(suffix[, start[, end]]) -> bool\n",
      " |      \n",
      " |      Return True if S ends with the specified suffix, False otherwise.\n",
      " |      With optional start, test S beginning at that position.\n",
      " |      With optional end, stop comparing S at that position.\n",
      " |      suffix can also be a tuple of strings to try.\n",
      " |  \n",
      " |  expandtabs(self, /, tabsize=8)\n",
      " |      Return a copy where all tab characters are expanded using spaces.\n",
      " |      \n",
      " |      If tabsize is not given, a tab size of 8 characters is assumed.\n",
      " |  \n",
      " |  find(...)\n",
      " |      S.find(sub[, start[, end]]) -> int\n",
      " |      \n",
      " |      Return the lowest index in S where substring sub is found,\n",
      " |      such that sub is contained within S[start:end].  Optional\n",
      " |      arguments start and end are interpreted as in slice notation.\n",
      " |      \n",
      " |      Return -1 on failure.\n",
      " |  \n",
      " |  format(...)\n",
      " |      S.format(*args, **kwargs) -> str\n",
      " |      \n",
      " |      Return a formatted version of S, using substitutions from args and kwargs.\n",
      " |      The substitutions are identified by braces ('{' and '}').\n",
      " |  \n",
      " |  format_map(...)\n",
      " |      S.format_map(mapping) -> str\n",
      " |      \n",
      " |      Return a formatted version of S, using substitutions from mapping.\n",
      " |      The substitutions are identified by braces ('{' and '}').\n",
      " |  \n",
      " |  index(...)\n",
      " |      S.index(sub[, start[, end]]) -> int\n",
      " |      \n",
      " |      Return the lowest index in S where substring sub is found,\n",
      " |      such that sub is contained within S[start:end].  Optional\n",
      " |      arguments start and end are interpreted as in slice notation.\n",
      " |      \n",
      " |      Raises ValueError when the substring is not found.\n",
      " |  \n",
      " |  isalnum(self, /)\n",
      " |      Return True if the string is an alpha-numeric string, False otherwise.\n",
      " |      \n",
      " |      A string is alpha-numeric if all characters in the string are alpha-numeric and\n",
      " |      there is at least one character in the string.\n",
      " |  \n",
      " |  isalpha(self, /)\n",
      " |      Return True if the string is an alphabetic string, False otherwise.\n",
      " |      \n",
      " |      A string is alphabetic if all characters in the string are alphabetic and there\n",
      " |      is at least one character in the string.\n",
      " |  \n",
      " |  isascii(self, /)\n",
      " |      Return True if all characters in the string are ASCII, False otherwise.\n",
      " |      \n",
      " |      ASCII characters have code points in the range U+0000-U+007F.\n",
      " |      Empty string is ASCII too.\n",
      " |  \n",
      " |  isdecimal(self, /)\n",
      " |      Return True if the string is a decimal string, False otherwise.\n",
      " |      \n",
      " |      A string is a decimal string if all characters in the string are decimal and\n",
      " |      there is at least one character in the string.\n",
      " |  \n",
      " |  isdigit(self, /)\n",
      " |      Return True if the string is a digit string, False otherwise.\n",
      " |      \n",
      " |      A string is a digit string if all characters in the string are digits and there\n",
      " |      is at least one character in the string.\n",
      " |  \n",
      " |  isidentifier(self, /)\n",
      " |      Return True if the string is a valid Python identifier, False otherwise.\n",
      " |      \n",
      " |      Call keyword.iskeyword(s) to test whether string s is a reserved identifier,\n",
      " |      such as \"def\" or \"class\".\n",
      " |  \n",
      " |  islower(self, /)\n",
      " |      Return True if the string is a lowercase string, False otherwise.\n",
      " |      \n",
      " |      A string is lowercase if all cased characters in the string are lowercase and\n",
      " |      there is at least one cased character in the string.\n",
      " |  \n",
      " |  isnumeric(self, /)\n",
      " |      Return True if the string is a numeric string, False otherwise.\n",
      " |      \n",
      " |      A string is numeric if all characters in the string are numeric and there is at\n",
      " |      least one character in the string.\n",
      " |  \n",
      " |  isprintable(self, /)\n",
      " |      Return True if the string is printable, False otherwise.\n",
      " |      \n",
      " |      A string is printable if all of its characters are considered printable in\n",
      " |      repr() or if it is empty.\n",
      " |  \n",
      " |  isspace(self, /)\n",
      " |      Return True if the string is a whitespace string, False otherwise.\n",
      " |      \n",
      " |      A string is whitespace if all characters in the string are whitespace and there\n",
      " |      is at least one character in the string.\n",
      " |  \n",
      " |  istitle(self, /)\n",
      " |      Return True if the string is a title-cased string, False otherwise.\n",
      " |      \n",
      " |      In a title-cased string, upper- and title-case characters may only\n",
      " |      follow uncased characters and lowercase characters only cased ones.\n",
      " |  \n",
      " |  isupper(self, /)\n",
      " |      Return True if the string is an uppercase string, False otherwise.\n",
      " |      \n",
      " |      A string is uppercase if all cased characters in the string are uppercase and\n",
      " |      there is at least one cased character in the string.\n",
      " |  \n",
      " |  join(self, iterable, /)\n",
      " |      Concatenate any number of strings.\n",
      " |      \n",
      " |      The string whose method is called is inserted in between each given string.\n",
      " |      The result is returned as a new string.\n",
      " |      \n",
      " |      Example: '.'.join(['ab', 'pq', 'rs']) -> 'ab.pq.rs'\n",
      " |  \n",
      " |  ljust(self, width, fillchar=' ', /)\n",
      " |      Return a left-justified string of length width.\n",
      " |      \n",
      " |      Padding is done using the specified fill character (default is a space).\n",
      " |  \n",
      " |  lower(self, /)\n",
      " |      Return a copy of the string converted to lowercase.\n",
      " |  \n",
      " |  lstrip(self, chars=None, /)\n",
      " |      Return a copy of the string with leading whitespace removed.\n",
      " |      \n",
      " |      If chars is given and not None, remove characters in chars instead.\n",
      " |  \n",
      " |  partition(self, sep, /)\n",
      " |      Partition the string into three parts using the given separator.\n",
      " |      \n",
      " |      This will search for the separator in the string.  If the separator is found,\n",
      " |      returns a 3-tuple containing the part before the separator, the separator\n",
      " |      itself, and the part after it.\n",
      " |      \n",
      " |      If the separator is not found, returns a 3-tuple containing the original string\n",
      " |      and two empty strings.\n",
      " |  \n",
      " |  removeprefix(self, prefix, /)\n",
      " |      Return a str with the given prefix string removed if present.\n",
      " |      \n",
      " |      If the string starts with the prefix string, return string[len(prefix):].\n",
      " |      Otherwise, return a copy of the original string.\n",
      " |  \n",
      " |  removesuffix(self, suffix, /)\n",
      " |      Return a str with the given suffix string removed if present.\n",
      " |      \n",
      " |      If the string ends with the suffix string and that suffix is not empty,\n",
      " |      return string[:-len(suffix)]. Otherwise, return a copy of the original\n",
      " |      string.\n",
      " |  \n",
      " |  replace(self, old, new, count=-1, /)\n",
      " |      Return a copy with all occurrences of substring old replaced by new.\n",
      " |      \n",
      " |        count\n",
      " |          Maximum number of occurrences to replace.\n",
      " |          -1 (the default value) means replace all occurrences.\n",
      " |      \n",
      " |      If the optional argument count is given, only the first count occurrences are\n",
      " |      replaced.\n",
      " |  \n",
      " |  rfind(...)\n",
      " |      S.rfind(sub[, start[, end]]) -> int\n",
      " |      \n",
      " |      Return the highest index in S where substring sub is found,\n",
      " |      such that sub is contained within S[start:end].  Optional\n",
      " |      arguments start and end are interpreted as in slice notation.\n",
      " |      \n",
      " |      Return -1 on failure.\n",
      " |  \n",
      " |  rindex(...)\n",
      " |      S.rindex(sub[, start[, end]]) -> int\n",
      " |      \n",
      " |      Return the highest index in S where substring sub is found,\n",
      " |      such that sub is contained within S[start:end].  Optional\n",
      " |      arguments start and end are interpreted as in slice notation.\n",
      " |      \n",
      " |      Raises ValueError when the substring is not found.\n",
      " |  \n",
      " |  rjust(self, width, fillchar=' ', /)\n",
      " |      Return a right-justified string of length width.\n",
      " |      \n",
      " |      Padding is done using the specified fill character (default is a space).\n",
      " |  \n",
      " |  rpartition(self, sep, /)\n",
      " |      Partition the string into three parts using the given separator.\n",
      " |      \n",
      " |      This will search for the separator in the string, starting at the end. If\n",
      " |      the separator is found, returns a 3-tuple containing the part before the\n",
      " |      separator, the separator itself, and the part after it.\n",
      " |      \n",
      " |      If the separator is not found, returns a 3-tuple containing two empty strings\n",
      " |      and the original string.\n",
      " |  \n",
      " |  rsplit(self, /, sep=None, maxsplit=-1)\n",
      " |      Return a list of the words in the string, using sep as the delimiter string.\n",
      " |      \n",
      " |        sep\n",
      " |          The delimiter according which to split the string.\n",
      " |          None (the default value) means split according to any whitespace,\n",
      " |          and discard empty strings from the result.\n",
      " |        maxsplit\n",
      " |          Maximum number of splits to do.\n",
      " |          -1 (the default value) means no limit.\n",
      " |      \n",
      " |      Splits are done starting at the end of the string and working to the front.\n",
      " |  \n",
      " |  rstrip(self, chars=None, /)\n",
      " |      Return a copy of the string with trailing whitespace removed.\n",
      " |      \n",
      " |      If chars is given and not None, remove characters in chars instead.\n",
      " |  \n",
      " |  split(self, /, sep=None, maxsplit=-1)\n",
      " |      Return a list of the words in the string, using sep as the delimiter string.\n",
      " |      \n",
      " |      sep\n",
      " |        The delimiter according which to split the string.\n",
      " |        None (the default value) means split according to any whitespace,\n",
      " |        and discard empty strings from the result.\n",
      " |      maxsplit\n",
      " |        Maximum number of splits to do.\n",
      " |        -1 (the default value) means no limit.\n",
      " |  \n",
      " |  splitlines(self, /, keepends=False)\n",
      " |      Return a list of the lines in the string, breaking at line boundaries.\n",
      " |      \n",
      " |      Line breaks are not included in the resulting list unless keepends is given and\n",
      " |      true.\n",
      " |  \n",
      " |  startswith(...)\n",
      " |      S.startswith(prefix[, start[, end]]) -> bool\n",
      " |      \n",
      " |      Return True if S starts with the specified prefix, False otherwise.\n",
      " |      With optional start, test S beginning at that position.\n",
      " |      With optional end, stop comparing S at that position.\n",
      " |      prefix can also be a tuple of strings to try.\n",
      " |  \n",
      " |  strip(self, chars=None, /)\n",
      " |      Return a copy of the string with leading and trailing whitespace removed.\n",
      " |      \n",
      " |      If chars is given and not None, remove characters in chars instead.\n",
      " |  \n",
      " |  swapcase(self, /)\n",
      " |      Convert uppercase characters to lowercase and lowercase characters to uppercase.\n",
      " |  \n",
      " |  title(self, /)\n",
      " |      Return a version of the string where each word is titlecased.\n",
      " |      \n",
      " |      More specifically, words start with uppercased characters and all remaining\n",
      " |      cased characters have lower case.\n",
      " |  \n",
      " |  translate(self, table, /)\n",
      " |      Replace each character in the string using the given translation table.\n",
      " |      \n",
      " |        table\n",
      " |          Translation table, which must be a mapping of Unicode ordinals to\n",
      " |          Unicode ordinals, strings, or None.\n",
      " |      \n",
      " |      The table must implement lookup/indexing via __getitem__, for instance a\n",
      " |      dictionary or list.  If this operation raises LookupError, the character is\n",
      " |      left untouched.  Characters mapped to None are deleted.\n",
      " |  \n",
      " |  upper(self, /)\n",
      " |      Return a copy of the string converted to uppercase.\n",
      " |  \n",
      " |  zfill(self, width, /)\n",
      " |      Pad a numeric string with zeros on the left, to fill a field of the given width.\n",
      " |      \n",
      " |      The string is never truncated.\n",
      " |  \n",
      " |  ----------------------------------------------------------------------\n",
      " |  Static methods defined here:\n",
      " |  \n",
      " |  __new__(*args, **kwargs) from builtins.type\n",
      " |      Create and return a new object.  See help(type) for accurate signature.\n",
      " |  \n",
      " |  maketrans(...)\n",
      " |      Return a translation table usable for str.translate().\n",
      " |      \n",
      " |      If there is only one argument, it must be a dictionary mapping Unicode\n",
      " |      ordinals (integers) or characters to Unicode ordinals, strings or None.\n",
      " |      Character keys will be then converted to ordinals.\n",
      " |      If there are two arguments, they must be strings of equal length, and\n",
      " |      in the resulting dictionary, each character in x will be mapped to the\n",
      " |      character at the same position in y. If there is a third argument, it\n",
      " |      must be a string, whose characters will be mapped to None in the result.\n",
      "\n"
     ]
    }
   ],
   "source": [
    "help(str())"
   ]
  },
  {
   "cell_type": "code",
   "execution_count": 93,
   "id": "5b2be58b",
   "metadata": {},
   "outputs": [
    {
     "data": {
      "text/plain": [
       "False"
      ]
     },
     "execution_count": 93,
     "metadata": {},
     "output_type": "execute_result"
    }
   ],
   "source": [
    "s1 = \"12e2\"\n",
    "s1.isdigit()"
   ]
  },
  {
   "cell_type": "code",
   "execution_count": 94,
   "id": "78b7dba7",
   "metadata": {},
   "outputs": [
    {
     "data": {
      "text/plain": [
       "False"
      ]
     },
     "execution_count": 94,
     "metadata": {},
     "output_type": "execute_result"
    }
   ],
   "source": [
    "s1.isnumeric()"
   ]
  }
 ],
 "metadata": {
  "kernelspec": {
   "display_name": "Python 3 (ipykernel)",
   "language": "python",
   "name": "python3"
  },
  "language_info": {
   "codemirror_mode": {
    "name": "ipython",
    "version": 3
   },
   "file_extension": ".py",
   "mimetype": "text/x-python",
   "name": "python",
   "nbconvert_exporter": "python",
   "pygments_lexer": "ipython3",
   "version": "3.10.4"
  }
 },
 "nbformat": 4,
 "nbformat_minor": 5
}
