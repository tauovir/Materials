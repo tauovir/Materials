{
 "cells": [
  {
   "cell_type": "code",
   "execution_count": 3,
   "id": "b6725161",
   "metadata": {},
   "outputs": [],
   "source": [
    "import pandas as pd\n",
    "import numpy as np\n"
   ]
  },
  {
   "cell_type": "markdown",
   "id": "829e0a50",
   "metadata": {},
   "source": [
    "# Create Series"
   ]
  },
  {
   "cell_type": "code",
   "execution_count": 5,
   "id": "58fd43e4",
   "metadata": {},
   "outputs": [
    {
     "data": {
      "text/plain": [
       "0    10\n",
       "1    20\n",
       "2    30\n",
       "3     1\n",
       "dtype: int64"
      ]
     },
     "execution_count": 5,
     "metadata": {},
     "output_type": "execute_result"
    }
   ],
   "source": [
    "s1 = pd.Series([10,20,30,1])\n",
    "s1"
   ]
  },
  {
   "cell_type": "code",
   "execution_count": 8,
   "id": "840c6b9d",
   "metadata": {},
   "outputs": [
    {
     "data": {
      "text/plain": [
       "a     apple\n",
       "b     mango\n",
       "c    orange\n",
       "dtype: object"
      ]
     },
     "execution_count": 8,
     "metadata": {},
     "output_type": "execute_result"
    }
   ],
   "source": [
    "s2 = pd.Series(['apple','mango','orange'],index = ['a','b','c'])\n",
    "s2"
   ]
  },
  {
   "cell_type": "markdown",
   "id": "ea418213",
   "metadata": {},
   "source": [
    "# Create Series using Numpy"
   ]
  },
  {
   "cell_type": "code",
   "execution_count": 12,
   "id": "59424733",
   "metadata": {},
   "outputs": [
    {
     "data": {
      "text/plain": [
       "0    0\n",
       "1    1\n",
       "2    2\n",
       "3    3\n",
       "4    4\n",
       "5    5\n",
       "6    6\n",
       "7    7\n",
       "8    8\n",
       "9    9\n",
       "dtype: int32"
      ]
     },
     "execution_count": 12,
     "metadata": {},
     "output_type": "execute_result"
    }
   ],
   "source": [
    "s1 = pd.Series(np.array([1,2,3,4,8,5,5,7]))\n",
    "s1 =  pd.Series(np.arange(10))\n",
    "s1"
   ]
  },
  {
   "cell_type": "code",
   "execution_count": 19,
   "id": "3cc18da1",
   "metadata": {},
   "outputs": [
    {
     "data": {
      "text/plain": [
       "0    5.0\n",
       "1    5.0\n",
       "2    5.0\n",
       "3    5.0\n",
       "4    5.0\n",
       "dtype: float64"
      ]
     },
     "execution_count": 19,
     "metadata": {},
     "output_type": "execute_result"
    }
   ],
   "source": [
    "s1 =  pd.Series(np.ones(5))\n",
    "s1 =  pd.Series(np.zeros(5))\n",
    "s1 =  pd.Series(np.ones(5) *5)\n",
    "s1"
   ]
  },
  {
   "cell_type": "code",
   "execution_count": 22,
   "id": "099cfaf6",
   "metadata": {},
   "outputs": [
    {
     "data": {
      "text/plain": [
       "id              101\n",
       "name           Amit\n",
       "city         mumbai\n",
       "mobile    989925014\n",
       "dtype: object"
      ]
     },
     "execution_count": 22,
     "metadata": {},
     "output_type": "execute_result"
    }
   ],
   "source": [
    "# Creation of Series using Dictionary\n",
    "data = {\"id\" : 101,\"name\" : \"Amit\",\"city\" :\"mumbai\",\"mobile\" : 989925014}\n",
    "s1 =  pd.Series(data)\n",
    "s1"
   ]
  },
  {
   "cell_type": "markdown",
   "id": "16d1cec3",
   "metadata": {},
   "source": [
    "# Accessing element of Series"
   ]
  },
  {
   "cell_type": "code",
   "execution_count": 24,
   "id": "1d406516",
   "metadata": {},
   "outputs": [
    {
     "data": {
      "text/plain": [
       "a    10\n",
       "b    20\n",
       "c    30\n",
       "dtype: int64"
      ]
     },
     "execution_count": 24,
     "metadata": {},
     "output_type": "execute_result"
    }
   ],
   "source": [
    "s1 = pd.Series([10,20,30], index = ['a','b','c'])\n",
    "s1"
   ]
  },
  {
   "cell_type": "code",
   "execution_count": 27,
   "id": "39825477",
   "metadata": {},
   "outputs": [
    {
     "data": {
      "text/plain": [
       "10"
      ]
     },
     "execution_count": 27,
     "metadata": {},
     "output_type": "execute_result"
    }
   ],
   "source": [
    "s1['a']"
   ]
  },
  {
   "cell_type": "code",
   "execution_count": 30,
   "id": "1b6b4555",
   "metadata": {},
   "outputs": [
    {
     "data": {
      "text/plain": [
       "a    2\n",
       "b    5\n",
       "c    6\n",
       "d    7\n",
       "dtype: int64"
      ]
     },
     "execution_count": 30,
     "metadata": {},
     "output_type": "execute_result"
    }
   ],
   "source": [
    "s2 = pd.Series([2,5,6,7], index = ['a','b','c','d'])\n",
    "s2"
   ]
  },
  {
   "cell_type": "code",
   "execution_count": 33,
   "id": "602d496f",
   "metadata": {},
   "outputs": [
    {
     "data": {
      "text/plain": [
       "a    2\n",
       "d    7\n",
       "dtype: int64"
      ]
     },
     "execution_count": 33,
     "metadata": {},
     "output_type": "execute_result"
    }
   ],
   "source": [
    "# s2[['b','c']]\n",
    "s2[['a','d']]\n"
   ]
  },
  {
   "cell_type": "code",
   "execution_count": 37,
   "id": "e24062f4",
   "metadata": {},
   "outputs": [
    {
     "data": {
      "text/plain": [
       "0    10\n",
       "1    11\n",
       "2    12\n",
       "3    13\n",
       "4    14\n",
       "5    15\n",
       "6    16\n",
       "7    17\n",
       "8    18\n",
       "9    19\n",
       "dtype: int32"
      ]
     },
     "execution_count": 37,
     "metadata": {},
     "output_type": "execute_result"
    }
   ],
   "source": [
    "s1 = pd.Series(np.arange(10,20))\n",
    "s1"
   ]
  },
  {
   "cell_type": "code",
   "execution_count": 39,
   "id": "30200e27",
   "metadata": {},
   "outputs": [
    {
     "data": {
      "text/plain": [
       "1    11\n",
       "2    12\n",
       "3    13\n",
       "4    14\n",
       "dtype: int32"
      ]
     },
     "execution_count": 39,
     "metadata": {},
     "output_type": "execute_result"
    }
   ],
   "source": [
    "s1[1:5]"
   ]
  },
  {
   "cell_type": "code",
   "execution_count": 41,
   "id": "2ef90f76",
   "metadata": {},
   "outputs": [
    {
     "data": {
      "text/plain": [
       "0    10\n",
       "1    11\n",
       "2    12\n",
       "3    13\n",
       "dtype: int32"
      ]
     },
     "execution_count": 41,
     "metadata": {},
     "output_type": "execute_result"
    }
   ],
   "source": [
    "s1[0:4]"
   ]
  },
  {
   "cell_type": "code",
   "execution_count": 42,
   "id": "f3375939",
   "metadata": {},
   "outputs": [],
   "source": [
    "# Property of Series"
   ]
  },
  {
   "cell_type": "code",
   "execution_count": 47,
   "id": "c967367b",
   "metadata": {},
   "outputs": [
    {
     "name": "stdout",
     "output_type": "stream",
     "text": [
      "Test-A\n"
     ]
    }
   ],
   "source": [
    "s1.name = \"Test-A\"\n",
    "print(s1.name)"
   ]
  },
  {
   "cell_type": "code",
   "execution_count": 52,
   "id": "9fd45ed6",
   "metadata": {},
   "outputs": [
    {
     "name": "stdout",
     "output_type": "stream",
     "text": [
      "indx\n"
     ]
    }
   ],
   "source": [
    "s1.index.name = 'indx'\n",
    "print(s1.index.name)"
   ]
  },
  {
   "cell_type": "code",
   "execution_count": 54,
   "id": "b46eca83",
   "metadata": {},
   "outputs": [
    {
     "data": {
      "text/plain": [
       "indx\n",
       "0    10\n",
       "1    11\n",
       "2    12\n",
       "3    13\n",
       "4    14\n",
       "5    15\n",
       "6    16\n",
       "7    17\n",
       "8    18\n",
       "9    19\n",
       "Name: Test-A, dtype: int32"
      ]
     },
     "execution_count": 54,
     "metadata": {},
     "output_type": "execute_result"
    }
   ],
   "source": [
    "s1"
   ]
  },
  {
   "cell_type": "code",
   "execution_count": 58,
   "id": "48940107",
   "metadata": {},
   "outputs": [
    {
     "data": {
      "text/plain": [
       "10"
      ]
     },
     "execution_count": 58,
     "metadata": {},
     "output_type": "execute_result"
    }
   ],
   "source": [
    "# Check Series size\n",
    "s1.size"
   ]
  },
  {
   "cell_type": "code",
   "execution_count": 59,
   "id": "2145c3e4",
   "metadata": {},
   "outputs": [
    {
     "data": {
      "text/plain": [
       "False"
      ]
     },
     "execution_count": 59,
     "metadata": {},
     "output_type": "execute_result"
    }
   ],
   "source": [
    "s1.empty"
   ]
  },
  {
   "cell_type": "code",
   "execution_count": 62,
   "id": "c9b501ea",
   "metadata": {},
   "outputs": [
    {
     "name": "stderr",
     "output_type": "stream",
     "text": [
      "C:\\Users\\LENOVO\\AppData\\Local\\Temp\\ipykernel_8964\\3339574591.py:1: FutureWarning: The default dtype for empty Series will be 'object' instead of 'float64' in a future version. Specify a dtype explicitly to silence this warning.\n",
      "  s1_emp = pd.Series()\n"
     ]
    },
    {
     "data": {
      "text/plain": [
       "True"
      ]
     },
     "execution_count": 62,
     "metadata": {},
     "output_type": "execute_result"
    }
   ],
   "source": [
    "s1_emp = pd.Series()\n",
    "s1_emp.empty"
   ]
  },
  {
   "cell_type": "markdown",
   "id": "ad3bd729",
   "metadata": {},
   "source": [
    "# Some Methods of Series"
   ]
  },
  {
   "cell_type": "code",
   "execution_count": 67,
   "id": "a3cf2522",
   "metadata": {},
   "outputs": [],
   "source": [
    "s1 = pd.Series(np.random.randint(50,100,50))"
   ]
  },
  {
   "cell_type": "code",
   "execution_count": 73,
   "id": "43e2e722",
   "metadata": {},
   "outputs": [
    {
     "data": {
      "text/plain": [
       "0    72\n",
       "1    90\n",
       "2    64\n",
       "3    63\n",
       "4    68\n",
       "5    98\n",
       "6    68\n",
       "7    80\n",
       "8    67\n",
       "9    89\n",
       "dtype: int32"
      ]
     },
     "execution_count": 73,
     "metadata": {},
     "output_type": "execute_result"
    }
   ],
   "source": [
    "# Head Method\n",
    "s1.head(10)\n",
    "# print(s1.size)"
   ]
  },
  {
   "cell_type": "code",
   "execution_count": 76,
   "id": "357dc9f2",
   "metadata": {},
   "outputs": [
    {
     "data": {
      "text/plain": [
       "45    80\n",
       "46    60\n",
       "47    79\n",
       "48    74\n",
       "49    96\n",
       "dtype: int32"
      ]
     },
     "execution_count": 76,
     "metadata": {},
     "output_type": "execute_result"
    }
   ],
   "source": [
    "# tail\n",
    "s1.tail(5)"
   ]
  },
  {
   "cell_type": "code",
   "execution_count": 78,
   "id": "bfbe1e0d",
   "metadata": {},
   "outputs": [
    {
     "data": {
      "text/plain": [
       "50"
      ]
     },
     "execution_count": 78,
     "metadata": {},
     "output_type": "execute_result"
    }
   ],
   "source": [
    "# Count\n",
    "s1.count()"
   ]
  },
  {
   "cell_type": "code",
   "execution_count": 79,
   "id": "bba4069e",
   "metadata": {},
   "outputs": [],
   "source": [
    "# Mathmatical Operation"
   ]
  },
  {
   "cell_type": "code",
   "execution_count": 81,
   "id": "ca14cc6a",
   "metadata": {},
   "outputs": [
    {
     "data": {
      "text/plain": [
       "0    7\n",
       "1    6\n",
       "2    1\n",
       "3    5\n",
       "4    5\n",
       "dtype: int32"
      ]
     },
     "execution_count": 81,
     "metadata": {},
     "output_type": "execute_result"
    }
   ],
   "source": [
    "a1 = pd.Series(np.random.randint(1,10,5))\n",
    "a2 = pd.Series(np.random.randint(11,20,5))\n",
    "a1\n"
   ]
  },
  {
   "cell_type": "code",
   "execution_count": 83,
   "id": "da5ebb93",
   "metadata": {},
   "outputs": [
    {
     "data": {
      "text/plain": [
       "0    19\n",
       "1    16\n",
       "2    18\n",
       "3    12\n",
       "4    11\n",
       "dtype: int32"
      ]
     },
     "execution_count": 83,
     "metadata": {},
     "output_type": "execute_result"
    }
   ],
   "source": [
    "a2"
   ]
  },
  {
   "cell_type": "code",
   "execution_count": 84,
   "id": "33ec5954",
   "metadata": {},
   "outputs": [],
   "source": [
    "# Addition"
   ]
  },
  {
   "cell_type": "code",
   "execution_count": 85,
   "id": "e04e1bad",
   "metadata": {},
   "outputs": [
    {
     "data": {
      "text/plain": [
       "0    26\n",
       "1    22\n",
       "2    19\n",
       "3    17\n",
       "4    16\n",
       "dtype: int32"
      ]
     },
     "execution_count": 85,
     "metadata": {},
     "output_type": "execute_result"
    }
   ],
   "source": [
    "a1+a2"
   ]
  },
  {
   "cell_type": "code",
   "execution_count": 87,
   "id": "b8b5f2d9",
   "metadata": {},
   "outputs": [
    {
     "data": {
      "text/plain": [
       "0   -12\n",
       "1   -10\n",
       "2   -17\n",
       "3    -7\n",
       "4    -6\n",
       "dtype: int32"
      ]
     },
     "execution_count": 87,
     "metadata": {},
     "output_type": "execute_result"
    }
   ],
   "source": [
    "a1-a2"
   ]
  },
  {
   "cell_type": "code",
   "execution_count": 93,
   "id": "d5c37e65",
   "metadata": {},
   "outputs": [
    {
     "data": {
      "text/plain": [
       "a    1\n",
       "b    2\n",
       "c    3\n",
       "d    4\n",
       "e    5\n",
       "dtype: int64"
      ]
     },
     "execution_count": 93,
     "metadata": {},
     "output_type": "execute_result"
    }
   ],
   "source": [
    "s1 = pd.Series([1,2,3,4,5], index = ['a','b','c','d','e'])\n",
    "s1"
   ]
  },
  {
   "cell_type": "code",
   "execution_count": 92,
   "id": "712f2c3c",
   "metadata": {},
   "outputs": [
    {
     "data": {
      "text/plain": [
       "x     10\n",
       "y     20\n",
       "a    -10\n",
       "c    -50\n",
       "e    100\n",
       "dtype: int64"
      ]
     },
     "execution_count": 92,
     "metadata": {},
     "output_type": "execute_result"
    }
   ],
   "source": [
    "s2 = pd.Series([10,20,-10,-50,100], index = list('xyace'))\n",
    "s2"
   ]
  },
  {
   "cell_type": "code",
   "execution_count": 95,
   "id": "3ade4b14",
   "metadata": {},
   "outputs": [
    {
     "data": {
      "text/plain": [
       "a     -9.0\n",
       "b      NaN\n",
       "c    -47.0\n",
       "d      NaN\n",
       "e    105.0\n",
       "x      NaN\n",
       "y      NaN\n",
       "dtype: float64"
      ]
     },
     "execution_count": 95,
     "metadata": {},
     "output_type": "execute_result"
    }
   ],
   "source": [
    "s1+s2"
   ]
  },
  {
   "cell_type": "code",
   "execution_count": 97,
   "id": "b1696b86",
   "metadata": {},
   "outputs": [
    {
     "data": {
      "text/plain": [
       "a    11.0\n",
       "b     NaN\n",
       "c    53.0\n",
       "d     NaN\n",
       "e   -95.0\n",
       "x     NaN\n",
       "y     NaN\n",
       "dtype: float64"
      ]
     },
     "execution_count": 97,
     "metadata": {},
     "output_type": "execute_result"
    }
   ],
   "source": [
    "s1-s2"
   ]
  },
  {
   "cell_type": "code",
   "execution_count": 99,
   "id": "818db7f8",
   "metadata": {},
   "outputs": [
    {
     "data": {
      "text/plain": [
       "a     -9.0\n",
       "b      3.0\n",
       "c    -47.0\n",
       "d      5.0\n",
       "e    105.0\n",
       "x     11.0\n",
       "y     21.0\n",
       "dtype: float64"
      ]
     },
     "execution_count": 99,
     "metadata": {},
     "output_type": "execute_result"
    }
   ],
   "source": [
    "# Other Method\n",
    "s1.add(s2, fill_value = 1)"
   ]
  },
  {
   "cell_type": "code",
   "execution_count": 102,
   "id": "5fc4b409",
   "metadata": {},
   "outputs": [
    {
     "data": {
      "text/plain": [
       "a    -10.0\n",
       "b      0.0\n",
       "c   -150.0\n",
       "d      0.0\n",
       "e    500.0\n",
       "x      0.0\n",
       "y      0.0\n",
       "dtype: float64"
      ]
     },
     "execution_count": 102,
     "metadata": {},
     "output_type": "execute_result"
    }
   ],
   "source": [
    "# s1.sub(s2, fill_value = 0)\n",
    "s1.mul(s2, fill_value = 0)"
   ]
  },
  {
   "cell_type": "markdown",
   "id": "ccb9ff90",
   "metadata": {},
   "source": [
    "## Creation of Dataframe"
   ]
  },
  {
   "cell_type": "code",
   "execution_count": 106,
   "id": "d37181df",
   "metadata": {},
   "outputs": [
    {
     "name": "stdout",
     "output_type": "stream",
     "text": [
      "Empty DataFrame\n",
      "Columns: []\n",
      "Index: []\n"
     ]
    }
   ],
   "source": [
    "df_empty = pd.DataFrame()\n",
    "print(df_empty)"
   ]
  },
  {
   "cell_type": "markdown",
   "id": "2ee5db26",
   "metadata": {},
   "source": [
    "### Cteate data fram using Numpy array"
   ]
  },
  {
   "cell_type": "code",
   "execution_count": 108,
   "id": "b7b08a44",
   "metadata": {},
   "outputs": [],
   "source": [
    "# Cteate data fram using Numpy array\n",
    "arr1 = np.array([10,20,30])\n",
    "arr2 = np.array([11,12,13])\n",
    "arr3 = np.array([40,50,60])"
   ]
  },
  {
   "cell_type": "code",
   "execution_count": 112,
   "id": "59e52432",
   "metadata": {
    "scrolled": true
   },
   "outputs": [
    {
     "name": "stdout",
     "output_type": "stream",
     "text": [
      "    0\n",
      "0  10\n",
      "1  20\n",
      "2  30\n"
     ]
    }
   ],
   "source": [
    "dataframe1 = pd.DataFrame(arr1)\n",
    "print(dataframe1)"
   ]
  },
  {
   "cell_type": "code",
   "execution_count": 114,
   "id": "11c50191",
   "metadata": {},
   "outputs": [
    {
     "data": {
      "text/html": [
       "<div>\n",
       "<style scoped>\n",
       "    .dataframe tbody tr th:only-of-type {\n",
       "        vertical-align: middle;\n",
       "    }\n",
       "\n",
       "    .dataframe tbody tr th {\n",
       "        vertical-align: top;\n",
       "    }\n",
       "\n",
       "    .dataframe thead th {\n",
       "        text-align: right;\n",
       "    }\n",
       "</style>\n",
       "<table border=\"1\" class=\"dataframe\">\n",
       "  <thead>\n",
       "    <tr style=\"text-align: right;\">\n",
       "      <th></th>\n",
       "      <th>0</th>\n",
       "      <th>1</th>\n",
       "      <th>2</th>\n",
       "    </tr>\n",
       "  </thead>\n",
       "  <tbody>\n",
       "    <tr>\n",
       "      <th>0</th>\n",
       "      <td>10</td>\n",
       "      <td>20</td>\n",
       "      <td>30</td>\n",
       "    </tr>\n",
       "    <tr>\n",
       "      <th>1</th>\n",
       "      <td>11</td>\n",
       "      <td>12</td>\n",
       "      <td>13</td>\n",
       "    </tr>\n",
       "    <tr>\n",
       "      <th>2</th>\n",
       "      <td>40</td>\n",
       "      <td>50</td>\n",
       "      <td>60</td>\n",
       "    </tr>\n",
       "  </tbody>\n",
       "</table>\n",
       "</div>"
      ],
      "text/plain": [
       "    0   1   2\n",
       "0  10  20  30\n",
       "1  11  12  13\n",
       "2  40  50  60"
      ]
     },
     "execution_count": 114,
     "metadata": {},
     "output_type": "execute_result"
    }
   ],
   "source": [
    "dataframe1 = pd.DataFrame([arr1,arr2,arr3])\n",
    "dataframe1"
   ]
  },
  {
   "cell_type": "code",
   "execution_count": 116,
   "id": "86b1b038",
   "metadata": {},
   "outputs": [
    {
     "data": {
      "text/html": [
       "<div>\n",
       "<style scoped>\n",
       "    .dataframe tbody tr th:only-of-type {\n",
       "        vertical-align: middle;\n",
       "    }\n",
       "\n",
       "    .dataframe tbody tr th {\n",
       "        vertical-align: top;\n",
       "    }\n",
       "\n",
       "    .dataframe thead th {\n",
       "        text-align: right;\n",
       "    }\n",
       "</style>\n",
       "<table border=\"1\" class=\"dataframe\">\n",
       "  <thead>\n",
       "    <tr style=\"text-align: right;\">\n",
       "      <th></th>\n",
       "      <th>A</th>\n",
       "      <th>B</th>\n",
       "      <th>C</th>\n",
       "    </tr>\n",
       "  </thead>\n",
       "  <tbody>\n",
       "    <tr>\n",
       "      <th>0</th>\n",
       "      <td>10</td>\n",
       "      <td>20</td>\n",
       "      <td>30</td>\n",
       "    </tr>\n",
       "    <tr>\n",
       "      <th>1</th>\n",
       "      <td>11</td>\n",
       "      <td>12</td>\n",
       "      <td>13</td>\n",
       "    </tr>\n",
       "    <tr>\n",
       "      <th>2</th>\n",
       "      <td>40</td>\n",
       "      <td>50</td>\n",
       "      <td>60</td>\n",
       "    </tr>\n",
       "  </tbody>\n",
       "</table>\n",
       "</div>"
      ],
      "text/plain": [
       "    A   B   C\n",
       "0  10  20  30\n",
       "1  11  12  13\n",
       "2  40  50  60"
      ]
     },
     "execution_count": 116,
     "metadata": {},
     "output_type": "execute_result"
    }
   ],
   "source": [
    "dataframe1.columns = ['A','B','C']\n",
    "dataframe1"
   ]
  },
  {
   "cell_type": "markdown",
   "id": "06365dab",
   "metadata": {},
   "source": [
    "## Create Dataframe uising List of Dictionary"
   ]
  },
  {
   "cell_type": "code",
   "execution_count": 118,
   "id": "ed1bc2a6",
   "metadata": {},
   "outputs": [
    {
     "data": {
      "text/html": [
       "<div>\n",
       "<style scoped>\n",
       "    .dataframe tbody tr th:only-of-type {\n",
       "        vertical-align: middle;\n",
       "    }\n",
       "\n",
       "    .dataframe tbody tr th {\n",
       "        vertical-align: top;\n",
       "    }\n",
       "\n",
       "    .dataframe thead th {\n",
       "        text-align: right;\n",
       "    }\n",
       "</style>\n",
       "<table border=\"1\" class=\"dataframe\">\n",
       "  <thead>\n",
       "    <tr style=\"text-align: right;\">\n",
       "      <th></th>\n",
       "      <th>id</th>\n",
       "      <th>name</th>\n",
       "      <th>price</th>\n",
       "      <th>city</th>\n",
       "    </tr>\n",
       "  </thead>\n",
       "  <tbody>\n",
       "    <tr>\n",
       "      <th>0</th>\n",
       "      <td>101</td>\n",
       "      <td>apple</td>\n",
       "      <td>150</td>\n",
       "      <td>meerut</td>\n",
       "    </tr>\n",
       "    <tr>\n",
       "      <th>1</th>\n",
       "      <td>102</td>\n",
       "      <td>orange</td>\n",
       "      <td>250</td>\n",
       "      <td>kanpur</td>\n",
       "    </tr>\n",
       "    <tr>\n",
       "      <th>2</th>\n",
       "      <td>103</td>\n",
       "      <td>mango</td>\n",
       "      <td>99</td>\n",
       "      <td>mumbai</td>\n",
       "    </tr>\n",
       "    <tr>\n",
       "      <th>3</th>\n",
       "      <td>104</td>\n",
       "      <td>date</td>\n",
       "      <td>120</td>\n",
       "      <td>kolkata</td>\n",
       "    </tr>\n",
       "  </tbody>\n",
       "</table>\n",
       "</div>"
      ],
      "text/plain": [
       "    id    name  price     city\n",
       "0  101   apple    150   meerut\n",
       "1  102  orange    250   kanpur\n",
       "2  103   mango     99   mumbai\n",
       "3  104    date    120  kolkata"
      ]
     },
     "execution_count": 118,
     "metadata": {},
     "output_type": "execute_result"
    }
   ],
   "source": [
    "list_dict = [\n",
    "    {\"id\" : 101,\"name\":\"apple\",\"price\":150,\"city\" :\"meerut\"},\n",
    "     {\"id\" : 102,\"name\":\"orange\",\"price\":250,\"city\" :\"kanpur\"},\n",
    "     {\"id\" : 103,\"name\":\"mango\",\"price\":99,\"city\" :\"mumbai\"},\n",
    "     {\"id\" : 104,\"name\":\"date\",\"price\":120,\"city\" :\"kolkata\"},\n",
    "]\n",
    "data_fr = pd.DataFrame(list_dict)\n",
    "data_fr"
   ]
  },
  {
   "cell_type": "markdown",
   "id": "4c942b51",
   "metadata": {},
   "source": [
    "### Creation of DataFrame using Dictionary of list"
   ]
  },
  {
   "cell_type": "code",
   "execution_count": 125,
   "id": "82f32a00",
   "metadata": {},
   "outputs": [
    {
     "data": {
      "text/html": [
       "<div>\n",
       "<style scoped>\n",
       "    .dataframe tbody tr th:only-of-type {\n",
       "        vertical-align: middle;\n",
       "    }\n",
       "\n",
       "    .dataframe tbody tr th {\n",
       "        vertical-align: top;\n",
       "    }\n",
       "\n",
       "    .dataframe thead th {\n",
       "        text-align: right;\n",
       "    }\n",
       "</style>\n",
       "<table border=\"1\" class=\"dataframe\">\n",
       "  <thead>\n",
       "    <tr style=\"text-align: right;\">\n",
       "      <th></th>\n",
       "      <th>id</th>\n",
       "      <th>name</th>\n",
       "      <th>price</th>\n",
       "      <th>city</th>\n",
       "    </tr>\n",
       "  </thead>\n",
       "  <tbody>\n",
       "    <tr>\n",
       "      <th>0</th>\n",
       "      <td>101</td>\n",
       "      <td>apple</td>\n",
       "      <td>150</td>\n",
       "      <td>meerut</td>\n",
       "    </tr>\n",
       "    <tr>\n",
       "      <th>1</th>\n",
       "      <td>102</td>\n",
       "      <td>orange</td>\n",
       "      <td>250</td>\n",
       "      <td>kanpur</td>\n",
       "    </tr>\n",
       "    <tr>\n",
       "      <th>2</th>\n",
       "      <td>103</td>\n",
       "      <td>mango</td>\n",
       "      <td>99</td>\n",
       "      <td>mumbai</td>\n",
       "    </tr>\n",
       "    <tr>\n",
       "      <th>3</th>\n",
       "      <td>104</td>\n",
       "      <td>date</td>\n",
       "      <td>120</td>\n",
       "      <td>Kolkata</td>\n",
       "    </tr>\n",
       "  </tbody>\n",
       "</table>\n",
       "</div>"
      ],
      "text/plain": [
       "    id    name  price     city\n",
       "0  101   apple    150   meerut\n",
       "1  102  orange    250   kanpur\n",
       "2  103   mango     99   mumbai\n",
       "3  104    date    120  Kolkata"
      ]
     },
     "execution_count": 125,
     "metadata": {},
     "output_type": "execute_result"
    }
   ],
   "source": [
    "dict_list = {\n",
    "    \"id\" : [101,102,103,104],\n",
    "    \"name\" : [\"apple\",\"orange\",\"mango\",\"date\"],\n",
    "    \"price\" : [150,250,99,120],\n",
    "    \"city\" : [\"meerut\",\"kanpur\",\"mumbai\",\"Kolkata\"]\n",
    "}\n",
    "data =  pd.DataFrame(dict_list)\n",
    "data"
   ]
  },
  {
   "cell_type": "markdown",
   "id": "1d2d6117",
   "metadata": {},
   "source": [
    "## Crerate Dataframe using Series"
   ]
  },
  {
   "cell_type": "code",
   "execution_count": 128,
   "id": "5b008832",
   "metadata": {},
   "outputs": [
    {
     "data": {
      "text/html": [
       "<div>\n",
       "<style scoped>\n",
       "    .dataframe tbody tr th:only-of-type {\n",
       "        vertical-align: middle;\n",
       "    }\n",
       "\n",
       "    .dataframe tbody tr th {\n",
       "        vertical-align: top;\n",
       "    }\n",
       "\n",
       "    .dataframe thead th {\n",
       "        text-align: right;\n",
       "    }\n",
       "</style>\n",
       "<table border=\"1\" class=\"dataframe\">\n",
       "  <thead>\n",
       "    <tr style=\"text-align: right;\">\n",
       "      <th></th>\n",
       "      <th>0</th>\n",
       "      <th>1</th>\n",
       "      <th>2</th>\n",
       "    </tr>\n",
       "  </thead>\n",
       "  <tbody>\n",
       "    <tr>\n",
       "      <th>0</th>\n",
       "      <td>10</td>\n",
       "      <td>20</td>\n",
       "      <td>30</td>\n",
       "    </tr>\n",
       "    <tr>\n",
       "      <th>1</th>\n",
       "      <td>mango</td>\n",
       "      <td>orange</td>\n",
       "      <td>apple</td>\n",
       "    </tr>\n",
       "    <tr>\n",
       "      <th>2</th>\n",
       "      <td>150</td>\n",
       "      <td>220</td>\n",
       "      <td>360</td>\n",
       "    </tr>\n",
       "  </tbody>\n",
       "</table>\n",
       "</div>"
      ],
      "text/plain": [
       "       0       1      2\n",
       "0     10      20     30\n",
       "1  mango  orange  apple\n",
       "2    150     220    360"
      ]
     },
     "execution_count": 128,
     "metadata": {},
     "output_type": "execute_result"
    }
   ],
   "source": [
    "s1 = pd.Series([10,20,30])\n",
    "s2 = pd.Series([\"mango\",\"orange\",\"apple\"])\n",
    "s3 = pd.Series([150,220,360])\n",
    "data = pd.DataFrame([s1,s2,s3])\n",
    "data"
   ]
  },
  {
   "cell_type": "code",
   "execution_count": 131,
   "id": "57f0fec0",
   "metadata": {},
   "outputs": [
    {
     "data": {
      "text/html": [
       "<div>\n",
       "<style scoped>\n",
       "    .dataframe tbody tr th:only-of-type {\n",
       "        vertical-align: middle;\n",
       "    }\n",
       "\n",
       "    .dataframe tbody tr th {\n",
       "        vertical-align: top;\n",
       "    }\n",
       "\n",
       "    .dataframe thead th {\n",
       "        text-align: right;\n",
       "    }\n",
       "</style>\n",
       "<table border=\"1\" class=\"dataframe\">\n",
       "  <thead>\n",
       "    <tr style=\"text-align: right;\">\n",
       "      <th></th>\n",
       "      <th>id</th>\n",
       "      <th>name</th>\n",
       "      <th>price</th>\n",
       "    </tr>\n",
       "  </thead>\n",
       "  <tbody>\n",
       "    <tr>\n",
       "      <th>0</th>\n",
       "      <td>10</td>\n",
       "      <td>mango</td>\n",
       "      <td>150</td>\n",
       "    </tr>\n",
       "    <tr>\n",
       "      <th>1</th>\n",
       "      <td>20</td>\n",
       "      <td>orange</td>\n",
       "      <td>220</td>\n",
       "    </tr>\n",
       "    <tr>\n",
       "      <th>2</th>\n",
       "      <td>30</td>\n",
       "      <td>apple</td>\n",
       "      <td>360</td>\n",
       "    </tr>\n",
       "  </tbody>\n",
       "</table>\n",
       "</div>"
      ],
      "text/plain": [
       "   id    name  price\n",
       "0  10   mango    150\n",
       "1  20  orange    220\n",
       "2  30   apple    360"
      ]
     },
     "execution_count": 131,
     "metadata": {},
     "output_type": "execute_result"
    }
   ],
   "source": [
    "s1 = pd.Series([10,20,30])\n",
    "s2 = pd.Series([\"mango\",\"orange\",\"apple\"])\n",
    "s3 = pd.Series([150,220,360])\n",
    "data = pd.DataFrame({\"id\" : s1,\"name\" :s2,\"price\":s3})\n",
    "data"
   ]
  },
  {
   "cell_type": "markdown",
   "id": "9b25912f",
   "metadata": {},
   "source": [
    "# head and tail to disoplay pandas data frame"
   ]
  },
  {
   "cell_type": "code",
   "execution_count": 135,
   "id": "5ce32bf6",
   "metadata": {},
   "outputs": [
    {
     "data": {
      "text/html": [
       "<div>\n",
       "<style scoped>\n",
       "    .dataframe tbody tr th:only-of-type {\n",
       "        vertical-align: middle;\n",
       "    }\n",
       "\n",
       "    .dataframe tbody tr th {\n",
       "        vertical-align: top;\n",
       "    }\n",
       "\n",
       "    .dataframe thead th {\n",
       "        text-align: right;\n",
       "    }\n",
       "</style>\n",
       "<table border=\"1\" class=\"dataframe\">\n",
       "  <thead>\n",
       "    <tr style=\"text-align: right;\">\n",
       "      <th></th>\n",
       "      <th>id</th>\n",
       "      <th>name</th>\n",
       "      <th>price</th>\n",
       "      <th>city</th>\n",
       "    </tr>\n",
       "  </thead>\n",
       "  <tbody>\n",
       "    <tr>\n",
       "      <th>0</th>\n",
       "      <td>101</td>\n",
       "      <td>apple</td>\n",
       "      <td>150</td>\n",
       "      <td>meerut</td>\n",
       "    </tr>\n",
       "    <tr>\n",
       "      <th>1</th>\n",
       "      <td>102</td>\n",
       "      <td>orange</td>\n",
       "      <td>250</td>\n",
       "      <td>kanpur</td>\n",
       "    </tr>\n",
       "  </tbody>\n",
       "</table>\n",
       "</div>"
      ],
      "text/plain": [
       "    id    name  price    city\n",
       "0  101   apple    150  meerut\n",
       "1  102  orange    250  kanpur"
      ]
     },
     "execution_count": 135,
     "metadata": {},
     "output_type": "execute_result"
    }
   ],
   "source": [
    "data_fr.head(2)"
   ]
  },
  {
   "cell_type": "code",
   "execution_count": 136,
   "id": "2c145c54",
   "metadata": {},
   "outputs": [
    {
     "data": {
      "text/html": [
       "<div>\n",
       "<style scoped>\n",
       "    .dataframe tbody tr th:only-of-type {\n",
       "        vertical-align: middle;\n",
       "    }\n",
       "\n",
       "    .dataframe tbody tr th {\n",
       "        vertical-align: top;\n",
       "    }\n",
       "\n",
       "    .dataframe thead th {\n",
       "        text-align: right;\n",
       "    }\n",
       "</style>\n",
       "<table border=\"1\" class=\"dataframe\">\n",
       "  <thead>\n",
       "    <tr style=\"text-align: right;\">\n",
       "      <th></th>\n",
       "      <th>id</th>\n",
       "      <th>name</th>\n",
       "      <th>price</th>\n",
       "      <th>city</th>\n",
       "    </tr>\n",
       "  </thead>\n",
       "  <tbody>\n",
       "    <tr>\n",
       "      <th>2</th>\n",
       "      <td>103</td>\n",
       "      <td>mango</td>\n",
       "      <td>99</td>\n",
       "      <td>mumbai</td>\n",
       "    </tr>\n",
       "    <tr>\n",
       "      <th>3</th>\n",
       "      <td>104</td>\n",
       "      <td>date</td>\n",
       "      <td>120</td>\n",
       "      <td>kolkata</td>\n",
       "    </tr>\n",
       "  </tbody>\n",
       "</table>\n",
       "</div>"
      ],
      "text/plain": [
       "    id   name  price     city\n",
       "2  103  mango     99   mumbai\n",
       "3  104   date    120  kolkata"
      ]
     },
     "execution_count": 136,
     "metadata": {},
     "output_type": "execute_result"
    }
   ],
   "source": [
    "data_fr.tail(2)"
   ]
  }
 ],
 "metadata": {
  "kernelspec": {
   "display_name": "Python 3 (ipykernel)",
   "language": "python",
   "name": "python3"
  },
  "language_info": {
   "codemirror_mode": {
    "name": "ipython",
    "version": 3
   },
   "file_extension": ".py",
   "mimetype": "text/x-python",
   "name": "python",
   "nbconvert_exporter": "python",
   "pygments_lexer": "ipython3",
   "version": "3.10.4"
  }
 },
 "nbformat": 4,
 "nbformat_minor": 5
}
