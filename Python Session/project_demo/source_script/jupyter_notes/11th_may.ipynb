{
 "cells": [
  {
   "cell_type": "markdown",
   "id": "c3c9a26c",
   "metadata": {},
   "source": [
    "# If statement"
   ]
  },
  {
   "cell_type": "code",
   "execution_count": 2,
   "id": "33353ec8",
   "metadata": {},
   "outputs": [
    {
     "name": "stdout",
     "output_type": "stream",
     "text": [
      "Enter your age:10\n",
      "rest of statements\n"
     ]
    }
   ],
   "source": [
    "age = int(input(\"Enter your age:\"))\n",
    "if age >=18:\n",
    "    print(\"Yoyr are eligible.\")\n",
    "\n",
    "print(\"rest of statements\")"
   ]
  },
  {
   "cell_type": "code",
   "execution_count": 4,
   "id": "224c39ff",
   "metadata": {},
   "outputs": [
    {
     "name": "stdout",
     "output_type": "stream",
     "text": [
      "Enter your age:12\n",
      "your are not eligible to cast your vote\n",
      "rest of statements\n"
     ]
    }
   ],
   "source": [
    "age = int(input(\"Enter your age:\"))\n",
    "if age >=18:\n",
    "    print(\"Yoyr are eligible.\")\n",
    "else:\n",
    "    print(\"your are not eligible to cast your vote\")\n",
    "\n",
    "print(\"rest of statements\")"
   ]
  },
  {
   "cell_type": "code",
   "execution_count": 6,
   "id": "cab2b53d",
   "metadata": {},
   "outputs": [
    {
     "name": "stdout",
     "output_type": "stream",
     "text": [
      "Enter number:26\n",
      "This is even number:26\n"
     ]
    }
   ],
   "source": [
    "num = int(input(\"Enter number:\"))\n",
    "if num%2==0:\n",
    "    print(f\"This is even number:{num}\")\n",
    "else:\n",
    "    print(f\"This is odd number:{num}\")"
   ]
  },
  {
   "cell_type": "markdown",
   "id": "23cfa85f",
   "metadata": {},
   "source": [
    "### if-elif-else statement"
   ]
  },
  {
   "cell_type": "code",
   "execution_count": 12,
   "id": "3d3ecb0a",
   "metadata": {},
   "outputs": [
    {
     "name": "stdout",
     "output_type": "stream",
     "text": [
      "Enter your name:Ganga\n",
      "Enter your percentage:70\n",
      "Student name:Ganga\n",
      " Percentage:70.0,\n",
      " Division:First\n"
     ]
    }
   ],
   "source": [
    "name = input(\"Enter your name:\")\n",
    "per = float(input(\"Enter your percentage:\"))\n",
    "division = \"Fail\"\n",
    "if per>=60:\n",
    "    division = \"First\"\n",
    "elif per>=45 and per<60:\n",
    "     division = \"Second\"\n",
    "elif per>=33 and per<45:\n",
    "    division = \"Third\"\n",
    "    \n",
    "\n",
    "print(f\"Student name:{name}\\n Percentage:{per},\\n Division:{division}\")\n"
   ]
  },
  {
   "cell_type": "markdown",
   "id": "7687b699",
   "metadata": {},
   "source": [
    "# Nested ifelse"
   ]
  },
  {
   "cell_type": "code",
   "execution_count": 14,
   "id": "14f469ec",
   "metadata": {},
   "outputs": [
    {
     "name": "stdout",
     "output_type": "stream",
     "text": [
      "Enter number15\n",
      "Number is odd\n"
     ]
    }
   ],
   "source": [
    "num = int(input(\"Enter number\"))\n",
    "if num >0:\n",
    "    if num%2 == 0:\n",
    "        print(\"Number is even\")\n",
    "    else:\n",
    "        print(\"Number is odd\")\n",
    "else:\n",
    "    print(\"Plz enter num>0\")"
   ]
  },
  {
   "cell_type": "markdown",
   "id": "cb18f511",
   "metadata": {},
   "source": [
    "## Iteration\n",
    "***for loop***<br>\n",
    "***while loop***<br>"
   ]
  },
  {
   "cell_type": "code",
   "execution_count": null,
   "id": "c05c7120",
   "metadata": {},
   "outputs": [],
   "source": [
    "#for(control_variable) in <sequence/items in range>:***<br>\n",
    " #   <statement_for_loop>\n",
    "  #else:          # Opetional\n",
    "  #  <statement_>\n"
   ]
  },
  {
   "cell_type": "code",
   "execution_count": 15,
   "id": "ea824804",
   "metadata": {},
   "outputs": [
    {
     "name": "stdout",
     "output_type": "stream",
     "text": [
      "p\n",
      "y\n",
      "t\n",
      "h\n",
      "o\n",
      "n\n"
     ]
    }
   ],
   "source": [
    "for ch in \"python\":\n",
    "    print(ch)"
   ]
  },
  {
   "cell_type": "code",
   "execution_count": 18,
   "id": "e67cc89c",
   "metadata": {},
   "outputs": [
    {
     "name": "stdout",
     "output_type": "stream",
     "text": [
      "4\n",
      "5\n",
      "6\n",
      "7\n",
      "8\n",
      "9\n"
     ]
    }
   ],
   "source": [
    "for i in range(4,10):\n",
    "    print(i)"
   ]
  },
  {
   "cell_type": "code",
   "execution_count": 22,
   "id": "286b0f94",
   "metadata": {},
   "outputs": [
    {
     "name": "stdout",
     "output_type": "stream",
     "text": [
      "jan\n",
      "feb\n",
      "march\n",
      "apr\n",
      "may\n",
      "else for loop\n"
     ]
    }
   ],
   "source": [
    "# l1 = [\"jan\",\"feb\",\"march\",\"apr\",\"may\"]\n",
    "# # l1 = 10\n",
    "# month = \"apr\"\n",
    "# for month in l1:\n",
    "#     print(month)\n",
    "# else:\n",
    "#     print(\"else for loop\")\n",
    "    \n",
    "# # print(month)"
   ]
  },
  {
   "cell_type": "code",
   "execution_count": 26,
   "id": "0b995d3d",
   "metadata": {},
   "outputs": [
    {
     "name": "stdout",
     "output_type": "stream",
     "text": [
      "Enter to get factorial:6\n",
      "0\n",
      "1\n",
      "2\n",
      "3\n",
      "4\n",
      "5\n",
      "Factorial: 720\n"
     ]
    }
   ],
   "source": [
    "# factorila\n",
    "num = int(input(\"Enter to get factorial:\"))\n",
    "fact = 1\n",
    "for x in range(num):\n",
    "    print(x)\n",
    "    fact = fact * (x + 1)\n",
    "print(\"Factorial:\",fact)"
   ]
  },
  {
   "cell_type": "markdown",
   "id": "3da3d6d3",
   "metadata": {},
   "source": [
    "### While loop"
   ]
  },
  {
   "cell_type": "code",
   "execution_count": null,
   "id": "748d2a51",
   "metadata": {},
   "outputs": [],
   "source": [
    "#while <test_expression>:\n",
    "#   Body of while\n",
    "#else:              # opetional\n",
    "#   Body of else"
   ]
  },
  {
   "cell_type": "code",
   "execution_count": 28,
   "id": "98992b93",
   "metadata": {},
   "outputs": [
    {
     "name": "stdout",
     "output_type": "stream",
     "text": [
      "1\n",
      "2\n",
      "3\n",
      "4\n",
      "5\n",
      "I am executed after the loop end\n"
     ]
    }
   ],
   "source": [
    "count=1\n",
    "while count <=5:  # 1,2,3,4,5,6\n",
    "    print(count)\n",
    "    count +=1\n",
    "else:\n",
    "    print(\"I am executed after the loop end\")"
   ]
  },
  {
   "cell_type": "code",
   "execution_count": 29,
   "id": "da0f991e",
   "metadata": {},
   "outputs": [
    {
     "name": "stdout",
     "output_type": "stream",
     "text": [
      "Enter to get factorial:5\n",
      "120\n"
     ]
    }
   ],
   "source": [
    "# factorial\n",
    "num = int(input(\"Enter to get factorial:\"))\n",
    "fact=1\n",
    "x = 1\n",
    "while x <=num:\n",
    "    fact = fact * x\n",
    "    x = x +1\n",
    "    \n",
    "print(fact)"
   ]
  },
  {
   "cell_type": "code",
   "execution_count": null,
   "id": "f40d7f47",
   "metadata": {},
   "outputs": [],
   "source": [
    "# x = int(input(\"Enter decimal number:\"))\n",
    "# print(oct(x))"
   ]
  },
  {
   "cell_type": "markdown",
   "id": "a4c582e9",
   "metadata": {},
   "source": [
    "## Break statement"
   ]
  },
  {
   "cell_type": "code",
   "execution_count": 34,
   "id": "8bc13700",
   "metadata": {},
   "outputs": [
    {
     "name": "stdout",
     "output_type": "stream",
     "text": [
      "Enter name:name\n",
      "50\n",
      "20\n",
      "30\n",
      "Break encountered, Terminating loop\n",
      "Outside loop\n",
      "0\n",
      "1\n",
      "2\n"
     ]
    }
   ],
   "source": [
    "name = input(\"Enter name:\")\n",
    "l1 = [50,20,30,None,30,15]\n",
    "for ch in l1:\n",
    "    if ch == None:\n",
    "        print(\"Break encountered, Terminating loop\")\n",
    "        break\n",
    "    print(ch)\n",
    "\n",
    "print(\"Outside loop\")\n",
    "for i in range(3):\n",
    "    print(i)"
   ]
  },
  {
   "cell_type": "code",
   "execution_count": null,
   "id": "cbe35d83",
   "metadata": {},
   "outputs": [],
   "source": [
    "for i in range(5):\n",
    "    for ch in \"python\":\n",
    "        if ch==\"o\":\n",
    "            break\n",
    "        print(ch)\n",
    "    print(\"i=\",i)"
   ]
  },
  {
   "cell_type": "markdown",
   "id": "b1eb5c94",
   "metadata": {},
   "source": [
    "## Continue Statement:\n"
   ]
  },
  {
   "cell_type": "code",
   "execution_count": 37,
   "id": "6d8ab558",
   "metadata": {},
   "outputs": [
    {
     "name": "stdout",
     "output_type": "stream",
     "text": [
      "ch 1\n",
      "2*1 = 2\n",
      "ch 2\n",
      "2*2 = 4\n",
      "ch 3\n",
      "2*3 = 6\n",
      "ch 4\n",
      "2*4 = 8\n",
      "ch 5\n",
      "ch 6\n",
      "2*6 = 12\n",
      "ch 7\n",
      "2*7 = 14\n"
     ]
    }
   ],
   "source": [
    "x = 2\n",
    "for ch in range(1,8):\n",
    "    tbl = x * ch\n",
    "    print(\"ch\",ch)\n",
    "    if ch ==5:\n",
    "        continue\n",
    "        \n",
    "    print(f\"{x}*{ch} = {tbl}\")\n",
    "    call = func()\n",
    "    x = 2+3"
   ]
  },
  {
   "cell_type": "code",
   "execution_count": null,
   "id": "d5a8eba5",
   "metadata": {},
   "outputs": [],
   "source": [
    "x = 2\n",
    "for ot in range(1,5):\n",
    "    for i in range(1,7):\n",
    "        tbl = x*i\n",
    "        if i==5:\n",
    "            continue\n",
    "        print(f\"{x}*{i} = {tbl}\")\n",
    "    print(\"Outer loop:\",ot)"
   ]
  }
 ],
 "metadata": {
  "kernelspec": {
   "display_name": "Python 3 (ipykernel)",
   "language": "python",
   "name": "python3"
  },
  "language_info": {
   "codemirror_mode": {
    "name": "ipython",
    "version": 3
   },
   "file_extension": ".py",
   "mimetype": "text/x-python",
   "name": "python",
   "nbconvert_exporter": "python",
   "pygments_lexer": "ipython3",
   "version": "3.10.4"
  }
 },
 "nbformat": 4,
 "nbformat_minor": 5
}
