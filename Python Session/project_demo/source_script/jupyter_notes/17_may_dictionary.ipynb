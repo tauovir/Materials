{
 "cells": [
  {
   "cell_type": "code",
   "execution_count": 1,
   "id": "6716cb97",
   "metadata": {},
   "outputs": [],
   "source": [
    "# defining Dictionary"
   ]
  },
  {
   "cell_type": "code",
   "execution_count": 6,
   "id": "2c2b86d5",
   "metadata": {},
   "outputs": [
    {
     "data": {
      "text/plain": [
       "dict"
      ]
     },
     "execution_count": 6,
     "metadata": {},
     "output_type": "execute_result"
    }
   ],
   "source": [
    "# empty dictionary\n",
    "dict1 = {}\n",
    "type(dict1)"
   ]
  },
  {
   "cell_type": "code",
   "execution_count": 14,
   "id": "59770292",
   "metadata": {},
   "outputs": [
    {
     "name": "stdout",
     "output_type": "stream",
     "text": [
      "{1: 'apple', 2: 'ball'}\n"
     ]
    }
   ],
   "source": [
    "# dictionary with integer keys\n",
    "# my_dict = {1, 'apple', 2: 'ball'}\n",
    "# print(my_dict)\n",
    "# dictionary with mixed keys\n",
    "my_dict = {'name': 'John', 1: [2, 4, 3]}\n",
    "# print(my_dict)\n",
    "\n",
    "\n",
    "#===================Check this one====================\n",
    "# using dict()\n",
    "my_dict = dict({1:'apple', 2:'ball'})\n",
    "# print(my_dict)\n",
    "# print(my_dict)\n",
    "# # from sequence having each item as a pair\n",
    "my_dict = dict([(1,'apple'), (2,'ball')])\n",
    "print(my_dict)"
   ]
  },
  {
   "cell_type": "code",
   "execution_count": null,
   "id": "903c7f6a",
   "metadata": {},
   "outputs": [],
   "source": []
  },
  {
   "cell_type": "code",
   "execution_count": null,
   "id": "44c67bf6",
   "metadata": {},
   "outputs": [],
   "source": [
    "# different key may have same value"
   ]
  },
  {
   "cell_type": "code",
   "execution_count": 18,
   "id": "a90bddae",
   "metadata": {},
   "outputs": [
    {
     "data": {
      "text/plain": [
       "{'first_name': 'Rahul', 'last_name': 'Rahul', 'age': 20}"
      ]
     },
     "execution_count": 18,
     "metadata": {},
     "output_type": "execute_result"
    }
   ],
   "source": [
    "dict1 = {\"first_name\":\"Rahul\",\"last_name\" : \"Rahul\",\"age\" : 20}\n",
    "dict1"
   ]
  },
  {
   "cell_type": "code",
   "execution_count": 46,
   "id": "88daf57e",
   "metadata": {},
   "outputs": [],
   "source": [
    "# key must be unique, if key are same and value are different,latest key_value paired will be stored"
   ]
  },
  {
   "cell_type": "code",
   "execution_count": 22,
   "id": "b3281420",
   "metadata": {},
   "outputs": [
    {
     "data": {
      "text/plain": [
       "{'first_name': 'Mohit', 'last_name': 'Kuma', 'age': 20, 'l1': [10, 20, 30]}"
      ]
     },
     "execution_count": 22,
     "metadata": {},
     "output_type": "execute_result"
    }
   ],
   "source": [
    "dict1 = {\"first_name\":\"Rahul\",\"last_name\" : \"Kuma\",\"age\" : 20,\"first_name\":\"Mohit\",\"l1\" : [10,20,30]}\n",
    "dict1"
   ]
  },
  {
   "cell_type": "markdown",
   "id": "503aa206",
   "metadata": {},
   "source": [
    "## Accessing Dictionary:\n",
    "**The element are not position indexed but key indexed**<br>\n",
    "**Dictionary cannot be sliced using []**<br>"
   ]
  },
  {
   "cell_type": "code",
   "execution_count": 23,
   "id": "b5fa4e2d",
   "metadata": {},
   "outputs": [],
   "source": [
    "student = {\"name\":\"Rahul\",\"class\" :\"10th\",\"school\":\"Army public school\",\"dob\" : \"02-11-2015\"}\n"
   ]
  },
  {
   "cell_type": "code",
   "execution_count": 26,
   "id": "a3375932",
   "metadata": {},
   "outputs": [
    {
     "ename": "KeyError",
     "evalue": "'age'",
     "output_type": "error",
     "traceback": [
      "\u001b[1;31m---------------------------------------------------------------------------\u001b[0m",
      "\u001b[1;31mKeyError\u001b[0m                                  Traceback (most recent call last)",
      "Input \u001b[1;32mIn [26]\u001b[0m, in \u001b[0;36m<cell line: 3>\u001b[1;34m()\u001b[0m\n\u001b[0;32m      1\u001b[0m \u001b[38;5;66;03m# print(\"Name:\",student['name'])\u001b[39;00m\n\u001b[0;32m      2\u001b[0m \u001b[38;5;66;03m# print(\"class:\",student['class'])\u001b[39;00m\n\u001b[1;32m----> 3\u001b[0m \u001b[38;5;28mprint\u001b[39m(\u001b[38;5;124m\"\u001b[39m\u001b[38;5;124mage:\u001b[39m\u001b[38;5;124m\"\u001b[39m,\u001b[43mstudent\u001b[49m\u001b[43m[\u001b[49m\u001b[38;5;124;43m'\u001b[39;49m\u001b[38;5;124;43mage\u001b[39;49m\u001b[38;5;124;43m'\u001b[39;49m\u001b[43m]\u001b[49m)\n",
      "\u001b[1;31mKeyError\u001b[0m: 'age'"
     ]
    }
   ],
   "source": [
    "# print(\"Name:\",student['name'])\n",
    "# print(\"class:\",student['class'])\n",
    "print(\"age:\",student['age'])"
   ]
  },
  {
   "cell_type": "markdown",
   "id": "408e41fc",
   "metadata": {},
   "source": [
    "# Using loop\":\n",
    "### Iterate over key-value pair"
   ]
  },
  {
   "cell_type": "code",
   "execution_count": 30,
   "id": "7c5f8919",
   "metadata": {},
   "outputs": [
    {
     "name": "stdout",
     "output_type": "stream",
     "text": [
      "Key: name val: Rahul\n",
      "Key: class val: 10th\n",
      "Key: school val: Army public school\n",
      "Key: dob val: 02-11-2015\n"
     ]
    }
   ],
   "source": [
    "student = {\"name\":\"Rahul\",\"class\" :\"10th\",\"school\":\"Army public school\",\"dob\" : \"02-11-2015\"}\n",
    "for key,val in student.items():\n",
    "    print(\"Key:\",key,\"val:\",val)"
   ]
  },
  {
   "cell_type": "code",
   "execution_count": 31,
   "id": "0b07f240",
   "metadata": {},
   "outputs": [
    {
     "data": {
      "text/plain": [
       "dict_items([('name', 'Rahul'), ('class', '10th'), ('school', 'Army public school'), ('dob', '02-11-2015')])"
      ]
     },
     "execution_count": 31,
     "metadata": {},
     "output_type": "execute_result"
    }
   ],
   "source": [
    "student.items()"
   ]
  },
  {
   "cell_type": "markdown",
   "id": "b4b94ce6",
   "metadata": {},
   "source": [
    "### Iterate over key"
   ]
  },
  {
   "cell_type": "code",
   "execution_count": 33,
   "id": "e4984599",
   "metadata": {},
   "outputs": [
    {
     "name": "stdout",
     "output_type": "stream",
     "text": [
      "name\n",
      "class\n",
      "school\n",
      "dob\n"
     ]
    }
   ],
   "source": [
    "student = {\"name\":\"Rahul\",\"class\" :\"10th\",\"school\":\"Army public school\",\"dob\" : \"02-11-2015\"}\n",
    "for key in student.keys():\n",
    "    print(key)"
   ]
  },
  {
   "cell_type": "code",
   "execution_count": 36,
   "id": "553e0b43",
   "metadata": {},
   "outputs": [
    {
     "name": "stdout",
     "output_type": "stream",
     "text": [
      "Rahul\n",
      "10th\n",
      "Army public school\n",
      "02-11-2015\n"
     ]
    }
   ],
   "source": [
    "student = {\"name\":\"Rahul\",\"class\" :\"10th\",\"school\":\"Army public school\",\"dob\" : \"02-11-2015\"}\n",
    "for val in student.values():\n",
    "    print(val)"
   ]
  },
  {
   "cell_type": "markdown",
   "id": "3f236f66",
   "metadata": {},
   "source": [
    "## Common Dictioinary Operation"
   ]
  },
  {
   "cell_type": "code",
   "execution_count": 47,
   "id": "ee039a29",
   "metadata": {},
   "outputs": [
    {
     "name": "stdout",
     "output_type": "stream",
     "text": [
      "{'name': 'Rahul', 'class': '10th', 'school': 'Army public school', 'dob': '02-11-2015', 'city': 'Mumbai'}\n"
     ]
    }
   ],
   "source": [
    "student = {\"name\":\"Rahul\",\"class\" :\"10th\",\"school\":\"Army public school\",\"dob\" : \"02-11-2015\"}\n",
    "\n",
    "# add \n",
    "student['city'] = \"Meerut\"\n",
    "# student['country'] = \"India\"\n",
    "# modify value\n",
    "student['city'] = \"Mumbai\"\n",
    "# delete key value pair\n",
    "# del student['city']\n",
    "# delete dictionary object\n",
    "# del student\n",
    "print(student)"
   ]
  },
  {
   "cell_type": "code",
   "execution_count": 108,
   "id": "70c258ad",
   "metadata": {},
   "outputs": [],
   "source": [
    "student = {\"name\":\"Rahul\",\"class\" :\"10th\",\"school\":\"Army public school\",\"dob\" : \"02-11-2015\"}"
   ]
  },
  {
   "cell_type": "code",
   "execution_count": 110,
   "id": "4eab4a93",
   "metadata": {},
   "outputs": [
    {
     "data": {
      "text/plain": [
       "3125536664640"
      ]
     },
     "execution_count": 110,
     "metadata": {},
     "output_type": "execute_result"
    }
   ],
   "source": [
    "id(student)"
   ]
  },
  {
   "cell_type": "markdown",
   "id": "d37713b0",
   "metadata": {},
   "source": [
    "# few facts\n",
    "**two dictionary cann not be concatenated using \"+\"**<br>\n",
    "**Two Dictionary cann not be merged using \"d3 = d1 + d2\" operator**<br>"
   ]
  },
  {
   "cell_type": "code",
   "execution_count": 50,
   "id": "ce2b456f",
   "metadata": {},
   "outputs": [
    {
     "name": "stdout",
     "output_type": "stream",
     "text": [
      "[1, 2, True, 'name', 'color', 50]\n",
      "(20, 30, 'name', 60, 50)\n"
     ]
    }
   ],
   "source": [
    "l1 = [1,2,True]\n",
    "l2 = [\"name\",\"color\",50]\n",
    "l3 = l1 + l2\n",
    "print(l3)\n",
    "t1 = (20,30)\n",
    "t2 = (\"name\",60,50)\n",
    "t3 = t1 + t2\n",
    "print(t3)"
   ]
  },
  {
   "cell_type": "code",
   "execution_count": 52,
   "id": "b9365ab0",
   "metadata": {},
   "outputs": [],
   "source": [
    "student = {\"name\":\"Rahul\",\"class\" :\"10th\",\"school\":\"Army public school\",\"dob\" : \"02-11-2015\"}\n",
    "department = {\"dep\" : \"science\",\"feculty\" : \"Ganga\"}\n",
    "# d1 = student + department\n",
    "# student + department"
   ]
  },
  {
   "cell_type": "markdown",
   "id": "e7a4bfce",
   "metadata": {},
   "source": [
    "# Built-in function on dictionary"
   ]
  },
  {
   "cell_type": "markdown",
   "id": "978d815d",
   "metadata": {},
   "source": [
    "## len()\n",
    "**This method returns number of key-value pairs in the given dictionary**"
   ]
  },
  {
   "cell_type": "code",
   "execution_count": 54,
   "id": "24d33abb",
   "metadata": {},
   "outputs": [
    {
     "name": "stdout",
     "output_type": "stream",
     "text": [
      "7\n"
     ]
    }
   ],
   "source": [
    "days = {\"mon\":\"monday\",\"tue\":\"tuesday\",\"wed\":\"wednesday\",\"thu\":\"thursday\",\"fri\":\"friday\",\"sat\":\"saturday\",\"bbb\" :20}\n",
    "print(len(days))"
   ]
  },
  {
   "cell_type": "markdown",
   "id": "7301cdfa",
   "metadata": {},
   "source": [
    "## Clear()\n",
    "**It removes all items from the particular dictionary**"
   ]
  },
  {
   "cell_type": "code",
   "execution_count": 58,
   "id": "d2b0b45c",
   "metadata": {},
   "outputs": [
    {
     "name": "stdout",
     "output_type": "stream",
     "text": [
      "<class 'set'>\n",
      "Before clear: {'mon': 'monday', 'tue': 'tuesday', 'wed': 'wednesday', 'thu': 'thursday', 'fri': 'friday', 'sat': 'saturday'}\n",
      "After clear: {}\n"
     ]
    }
   ],
   "source": [
    "days = {\"mon\":\"monday\",\"tue\":\"tuesday\",\"wed\":\"wednesday\",\"thu\":\"thursday\",\"fri\":\"friday\",\"sat\":\"saturday\"}\n",
    "\n",
    "print(type(d1))\n",
    "print(\"Before clear:\",days)\n",
    "days.clear()\n",
    "print(\"After clear:\",days)"
   ]
  },
  {
   "cell_type": "markdown",
   "id": "5de4e0ac",
   "metadata": {},
   "source": [
    "## get()\n",
    "**It return the value from the given key. If key is not avialable the default value is return**"
   ]
  },
  {
   "cell_type": "code",
   "execution_count": 69,
   "id": "277f4c95",
   "metadata": {},
   "outputs": [
    {
     "name": "stdout",
     "output_type": "stream",
     "text": [
      "Sunday\n",
      "{'mon': 'monday', 'tue': 'tuesday', 'wed': 'wednesday', 'thu': 'thursday', 'fri': 'friday', 'sat': 'saturday'}\n"
     ]
    }
   ],
   "source": [
    "days = {\"mon\":\"monday\",\"tue\":\"tuesday\",\"wed\":\"wednesday\",\"thu\":\"thursday\",\"fri\":\"friday\",\"sat\":\"saturday\"}\n",
    "# print(days['mon2'])\n",
    "print(days.get('mon2',\"Sunday\"))\n",
    "# print(days.get('wed3',\"Sunday\"))\n"
   ]
  },
  {
   "cell_type": "markdown",
   "id": "15ca07c5",
   "metadata": {},
   "source": [
    "## items()\n",
    "**it return the content of dictionary as a list of tuple having key-value pair**"
   ]
  },
  {
   "cell_type": "code",
   "execution_count": 67,
   "id": "66ff442a",
   "metadata": {},
   "outputs": [
    {
     "data": {
      "text/plain": [
       "dict_items([('mon', 'monday'), ('tue', 'tuesday'), ('wed', 'wednesday'), ('thu', 'thursday'), ('fri', 'friday'), ('sat', 'saturday')])"
      ]
     },
     "execution_count": 67,
     "metadata": {},
     "output_type": "execute_result"
    }
   ],
   "source": [
    "days = {\"mon\":\"monday\",\"tue\":\"tuesday\",\"wed\":\"wednesday\",\"thu\":\"thursday\",\"fri\":\"friday\",\"sat\":\"saturday\"}\n",
    "l1 = days.items()\n",
    "l1"
   ]
  },
  {
   "cell_type": "code",
   "execution_count": 68,
   "id": "564ebf5b",
   "metadata": {},
   "outputs": [
    {
     "name": "stdout",
     "output_type": "stream",
     "text": [
      "mon monday\n",
      "tue tuesday\n",
      "wed wednesday\n",
      "thu thursday\n",
      "fri friday\n",
      "sat saturday\n"
     ]
    }
   ],
   "source": [
    "for key, val in days.items():\n",
    "    print(key,val)"
   ]
  },
  {
   "cell_type": "markdown",
   "id": "dc96a241",
   "metadata": {},
   "source": [
    "## Keys\n",
    "**It return list of keys in dictionary**"
   ]
  },
  {
   "cell_type": "code",
   "execution_count": 72,
   "id": "ecf045f2",
   "metadata": {},
   "outputs": [
    {
     "name": "stdout",
     "output_type": "stream",
     "text": [
      "dict_keys(['mon', 'tue', 'wed', 'thu', 'fri', 'sat'])\n"
     ]
    }
   ],
   "source": [
    "days = {\"mon\":\"monday\",\"tue\":\"tuesday\",\"wed\":\"wednesday\",\"thu\":\"thursday\",\"fri\":\"friday\",\"sat\":\"saturday\"}\n",
    "# days.keys()\n",
    "print(days.keys())"
   ]
  },
  {
   "cell_type": "markdown",
   "id": "98a1c3b3",
   "metadata": {},
   "source": [
    "## values\n",
    "**It return values from key-value pair of dictionary**"
   ]
  },
  {
   "cell_type": "code",
   "execution_count": 138,
   "id": "6b3ec1f7",
   "metadata": {},
   "outputs": [
    {
     "data": {
      "text/plain": [
       "dict_values(['monday', 'tuesday', 'wednesday', 'thursday', 'friday', 'saturday'])"
      ]
     },
     "execution_count": 138,
     "metadata": {},
     "output_type": "execute_result"
    }
   ],
   "source": [
    "days = {\"mon\":\"monday\",\"tue\":\"tuesday\",\"wed\":\"wednesday\",\"thu\":\"thursday\",\"fri\":\"friday\",\"sat\":\"saturday\"}\n",
    "days.values()"
   ]
  },
  {
   "cell_type": "markdown",
   "id": "3ff8067b",
   "metadata": {},
   "source": [
    "## update()\n",
    "**update dictionary**"
   ]
  },
  {
   "cell_type": "code",
   "execution_count": 71,
   "id": "a2d8ecd0",
   "metadata": {},
   "outputs": [
    {
     "name": "stdout",
     "output_type": "stream",
     "text": [
      "{'name': 'Rahul', 'class': '10th', 'school': 'Army public school', 'dob': '02-11-2015'}\n",
      "{'dep': 'science', 'feculty': 'Ganga'}\n"
     ]
    }
   ],
   "source": [
    "student = {\"name\":\"Rahul\",\"class\" :\"10th\",\"school\":\"Army public school\",\"dob\" : \"02-11-2015\"}\n",
    "department = {\"dep\" : \"science\",\"feculty\" : \"Ganga\"}\n",
    "print(student)\n",
    "print(department)"
   ]
  },
  {
   "cell_type": "code",
   "execution_count": 73,
   "id": "a5f1b504",
   "metadata": {},
   "outputs": [
    {
     "name": "stdout",
     "output_type": "stream",
     "text": [
      "{'name': 'Rahul', 'class': '10th', 'school': 'Army public school', 'dob': '02-11-2015', 'dep': 'science', 'feculty': 'Ganga'}\n"
     ]
    }
   ],
   "source": [
    "student.update(department)\n",
    "print(student)"
   ]
  },
  {
   "cell_type": "markdown",
   "id": "043a7260",
   "metadata": {},
   "source": [
    "## pop()\n",
    "**remove key and return its value**"
   ]
  },
  {
   "cell_type": "code",
   "execution_count": 74,
   "id": "ad00bc41",
   "metadata": {},
   "outputs": [
    {
     "name": "stdout",
     "output_type": "stream",
     "text": [
      "10th\n",
      "{'name': 'Rahul', 'school': 'Army public school', 'dob': '02-11-2015'}\n"
     ]
    }
   ],
   "source": [
    "student = {\"name\":\"Rahul\",\"class\" :\"10th\",\"school\":\"Army public school\",\"dob\" : \"02-11-2015\"}\n",
    "print(student.pop('class'))\n",
    "print(student)"
   ]
  },
  {
   "cell_type": "markdown",
   "id": "9a46bb89",
   "metadata": {},
   "source": [
    "## Nested Dictionary"
   ]
  },
  {
   "cell_type": "code",
   "execution_count": 76,
   "id": "903dd041",
   "metadata": {},
   "outputs": [],
   "source": [
    "data = {\"delimiter\" : \"|\",\"schema\" :{\"col\":\"first_name\",\"type\":\"string\",\"val\" : [10,20,30]}}"
   ]
  },
  {
   "cell_type": "code",
   "execution_count": 77,
   "id": "1ed9f86e",
   "metadata": {},
   "outputs": [
    {
     "data": {
      "text/plain": [
       "{'delimiter': '|',\n",
       " 'schema': {'col': 'first_name', 'type': 'string', 'val': [10, 20, 30]}}"
      ]
     },
     "execution_count": 77,
     "metadata": {},
     "output_type": "execute_result"
    }
   ],
   "source": [
    "data"
   ]
  },
  {
   "cell_type": "code",
   "execution_count": 78,
   "id": "6c76a9c4",
   "metadata": {},
   "outputs": [
    {
     "data": {
      "text/plain": [
       "{'col': 'first_name', 'type': 'string', 'val': [10, 20, 30]}"
      ]
     },
     "execution_count": 78,
     "metadata": {},
     "output_type": "execute_result"
    }
   ],
   "source": [
    "schema = data['schema']\n",
    "schema"
   ]
  },
  {
   "cell_type": "code",
   "execution_count": 79,
   "id": "9023e681",
   "metadata": {},
   "outputs": [
    {
     "data": {
      "text/plain": [
       "'first_name'"
      ]
     },
     "execution_count": 79,
     "metadata": {},
     "output_type": "execute_result"
    }
   ],
   "source": [
    "schema['col']"
   ]
  },
  {
   "cell_type": "code",
   "execution_count": 81,
   "id": "32f6320a",
   "metadata": {},
   "outputs": [
    {
     "data": {
      "text/plain": [
       "20"
      ]
     },
     "execution_count": 81,
     "metadata": {},
     "output_type": "execute_result"
    }
   ],
   "source": []
  },
  {
   "cell_type": "code",
   "execution_count": 204,
   "id": "aedac20f",
   "metadata": {},
   "outputs": [
    {
     "data": {
      "text/plain": [
       "['name', 'class', 'school', 'dob', 'dep', 'feculty']"
      ]
     },
     "execution_count": 204,
     "metadata": {},
     "output_type": "execute_result"
    }
   ],
   "source": [
    "student = {\"name\":\"Rahul\",\"class\" :\"10th\",\"school\":\"Army public school\",\"dob\" : \"02-11-2015\"}\n",
    "department = {\"dep\" : \"science\",\"feculty\" : \"Ganga\"}\n",
    "list({**student,**department})"
   ]
  },
  {
   "cell_type": "code",
   "execution_count": 82,
   "id": "af9f8c35",
   "metadata": {},
   "outputs": [
    {
     "data": {
      "text/plain": [
       "['name', 'class', 'school', 'dob', 'dep', 'feculty']"
      ]
     },
     "execution_count": 82,
     "metadata": {},
     "output_type": "execute_result"
    }
   ],
   "source": [
    "student = {\"name\":\"Rahul\",\"class\" :\"10th\",\"school\":\"Army public school\",\"dob\" : \"02-11-2015\"}\n",
    "department = {\"dep\" : \"science\",\"feculty\" : \"Ganga\"}\n",
    "list({**student,**department})"
   ]
  }
 ],
 "metadata": {
  "kernelspec": {
   "display_name": "Python 3 (ipykernel)",
   "language": "python",
   "name": "python3"
  },
  "language_info": {
   "codemirror_mode": {
    "name": "ipython",
    "version": 3
   },
   "file_extension": ".py",
   "mimetype": "text/x-python",
   "name": "python",
   "nbconvert_exporter": "python",
   "pygments_lexer": "ipython3",
   "version": "3.10.4"
  }
 },
 "nbformat": 4,
 "nbformat_minor": 5
}
