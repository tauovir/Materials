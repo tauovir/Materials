{
 "cells": [
  {
   "cell_type": "markdown",
   "id": "2c21ae87",
   "metadata": {},
   "source": [
    "## Pandas Series"
   ]
  },
  {
   "cell_type": "code",
   "execution_count": 14,
   "id": "d59994e2",
   "metadata": {},
   "outputs": [
    {
     "name": "stdout",
     "output_type": "stream",
     "text": [
      "Requirement already satisfied: numpy in c:\\users\\lenovo\\desktop\\materials\\python session\\project_demo\\venv310\\lib\\site-packages (1.22.4)\n"
     ]
    },
    {
     "name": "stderr",
     "output_type": "stream",
     "text": [
      "WARNING: You are using pip version 22.0.4; however, version 22.1.1 is available.\n",
      "You should consider upgrading via the 'C:\\Users\\LENOVO\\Desktop\\Materials\\Python Session\\project_demo\\venv310\\Scripts\\python.exe -m pip install --upgrade pip' command.\n"
     ]
    }
   ],
   "source": [
    "# !pip install pandas\n",
    "# !pip install numpy"
   ]
  },
  {
   "cell_type": "code",
   "execution_count": 15,
   "id": "c7b12fc8",
   "metadata": {},
   "outputs": [],
   "source": [
    "import pandas as pd\n",
    "import numpy as np"
   ]
  },
  {
   "cell_type": "code",
   "execution_count": 7,
   "id": "6cdb19a1",
   "metadata": {},
   "outputs": [
    {
     "data": {
      "text/plain": [
       "0    10\n",
       "1    20\n",
       "2    30\n",
       "3    50\n",
       "dtype: int64"
      ]
     },
     "execution_count": 7,
     "metadata": {},
     "output_type": "execute_result"
    }
   ],
   "source": [
    "# Default index 0 to N-1\n",
    "s1 = pd.Series([10,20,30,50])\n",
    "\n",
    "s1"
   ]
  },
  {
   "cell_type": "code",
   "execution_count": 9,
   "id": "3c6c7c16",
   "metadata": {},
   "outputs": [
    {
     "data": {
      "text/plain": [
       "one       apple\n",
       "tow      banana\n",
       "three    orange\n",
       "dtype: object"
      ]
     },
     "execution_count": 9,
     "metadata": {},
     "output_type": "execute_result"
    }
   ],
   "source": [
    "s2 = pd.Series([\"apple\",\"banana\",\"orange\"],index = [\"one\",\"tow\",\"three\"])\n",
    "s2"
   ]
  },
  {
   "cell_type": "code",
   "execution_count": 13,
   "id": "a8cb1f30",
   "metadata": {},
   "outputs": [],
   "source": [
    "## Creation of Series from Numpy array\n"
   ]
  },
  {
   "cell_type": "code",
   "execution_count": 16,
   "id": "a8c58330",
   "metadata": {},
   "outputs": [
    {
     "data": {
      "text/plain": [
       "0    10\n",
       "1    20\n",
       "2    30\n",
       "3     5\n",
       "4     6\n",
       "dtype: int32"
      ]
     },
     "execution_count": 16,
     "metadata": {},
     "output_type": "execute_result"
    }
   ],
   "source": [
    "s3 = pd.Series(np.array([10,20,30,5,6]))\n",
    "s3"
   ]
  },
  {
   "cell_type": "code",
   "execution_count": 24,
   "id": "09bc4309",
   "metadata": {},
   "outputs": [
    {
     "data": {
      "text/plain": [
       "0    1.0\n",
       "1    1.0\n",
       "2    1.0\n",
       "3    1.0\n",
       "4    1.0\n",
       "dtype: float64"
      ]
     },
     "execution_count": 24,
     "metadata": {},
     "output_type": "execute_result"
    }
   ],
   "source": [
    "s3 = pd.Series(np.ones(5))\n",
    "s3"
   ]
  },
  {
   "cell_type": "markdown",
   "id": "a60438bc",
   "metadata": {},
   "source": [
    "# Creating Series from Dictionary\n"
   ]
  },
  {
   "cell_type": "code",
   "execution_count": 27,
   "id": "142c95e7",
   "metadata": {},
   "outputs": [],
   "source": [
    "data = {\"id\" : 101,\"name\" : \"Amit\",\"city\" : \"Meerut\",\"created\" : \"25-05-2022\"}\n",
    "s3= pd.Series(data)"
   ]
  },
  {
   "cell_type": "code",
   "execution_count": 28,
   "id": "a40b9c6a",
   "metadata": {},
   "outputs": [
    {
     "data": {
      "text/plain": [
       "id                101\n",
       "name             Amit\n",
       "city           Meerut\n",
       "created    25-05-2022\n",
       "dtype: object"
      ]
     },
     "execution_count": 28,
     "metadata": {},
     "output_type": "execute_result"
    }
   ],
   "source": [
    "s3"
   ]
  },
  {
   "cell_type": "markdown",
   "id": "e8b9917d",
   "metadata": {},
   "source": [
    "# Accesing Element of Series\n",
    "1. indexing\n",
    "2. Sc=licing\n",
    "**Indexes are two types**<br>\n",
    "**1.Positional Index**<br>\n",
    "**2 Label index**<br>\n",
    "Positional index take an integer value that corresponds to its Series starting from 0, whereas <br>\n",
    "lable index takes any user_defined label as index"
   ]
  },
  {
   "cell_type": "code",
   "execution_count": 37,
   "id": "0c8cbe66",
   "metadata": {},
   "outputs": [
    {
     "data": {
      "text/plain": [
       "30"
      ]
     },
     "execution_count": 37,
     "metadata": {},
     "output_type": "execute_result"
    }
   ],
   "source": [
    "s1 = pd.Series([10,20,30,5])\n",
    "s1[2]"
   ]
  },
  {
   "cell_type": "code",
   "execution_count": 57,
   "id": "34f08583",
   "metadata": {},
   "outputs": [],
   "source": [
    "s1 = pd.Series([27,20,30,5], index = [\"one\",\"two\",\"three\",\"four\"])"
   ]
  },
  {
   "cell_type": "code",
   "execution_count": 43,
   "id": "a8b748ca",
   "metadata": {},
   "outputs": [
    {
     "data": {
      "text/plain": [
       "'Banana'"
      ]
     },
     "execution_count": 43,
     "metadata": {},
     "output_type": "execute_result"
    }
   ],
   "source": [
    "s1[0]"
   ]
  },
  {
   "cell_type": "code",
   "execution_count": 46,
   "id": "00144017",
   "metadata": {},
   "outputs": [
    {
     "data": {
      "text/plain": [
       "'Banana'"
      ]
     },
     "execution_count": 46,
     "metadata": {},
     "output_type": "execute_result"
    }
   ],
   "source": [
    "s1[\"one\"]"
   ]
  },
  {
   "cell_type": "markdown",
   "id": "9e2dd697",
   "metadata": {},
   "source": [
    "### More than one value can be get using using list of positional integres or a list of index label"
   ]
  },
  {
   "cell_type": "code",
   "execution_count": 50,
   "id": "9d98e571",
   "metadata": {},
   "outputs": [
    {
     "data": {
      "text/plain": [
       "two     20\n",
       "four     5\n",
       "dtype: int64"
      ]
     },
     "execution_count": 50,
     "metadata": {},
     "output_type": "execute_result"
    }
   ],
   "source": [
    "s1[[1,3]]"
   ]
  },
  {
   "cell_type": "code",
   "execution_count": 58,
   "id": "a7966103",
   "metadata": {},
   "outputs": [
    {
     "data": {
      "text/plain": [
       "two     20\n",
       "four     5\n",
       "dtype: int64"
      ]
     },
     "execution_count": 58,
     "metadata": {},
     "output_type": "execute_result"
    }
   ],
   "source": [
    "s1[[\"two\",\"four\"]]"
   ]
  },
  {
   "cell_type": "code",
   "execution_count": 52,
   "id": "22943041",
   "metadata": {},
   "outputs": [],
   "source": [
    "# Index value can be altered by assign reindex"
   ]
  },
  {
   "cell_type": "code",
   "execution_count": 59,
   "id": "92196960",
   "metadata": {},
   "outputs": [],
   "source": [
    "s1.index = [10,20,30,40]"
   ]
  },
  {
   "cell_type": "code",
   "execution_count": 60,
   "id": "d675c070",
   "metadata": {},
   "outputs": [
    {
     "data": {
      "text/plain": [
       "10    27\n",
       "20    20\n",
       "30    30\n",
       "40     5\n",
       "dtype: int64"
      ]
     },
     "execution_count": 60,
     "metadata": {},
     "output_type": "execute_result"
    }
   ],
   "source": [
    "s1"
   ]
  },
  {
   "cell_type": "markdown",
   "id": "7d913334",
   "metadata": {},
   "source": [
    "## Slicing\n"
   ]
  },
  {
   "cell_type": "code",
   "execution_count": 62,
   "id": "e713221f",
   "metadata": {},
   "outputs": [
    {
     "data": {
      "text/plain": [
       "10    27\n",
       "20    20\n",
       "30    30\n",
       "40     5\n",
       "dtype: int64"
      ]
     },
     "execution_count": 62,
     "metadata": {},
     "output_type": "execute_result"
    }
   ],
   "source": [
    "s1"
   ]
  },
  {
   "cell_type": "code",
   "execution_count": 70,
   "id": "01bf8424",
   "metadata": {},
   "outputs": [
    {
     "data": {
      "text/plain": [
       "two      20\n",
       "three    30\n",
       "dtype: int64"
      ]
     },
     "execution_count": 70,
     "metadata": {},
     "output_type": "execute_result"
    }
   ],
   "source": [
    "s1[1:3] # end positinal index excluded"
   ]
  },
  {
   "cell_type": "code",
   "execution_count": 65,
   "id": "87ec5105",
   "metadata": {},
   "outputs": [],
   "source": [
    "s1.index = [\"one\",\"two\",\"three\",\"four\"]"
   ]
  },
  {
   "cell_type": "code",
   "execution_count": 67,
   "id": "b63d6251",
   "metadata": {},
   "outputs": [
    {
     "data": {
      "text/plain": [
       "one      27\n",
       "two      20\n",
       "three    30\n",
       "dtype: int64"
      ]
     },
     "execution_count": 67,
     "metadata": {},
     "output_type": "execute_result"
    }
   ],
   "source": [
    "s1[\"one\":\"three\"]  # label slicing include end index"
   ]
  },
  {
   "cell_type": "code",
   "execution_count": 75,
   "id": "de239e23",
   "metadata": {},
   "outputs": [],
   "source": [
    "s1[1:3] = 99  # assing ning new values"
   ]
  },
  {
   "cell_type": "code",
   "execution_count": 74,
   "id": "4d7a2602",
   "metadata": {},
   "outputs": [
    {
     "data": {
      "text/plain": [
       "one      27\n",
       "two      99\n",
       "three    99\n",
       "four      5\n",
       "dtype: int64"
      ]
     },
     "execution_count": 74,
     "metadata": {},
     "output_type": "execute_result"
    }
   ],
   "source": [
    "s1"
   ]
  },
  {
   "cell_type": "markdown",
   "id": "61539cd1",
   "metadata": {},
   "source": [
    "## Property of Series\n",
    "**name**:assign a name to a serie<br>\n",
    "**index.name**:assign name to the index of series<br>\n",
    "**values:** :printing a list of values\n",
    "**size**:printing the number  of values in series<br>\n",
    "**empty**:Print True if series is empty<br>\n",
    "\n",
    "\n"
   ]
  },
  {
   "cell_type": "code",
   "execution_count": 76,
   "id": "b76c507b",
   "metadata": {},
   "outputs": [
    {
     "data": {
      "text/plain": [
       "one      27\n",
       "two      99\n",
       "three    99\n",
       "four      5\n",
       "Name: Test Series, dtype: int64"
      ]
     },
     "execution_count": 76,
     "metadata": {},
     "output_type": "execute_result"
    }
   ],
   "source": [
    "s1.name = \"Test Series\"  # assign a name to a series\n",
    "s1"
   ]
  },
  {
   "cell_type": "code",
   "execution_count": 79,
   "id": "99579467",
   "metadata": {},
   "outputs": [
    {
     "data": {
      "text/plain": [
       "IND\n",
       "one      27\n",
       "two      99\n",
       "three    99\n",
       "four      5\n",
       "Name: Test Series, dtype: int64"
      ]
     },
     "execution_count": 79,
     "metadata": {},
     "output_type": "execute_result"
    }
   ],
   "source": [
    "s1.index.name = \"IND\"  # assign name to the index of series\n",
    "s1"
   ]
  },
  {
   "cell_type": "code",
   "execution_count": 81,
   "id": "079bf83d",
   "metadata": {},
   "outputs": [
    {
     "data": {
      "text/plain": [
       "array([27, 99, 99,  5], dtype=int64)"
      ]
     },
     "execution_count": 81,
     "metadata": {},
     "output_type": "execute_result"
    }
   ],
   "source": [
    "s1.values  # printing a list of values"
   ]
  },
  {
   "cell_type": "code",
   "execution_count": 82,
   "id": "c206a46f",
   "metadata": {},
   "outputs": [
    {
     "data": {
      "text/plain": [
       "4"
      ]
     },
     "execution_count": 82,
     "metadata": {},
     "output_type": "execute_result"
    }
   ],
   "source": [
    "s1.size"
   ]
  },
  {
   "cell_type": "code",
   "execution_count": 83,
   "id": "06eb9f66",
   "metadata": {},
   "outputs": [
    {
     "data": {
      "text/plain": [
       "False"
      ]
     },
     "execution_count": 83,
     "metadata": {},
     "output_type": "execute_result"
    }
   ],
   "source": [
    "s1.empty"
   ]
  },
  {
   "cell_type": "code",
   "execution_count": 84,
   "id": "0b88b236",
   "metadata": {},
   "outputs": [],
   "source": [
    "# Methods"
   ]
  },
  {
   "cell_type": "code",
   "execution_count": 87,
   "id": "78f59b6f",
   "metadata": {},
   "outputs": [
    {
     "data": {
      "text/plain": [
       "0     10\n",
       "1     11\n",
       "2     12\n",
       "3     13\n",
       "4     14\n",
       "5     15\n",
       "6     16\n",
       "7     17\n",
       "8     18\n",
       "9     19\n",
       "10    20\n",
       "dtype: int32"
      ]
     },
     "execution_count": 87,
     "metadata": {},
     "output_type": "execute_result"
    }
   ],
   "source": [
    "s1 = pd.Series(np.arange(10,21,1))\n",
    "s1"
   ]
  },
  {
   "cell_type": "code",
   "execution_count": 94,
   "id": "ac0d00e3",
   "metadata": {},
   "outputs": [
    {
     "data": {
      "text/plain": [
       "0    10\n",
       "1    11\n",
       "2    12\n",
       "3    13\n",
       "4    14\n",
       "dtype: int32"
      ]
     },
     "execution_count": 94,
     "metadata": {},
     "output_type": "execute_result"
    }
   ],
   "source": [
    "s1.head()  # s1.head(8)"
   ]
  },
  {
   "cell_type": "code",
   "execution_count": 89,
   "id": "8df99ec4",
   "metadata": {},
   "outputs": [
    {
     "data": {
      "text/plain": [
       "6     16\n",
       "7     17\n",
       "8     18\n",
       "9     19\n",
       "10    20\n",
       "dtype: int32"
      ]
     },
     "execution_count": 89,
     "metadata": {},
     "output_type": "execute_result"
    }
   ],
   "source": [
    "s1.tail()"
   ]
  },
  {
   "cell_type": "code",
   "execution_count": 96,
   "id": "f3ba71c3",
   "metadata": {},
   "outputs": [
    {
     "data": {
      "text/plain": [
       "11"
      ]
     },
     "execution_count": 96,
     "metadata": {},
     "output_type": "execute_result"
    }
   ],
   "source": [
    "s1.count()  # Return number of Non-nan value"
   ]
  },
  {
   "cell_type": "markdown",
   "id": "3f23d750",
   "metadata": {},
   "source": [
    "## Mathmaticcal Operation"
   ]
  },
  {
   "cell_type": "code",
   "execution_count": 98,
   "id": "99177266",
   "metadata": {},
   "outputs": [
    {
     "data": {
      "text/plain": [
       "a    1\n",
       "b    2\n",
       "c    3\n",
       "d    4\n",
       "e    5\n",
       "dtype: int64"
      ]
     },
     "execution_count": 98,
     "metadata": {},
     "output_type": "execute_result"
    }
   ],
   "source": [
    "s1 = pd.Series([1,2,3,4,5], index = ['a','b','c','d','e'])\n",
    "s1"
   ]
  },
  {
   "cell_type": "code",
   "execution_count": 107,
   "id": "19fa6333",
   "metadata": {},
   "outputs": [
    {
     "data": {
      "text/plain": [
       "x     10\n",
       "y     20\n",
       "a    -10\n",
       "c    -50\n",
       "e    100\n",
       "dtype: int64"
      ]
     },
     "execution_count": 107,
     "metadata": {},
     "output_type": "execute_result"
    }
   ],
   "source": [
    "s2 = pd.Series([10,20,-10,-50,100], index = ['x','y','a','c','e'])\n",
    "s2"
   ]
  },
  {
   "cell_type": "code",
   "execution_count": 100,
   "id": "bf6af503",
   "metadata": {},
   "outputs": [],
   "source": [
    "c = s1+s2"
   ]
  },
  {
   "cell_type": "code",
   "execution_count": 101,
   "id": "b1768f75",
   "metadata": {},
   "outputs": [
    {
     "data": {
      "text/plain": [
       "a     -9.0\n",
       "b      NaN\n",
       "c    -47.0\n",
       "d      NaN\n",
       "e    105.0\n",
       "x      NaN\n",
       "y      NaN\n",
       "dtype: float64"
      ]
     },
     "execution_count": 101,
     "metadata": {},
     "output_type": "execute_result"
    }
   ],
   "source": [
    "c"
   ]
  },
  {
   "cell_type": "code",
   "execution_count": 102,
   "id": "a6fc6194",
   "metadata": {},
   "outputs": [
    {
     "data": {
      "text/plain": [
       "a     -9.0\n",
       "b      NaN\n",
       "c    -47.0\n",
       "d      NaN\n",
       "e    105.0\n",
       "x      NaN\n",
       "y      NaN\n",
       "dtype: float64"
      ]
     },
     "execution_count": 102,
     "metadata": {},
     "output_type": "execute_result"
    }
   ],
   "source": [
    "c = s2+s1\n",
    "c"
   ]
  },
  {
   "cell_type": "code",
   "execution_count": 106,
   "id": "5e9d3a0e",
   "metadata": {},
   "outputs": [
    {
     "data": {
      "text/plain": [
       "a     -9.0\n",
       "b      2.0\n",
       "c    -47.0\n",
       "d      4.0\n",
       "e    105.0\n",
       "x     10.0\n",
       "y    -20.0\n",
       "dtype: float64"
      ]
     },
     "execution_count": 106,
     "metadata": {},
     "output_type": "execute_result"
    }
   ],
   "source": [
    "s1.add(s2,fill_value = 0)"
   ]
  },
  {
   "cell_type": "code",
   "execution_count": 108,
   "id": "cd337058",
   "metadata": {},
   "outputs": [],
   "source": [
    "##Subtraction"
   ]
  },
  {
   "cell_type": "code",
   "execution_count": 109,
   "id": "ff49e2a0",
   "metadata": {},
   "outputs": [
    {
     "data": {
      "text/plain": [
       "a    11.0\n",
       "b     NaN\n",
       "c    53.0\n",
       "d     NaN\n",
       "e   -95.0\n",
       "x     NaN\n",
       "y     NaN\n",
       "dtype: float64"
      ]
     },
     "execution_count": 109,
     "metadata": {},
     "output_type": "execute_result"
    }
   ],
   "source": [
    "s1-s2"
   ]
  },
  {
   "cell_type": "code",
   "execution_count": 110,
   "id": "0106156d",
   "metadata": {},
   "outputs": [
    {
     "data": {
      "text/plain": [
       "a    11.0\n",
       "b     2.0\n",
       "c    53.0\n",
       "d     4.0\n",
       "e   -95.0\n",
       "x   -10.0\n",
       "y   -20.0\n",
       "dtype: float64"
      ]
     },
     "execution_count": 110,
     "metadata": {},
     "output_type": "execute_result"
    }
   ],
   "source": [
    "s1.sub(s2, fill_value = 0)"
   ]
  },
  {
   "cell_type": "code",
   "execution_count": 111,
   "id": "a97da97a",
   "metadata": {},
   "outputs": [
    {
     "data": {
      "text/plain": [
       "a    -10.0\n",
       "b      NaN\n",
       "c   -150.0\n",
       "d      NaN\n",
       "e    500.0\n",
       "x      NaN\n",
       "y      NaN\n",
       "dtype: float64"
      ]
     },
     "execution_count": 111,
     "metadata": {},
     "output_type": "execute_result"
    }
   ],
   "source": [
    "s1*s2"
   ]
  },
  {
   "cell_type": "code",
   "execution_count": 113,
   "id": "236fbf5b",
   "metadata": {},
   "outputs": [
    {
     "data": {
      "text/plain": [
       "a   -0.10\n",
       "b     NaN\n",
       "c   -0.06\n",
       "d     NaN\n",
       "e    0.05\n",
       "x     NaN\n",
       "y     NaN\n",
       "dtype: float64"
      ]
     },
     "execution_count": 113,
     "metadata": {},
     "output_type": "execute_result"
    }
   ],
   "source": [
    "# Divi\n",
    "s1/s2"
   ]
  },
  {
   "cell_type": "code",
   "execution_count": 114,
   "id": "db36ba96",
   "metadata": {},
   "outputs": [
    {
     "data": {
      "text/plain": [
       "a   -0.10\n",
       "b     inf\n",
       "c   -0.06\n",
       "d     inf\n",
       "e    0.05\n",
       "x    0.00\n",
       "y    0.00\n",
       "dtype: float64"
      ]
     },
     "execution_count": 114,
     "metadata": {},
     "output_type": "execute_result"
    }
   ],
   "source": [
    "s1.div(s2, fill_value = 0)"
   ]
  },
  {
   "cell_type": "code",
   "execution_count": 115,
   "id": "729b6d00",
   "metadata": {},
   "outputs": [
    {
     "data": {
      "text/plain": [
       "a   -10.000000\n",
       "b     0.000000\n",
       "c   -16.666667\n",
       "d     0.000000\n",
       "e    20.000000\n",
       "x          inf\n",
       "y          inf\n",
       "dtype: float64"
      ]
     },
     "execution_count": 115,
     "metadata": {},
     "output_type": "execute_result"
    }
   ],
   "source": [
    "s2.div(s1, fill_value = 0)"
   ]
  },
  {
   "cell_type": "code",
   "execution_count": null,
   "id": "2c2706bd",
   "metadata": {},
   "outputs": [],
   "source": []
  }
 ],
 "metadata": {
  "kernelspec": {
   "display_name": "Python 3 (ipykernel)",
   "language": "python",
   "name": "python3"
  },
  "language_info": {
   "codemirror_mode": {
    "name": "ipython",
    "version": 3
   },
   "file_extension": ".py",
   "mimetype": "text/x-python",
   "name": "python",
   "nbconvert_exporter": "python",
   "pygments_lexer": "ipython3",
   "version": "3.10.4"
  }
 },
 "nbformat": 4,
 "nbformat_minor": 5
}
