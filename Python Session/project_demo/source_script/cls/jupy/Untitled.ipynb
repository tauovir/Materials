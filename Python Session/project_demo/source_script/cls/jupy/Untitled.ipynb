{
 "cells": [
  {
   "cell_type": "code",
   "execution_count": 1,
   "id": "18e444f3",
   "metadata": {},
   "outputs": [],
   "source": [
    "#NUmpy 3"
   ]
  },
  {
   "cell_type": "code",
   "execution_count": 3,
   "id": "81dd686e",
   "metadata": {},
   "outputs": [],
   "source": [
    "import numpy as np \n"
   ]
  },
  {
   "cell_type": "markdown",
   "id": "c67ddd05",
   "metadata": {},
   "source": [
    "## Array Attribute\n",
    "**Shape**\n",
    "This array attribute returns a tuple consisting of array dimensions. It can also be used to resize the array.\n"
   ]
  },
  {
   "cell_type": "code",
   "execution_count": 6,
   "id": "a4eb7cc9",
   "metadata": {},
   "outputs": [
    {
     "data": {
      "text/plain": [
       "array([[1, 2, 3],\n",
       "       [4, 5, 6]])"
      ]
     },
     "execution_count": 6,
     "metadata": {},
     "output_type": "execute_result"
    }
   ],
   "source": [
    "a = np.array([[1,2,3],[4,5,6]]) \n",
    "a\n"
   ]
  },
  {
   "cell_type": "code",
   "execution_count": 7,
   "id": "ba2d5361",
   "metadata": {},
   "outputs": [
    {
     "data": {
      "text/plain": [
       "(2, 3)"
      ]
     },
     "execution_count": 7,
     "metadata": {},
     "output_type": "execute_result"
    }
   ],
   "source": [
    "a.shape"
   ]
  },
  {
   "cell_type": "code",
   "execution_count": 8,
   "id": "f18d67ce",
   "metadata": {},
   "outputs": [
    {
     "data": {
      "text/plain": [
       "array([[1, 2],\n",
       "       [3, 4],\n",
       "       [5, 6]])"
      ]
     },
     "execution_count": 8,
     "metadata": {},
     "output_type": "execute_result"
    }
   ],
   "source": [
    "a.shape = (3,2)\n",
    "a"
   ]
  },
  {
   "cell_type": "code",
   "execution_count": 9,
   "id": "b5bcdce5",
   "metadata": {},
   "outputs": [
    {
     "data": {
      "text/plain": [
       "(3, 2)"
      ]
     },
     "execution_count": 9,
     "metadata": {},
     "output_type": "execute_result"
    }
   ],
   "source": [
    "a.shape"
   ]
  },
  {
   "cell_type": "markdown",
   "id": "bf8fa75d",
   "metadata": {},
   "source": [
    "# Reshape\n",
    "NumPy also provides a reshape function to resize an array."
   ]
  },
  {
   "cell_type": "code",
   "execution_count": 11,
   "id": "93296d5a",
   "metadata": {},
   "outputs": [
    {
     "data": {
      "text/plain": [
       "array([[1, 2, 3],\n",
       "       [4, 5, 6]])"
      ]
     },
     "execution_count": 11,
     "metadata": {},
     "output_type": "execute_result"
    }
   ],
   "source": [
    "a = np.array([[1,2,3],[4,5,6]])\n",
    "a"
   ]
  },
  {
   "cell_type": "code",
   "execution_count": 14,
   "id": "af38a888",
   "metadata": {},
   "outputs": [
    {
     "data": {
      "text/plain": [
       "array([[1, 2],\n",
       "       [3, 4],\n",
       "       [5, 6]])"
      ]
     },
     "execution_count": 14,
     "metadata": {},
     "output_type": "execute_result"
    }
   ],
   "source": [
    "b = a.reshape((3,2))\n",
    "b"
   ]
  },
  {
   "cell_type": "markdown",
   "id": "8b597832",
   "metadata": {},
   "source": [
    "## ndarray.ndim\n",
    "## This array attribute returns the number of array dimensions."
   ]
  },
  {
   "cell_type": "code",
   "execution_count": 19,
   "id": "9f549655",
   "metadata": {},
   "outputs": [
    {
     "name": "stdout",
     "output_type": "stream",
     "text": [
      "1\n",
      "2\n",
      "3\n"
     ]
    }
   ],
   "source": [
    "a1 = np.arange(24) \n",
    "a2 = np.array([[1,2,3],[4,5,6]])\n",
    "a3 = np.array(\n",
    "[\n",
    "    [\n",
    "    [1,2,3],\n",
    "    [4,5,6]\n",
    "    ],\n",
    "    [\n",
    "    [10,20,30],\n",
    "    [40,50,60]\n",
    "    ]\n",
    "    \n",
    "]\n",
    ")\n",
    "print(a1.ndim)\n",
    "print(a2.ndim)\n",
    "print(a3.ndim)"
   ]
  },
  {
   "cell_type": "markdown",
   "id": "d2096e89",
   "metadata": {},
   "source": [
    "## numpy.itemsize\n",
    "This array attribute returns the length of each element of array in bytes."
   ]
  },
  {
   "cell_type": "code",
   "execution_count": 23,
   "id": "7075bb38",
   "metadata": {},
   "outputs": [
    {
     "name": "stdout",
     "output_type": "stream",
     "text": [
      "1\n"
     ]
    }
   ],
   "source": [
    "x = np.array([1,2,3,4,5], dtype = np.int8) \n",
    "print(x.itemsize)"
   ]
  },
  {
   "cell_type": "code",
   "execution_count": 24,
   "id": "c85c0d8b",
   "metadata": {},
   "outputs": [
    {
     "data": {
      "text/plain": [
       "  C_CONTIGUOUS : True\n",
       "  F_CONTIGUOUS : True\n",
       "  OWNDATA : True\n",
       "  WRITEABLE : True\n",
       "  ALIGNED : True\n",
       "  WRITEBACKIFCOPY : False\n",
       "  UPDATEIFCOPY : False"
      ]
     },
     "execution_count": 24,
     "metadata": {},
     "output_type": "execute_result"
    }
   ],
   "source": [
    "x.flags"
   ]
  },
  {
   "cell_type": "code",
   "execution_count": 25,
   "id": "67dbfb82",
   "metadata": {},
   "outputs": [],
   "source": [
    "# Creation of array"
   ]
  },
  {
   "cell_type": "markdown",
   "id": "523c2646",
   "metadata": {},
   "source": [
    "## Braodcasting \n",
    "The term broadcasting refers to the ability of NumPy to treat arrays of different shapes during arithmetic operations. Arithmetic operations on arrays are usually done on corresponding elements. If two arrays are of exactly the same shape, then these operations are smoothly performed."
   ]
  },
  {
   "cell_type": "code",
   "execution_count": 29,
   "id": "8122b49e",
   "metadata": {},
   "outputs": [
    {
     "data": {
      "text/plain": [
       "array([ 10,  40,  90, 160])"
      ]
     },
     "execution_count": 29,
     "metadata": {},
     "output_type": "execute_result"
    }
   ],
   "source": [
    "a = np.array([1,2,3,4]) \n",
    "b = np.array([10,20,30,40]) \n",
    "c = a * b \n",
    "c"
   ]
  },
  {
   "cell_type": "markdown",
   "id": "2a229c94",
   "metadata": {},
   "source": [
    "If the dimensions of two arrays are dissimilar, element-to-element operations are not possible. However, operations on arrays of non-similar shapes is still possible in NumPy, because of the broadcasting capability. The smaller array is broadcast to the size of the larger array so that they have compatible shapes."
   ]
  },
  {
   "cell_type": "code",
   "execution_count": 32,
   "id": "2c965104",
   "metadata": {},
   "outputs": [
    {
     "data": {
      "text/plain": [
       "array([[ 0.,  0.,  0.],\n",
       "       [10., 10., 10.],\n",
       "       [20., 20., 20.],\n",
       "       [30., 30., 30.]])"
      ]
     },
     "execution_count": 32,
     "metadata": {},
     "output_type": "execute_result"
    }
   ],
   "source": [
    "\n",
    "a = np.array([[0.0,0.0,0.0],[10.0,10.0,10.0],[20.0,20.0,20.0],[30.0,30.0,30.0]]) \n",
    "b = np.array([1.0,2.0,3.0])  \n",
    "a"
   ]
  },
  {
   "cell_type": "code",
   "execution_count": 33,
   "id": "84adb9ac",
   "metadata": {},
   "outputs": [
    {
     "data": {
      "text/plain": [
       "array([1., 2., 3.])"
      ]
     },
     "execution_count": 33,
     "metadata": {},
     "output_type": "execute_result"
    }
   ],
   "source": [
    "b"
   ]
  },
  {
   "cell_type": "code",
   "execution_count": 34,
   "id": "dcbe75de",
   "metadata": {},
   "outputs": [
    {
     "name": "stdout",
     "output_type": "stream",
     "text": [
      "[[ 1.  2.  3.]\n",
      " [11. 12. 13.]\n",
      " [21. 22. 23.]\n",
      " [31. 32. 33.]]\n"
     ]
    }
   ],
   "source": [
    "print(a + b)"
   ]
  },
  {
   "cell_type": "markdown",
   "id": "6aa68bda",
   "metadata": {},
   "source": [
    "# terating Over Array\n",
    "NumPy package contains an iterator object numpy.nditer. It is an efficient multidimensional iterator object using which it is possible to iterate over an array. Each element of an array is visited using Python’s standard Iterator interface."
   ]
  },
  {
   "cell_type": "code",
   "execution_count": 36,
   "id": "41c4740c",
   "metadata": {},
   "outputs": [
    {
     "name": "stdout",
     "output_type": "stream",
     "text": [
      "[ 0  5 10 15 20 25 30 35 40 45 50 55]\n",
      "[[ 0  5 10 15]\n",
      " [20 25 30 35]\n",
      " [40 45 50 55]]\n"
     ]
    }
   ],
   "source": [
    "a = np.arange(0,60,5)\n",
    "print(a)\n",
    "a = a.reshape(3,4)\n",
    "print(a)"
   ]
  },
  {
   "cell_type": "code",
   "execution_count": 38,
   "id": "8b3f36b9",
   "metadata": {},
   "outputs": [
    {
     "name": "stdout",
     "output_type": "stream",
     "text": [
      "0\n",
      "5\n",
      "10\n",
      "15\n",
      "20\n",
      "25\n",
      "30\n",
      "35\n",
      "40\n",
      "45\n",
      "50\n",
      "55\n"
     ]
    }
   ],
   "source": [
    "\n",
    "for x in np.nditer(a):\n",
    "   print(x)"
   ]
  },
  {
   "cell_type": "code",
   "execution_count": null,
   "id": "669d6aad",
   "metadata": {},
   "outputs": [],
   "source": []
  }
 ],
 "metadata": {
  "kernelspec": {
   "display_name": "Python 3 (ipykernel)",
   "language": "python",
   "name": "python3"
  },
  "language_info": {
   "codemirror_mode": {
    "name": "ipython",
    "version": 3
   },
   "file_extension": ".py",
   "mimetype": "text/x-python",
   "name": "python",
   "nbconvert_exporter": "python",
   "pygments_lexer": "ipython3",
   "version": "3.10.4"
  }
 },
 "nbformat": 4,
 "nbformat_minor": 5
}
