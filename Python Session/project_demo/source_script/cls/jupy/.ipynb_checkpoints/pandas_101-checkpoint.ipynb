{
 "cells": [
  {
   "cell_type": "code",
   "execution_count": 1,
   "id": "fe1f3c93",
   "metadata": {},
   "outputs": [],
   "source": [
    "# !pip install pandas\n",
    "# !pip install numpy"
   ]
  },
  {
   "cell_type": "code",
   "execution_count": 2,
   "id": "d775d76f",
   "metadata": {},
   "outputs": [],
   "source": [
    "import pandas as pd\n",
    "import numpy as np"
   ]
  },
  {
   "cell_type": "markdown",
   "id": "ac88feb9",
   "metadata": {},
   "source": [
    "# Create Series"
   ]
  },
  {
   "cell_type": "code",
   "execution_count": 3,
   "id": "5fc74227",
   "metadata": {},
   "outputs": [
    {
     "data": {
      "text/plain": [
       "0    10\n",
       "1    20\n",
       "2    30\n",
       "3    50\n",
       "4    40\n",
       "5    10\n",
       "dtype: int64"
      ]
     },
     "execution_count": 3,
     "metadata": {},
     "output_type": "execute_result"
    }
   ],
   "source": [
    "s1 = pd.Series([10,20,30,50,40,10])\n",
    "s1"
   ]
  },
  {
   "cell_type": "code",
   "execution_count": 4,
   "id": "fafe8cb9",
   "metadata": {},
   "outputs": [
    {
     "data": {
      "text/plain": [
       "a     apple\n",
       "b     mango\n",
       "c    orange\n",
       "d    banana\n",
       "dtype: object"
      ]
     },
     "execution_count": 4,
     "metadata": {},
     "output_type": "execute_result"
    }
   ],
   "source": [
    "s1 = pd.Series(['apple','mango','orange','banana'], index = ['a','b','c','d'])\n",
    "# error Length of values (4) does not match length of index (5)\n",
    "# s1 = pd.Series(['apple','mango','orange','banana'], index = ['a','b','c','d','e']) \n",
    "s1"
   ]
  },
  {
   "cell_type": "code",
   "execution_count": 5,
   "id": "5dd06766",
   "metadata": {},
   "outputs": [
    {
     "data": {
      "text/plain": [
       "0    2.0\n",
       "1    2.0\n",
       "2    2.0\n",
       "3    2.0\n",
       "4    2.0\n",
       "dtype: float64"
      ]
     },
     "execution_count": 5,
     "metadata": {},
     "output_type": "execute_result"
    }
   ],
   "source": [
    "## Creation of Series from Numpy array\n",
    "s3 = pd.Series(np.array([10,20,30,5,6]))\n",
    "s1 = pd.Series(np.arange(1,12))\n",
    "s1 = pd.Series(np.ones(5))\n",
    "s1 = pd.Series(np.zeros(5))\n",
    "s1 = pd.Series(np.ones(5) * 2)\n",
    "s1"
   ]
  },
  {
   "cell_type": "markdown",
   "id": "91ea8bfd",
   "metadata": {},
   "source": [
    "# Creating Series from Dictionary"
   ]
  },
  {
   "cell_type": "code",
   "execution_count": 6,
   "id": "89fe4ca4",
   "metadata": {},
   "outputs": [
    {
     "data": {
      "text/plain": [
       "id                101\n",
       "name             Amit\n",
       "city           Meerut\n",
       "created    25-05-2022\n",
       "dtype: object"
      ]
     },
     "execution_count": 6,
     "metadata": {},
     "output_type": "execute_result"
    }
   ],
   "source": [
    "# id as a key and values as series value\n",
    "data = {\"id\" : 101,\"name\" : \"Amit\",\"city\" : \"Meerut\",\"created\" : \"25-05-2022\"}\n",
    "s3= pd.Series(data)\n",
    "s3"
   ]
  },
  {
   "cell_type": "code",
   "execution_count": 7,
   "id": "4f292158",
   "metadata": {},
   "outputs": [],
   "source": [
    "# Creating Series from list of tuples"
   ]
  },
  {
   "cell_type": "code",
   "execution_count": 8,
   "id": "f7c64cd1",
   "metadata": {},
   "outputs": [
    {
     "data": {
      "text/plain": [
       "a     5\n",
       "b    10\n",
       "c    15\n",
       "d    20\n",
       "dtype: int64"
      ]
     },
     "execution_count": 8,
     "metadata": {},
     "output_type": "execute_result"
    }
   ],
   "source": [
    "t = [('a',5),('b',10),('c',15),('d',20)]\n",
    "index_val, values = zip(*t)\n",
    "s3= pd.Series(data = values,index = index_val)\n",
    "s3"
   ]
  },
  {
   "cell_type": "code",
   "execution_count": 9,
   "id": "f5b03d5d",
   "metadata": {},
   "outputs": [
    {
     "data": {
      "text/plain": [
       "(5, 10, 15, 20)"
      ]
     },
     "execution_count": 9,
     "metadata": {},
     "output_type": "execute_result"
    }
   ],
   "source": [
    "x,y = zip(*t)\n",
    "y"
   ]
  },
  {
   "cell_type": "markdown",
   "id": "a539f26d",
   "metadata": {},
   "source": [
    "# Accesing Element of Series\n",
    "1. indexing\n",
    "2. Slicing\n",
    "**Indexes are two types**<br>\n",
    "**1.Positional Index**<br>\n",
    "**2 Label index**<br>\n",
    "Positional index take an integer value that corresponds to its Series starting from 0, whereas <br>\n",
    "lable index takes any user_defined label as index"
   ]
  },
  {
   "cell_type": "code",
   "execution_count": 10,
   "id": "0ad56962",
   "metadata": {},
   "outputs": [],
   "source": [
    "s1 = pd.Series([10,20,30,5])\n",
    "# Accessing as a label\n",
    "# s1[0]\n",
    "# s1[2]\n",
    "# s1[-1]  # error"
   ]
  },
  {
   "cell_type": "code",
   "execution_count": 11,
   "id": "34b81e6d",
   "metadata": {},
   "outputs": [
    {
     "data": {
      "text/plain": [
       "one      27\n",
       "two      20\n",
       "three    30\n",
       "four      5\n",
       "dtype: int64"
      ]
     },
     "execution_count": 11,
     "metadata": {},
     "output_type": "execute_result"
    }
   ],
   "source": [
    "s1 = pd.Series([27,20,30,5], index = [\"one\",\"two\",\"three\",\"four\"])\n",
    "s1"
   ]
  },
  {
   "cell_type": "code",
   "execution_count": 12,
   "id": "ce3a82cb",
   "metadata": {},
   "outputs": [
    {
     "data": {
      "text/plain": [
       "20"
      ]
     },
     "execution_count": 12,
     "metadata": {},
     "output_type": "execute_result"
    }
   ],
   "source": [
    "s1['two']\n",
    "# s1[-1]  # accessing as a positinla index"
   ]
  },
  {
   "cell_type": "markdown",
   "id": "1bca4e8e",
   "metadata": {},
   "source": [
    "### More than one value can be get using using list of positional integres or a list of index label"
   ]
  },
  {
   "cell_type": "code",
   "execution_count": 13,
   "id": "6a7984e3",
   "metadata": {},
   "outputs": [
    {
     "data": {
      "text/plain": [
       "two     20\n",
       "four     5\n",
       "dtype: int64"
      ]
     },
     "execution_count": 13,
     "metadata": {},
     "output_type": "execute_result"
    }
   ],
   "source": [
    "# s1[[1,3]]\n",
    "s1[[\"two\",\"four\"]]"
   ]
  },
  {
   "cell_type": "code",
   "execution_count": 14,
   "id": "33bce2e2",
   "metadata": {},
   "outputs": [
    {
     "data": {
      "text/plain": [
       "Index(['one', 'two', 'three', 'four'], dtype='object')"
      ]
     },
     "execution_count": 14,
     "metadata": {},
     "output_type": "execute_result"
    }
   ],
   "source": [
    "s1.index"
   ]
  },
  {
   "cell_type": "code",
   "execution_count": 15,
   "id": "b9b3a48e",
   "metadata": {},
   "outputs": [],
   "source": [
    "# s1[-1]"
   ]
  },
  {
   "cell_type": "markdown",
   "id": "b2f43568",
   "metadata": {},
   "source": [
    "## Slicing"
   ]
  },
  {
   "cell_type": "code",
   "execution_count": 16,
   "id": "1a643eef",
   "metadata": {},
   "outputs": [
    {
     "data": {
      "text/plain": [
       "0      1\n",
       "1      2\n",
       "2      3\n",
       "3      4\n",
       "4      5\n",
       "5      6\n",
       "6      7\n",
       "7      8\n",
       "8      9\n",
       "9     10\n",
       "10    11\n",
       "11    12\n",
       "dtype: int32"
      ]
     },
     "execution_count": 16,
     "metadata": {},
     "output_type": "execute_result"
    }
   ],
   "source": [
    "s1 = pd.Series(np.arange(1,13))\n",
    "s1"
   ]
  },
  {
   "cell_type": "code",
   "execution_count": 17,
   "id": "7dc7f596",
   "metadata": {},
   "outputs": [
    {
     "data": {
      "text/plain": [
       "1    2\n",
       "2    3\n",
       "3    4\n",
       "4    5\n",
       "dtype: int32"
      ]
     },
     "execution_count": 17,
     "metadata": {},
     "output_type": "execute_result"
    }
   ],
   "source": [
    "s1[1:5] # end positinal index excluded"
   ]
  },
  {
   "cell_type": "code",
   "execution_count": 18,
   "id": "6b841136",
   "metadata": {},
   "outputs": [],
   "source": [
    "# s1 = pd.Series([27,20,30,5], index = [\"one\",\"two\",\"three\",\"four\"])\n",
    "# s1['two' :'four' ]"
   ]
  },
  {
   "cell_type": "markdown",
   "id": "6c7ffeaf",
   "metadata": {},
   "source": [
    "## Property of Series\n",
    "**name**:assign a name to a serie<br>\n",
    "**index.name**:assign name to the index of series<br>\n",
    "**values:** :printing a list of values\n",
    "**size**:printing the number  of values in series<br>\n",
    "**empty**:Print True if series is empty<br>\n",
    "\n"
   ]
  },
  {
   "cell_type": "code",
   "execution_count": 19,
   "id": "3fadd477",
   "metadata": {},
   "outputs": [
    {
     "name": "stdout",
     "output_type": "stream",
     "text": [
      "None\n"
     ]
    }
   ],
   "source": [
    "s1 = pd.Series([27,20,30,5], index = [\"one\",\"two\",\"three\",\"four\"])\n",
    "print(s1.name)"
   ]
  },
  {
   "cell_type": "code",
   "execution_count": 20,
   "id": "4a7be847",
   "metadata": {},
   "outputs": [
    {
     "name": "stdout",
     "output_type": "stream",
     "text": [
      "Test Series\n"
     ]
    }
   ],
   "source": [
    "s1.name = \"Test Series\"  # assign a name to a series\n",
    "print(s1.name)"
   ]
  },
  {
   "cell_type": "code",
   "execution_count": 21,
   "id": "47f2d4f4",
   "metadata": {},
   "outputs": [
    {
     "name": "stdout",
     "output_type": "stream",
     "text": [
      "IND\n"
     ]
    }
   ],
   "source": [
    "s1.index.name = \"IND\"  # assign name to the index of series\n",
    "print(s1.index.name)"
   ]
  },
  {
   "cell_type": "code",
   "execution_count": 22,
   "id": "ca75c65a",
   "metadata": {},
   "outputs": [
    {
     "data": {
      "text/plain": [
       "IND\n",
       "one      27\n",
       "two      20\n",
       "three    30\n",
       "four      5\n",
       "Name: Test Series, dtype: int64"
      ]
     },
     "execution_count": 22,
     "metadata": {},
     "output_type": "execute_result"
    }
   ],
   "source": [
    "s1"
   ]
  },
  {
   "cell_type": "code",
   "execution_count": 23,
   "id": "719da62b",
   "metadata": {},
   "outputs": [
    {
     "data": {
      "text/plain": [
       "array([27, 20, 30,  5], dtype=int64)"
      ]
     },
     "execution_count": 23,
     "metadata": {},
     "output_type": "execute_result"
    }
   ],
   "source": [
    "s1.values  # printing a list of values"
   ]
  },
  {
   "cell_type": "code",
   "execution_count": 24,
   "id": "041d98fb",
   "metadata": {},
   "outputs": [
    {
     "data": {
      "text/plain": [
       "4"
      ]
     },
     "execution_count": 24,
     "metadata": {},
     "output_type": "execute_result"
    }
   ],
   "source": [
    "s1.size"
   ]
  },
  {
   "cell_type": "code",
   "execution_count": 25,
   "id": "b1b308b7",
   "metadata": {},
   "outputs": [
    {
     "name": "stderr",
     "output_type": "stream",
     "text": [
      "C:\\Users\\LENOVO\\AppData\\Local\\Temp\\ipykernel_6496\\295043456.py:1: FutureWarning: The default dtype for empty Series will be 'object' instead of 'float64' in a future version. Specify a dtype explicitly to silence this warning.\n",
      "  s2 = pd.Series()\n"
     ]
    },
    {
     "data": {
      "text/plain": [
       "False"
      ]
     },
     "execution_count": 25,
     "metadata": {},
     "output_type": "execute_result"
    }
   ],
   "source": [
    "s2 = pd.Series()\n",
    "s1.empty"
   ]
  },
  {
   "cell_type": "markdown",
   "id": "8b323296",
   "metadata": {},
   "source": [
    "# Methods"
   ]
  },
  {
   "cell_type": "code",
   "execution_count": 26,
   "id": "07b89b7f",
   "metadata": {},
   "outputs": [
    {
     "data": {
      "text/plain": [
       "0    10\n",
       "1    11\n",
       "2    12\n",
       "3    13\n",
       "4    14\n",
       "5    15\n",
       "dtype: int32"
      ]
     },
     "execution_count": 26,
     "metadata": {},
     "output_type": "execute_result"
    }
   ],
   "source": [
    "s1 = pd.Series(np.arange(10,21,1))\n",
    "s1.head(6)"
   ]
  },
  {
   "cell_type": "code",
   "execution_count": 27,
   "id": "d070f275",
   "metadata": {},
   "outputs": [
    {
     "data": {
      "text/plain": [
       "9     19\n",
       "10    20\n",
       "dtype: int32"
      ]
     },
     "execution_count": 27,
     "metadata": {},
     "output_type": "execute_result"
    }
   ],
   "source": [
    "s1.tail(2)"
   ]
  },
  {
   "cell_type": "code",
   "execution_count": 28,
   "id": "d528f37a",
   "metadata": {},
   "outputs": [
    {
     "data": {
      "text/plain": [
       "11"
      ]
     },
     "execution_count": 28,
     "metadata": {},
     "output_type": "execute_result"
    }
   ],
   "source": [
    "s1.count()  # Return number of Non-nan value"
   ]
  },
  {
   "cell_type": "markdown",
   "id": "cef31f55",
   "metadata": {},
   "source": [
    "## Mathmaticcal Operation\n",
    "Mathmaticcal Operation\n",
    "While performing mathematical operations on series, index matching is implemented and all missing values are filled in with NaN by default"
   ]
  },
  {
   "cell_type": "markdown",
   "id": "4297ca99",
   "metadata": {},
   "source": [
    "### Addition of two SerieIt can be done in two ways. In the first method, two \n",
    "series are simply added together, as shown in the \n",
    "following code.\n",
    "It can be done in two ways. In the first method, two \n",
    "series are simply added together, as shown in the \n",
    "following code. Table 2.2 shows the detailed values that \n",
    "were matched while performing the addition. Note here \n",
    "that the output of addition is NaN if one of the elements \n",
    "or both elements have no value."
   ]
  },
  {
   "cell_type": "code",
   "execution_count": 29,
   "id": "845565a2",
   "metadata": {},
   "outputs": [
    {
     "data": {
      "text/plain": [
       "a    1\n",
       "b    2\n",
       "c    3\n",
       "d    4\n",
       "e    5\n",
       "dtype: int64"
      ]
     },
     "execution_count": 29,
     "metadata": {},
     "output_type": "execute_result"
    }
   ],
   "source": [
    "s1 = pd.Series([1,2,3,4,5], index = ['a','b','c','d','e'])\n",
    "s1.head()"
   ]
  },
  {
   "cell_type": "code",
   "execution_count": 30,
   "id": "ed58aadc",
   "metadata": {},
   "outputs": [],
   "source": [
    "# Change data types\n",
    "# s1 = s1.astype('float16')  # data frame : df = df.astype({\"a\": int, \"b\": complex})\n",
    "# "
   ]
  },
  {
   "cell_type": "code",
   "execution_count": 31,
   "id": "c5626e1c",
   "metadata": {},
   "outputs": [
    {
     "data": {
      "text/plain": [
       "x     10\n",
       "y     20\n",
       "a    -10\n",
       "c    -50\n",
       "e    100\n",
       "dtype: int64"
      ]
     },
     "execution_count": 31,
     "metadata": {},
     "output_type": "execute_result"
    }
   ],
   "source": [
    "s2 = pd.Series([10,20,-10,-50,100], index = ['x','y','a','c','e'])\n",
    "s2"
   ]
  },
  {
   "cell_type": "code",
   "execution_count": 32,
   "id": "02854bec",
   "metadata": {},
   "outputs": [
    {
     "data": {
      "text/plain": [
       "a     -9.0\n",
       "b      NaN\n",
       "c    -47.0\n",
       "d      NaN\n",
       "e    105.0\n",
       "x      NaN\n",
       "y      NaN\n",
       "dtype: float64"
      ]
     },
     "execution_count": 32,
     "metadata": {},
     "output_type": "execute_result"
    }
   ],
   "source": [
    "s3 = s1 +s2\n",
    "s3"
   ]
  },
  {
   "cell_type": "code",
   "execution_count": 35,
   "id": "e6163af4",
   "metadata": {},
   "outputs": [
    {
     "data": {
      "text/plain": [
       "a     -9.0\n",
       "b      2.0\n",
       "c    -47.0\n",
       "d      4.0\n",
       "e    105.0\n",
       "x     10.0\n",
       "y     20.0\n",
       "dtype: float64"
      ]
     },
     "execution_count": 35,
     "metadata": {},
     "output_type": "execute_result"
    }
   ],
   "source": [
    "s1.add(s2,fill_value = 0)"
   ]
  },
  {
   "cell_type": "code",
   "execution_count": 40,
   "id": "51c8f21f",
   "metadata": {},
   "outputs": [
    {
     "data": {
      "text/plain": [
       "a    -10.0\n",
       "b      NaN\n",
       "c   -150.0\n",
       "d      NaN\n",
       "e    500.0\n",
       "x      NaN\n",
       "y      NaN\n",
       "dtype: float64"
      ]
     },
     "execution_count": 40,
     "metadata": {},
     "output_type": "execute_result"
    }
   ],
   "source": [
    "s1*s2"
   ]
  },
  {
   "cell_type": "code",
   "execution_count": 43,
   "id": "062ef4f0",
   "metadata": {},
   "outputs": [
    {
     "data": {
      "text/plain": [
       "a    -10.0\n",
       "b      2.0\n",
       "c   -150.0\n",
       "d      4.0\n",
       "e    500.0\n",
       "x     10.0\n",
       "y     20.0\n",
       "dtype: float64"
      ]
     },
     "execution_count": 43,
     "metadata": {},
     "output_type": "execute_result"
    }
   ],
   "source": [
    "s1.mul(s2, fill_value = 1)\n",
    "# s1.sub(s2, fill_value = 0)\n",
    "# s1.div(s2, fill_value = 0)"
   ]
  }
 ],
 "metadata": {
  "kernelspec": {
   "display_name": "Python 3 (ipykernel)",
   "language": "python",
   "name": "python3"
  },
  "language_info": {
   "codemirror_mode": {
    "name": "ipython",
    "version": 3
   },
   "file_extension": ".py",
   "mimetype": "text/x-python",
   "name": "python",
   "nbconvert_exporter": "python",
   "pygments_lexer": "ipython3",
   "version": "3.10.4"
  }
 },
 "nbformat": 4,
 "nbformat_minor": 5
}
