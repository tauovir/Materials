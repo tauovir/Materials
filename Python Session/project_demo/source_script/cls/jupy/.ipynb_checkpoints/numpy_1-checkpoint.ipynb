{
 "cells": [
  {
   "cell_type": "markdown",
   "id": "f6d7d511",
   "metadata": {},
   "source": [
    "### numpy\n"
   ]
  },
  {
   "cell_type": "code",
   "execution_count": 105,
   "id": "0d33bb56",
   "metadata": {},
   "outputs": [],
   "source": [
    "import numpy as np\n",
    "# !pip install numpy\n",
    "# https://numpy.org/doc/stable/user/absolute_beginners.html"
   ]
  },
  {
   "cell_type": "code",
   "execution_count": 2,
   "id": "8b968638",
   "metadata": {},
   "outputs": [],
   "source": [
    "## Creating Numpy array from list"
   ]
  },
  {
   "cell_type": "code",
   "execution_count": 3,
   "id": "bb5acc2b",
   "metadata": {},
   "outputs": [],
   "source": [
    "array1 = np.array([10,20,30,40])"
   ]
  },
  {
   "cell_type": "code",
   "execution_count": 4,
   "id": "5bc0d376",
   "metadata": {},
   "outputs": [
    {
     "data": {
      "text/plain": [
       "array([10, 20, 30, 40])"
      ]
     },
     "execution_count": 4,
     "metadata": {},
     "output_type": "execute_result"
    }
   ],
   "source": [
    "array1"
   ]
  },
  {
   "cell_type": "markdown",
   "id": "4734fc52",
   "metadata": {},
   "source": [
    "## Creating 1-D Array\n",
    "**An array with only single row of element is called 1-D array**"
   ]
  },
  {
   "cell_type": "code",
   "execution_count": 5,
   "id": "2621e980",
   "metadata": {},
   "outputs": [],
   "source": [
    "arr1 = np.array([1,2,3,4,'mango','orange'])"
   ]
  },
  {
   "cell_type": "code",
   "execution_count": 6,
   "id": "ef1342ab",
   "metadata": {},
   "outputs": [
    {
     "data": {
      "text/plain": [
       "array(['1', '2', '3', '4', 'mango', 'orange'], dtype='<U11')"
      ]
     },
     "execution_count": 6,
     "metadata": {},
     "output_type": "execute_result"
    }
   ],
   "source": [
    "arr1"
   ]
  },
  {
   "cell_type": "markdown",
   "id": "fa934df5",
   "metadata": {},
   "source": [
    "## Creating 2-D array\n",
    "**2D array can be created by passing nested lists to the array function**<br>\n",
    "### Some attribute of numpy\n",
    "**ndarray.ndim : Give the number of dimensions of the array as integer**<br>\n",
    "**2D array,has two axes . the row-axis is called axis-0,column-axis is called axis-1**\n",
    "**The number of axes is also called the array's rank**"
   ]
  },
  {
   "cell_type": "code",
   "execution_count": 7,
   "id": "c31a776d",
   "metadata": {},
   "outputs": [],
   "source": [
    "arr2 = np.array([[1,2,3,4],[10,20,30,20],[5,2,3,9]])"
   ]
  },
  {
   "cell_type": "code",
   "execution_count": 8,
   "id": "b05ad6ff",
   "metadata": {},
   "outputs": [
    {
     "data": {
      "text/plain": [
       "array([[ 1,  2,  3,  4],\n",
       "       [10, 20, 30, 20],\n",
       "       [ 5,  2,  3,  9]])"
      ]
     },
     "execution_count": 8,
     "metadata": {},
     "output_type": "execute_result"
    }
   ],
   "source": [
    "arr2"
   ]
  },
  {
   "cell_type": "code",
   "execution_count": 9,
   "id": "db4db347",
   "metadata": {},
   "outputs": [
    {
     "data": {
      "text/plain": [
       "1"
      ]
     },
     "execution_count": 9,
     "metadata": {},
     "output_type": "execute_result"
    }
   ],
   "source": [
    "arr1.ndim"
   ]
  },
  {
   "cell_type": "code",
   "execution_count": 10,
   "id": "a2bbf539",
   "metadata": {},
   "outputs": [
    {
     "data": {
      "text/plain": [
       "2"
      ]
     },
     "execution_count": 10,
     "metadata": {},
     "output_type": "execute_result"
    }
   ],
   "source": [
    "arr2.ndim"
   ]
  },
  {
   "cell_type": "markdown",
   "id": "2ffa92cc",
   "metadata": {},
   "source": [
    "## ndarray.shape\n",
    "**It gives the sequence of integers indicating the size of the array for each dimension**"
   ]
  },
  {
   "cell_type": "code",
   "execution_count": 11,
   "id": "2dddffc5",
   "metadata": {},
   "outputs": [
    {
     "data": {
      "text/plain": [
       "(4,)"
      ]
     },
     "execution_count": 11,
     "metadata": {},
     "output_type": "execute_result"
    }
   ],
   "source": [
    "array1.shape"
   ]
  },
  {
   "cell_type": "code",
   "execution_count": 12,
   "id": "d579308e",
   "metadata": {},
   "outputs": [
    {
     "data": {
      "text/plain": [
       "(3, 4)"
      ]
     },
     "execution_count": 12,
     "metadata": {},
     "output_type": "execute_result"
    }
   ],
   "source": [
    "arr2.shape"
   ]
  },
  {
   "cell_type": "markdown",
   "id": "9dd42141",
   "metadata": {},
   "source": [
    "## ndarray.size\n",
    "**It gives the total number of element of the array,This is equal to the product of the element of shape**"
   ]
  },
  {
   "cell_type": "code",
   "execution_count": 13,
   "id": "e8936257",
   "metadata": {},
   "outputs": [
    {
     "data": {
      "text/plain": [
       "12"
      ]
     },
     "execution_count": 13,
     "metadata": {},
     "output_type": "execute_result"
    }
   ],
   "source": [
    "arr2.size"
   ]
  },
  {
   "cell_type": "markdown",
   "id": "2bb59fd2",
   "metadata": {},
   "source": [
    "## ndarray.dtype\n",
    "**Data type of the elements of the array. All the element of an array are of same data type**<br>\n",
    "**Common data types are int32,int64,float32,float64,U32 ,etc\"\"\n"
   ]
  },
  {
   "cell_type": "code",
   "execution_count": 14,
   "id": "4d30bfe3",
   "metadata": {},
   "outputs": [
    {
     "data": {
      "text/plain": [
       "dtype('int32')"
      ]
     },
     "execution_count": 14,
     "metadata": {},
     "output_type": "execute_result"
    }
   ],
   "source": [
    "arr2.dtype"
   ]
  },
  {
   "cell_type": "code",
   "execution_count": 15,
   "id": "361f2e1e",
   "metadata": {},
   "outputs": [
    {
     "data": {
      "text/plain": [
       "dtype('int32')"
      ]
     },
     "execution_count": 15,
     "metadata": {},
     "output_type": "execute_result"
    }
   ],
   "source": [
    "array1.dtype"
   ]
  },
  {
   "cell_type": "code",
   "execution_count": 16,
   "id": "c6889829",
   "metadata": {},
   "outputs": [
    {
     "data": {
      "text/plain": [
       "dtype('<U11')"
      ]
     },
     "execution_count": 16,
     "metadata": {},
     "output_type": "execute_result"
    }
   ],
   "source": [
    "arr1.dtype"
   ]
  },
  {
   "cell_type": "markdown",
   "id": "749b35f0",
   "metadata": {},
   "source": [
    "## ndarray.itemsize\n",
    "**It specifies the size in bytes of each element of the array**<br>\n"
   ]
  },
  {
   "cell_type": "code",
   "execution_count": 17,
   "id": "0ef0f7e1",
   "metadata": {},
   "outputs": [
    {
     "data": {
      "text/plain": [
       "44"
      ]
     },
     "execution_count": 17,
     "metadata": {},
     "output_type": "execute_result"
    }
   ],
   "source": [
    "arr1.itemsize"
   ]
  },
  {
   "cell_type": "markdown",
   "id": "be4cd5a8",
   "metadata": {},
   "source": [
    "## Other way to create Data type"
   ]
  },
  {
   "cell_type": "code",
   "execution_count": 18,
   "id": "a8207e8e",
   "metadata": {},
   "outputs": [],
   "source": [
    "arr4 = np.array([[1,2],[3,4]], dtype = float)"
   ]
  },
  {
   "cell_type": "code",
   "execution_count": 19,
   "id": "d55aea89",
   "metadata": {},
   "outputs": [
    {
     "data": {
      "text/plain": [
       "array([[1., 2.],\n",
       "       [3., 4.]])"
      ]
     },
     "execution_count": 19,
     "metadata": {},
     "output_type": "execute_result"
    }
   ],
   "source": [
    "arr4"
   ]
  },
  {
   "cell_type": "code",
   "execution_count": 20,
   "id": "abd7bb38",
   "metadata": {},
   "outputs": [
    {
     "data": {
      "text/plain": [
       "dtype('float64')"
      ]
     },
     "execution_count": 20,
     "metadata": {},
     "output_type": "execute_result"
    }
   ],
   "source": [
    "arr4.dtype"
   ]
  },
  {
   "cell_type": "markdown",
   "id": "47a1b224",
   "metadata": {},
   "source": [
    "# Other ways of creating Numpy array"
   ]
  },
  {
   "cell_type": "markdown",
   "id": "8010a6cc",
   "metadata": {},
   "source": [
    "## Zeros"
   ]
  },
  {
   "cell_type": "code",
   "execution_count": 21,
   "id": "acfea38b",
   "metadata": {},
   "outputs": [
    {
     "data": {
      "text/plain": [
       "array([[0., 0., 0., 0.],\n",
       "       [0., 0., 0., 0.],\n",
       "       [0., 0., 0., 0.]])"
      ]
     },
     "execution_count": 21,
     "metadata": {},
     "output_type": "execute_result"
    }
   ],
   "source": [
    "arr5 = np.zeros((3,4))\n",
    "arr5"
   ]
  },
  {
   "cell_type": "code",
   "execution_count": 22,
   "id": "f0109715",
   "metadata": {},
   "outputs": [
    {
     "data": {
      "text/plain": [
       "array([0., 0., 0., 0., 0., 0., 0., 0., 0., 0.])"
      ]
     },
     "execution_count": 22,
     "metadata": {},
     "output_type": "execute_result"
    }
   ],
   "source": [
    "a1 = np.zeros(10)\n",
    "a1"
   ]
  },
  {
   "cell_type": "markdown",
   "id": "4807f357",
   "metadata": {},
   "source": [
    "## Ones"
   ]
  },
  {
   "cell_type": "code",
   "execution_count": 23,
   "id": "19696b98",
   "metadata": {},
   "outputs": [
    {
     "data": {
      "text/plain": [
       "array([[1., 1., 1.],\n",
       "       [1., 1., 1.],\n",
       "       [1., 1., 1.],\n",
       "       [1., 1., 1.],\n",
       "       [1., 1., 1.]])"
      ]
     },
     "execution_count": 23,
     "metadata": {},
     "output_type": "execute_result"
    }
   ],
   "source": [
    "arr6 = np.ones((5,3))\n",
    "arr6"
   ]
  },
  {
   "cell_type": "markdown",
   "id": "52b512c2",
   "metadata": {},
   "source": [
    "## Create an Array of 2’s"
   ]
  },
  {
   "cell_type": "code",
   "execution_count": 85,
   "id": "4f6eccba",
   "metadata": {},
   "outputs": [
    {
     "data": {
      "text/plain": [
       "array([[2, 2, 2],\n",
       "       [2, 2, 2],\n",
       "       [2, 2, 2],\n",
       "       [2, 2, 2],\n",
       "       [2, 2, 2]], dtype=int16)"
      ]
     },
     "execution_count": 85,
     "metadata": {},
     "output_type": "execute_result"
    }
   ],
   "source": [
    "arr6 = np.ones((5,3),dtype = 'int16') * 2\n",
    "arr6"
   ]
  },
  {
   "cell_type": "markdown",
   "id": "96847ac2",
   "metadata": {},
   "source": [
    "## arange\n",
    "To create an array of any length write: np.arange(size).\n",
    "\n",
    "To create an array of size 9 write : np.arange(9)."
   ]
  },
  {
   "cell_type": "code",
   "execution_count": 24,
   "id": "4f6411da",
   "metadata": {},
   "outputs": [
    {
     "data": {
      "text/plain": [
       "array([0, 2, 4, 6, 8])"
      ]
     },
     "execution_count": 24,
     "metadata": {},
     "output_type": "execute_result"
    }
   ],
   "source": [
    "arng = np.arange(0,10,2)\n",
    "arng"
   ]
  },
  {
   "cell_type": "code",
   "execution_count": 25,
   "id": "79a5c68f",
   "metadata": {},
   "outputs": [
    {
     "data": {
      "text/plain": [
       "array([-2, -1,  0,  1,  2,  3,  4,  5,  6,  7,  8,  9, 10, 11, 12, 13, 14,\n",
       "       15, 16, 17, 18, 19])"
      ]
     },
     "execution_count": 25,
     "metadata": {},
     "output_type": "execute_result"
    }
   ],
   "source": [
    "arng2 = np.arange(-2,20,1)\n",
    "arng2"
   ]
  },
  {
   "cell_type": "markdown",
   "id": "3f7c0a58",
   "metadata": {},
   "source": [
    "# Indexing and slicing\n",
    "**Numpy array can be index, sliced and iterate over it**"
   ]
  },
  {
   "cell_type": "code",
   "execution_count": 26,
   "id": "d5387b9b",
   "metadata": {},
   "outputs": [],
   "source": [
    "marks = np.array(\n",
    "[\n",
    "    [78,67,56],\n",
    "    [76,75,47],\n",
    "    [84,59,60],\n",
    "    [67,72,54]\n",
    "]\n",
    ")"
   ]
  },
  {
   "cell_type": "code",
   "execution_count": 27,
   "id": "1be5c67d",
   "metadata": {},
   "outputs": [
    {
     "data": {
      "text/plain": [
       "array([[78, 67, 56],\n",
       "       [76, 75, 47],\n",
       "       [84, 59, 60],\n",
       "       [67, 72, 54]])"
      ]
     },
     "execution_count": 27,
     "metadata": {},
     "output_type": "execute_result"
    }
   ],
   "source": [
    "marks"
   ]
  },
  {
   "cell_type": "code",
   "execution_count": 28,
   "id": "274df00b",
   "metadata": {},
   "outputs": [
    {
     "data": {
      "text/plain": [
       "12"
      ]
     },
     "execution_count": 28,
     "metadata": {},
     "output_type": "execute_result"
    }
   ],
   "source": [
    "marks.size"
   ]
  },
  {
   "cell_type": "code",
   "execution_count": 29,
   "id": "d079c1a9",
   "metadata": {},
   "outputs": [
    {
     "data": {
      "text/plain": [
       "67"
      ]
     },
     "execution_count": 29,
     "metadata": {},
     "output_type": "execute_result"
    }
   ],
   "source": [
    "marks[0,1]"
   ]
  },
  {
   "cell_type": "code",
   "execution_count": 30,
   "id": "b214ca9c",
   "metadata": {},
   "outputs": [
    {
     "data": {
      "text/plain": [
       "54"
      ]
     },
     "execution_count": 30,
     "metadata": {},
     "output_type": "execute_result"
    }
   ],
   "source": [
    "marks[3,2]"
   ]
  },
  {
   "cell_type": "code",
   "execution_count": 31,
   "id": "8128d663",
   "metadata": {},
   "outputs": [
    {
     "data": {
      "text/plain": [
       "array([ 2,  3,  4, 10, 55,  6])"
      ]
     },
     "execution_count": 31,
     "metadata": {},
     "output_type": "execute_result"
    }
   ],
   "source": [
    "arr1 = np.array([2,3,4,10,55,6])\n",
    "arr1"
   ]
  },
  {
   "cell_type": "code",
   "execution_count": 32,
   "id": "941705df",
   "metadata": {},
   "outputs": [
    {
     "data": {
      "text/plain": [
       "array([ 4, 10, 55])"
      ]
     },
     "execution_count": 32,
     "metadata": {},
     "output_type": "execute_result"
    }
   ],
   "source": [
    "# arr1[2:10]\n",
    "arr1[2:5]"
   ]
  },
  {
   "cell_type": "code",
   "execution_count": 33,
   "id": "53653ecd",
   "metadata": {},
   "outputs": [
    {
     "data": {
      "text/plain": [
       "array([ 6, 55, 10,  4,  3,  2])"
      ]
     },
     "execution_count": 33,
     "metadata": {},
     "output_type": "execute_result"
    }
   ],
   "source": [
    "arr1[::-1]"
   ]
  },
  {
   "cell_type": "code",
   "execution_count": 34,
   "id": "05230c49",
   "metadata": {},
   "outputs": [
    {
     "data": {
      "text/plain": [
       "array([ 2,  3,  4, 10, 55,  6])"
      ]
     },
     "execution_count": 34,
     "metadata": {},
     "output_type": "execute_result"
    }
   ],
   "source": [
    "arr1"
   ]
  },
  {
   "cell_type": "code",
   "execution_count": 35,
   "id": "bfd9a36c",
   "metadata": {},
   "outputs": [
    {
     "data": {
      "text/plain": [
       "array([55, 10])"
      ]
     },
     "execution_count": 35,
     "metadata": {},
     "output_type": "execute_result"
    }
   ],
   "source": [
    "arr1[-2:-4:-1]"
   ]
  },
  {
   "cell_type": "markdown",
   "id": "89001d80",
   "metadata": {},
   "source": [
    "# Slicing in 2D array"
   ]
  },
  {
   "cell_type": "code",
   "execution_count": 36,
   "id": "dd031111",
   "metadata": {},
   "outputs": [
    {
     "data": {
      "text/plain": [
       "array([[78, 67, 56],\n",
       "       [76, 75, 47],\n",
       "       [84, 59, 60],\n",
       "       [67, 72, 54]])"
      ]
     },
     "execution_count": 36,
     "metadata": {},
     "output_type": "execute_result"
    }
   ],
   "source": [
    "marks"
   ]
  },
  {
   "cell_type": "code",
   "execution_count": 37,
   "id": "cf51dff7",
   "metadata": {},
   "outputs": [],
   "source": [
    "# access all element in 3rd columsn"
   ]
  },
  {
   "cell_type": "code",
   "execution_count": 38,
   "id": "14d44716",
   "metadata": {},
   "outputs": [
    {
     "data": {
      "text/plain": [
       "array([56, 47, 60, 54])"
      ]
     },
     "execution_count": 38,
     "metadata": {},
     "output_type": "execute_result"
    }
   ],
   "source": [
    "marks[0:4,2]"
   ]
  },
  {
   "cell_type": "code",
   "execution_count": 39,
   "id": "c419e86a",
   "metadata": {},
   "outputs": [
    {
     "data": {
      "text/plain": [
       "array([[76, 75],\n",
       "       [84, 59]])"
      ]
     },
     "execution_count": 39,
     "metadata": {},
     "output_type": "execute_result"
    }
   ],
   "source": [
    "marks[1:3,0:2]"
   ]
  },
  {
   "cell_type": "code",
   "execution_count": 40,
   "id": "c72c3dbe",
   "metadata": {},
   "outputs": [
    {
     "data": {
      "text/plain": [
       "array([56, 47, 60, 54])"
      ]
     },
     "execution_count": 40,
     "metadata": {},
     "output_type": "execute_result"
    }
   ],
   "source": [
    "marks[:,2]"
   ]
  },
  {
   "cell_type": "code",
   "execution_count": 41,
   "id": "775bf3c6",
   "metadata": {},
   "outputs": [
    {
     "data": {
      "text/plain": [
       "array([76, 75, 47])"
      ]
     },
     "execution_count": 41,
     "metadata": {},
     "output_type": "execute_result"
    }
   ],
   "source": [
    "marks[1,:]"
   ]
  },
  {
   "cell_type": "code",
   "execution_count": 42,
   "id": "8f2831d2",
   "metadata": {},
   "outputs": [],
   "source": [
    "## Operations on array"
   ]
  },
  {
   "cell_type": "code",
   "execution_count": 43,
   "id": "8b628d4b",
   "metadata": {},
   "outputs": [],
   "source": [
    "m1 = np.array([[1,2],[2,3]])\n",
    "m2 = np.array([[4,2],[2,3]])"
   ]
  },
  {
   "cell_type": "code",
   "execution_count": 44,
   "id": "935d59ad",
   "metadata": {},
   "outputs": [
    {
     "data": {
      "text/plain": [
       "array([[1, 2],\n",
       "       [2, 3]])"
      ]
     },
     "execution_count": 44,
     "metadata": {},
     "output_type": "execute_result"
    }
   ],
   "source": [
    "m1"
   ]
  },
  {
   "cell_type": "code",
   "execution_count": 45,
   "id": "b73000c3",
   "metadata": {},
   "outputs": [
    {
     "data": {
      "text/plain": [
       "array([[4, 2],\n",
       "       [2, 3]])"
      ]
     },
     "execution_count": 45,
     "metadata": {},
     "output_type": "execute_result"
    }
   ],
   "source": [
    "m2"
   ]
  },
  {
   "cell_type": "code",
   "execution_count": 46,
   "id": "607cd1c2",
   "metadata": {},
   "outputs": [],
   "source": [
    "m3 = m1 + m2"
   ]
  },
  {
   "cell_type": "code",
   "execution_count": 47,
   "id": "02b9ebe9",
   "metadata": {},
   "outputs": [
    {
     "data": {
      "text/plain": [
       "array([[5, 4],\n",
       "       [4, 6]])"
      ]
     },
     "execution_count": 47,
     "metadata": {},
     "output_type": "execute_result"
    }
   ],
   "source": [
    "m3"
   ]
  },
  {
   "cell_type": "code",
   "execution_count": 48,
   "id": "9ccd9c40",
   "metadata": {},
   "outputs": [
    {
     "data": {
      "text/plain": [
       "array([[-3,  0],\n",
       "       [ 0,  0]])"
      ]
     },
     "execution_count": 48,
     "metadata": {},
     "output_type": "execute_result"
    }
   ],
   "source": [
    "m4 = m1-m2\n",
    "m4"
   ]
  },
  {
   "cell_type": "code",
   "execution_count": 49,
   "id": "f32b3273",
   "metadata": {},
   "outputs": [],
   "source": [
    "m5 = m1*m2"
   ]
  },
  {
   "cell_type": "code",
   "execution_count": 50,
   "id": "1550d716",
   "metadata": {},
   "outputs": [
    {
     "data": {
      "text/plain": [
       "array([[4, 4],\n",
       "       [4, 9]])"
      ]
     },
     "execution_count": 50,
     "metadata": {},
     "output_type": "execute_result"
    }
   ],
   "source": [
    "m5"
   ]
  },
  {
   "cell_type": "code",
   "execution_count": 51,
   "id": "602663b2",
   "metadata": {},
   "outputs": [
    {
     "data": {
      "text/plain": [
       "array([[1, 4],\n",
       "       [4, 9]])"
      ]
     },
     "execution_count": 51,
     "metadata": {},
     "output_type": "execute_result"
    }
   ],
   "source": [
    "m1**2"
   ]
  },
  {
   "cell_type": "markdown",
   "id": "eaafb763",
   "metadata": {},
   "source": [
    "# Transpose"
   ]
  },
  {
   "cell_type": "code",
   "execution_count": 52,
   "id": "56a876da",
   "metadata": {},
   "outputs": [],
   "source": [
    "marks = np.array(\n",
    "[\n",
    "    [78,67,56],\n",
    "    [76,75,47],\n",
    "    [84,59,60],\n",
    "    [67,72,54]\n",
    "]\n",
    ")"
   ]
  },
  {
   "cell_type": "code",
   "execution_count": 53,
   "id": "57ef5a57",
   "metadata": {},
   "outputs": [
    {
     "data": {
      "text/plain": [
       "array([[78, 67, 56],\n",
       "       [76, 75, 47],\n",
       "       [84, 59, 60],\n",
       "       [67, 72, 54]])"
      ]
     },
     "execution_count": 53,
     "metadata": {},
     "output_type": "execute_result"
    }
   ],
   "source": [
    "marks"
   ]
  },
  {
   "cell_type": "code",
   "execution_count": 54,
   "id": "6cc394c4",
   "metadata": {},
   "outputs": [
    {
     "data": {
      "text/plain": [
       "array([[78, 76, 84, 67],\n",
       "       [67, 75, 59, 72],\n",
       "       [56, 47, 60, 54]])"
      ]
     },
     "execution_count": 54,
     "metadata": {},
     "output_type": "execute_result"
    }
   ],
   "source": [
    "marks.T"
   ]
  },
  {
   "cell_type": "code",
   "execution_count": 55,
   "id": "e4a1497d",
   "metadata": {},
   "outputs": [
    {
     "data": {
      "text/plain": [
       "array([[78, 76, 84, 67],\n",
       "       [67, 75, 59, 72],\n",
       "       [56, 47, 60, 54]])"
      ]
     },
     "execution_count": 55,
     "metadata": {},
     "output_type": "execute_result"
    }
   ],
   "source": [
    "marks.transpose()"
   ]
  },
  {
   "cell_type": "markdown",
   "id": "fa69bfe1",
   "metadata": {},
   "source": [
    "# sorting"
   ]
  },
  {
   "cell_type": "code",
   "execution_count": 56,
   "id": "50e4e651",
   "metadata": {},
   "outputs": [],
   "source": [
    "a1 = np.array([10,20,50,2,5,66])"
   ]
  },
  {
   "cell_type": "code",
   "execution_count": 57,
   "id": "c516b029",
   "metadata": {},
   "outputs": [],
   "source": [
    "a1.sort()"
   ]
  },
  {
   "cell_type": "code",
   "execution_count": 58,
   "id": "2c60fe70",
   "metadata": {},
   "outputs": [
    {
     "data": {
      "text/plain": [
       "array([ 2,  5, 10, 20, 50, 66])"
      ]
     },
     "execution_count": 58,
     "metadata": {},
     "output_type": "execute_result"
    }
   ],
   "source": [
    "a1"
   ]
  },
  {
   "cell_type": "code",
   "execution_count": 59,
   "id": "0f4c7d27",
   "metadata": {},
   "outputs": [
    {
     "data": {
      "text/plain": [
       "array([[78, 67, 56],\n",
       "       [76, 75, 47],\n",
       "       [84, 59, 60],\n",
       "       [67, 72, 54]])"
      ]
     },
     "execution_count": 59,
     "metadata": {},
     "output_type": "execute_result"
    }
   ],
   "source": [
    "marks"
   ]
  },
  {
   "cell_type": "code",
   "execution_count": 60,
   "id": "333c273a",
   "metadata": {},
   "outputs": [],
   "source": [
    "marks.sort(axis = 1)"
   ]
  },
  {
   "cell_type": "code",
   "execution_count": 61,
   "id": "89bb764d",
   "metadata": {},
   "outputs": [
    {
     "data": {
      "text/plain": [
       "array([[56, 67, 78],\n",
       "       [47, 75, 76],\n",
       "       [59, 60, 84],\n",
       "       [54, 67, 72]])"
      ]
     },
     "execution_count": 61,
     "metadata": {},
     "output_type": "execute_result"
    }
   ],
   "source": [
    "marks"
   ]
  },
  {
   "cell_type": "code",
   "execution_count": 62,
   "id": "08c00268",
   "metadata": {},
   "outputs": [
    {
     "data": {
      "text/plain": [
       "array([[47, 60, 72],\n",
       "       [54, 67, 76],\n",
       "       [56, 67, 78],\n",
       "       [59, 75, 84]])"
      ]
     },
     "execution_count": 62,
     "metadata": {},
     "output_type": "execute_result"
    }
   ],
   "source": [
    "marks.sort(axis = 0)\n",
    "marks"
   ]
  },
  {
   "cell_type": "markdown",
   "id": "61bdff7a",
   "metadata": {},
   "source": [
    "## Concatenating Array\n",
    "**Concatenation means joining tow or more arrays**"
   ]
  },
  {
   "cell_type": "code",
   "execution_count": 63,
   "id": "639e93d2",
   "metadata": {},
   "outputs": [],
   "source": [
    "m1 = np.array([[1,2],[3,4]])\n",
    "m2 = np.array([[6,7],[8,9]],dtype = m1.dtype)\n"
   ]
  },
  {
   "cell_type": "code",
   "execution_count": 64,
   "id": "76a3117f",
   "metadata": {},
   "outputs": [],
   "source": [
    "m3 = np.concatenate((m1,m2),axis=1)"
   ]
  },
  {
   "cell_type": "code",
   "execution_count": 65,
   "id": "184ffd03",
   "metadata": {},
   "outputs": [
    {
     "data": {
      "text/plain": [
       "array([[1, 2, 6, 7],\n",
       "       [3, 4, 8, 9]])"
      ]
     },
     "execution_count": 65,
     "metadata": {},
     "output_type": "execute_result"
    }
   ],
   "source": [
    "m3"
   ]
  },
  {
   "cell_type": "code",
   "execution_count": 66,
   "id": "df095634",
   "metadata": {},
   "outputs": [
    {
     "data": {
      "text/plain": [
       "array([[1, 2],\n",
       "       [3, 4],\n",
       "       [6, 7],\n",
       "       [8, 9]])"
      ]
     },
     "execution_count": 66,
     "metadata": {},
     "output_type": "execute_result"
    }
   ],
   "source": [
    "m4 = np.concatenate((m1,m2),axis=0)\n",
    "m4"
   ]
  },
  {
   "cell_type": "code",
   "execution_count": 67,
   "id": "ad434cef",
   "metadata": {},
   "outputs": [],
   "source": [
    "m11 = np.array([[1,2,3],[3,4,3]])"
   ]
  },
  {
   "cell_type": "code",
   "execution_count": 68,
   "id": "e7e5d8a7",
   "metadata": {},
   "outputs": [],
   "source": [
    "m12 =np.concatenate((m1,m11),axis=1)"
   ]
  },
  {
   "cell_type": "code",
   "execution_count": 69,
   "id": "62bfe25e",
   "metadata": {},
   "outputs": [
    {
     "data": {
      "text/plain": [
       "array([[1, 2, 1, 2, 3],\n",
       "       [3, 4, 3, 4, 3]])"
      ]
     },
     "execution_count": 69,
     "metadata": {},
     "output_type": "execute_result"
    }
   ],
   "source": [
    "m12"
   ]
  },
  {
   "cell_type": "code",
   "execution_count": 70,
   "id": "56741ecb",
   "metadata": {},
   "outputs": [
    {
     "data": {
      "text/plain": [
       "(2, 2)"
      ]
     },
     "execution_count": 70,
     "metadata": {},
     "output_type": "execute_result"
    }
   ],
   "source": [
    "m1.shape"
   ]
  },
  {
   "cell_type": "code",
   "execution_count": 71,
   "id": "5bf8d6ae",
   "metadata": {},
   "outputs": [
    {
     "data": {
      "text/plain": [
       "(2, 3)"
      ]
     },
     "execution_count": 71,
     "metadata": {},
     "output_type": "execute_result"
    }
   ],
   "source": [
    "m11.shape"
   ]
  },
  {
   "cell_type": "markdown",
   "id": "53763ea4",
   "metadata": {},
   "source": [
    "# Reshape"
   ]
  },
  {
   "cell_type": "code",
   "execution_count": 72,
   "id": "bd4f82bd",
   "metadata": {},
   "outputs": [
    {
     "data": {
      "text/plain": [
       "array([10, 11, 12, 13, 14, 15, 16, 17, 18, 19, 20, 21])"
      ]
     },
     "execution_count": 72,
     "metadata": {},
     "output_type": "execute_result"
    }
   ],
   "source": [
    "a1 = np.arange(10,22)\n",
    "a1"
   ]
  },
  {
   "cell_type": "code",
   "execution_count": 73,
   "id": "627a49f5",
   "metadata": {},
   "outputs": [
    {
     "data": {
      "text/plain": [
       "array([[10, 11, 12, 13, 14, 15],\n",
       "       [16, 17, 18, 19, 20, 21]])"
      ]
     },
     "execution_count": 73,
     "metadata": {},
     "output_type": "execute_result"
    }
   ],
   "source": [
    "a1.reshape(2,6)"
   ]
  },
  {
   "cell_type": "markdown",
   "id": "c7e5e597",
   "metadata": {},
   "source": [
    "# Operation"
   ]
  },
  {
   "cell_type": "code",
   "execution_count": 75,
   "id": "6cab344d",
   "metadata": {},
   "outputs": [],
   "source": [
    "marks = np.array([[78,67,56],[76,75,47],[84,59,60],[67,72,54]])"
   ]
  },
  {
   "cell_type": "code",
   "execution_count": 76,
   "id": "a57a0582",
   "metadata": {},
   "outputs": [
    {
     "data": {
      "text/plain": [
       "47"
      ]
     },
     "execution_count": 76,
     "metadata": {},
     "output_type": "execute_result"
    }
   ],
   "source": [
    "marks.min()"
   ]
  },
  {
   "cell_type": "code",
   "execution_count": 77,
   "id": "d2983011",
   "metadata": {},
   "outputs": [
    {
     "data": {
      "text/plain": [
       "84"
      ]
     },
     "execution_count": 77,
     "metadata": {},
     "output_type": "execute_result"
    }
   ],
   "source": [
    "marks.max()"
   ]
  },
  {
   "cell_type": "code",
   "execution_count": 78,
   "id": "a427aee8",
   "metadata": {},
   "outputs": [
    {
     "data": {
      "text/plain": [
       "795"
      ]
     },
     "execution_count": 78,
     "metadata": {},
     "output_type": "execute_result"
    }
   ],
   "source": [
    "marks.sum()"
   ]
  },
  {
   "cell_type": "code",
   "execution_count": 79,
   "id": "2dd7f0e4",
   "metadata": {},
   "outputs": [
    {
     "data": {
      "text/plain": [
       "66.25"
      ]
     },
     "execution_count": 79,
     "metadata": {},
     "output_type": "execute_result"
    }
   ],
   "source": [
    "marks.mean()\n"
   ]
  },
  {
   "cell_type": "code",
   "execution_count": 107,
   "id": "8bfa4e65",
   "metadata": {},
   "outputs": [],
   "source": [
    "## Load Data\n",
    "# save np array data\n",
    "arr = np.arange(1,101).reshape(20,5)\n",
    "np.savetxt('np_data.txt',arr,delimiter = \"|\")"
   ]
  },
  {
   "cell_type": "code",
   "execution_count": 109,
   "id": "134cd7de",
   "metadata": {},
   "outputs": [
    {
     "data": {
      "text/plain": [
       "array([1., 2., 3., 4., 5.])"
      ]
     },
     "execution_count": 109,
     "metadata": {},
     "output_type": "execute_result"
    }
   ],
   "source": [
    "# load Data\n",
    "data = np.loadtxt('np_data.txt',delimiter = \"|\")\n",
    "data[0]"
   ]
  },
  {
   "cell_type": "code",
   "execution_count": null,
   "id": "dd372756",
   "metadata": {},
   "outputs": [],
   "source": [
    "m1,m2,m3,m4 = np.loadtxt('numpy_load.csv',skiprows = 1,delimiter = ',',dtype = int,unpack = True)"
   ]
  },
  {
   "cell_type": "code",
   "execution_count": 99,
   "id": "3a4d7c95",
   "metadata": {},
   "outputs": [
    {
     "data": {
      "text/plain": [
       "array([[9., 9., 9.],\n",
       "       [9., 9., 9.],\n",
       "       [9., 9., 9.]])"
      ]
     },
     "execution_count": 99,
     "metadata": {},
     "output_type": "execute_result"
    }
   ],
   "source": [
    "a =np.ones((900000,3)) * 9\n",
    "a[2:5,:]"
   ]
  }
 ],
 "metadata": {
  "kernelspec": {
   "display_name": "Python 3 (ipykernel)",
   "language": "python",
   "name": "python3"
  },
  "language_info": {
   "codemirror_mode": {
    "name": "ipython",
    "version": 3
   },
   "file_extension": ".py",
   "mimetype": "text/x-python",
   "name": "python",
   "nbconvert_exporter": "python",
   "pygments_lexer": "ipython3",
   "version": "3.10.4"
  }
 },
 "nbformat": 4,
 "nbformat_minor": 5
}
