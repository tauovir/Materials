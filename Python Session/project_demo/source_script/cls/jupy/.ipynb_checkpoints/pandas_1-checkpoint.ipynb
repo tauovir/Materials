{
 "cells": [
  {
   "cell_type": "markdown",
   "id": "f4dfa30f",
   "metadata": {},
   "source": [
    "## DataFrame\n",
    "A dataframe is a two-dimensional labelled Data structure.<br>\n",
    "It contains rows and column ,therefore has both row & columns index.<br>"
   ]
  },
  {
   "cell_type": "markdown",
   "id": "1775574b",
   "metadata": {},
   "source": [
    "# Creation of DataFrame"
   ]
  },
  {
   "cell_type": "code",
   "execution_count": 1,
   "id": "13e77d62",
   "metadata": {},
   "outputs": [],
   "source": [
    "# Empty DataFrame"
   ]
  },
  {
   "cell_type": "code",
   "execution_count": 2,
   "id": "dcdcfcaf",
   "metadata": {},
   "outputs": [],
   "source": [
    "import pandas as pd\n",
    "import numpy as np"
   ]
  },
  {
   "cell_type": "code",
   "execution_count": 3,
   "id": "338064f6",
   "metadata": {},
   "outputs": [],
   "source": [
    "df_empty = pd.DataFrame()"
   ]
  },
  {
   "cell_type": "code",
   "execution_count": 4,
   "id": "6f09be76",
   "metadata": {},
   "outputs": [
    {
     "name": "stdout",
     "output_type": "stream",
     "text": [
      "Empty DataFrame\n",
      "Columns: []\n",
      "Index: []\n"
     ]
    }
   ],
   "source": [
    "print(df_empty)"
   ]
  },
  {
   "cell_type": "markdown",
   "id": "957d6522",
   "metadata": {},
   "source": [
    "### Creation of Data frame from Numpy array"
   ]
  },
  {
   "cell_type": "code",
   "execution_count": 5,
   "id": "2a475dc8",
   "metadata": {},
   "outputs": [
    {
     "data": {
      "text/html": [
       "<div>\n",
       "<style scoped>\n",
       "    .dataframe tbody tr th:only-of-type {\n",
       "        vertical-align: middle;\n",
       "    }\n",
       "\n",
       "    .dataframe tbody tr th {\n",
       "        vertical-align: top;\n",
       "    }\n",
       "\n",
       "    .dataframe thead th {\n",
       "        text-align: right;\n",
       "    }\n",
       "</style>\n",
       "<table border=\"1\" class=\"dataframe\">\n",
       "  <thead>\n",
       "    <tr style=\"text-align: right;\">\n",
       "      <th></th>\n",
       "      <th>0</th>\n",
       "    </tr>\n",
       "  </thead>\n",
       "  <tbody>\n",
       "    <tr>\n",
       "      <th>0</th>\n",
       "      <td>10</td>\n",
       "    </tr>\n",
       "    <tr>\n",
       "      <th>1</th>\n",
       "      <td>20</td>\n",
       "    </tr>\n",
       "    <tr>\n",
       "      <th>2</th>\n",
       "      <td>30</td>\n",
       "    </tr>\n",
       "  </tbody>\n",
       "</table>\n",
       "</div>"
      ],
      "text/plain": [
       "    0\n",
       "0  10\n",
       "1  20\n",
       "2  30"
      ]
     },
     "execution_count": 5,
     "metadata": {},
     "output_type": "execute_result"
    }
   ],
   "source": [
    "arr1 = np.array([10,20,30])\n",
    "arr2 = np.array([11,22,33])\n",
    "arr3 = np.array([40,50,60])\n",
    "df = pd.DataFrame(arr1)\n",
    "df\n"
   ]
  },
  {
   "cell_type": "code",
   "execution_count": 6,
   "id": "a40ddf2e",
   "metadata": {},
   "outputs": [
    {
     "data": {
      "text/html": [
       "<div>\n",
       "<style scoped>\n",
       "    .dataframe tbody tr th:only-of-type {\n",
       "        vertical-align: middle;\n",
       "    }\n",
       "\n",
       "    .dataframe tbody tr th {\n",
       "        vertical-align: top;\n",
       "    }\n",
       "\n",
       "    .dataframe thead th {\n",
       "        text-align: right;\n",
       "    }\n",
       "</style>\n",
       "<table border=\"1\" class=\"dataframe\">\n",
       "  <thead>\n",
       "    <tr style=\"text-align: right;\">\n",
       "      <th></th>\n",
       "      <th>0</th>\n",
       "      <th>1</th>\n",
       "      <th>2</th>\n",
       "    </tr>\n",
       "  </thead>\n",
       "  <tbody>\n",
       "    <tr>\n",
       "      <th>0</th>\n",
       "      <td>10</td>\n",
       "      <td>20</td>\n",
       "      <td>30</td>\n",
       "    </tr>\n",
       "    <tr>\n",
       "      <th>1</th>\n",
       "      <td>11</td>\n",
       "      <td>22</td>\n",
       "      <td>33</td>\n",
       "    </tr>\n",
       "    <tr>\n",
       "      <th>2</th>\n",
       "      <td>40</td>\n",
       "      <td>50</td>\n",
       "      <td>60</td>\n",
       "    </tr>\n",
       "  </tbody>\n",
       "</table>\n",
       "</div>"
      ],
      "text/plain": [
       "    0   1   2\n",
       "0  10  20  30\n",
       "1  11  22  33\n",
       "2  40  50  60"
      ]
     },
     "execution_count": 6,
     "metadata": {},
     "output_type": "execute_result"
    }
   ],
   "source": [
    "df = pd.DataFrame([arr1,arr2,arr3])\n",
    "df"
   ]
  },
  {
   "cell_type": "code",
   "execution_count": 7,
   "id": "4ea24cb0",
   "metadata": {},
   "outputs": [],
   "source": [
    "columns = ['A','B','C']"
   ]
  },
  {
   "cell_type": "code",
   "execution_count": 8,
   "id": "29fae0b5",
   "metadata": {},
   "outputs": [
    {
     "data": {
      "text/html": [
       "<div>\n",
       "<style scoped>\n",
       "    .dataframe tbody tr th:only-of-type {\n",
       "        vertical-align: middle;\n",
       "    }\n",
       "\n",
       "    .dataframe tbody tr th {\n",
       "        vertical-align: top;\n",
       "    }\n",
       "\n",
       "    .dataframe thead th {\n",
       "        text-align: right;\n",
       "    }\n",
       "</style>\n",
       "<table border=\"1\" class=\"dataframe\">\n",
       "  <thead>\n",
       "    <tr style=\"text-align: right;\">\n",
       "      <th></th>\n",
       "      <th>A</th>\n",
       "      <th>B</th>\n",
       "      <th>C</th>\n",
       "    </tr>\n",
       "  </thead>\n",
       "  <tbody>\n",
       "    <tr>\n",
       "      <th>0</th>\n",
       "      <td>10</td>\n",
       "      <td>20</td>\n",
       "      <td>30</td>\n",
       "    </tr>\n",
       "    <tr>\n",
       "      <th>1</th>\n",
       "      <td>11</td>\n",
       "      <td>22</td>\n",
       "      <td>33</td>\n",
       "    </tr>\n",
       "    <tr>\n",
       "      <th>2</th>\n",
       "      <td>40</td>\n",
       "      <td>50</td>\n",
       "      <td>60</td>\n",
       "    </tr>\n",
       "  </tbody>\n",
       "</table>\n",
       "</div>"
      ],
      "text/plain": [
       "    A   B   C\n",
       "0  10  20  30\n",
       "1  11  22  33\n",
       "2  40  50  60"
      ]
     },
     "execution_count": 8,
     "metadata": {},
     "output_type": "execute_result"
    }
   ],
   "source": [
    "df = pd.DataFrame([arr1,arr2,arr3],columns =columns )\n",
    "df"
   ]
  },
  {
   "cell_type": "markdown",
   "id": "c8d9d261",
   "metadata": {},
   "source": [
    "## Creatiing of DataFrame using List of Dictionary"
   ]
  },
  {
   "cell_type": "code",
   "execution_count": 9,
   "id": "308902ed",
   "metadata": {},
   "outputs": [],
   "source": [
    "list_dict = [\n",
    "    {\"id\" : 101,\"name\" : \"Orange\",\"price\" : 120,\"city\" : \"meerut\"},\n",
    "     {\"id\" : 102,\"name\" : \"Apple\",\"price\" : 150,\"city\" : \"kanpur\"},\n",
    "     {\"id\" : 103,\"name\" : \"Mango\",\"price\" : 160,\"city\" : \"mumbai\"},\n",
    "     {\"id\" : 104,\"name\" : \"Banana\",\"price\" : 180,\"city\" : \"goa\",\"cnt\" : 100},\n",
    "]\n",
    "data = pd.DataFrame(list_dict)"
   ]
  },
  {
   "cell_type": "code",
   "execution_count": 10,
   "id": "58fb378c",
   "metadata": {},
   "outputs": [
    {
     "data": {
      "text/html": [
       "<div>\n",
       "<style scoped>\n",
       "    .dataframe tbody tr th:only-of-type {\n",
       "        vertical-align: middle;\n",
       "    }\n",
       "\n",
       "    .dataframe tbody tr th {\n",
       "        vertical-align: top;\n",
       "    }\n",
       "\n",
       "    .dataframe thead th {\n",
       "        text-align: right;\n",
       "    }\n",
       "</style>\n",
       "<table border=\"1\" class=\"dataframe\">\n",
       "  <thead>\n",
       "    <tr style=\"text-align: right;\">\n",
       "      <th></th>\n",
       "      <th>id</th>\n",
       "      <th>name</th>\n",
       "      <th>price</th>\n",
       "      <th>city</th>\n",
       "      <th>cnt</th>\n",
       "    </tr>\n",
       "  </thead>\n",
       "  <tbody>\n",
       "    <tr>\n",
       "      <th>0</th>\n",
       "      <td>101</td>\n",
       "      <td>Orange</td>\n",
       "      <td>120</td>\n",
       "      <td>meerut</td>\n",
       "      <td>NaN</td>\n",
       "    </tr>\n",
       "    <tr>\n",
       "      <th>1</th>\n",
       "      <td>102</td>\n",
       "      <td>Apple</td>\n",
       "      <td>150</td>\n",
       "      <td>kanpur</td>\n",
       "      <td>NaN</td>\n",
       "    </tr>\n",
       "    <tr>\n",
       "      <th>2</th>\n",
       "      <td>103</td>\n",
       "      <td>Mango</td>\n",
       "      <td>160</td>\n",
       "      <td>mumbai</td>\n",
       "      <td>NaN</td>\n",
       "    </tr>\n",
       "    <tr>\n",
       "      <th>3</th>\n",
       "      <td>104</td>\n",
       "      <td>Banana</td>\n",
       "      <td>180</td>\n",
       "      <td>goa</td>\n",
       "      <td>100.0</td>\n",
       "    </tr>\n",
       "  </tbody>\n",
       "</table>\n",
       "</div>"
      ],
      "text/plain": [
       "    id    name  price    city    cnt\n",
       "0  101  Orange    120  meerut    NaN\n",
       "1  102   Apple    150  kanpur    NaN\n",
       "2  103   Mango    160  mumbai    NaN\n",
       "3  104  Banana    180     goa  100.0"
      ]
     },
     "execution_count": 10,
     "metadata": {},
     "output_type": "execute_result"
    }
   ],
   "source": [
    "data\n",
    "# Here dictionary Keys are taken as columns label, and valus as row\n"
   ]
  },
  {
   "cell_type": "markdown",
   "id": "969216c3",
   "metadata": {},
   "source": [
    "## Creatiing of DataFrame using Dictionary  of List "
   ]
  },
  {
   "cell_type": "code",
   "execution_count": 11,
   "id": "aad3b61e",
   "metadata": {},
   "outputs": [
    {
     "data": {
      "text/html": [
       "<div>\n",
       "<style scoped>\n",
       "    .dataframe tbody tr th:only-of-type {\n",
       "        vertical-align: middle;\n",
       "    }\n",
       "\n",
       "    .dataframe tbody tr th {\n",
       "        vertical-align: top;\n",
       "    }\n",
       "\n",
       "    .dataframe thead th {\n",
       "        text-align: right;\n",
       "    }\n",
       "</style>\n",
       "<table border=\"1\" class=\"dataframe\">\n",
       "  <thead>\n",
       "    <tr style=\"text-align: right;\">\n",
       "      <th></th>\n",
       "      <th>id</th>\n",
       "      <th>name</th>\n",
       "      <th>price</th>\n",
       "      <th>city</th>\n",
       "      <th>cnt</th>\n",
       "    </tr>\n",
       "  </thead>\n",
       "  <tbody>\n",
       "    <tr>\n",
       "      <th>0</th>\n",
       "      <td>101</td>\n",
       "      <td>Orange</td>\n",
       "      <td>120</td>\n",
       "      <td>meerut</td>\n",
       "      <td>NaN</td>\n",
       "    </tr>\n",
       "    <tr>\n",
       "      <th>1</th>\n",
       "      <td>102</td>\n",
       "      <td>Apple</td>\n",
       "      <td>150</td>\n",
       "      <td>kanpur</td>\n",
       "      <td>NaN</td>\n",
       "    </tr>\n",
       "    <tr>\n",
       "      <th>2</th>\n",
       "      <td>103</td>\n",
       "      <td>Mango</td>\n",
       "      <td>160</td>\n",
       "      <td>mumbai</td>\n",
       "      <td>NaN</td>\n",
       "    </tr>\n",
       "    <tr>\n",
       "      <th>3</th>\n",
       "      <td>104</td>\n",
       "      <td>Banana</td>\n",
       "      <td>180</td>\n",
       "      <td>goa</td>\n",
       "      <td>10.0</td>\n",
       "    </tr>\n",
       "  </tbody>\n",
       "</table>\n",
       "</div>"
      ],
      "text/plain": [
       "    id    name  price    city   cnt\n",
       "0  101  Orange    120  meerut   NaN\n",
       "1  102   Apple    150  kanpur   NaN\n",
       "2  103   Mango    160  mumbai   NaN\n",
       "3  104  Banana    180     goa  10.0"
      ]
     },
     "execution_count": 11,
     "metadata": {},
     "output_type": "execute_result"
    }
   ],
   "source": [
    "# Array Always must be the same length\n",
    "dict_list = {\"id\" : [101,102,103,104],\n",
    "            \"name\" : [\"Orange\",\"Apple\",\"Mango\",\"Banana\"],\n",
    "             \"price\" : [120,150,160,180],\n",
    "             \"city\" : [\"meerut\",\"kanpur\",\"mumbai\",\"goa\"],\n",
    "             \"cnt\" : [None,None,None,10]\n",
    "            }\n",
    "data = pd.DataFrame(dict_list)\n",
    "data"
   ]
  },
  {
   "cell_type": "code",
   "execution_count": 12,
   "id": "1caf68e8",
   "metadata": {},
   "outputs": [
    {
     "data": {
      "text/html": [
       "<div>\n",
       "<style scoped>\n",
       "    .dataframe tbody tr th:only-of-type {\n",
       "        vertical-align: middle;\n",
       "    }\n",
       "\n",
       "    .dataframe tbody tr th {\n",
       "        vertical-align: top;\n",
       "    }\n",
       "\n",
       "    .dataframe thead th {\n",
       "        text-align: right;\n",
       "    }\n",
       "</style>\n",
       "<table border=\"1\" class=\"dataframe\">\n",
       "  <thead>\n",
       "    <tr style=\"text-align: right;\">\n",
       "      <th></th>\n",
       "      <th>cnt</th>\n",
       "      <th>city</th>\n",
       "      <th>name</th>\n",
       "      <th>id</th>\n",
       "    </tr>\n",
       "  </thead>\n",
       "  <tbody>\n",
       "    <tr>\n",
       "      <th>0</th>\n",
       "      <td>NaN</td>\n",
       "      <td>meerut</td>\n",
       "      <td>Orange</td>\n",
       "      <td>101</td>\n",
       "    </tr>\n",
       "    <tr>\n",
       "      <th>1</th>\n",
       "      <td>NaN</td>\n",
       "      <td>kanpur</td>\n",
       "      <td>Apple</td>\n",
       "      <td>102</td>\n",
       "    </tr>\n",
       "    <tr>\n",
       "      <th>2</th>\n",
       "      <td>NaN</td>\n",
       "      <td>mumbai</td>\n",
       "      <td>Mango</td>\n",
       "      <td>103</td>\n",
       "    </tr>\n",
       "    <tr>\n",
       "      <th>3</th>\n",
       "      <td>10.0</td>\n",
       "      <td>goa</td>\n",
       "      <td>Banana</td>\n",
       "      <td>104</td>\n",
       "    </tr>\n",
       "  </tbody>\n",
       "</table>\n",
       "</div>"
      ],
      "text/plain": [
       "    cnt    city    name   id\n",
       "0   NaN  meerut  Orange  101\n",
       "1   NaN  kanpur   Apple  102\n",
       "2   NaN  mumbai   Mango  103\n",
       "3  10.0     goa  Banana  104"
      ]
     },
     "execution_count": 12,
     "metadata": {},
     "output_type": "execute_result"
    }
   ],
   "source": [
    "data1 = pd.DataFrame(dict_list,columns = ['cnt','city','name','id']) # Chnage Sequence\n",
    "data1"
   ]
  },
  {
   "cell_type": "markdown",
   "id": "13a435d3",
   "metadata": {},
   "source": [
    "# Creating Pandas using Series"
   ]
  },
  {
   "cell_type": "code",
   "execution_count": 14,
   "id": "26774ab8",
   "metadata": {},
   "outputs": [
    {
     "data": {
      "text/html": [
       "<div>\n",
       "<style scoped>\n",
       "    .dataframe tbody tr th:only-of-type {\n",
       "        vertical-align: middle;\n",
       "    }\n",
       "\n",
       "    .dataframe tbody tr th {\n",
       "        vertical-align: top;\n",
       "    }\n",
       "\n",
       "    .dataframe thead th {\n",
       "        text-align: right;\n",
       "    }\n",
       "</style>\n",
       "<table border=\"1\" class=\"dataframe\">\n",
       "  <thead>\n",
       "    <tr style=\"text-align: right;\">\n",
       "      <th></th>\n",
       "      <th>0</th>\n",
       "      <th>1</th>\n",
       "      <th>2</th>\n",
       "    </tr>\n",
       "  </thead>\n",
       "  <tbody>\n",
       "    <tr>\n",
       "      <th>0</th>\n",
       "      <td>10</td>\n",
       "      <td>20</td>\n",
       "      <td>30</td>\n",
       "    </tr>\n",
       "    <tr>\n",
       "      <th>1</th>\n",
       "      <td>apple</td>\n",
       "      <td>mango</td>\n",
       "      <td>orange</td>\n",
       "    </tr>\n",
       "    <tr>\n",
       "      <th>2</th>\n",
       "      <td>150</td>\n",
       "      <td>130</td>\n",
       "      <td>160</td>\n",
       "    </tr>\n",
       "  </tbody>\n",
       "</table>\n",
       "</div>"
      ],
      "text/plain": [
       "       0      1       2\n",
       "0     10     20      30\n",
       "1  apple  mango  orange\n",
       "2    150    130     160"
      ]
     },
     "execution_count": 14,
     "metadata": {},
     "output_type": "execute_result"
    }
   ],
   "source": [
    "s1 = pd.Series([10,20,30])\n",
    "s2 = pd.Series([\"apple\",\"mango\",\"orange\"])\n",
    "s3 = pd.Series([150,130,160])\n",
    "data = pd.DataFrame([s1,s2,s3])\n",
    "data"
   ]
  },
  {
   "cell_type": "code",
   "execution_count": 15,
   "id": "481e8826",
   "metadata": {},
   "outputs": [
    {
     "data": {
      "text/html": [
       "<div>\n",
       "<style scoped>\n",
       "    .dataframe tbody tr th:only-of-type {\n",
       "        vertical-align: middle;\n",
       "    }\n",
       "\n",
       "    .dataframe tbody tr th {\n",
       "        vertical-align: top;\n",
       "    }\n",
       "\n",
       "    .dataframe thead th {\n",
       "        text-align: right;\n",
       "    }\n",
       "</style>\n",
       "<table border=\"1\" class=\"dataframe\">\n",
       "  <thead>\n",
       "    <tr style=\"text-align: right;\">\n",
       "      <th></th>\n",
       "      <th>id</th>\n",
       "      <th>name</th>\n",
       "      <th>price</th>\n",
       "    </tr>\n",
       "  </thead>\n",
       "  <tbody>\n",
       "    <tr>\n",
       "      <th>0</th>\n",
       "      <td>10</td>\n",
       "      <td>apple</td>\n",
       "      <td>150</td>\n",
       "    </tr>\n",
       "    <tr>\n",
       "      <th>1</th>\n",
       "      <td>20</td>\n",
       "      <td>mango</td>\n",
       "      <td>130</td>\n",
       "    </tr>\n",
       "    <tr>\n",
       "      <th>2</th>\n",
       "      <td>30</td>\n",
       "      <td>orange</td>\n",
       "      <td>160</td>\n",
       "    </tr>\n",
       "  </tbody>\n",
       "</table>\n",
       "</div>"
      ],
      "text/plain": [
       "   id    name  price\n",
       "0  10   apple    150\n",
       "1  20   mango    130\n",
       "2  30  orange    160"
      ]
     },
     "execution_count": 15,
     "metadata": {},
     "output_type": "execute_result"
    }
   ],
   "source": [
    "s1 = pd.Series([10,20,30])\n",
    "s2 = pd.Series([\"apple\",\"mango\",\"orange\"])\n",
    "s3 = pd.Series([150,130,160])\n",
    "data = pd.DataFrame({\"id\":s1,\"name\":s2,\"price\":s3})\n",
    "data"
   ]
  },
  {
   "cell_type": "markdown",
   "id": "eac8c6e9",
   "metadata": {},
   "source": [
    "### =================End =============================="
   ]
  },
  {
   "cell_type": "markdown",
   "id": "232fe756",
   "metadata": {},
   "source": [
    "# Operation on Rows and columns"
   ]
  },
  {
   "cell_type": "code",
   "execution_count": 16,
   "id": "65680b95",
   "metadata": {},
   "outputs": [
    {
     "data": {
      "text/html": [
       "<div>\n",
       "<style scoped>\n",
       "    .dataframe tbody tr th:only-of-type {\n",
       "        vertical-align: middle;\n",
       "    }\n",
       "\n",
       "    .dataframe tbody tr th {\n",
       "        vertical-align: top;\n",
       "    }\n",
       "\n",
       "    .dataframe thead th {\n",
       "        text-align: right;\n",
       "    }\n",
       "</style>\n",
       "<table border=\"1\" class=\"dataframe\">\n",
       "  <thead>\n",
       "    <tr style=\"text-align: right;\">\n",
       "      <th></th>\n",
       "      <th>id</th>\n",
       "      <th>name</th>\n",
       "      <th>price</th>\n",
       "      <th>city</th>\n",
       "    </tr>\n",
       "  </thead>\n",
       "  <tbody>\n",
       "    <tr>\n",
       "      <th>0</th>\n",
       "      <td>101</td>\n",
       "      <td>Orange</td>\n",
       "      <td>120</td>\n",
       "      <td>meerut</td>\n",
       "    </tr>\n",
       "    <tr>\n",
       "      <th>1</th>\n",
       "      <td>102</td>\n",
       "      <td>Apple</td>\n",
       "      <td>150</td>\n",
       "      <td>Jhansi</td>\n",
       "    </tr>\n",
       "    <tr>\n",
       "      <th>2</th>\n",
       "      <td>103</td>\n",
       "      <td>Mango</td>\n",
       "      <td>160</td>\n",
       "      <td>mumbai</td>\n",
       "    </tr>\n",
       "    <tr>\n",
       "      <th>3</th>\n",
       "      <td>104</td>\n",
       "      <td>Banana</td>\n",
       "      <td>180</td>\n",
       "      <td>calicut</td>\n",
       "    </tr>\n",
       "  </tbody>\n",
       "</table>\n",
       "</div>"
      ],
      "text/plain": [
       "    id    name  price     city\n",
       "0  101  Orange    120   meerut\n",
       "1  102   Apple    150   Jhansi\n",
       "2  103   Mango    160   mumbai\n",
       "3  104  Banana    180  calicut"
      ]
     },
     "execution_count": 16,
     "metadata": {},
     "output_type": "execute_result"
    }
   ],
   "source": [
    "list_dict = [\n",
    "    {\"id\" : 101,\"name\" : \"Orange\",\"price\" : 120,\"city\" : \"meerut\"},\n",
    "     {\"id\" : 102,\"name\" : \"Apple\",\"price\" : 150,\"city\" : \"Jhansi\"},\n",
    "     {\"id\" : 103,\"name\" : \"Mango\",\"price\" : 160,\"city\" : \"mumbai\"},\n",
    "     {\"id\" : 104,\"name\" : \"Banana\",\"price\" : 180,\"city\" : \"calicut\"},\n",
    "]\n",
    "data = pd.DataFrame(list_dict)\n",
    "data"
   ]
  },
  {
   "cell_type": "markdown",
   "id": "0d7fdf10",
   "metadata": {},
   "source": [
    "## Adding New Column to DataFrame"
   ]
  },
  {
   "cell_type": "code",
   "execution_count": 17,
   "id": "8644071b",
   "metadata": {},
   "outputs": [
    {
     "data": {
      "text/html": [
       "<div>\n",
       "<style scoped>\n",
       "    .dataframe tbody tr th:only-of-type {\n",
       "        vertical-align: middle;\n",
       "    }\n",
       "\n",
       "    .dataframe tbody tr th {\n",
       "        vertical-align: top;\n",
       "    }\n",
       "\n",
       "    .dataframe thead th {\n",
       "        text-align: right;\n",
       "    }\n",
       "</style>\n",
       "<table border=\"1\" class=\"dataframe\">\n",
       "  <thead>\n",
       "    <tr style=\"text-align: right;\">\n",
       "      <th></th>\n",
       "      <th>id</th>\n",
       "      <th>name</th>\n",
       "      <th>price</th>\n",
       "      <th>city</th>\n",
       "      <th>state</th>\n",
       "    </tr>\n",
       "  </thead>\n",
       "  <tbody>\n",
       "    <tr>\n",
       "      <th>0</th>\n",
       "      <td>101</td>\n",
       "      <td>Orange</td>\n",
       "      <td>120</td>\n",
       "      <td>meerut</td>\n",
       "      <td>Uttar Pradesh</td>\n",
       "    </tr>\n",
       "    <tr>\n",
       "      <th>1</th>\n",
       "      <td>102</td>\n",
       "      <td>Apple</td>\n",
       "      <td>150</td>\n",
       "      <td>Jhansi</td>\n",
       "      <td>Madhya Pradesh</td>\n",
       "    </tr>\n",
       "    <tr>\n",
       "      <th>2</th>\n",
       "      <td>103</td>\n",
       "      <td>Mango</td>\n",
       "      <td>160</td>\n",
       "      <td>mumbai</td>\n",
       "      <td>Maharashtra</td>\n",
       "    </tr>\n",
       "    <tr>\n",
       "      <th>3</th>\n",
       "      <td>104</td>\n",
       "      <td>Banana</td>\n",
       "      <td>180</td>\n",
       "      <td>calicut</td>\n",
       "      <td>Kerala</td>\n",
       "    </tr>\n",
       "  </tbody>\n",
       "</table>\n",
       "</div>"
      ],
      "text/plain": [
       "    id    name  price     city           state\n",
       "0  101  Orange    120   meerut   Uttar Pradesh\n",
       "1  102   Apple    150   Jhansi  Madhya Pradesh\n",
       "2  103   Mango    160   mumbai     Maharashtra\n",
       "3  104  Banana    180  calicut          Kerala"
      ]
     },
     "execution_count": 17,
     "metadata": {},
     "output_type": "execute_result"
    }
   ],
   "source": [
    "\n",
    "data['state'] = [\"Uttar Pradesh\",\"Madhya Pradesh\",\"Maharashtra\",\"Kerala\",]\n",
    "data"
   ]
  },
  {
   "cell_type": "code",
   "execution_count": 18,
   "id": "4f2d5100",
   "metadata": {},
   "outputs": [
    {
     "data": {
      "text/html": [
       "<div>\n",
       "<style scoped>\n",
       "    .dataframe tbody tr th:only-of-type {\n",
       "        vertical-align: middle;\n",
       "    }\n",
       "\n",
       "    .dataframe tbody tr th {\n",
       "        vertical-align: top;\n",
       "    }\n",
       "\n",
       "    .dataframe thead th {\n",
       "        text-align: right;\n",
       "    }\n",
       "</style>\n",
       "<table border=\"1\" class=\"dataframe\">\n",
       "  <thead>\n",
       "    <tr style=\"text-align: right;\">\n",
       "      <th></th>\n",
       "      <th>id</th>\n",
       "      <th>name</th>\n",
       "      <th>price</th>\n",
       "      <th>city</th>\n",
       "      <th>state</th>\n",
       "      <th>country</th>\n",
       "    </tr>\n",
       "  </thead>\n",
       "  <tbody>\n",
       "    <tr>\n",
       "      <th>0</th>\n",
       "      <td>101</td>\n",
       "      <td>Orange</td>\n",
       "      <td>120</td>\n",
       "      <td>meerut</td>\n",
       "      <td>Uttar Pradesh</td>\n",
       "      <td>india</td>\n",
       "    </tr>\n",
       "    <tr>\n",
       "      <th>1</th>\n",
       "      <td>102</td>\n",
       "      <td>Apple</td>\n",
       "      <td>150</td>\n",
       "      <td>Jhansi</td>\n",
       "      <td>Madhya Pradesh</td>\n",
       "      <td>india</td>\n",
       "    </tr>\n",
       "    <tr>\n",
       "      <th>2</th>\n",
       "      <td>103</td>\n",
       "      <td>Mango</td>\n",
       "      <td>160</td>\n",
       "      <td>mumbai</td>\n",
       "      <td>Maharashtra</td>\n",
       "      <td>india</td>\n",
       "    </tr>\n",
       "    <tr>\n",
       "      <th>3</th>\n",
       "      <td>104</td>\n",
       "      <td>Banana</td>\n",
       "      <td>180</td>\n",
       "      <td>calicut</td>\n",
       "      <td>Kerala</td>\n",
       "      <td>india</td>\n",
       "    </tr>\n",
       "  </tbody>\n",
       "</table>\n",
       "</div>"
      ],
      "text/plain": [
       "    id    name  price     city           state country\n",
       "0  101  Orange    120   meerut   Uttar Pradesh   india\n",
       "1  102   Apple    150   Jhansi  Madhya Pradesh   india\n",
       "2  103   Mango    160   mumbai     Maharashtra   india\n",
       "3  104  Banana    180  calicut          Kerala   india"
      ]
     },
     "execution_count": 18,
     "metadata": {},
     "output_type": "execute_result"
    }
   ],
   "source": [
    "data['country'] = \"india\"\n",
    "data"
   ]
  },
  {
   "cell_type": "markdown",
   "id": "c85375b2",
   "metadata": {},
   "source": [
    "# Adding New Rows to dataFrame"
   ]
  },
  {
   "cell_type": "code",
   "execution_count": 19,
   "id": "8ea24428",
   "metadata": {},
   "outputs": [],
   "source": [
    "data.loc[10] = [105,\"pineapple\",190,\"Ghaziabad\",\"uttar pradesh\",\"India\"]"
   ]
  },
  {
   "cell_type": "code",
   "execution_count": 20,
   "id": "a993d1a6",
   "metadata": {},
   "outputs": [],
   "source": [
    "# data.loc[0] = 10"
   ]
  },
  {
   "cell_type": "code",
   "execution_count": 21,
   "id": "44c78bcd",
   "metadata": {},
   "outputs": [
    {
     "data": {
      "text/html": [
       "<div>\n",
       "<style scoped>\n",
       "    .dataframe tbody tr th:only-of-type {\n",
       "        vertical-align: middle;\n",
       "    }\n",
       "\n",
       "    .dataframe tbody tr th {\n",
       "        vertical-align: top;\n",
       "    }\n",
       "\n",
       "    .dataframe thead th {\n",
       "        text-align: right;\n",
       "    }\n",
       "</style>\n",
       "<table border=\"1\" class=\"dataframe\">\n",
       "  <thead>\n",
       "    <tr style=\"text-align: right;\">\n",
       "      <th></th>\n",
       "      <th>id</th>\n",
       "      <th>name</th>\n",
       "      <th>price</th>\n",
       "      <th>city</th>\n",
       "      <th>state</th>\n",
       "      <th>country</th>\n",
       "    </tr>\n",
       "  </thead>\n",
       "  <tbody>\n",
       "    <tr>\n",
       "      <th>0</th>\n",
       "      <td>101</td>\n",
       "      <td>Orange</td>\n",
       "      <td>120</td>\n",
       "      <td>meerut</td>\n",
       "      <td>Uttar Pradesh</td>\n",
       "      <td>india</td>\n",
       "    </tr>\n",
       "    <tr>\n",
       "      <th>1</th>\n",
       "      <td>102</td>\n",
       "      <td>Apple</td>\n",
       "      <td>150</td>\n",
       "      <td>Jhansi</td>\n",
       "      <td>Madhya Pradesh</td>\n",
       "      <td>india</td>\n",
       "    </tr>\n",
       "    <tr>\n",
       "      <th>2</th>\n",
       "      <td>103</td>\n",
       "      <td>Mango</td>\n",
       "      <td>160</td>\n",
       "      <td>mumbai</td>\n",
       "      <td>Maharashtra</td>\n",
       "      <td>india</td>\n",
       "    </tr>\n",
       "    <tr>\n",
       "      <th>3</th>\n",
       "      <td>104</td>\n",
       "      <td>Banana</td>\n",
       "      <td>180</td>\n",
       "      <td>calicut</td>\n",
       "      <td>Kerala</td>\n",
       "      <td>india</td>\n",
       "    </tr>\n",
       "    <tr>\n",
       "      <th>10</th>\n",
       "      <td>105</td>\n",
       "      <td>pineapple</td>\n",
       "      <td>190</td>\n",
       "      <td>Ghaziabad</td>\n",
       "      <td>uttar pradesh</td>\n",
       "      <td>India</td>\n",
       "    </tr>\n",
       "  </tbody>\n",
       "</table>\n",
       "</div>"
      ],
      "text/plain": [
       "     id       name  price       city           state country\n",
       "0   101     Orange    120     meerut   Uttar Pradesh   india\n",
       "1   102      Apple    150     Jhansi  Madhya Pradesh   india\n",
       "2   103      Mango    160     mumbai     Maharashtra   india\n",
       "3   104     Banana    180    calicut          Kerala   india\n",
       "10  105  pineapple    190  Ghaziabad   uttar pradesh   India"
      ]
     },
     "execution_count": 21,
     "metadata": {},
     "output_type": "execute_result"
    }
   ],
   "source": [
    "data"
   ]
  },
  {
   "cell_type": "code",
   "execution_count": 22,
   "id": "621ccfba",
   "metadata": {},
   "outputs": [
    {
     "data": {
      "text/html": [
       "<div>\n",
       "<style scoped>\n",
       "    .dataframe tbody tr th:only-of-type {\n",
       "        vertical-align: middle;\n",
       "    }\n",
       "\n",
       "    .dataframe tbody tr th {\n",
       "        vertical-align: top;\n",
       "    }\n",
       "\n",
       "    .dataframe thead th {\n",
       "        text-align: right;\n",
       "    }\n",
       "</style>\n",
       "<table border=\"1\" class=\"dataframe\">\n",
       "  <thead>\n",
       "    <tr style=\"text-align: right;\">\n",
       "      <th></th>\n",
       "      <th>id</th>\n",
       "      <th>name</th>\n",
       "      <th>price</th>\n",
       "      <th>city</th>\n",
       "      <th>state</th>\n",
       "      <th>country</th>\n",
       "    </tr>\n",
       "  </thead>\n",
       "  <tbody>\n",
       "    <tr>\n",
       "      <th>0</th>\n",
       "      <td>101</td>\n",
       "      <td>Orange</td>\n",
       "      <td>120</td>\n",
       "      <td>meerut</td>\n",
       "      <td>Uttar Pradesh</td>\n",
       "      <td>india</td>\n",
       "    </tr>\n",
       "    <tr>\n",
       "      <th>1</th>\n",
       "      <td>99</td>\n",
       "      <td>99</td>\n",
       "      <td>99</td>\n",
       "      <td>99</td>\n",
       "      <td>99</td>\n",
       "      <td>99</td>\n",
       "    </tr>\n",
       "    <tr>\n",
       "      <th>2</th>\n",
       "      <td>99</td>\n",
       "      <td>99</td>\n",
       "      <td>99</td>\n",
       "      <td>99</td>\n",
       "      <td>99</td>\n",
       "      <td>99</td>\n",
       "    </tr>\n",
       "    <tr>\n",
       "      <th>3</th>\n",
       "      <td>99</td>\n",
       "      <td>99</td>\n",
       "      <td>99</td>\n",
       "      <td>99</td>\n",
       "      <td>99</td>\n",
       "      <td>99</td>\n",
       "    </tr>\n",
       "    <tr>\n",
       "      <th>10</th>\n",
       "      <td>105</td>\n",
       "      <td>pineapple</td>\n",
       "      <td>190</td>\n",
       "      <td>Ghaziabad</td>\n",
       "      <td>uttar pradesh</td>\n",
       "      <td>India</td>\n",
       "    </tr>\n",
       "  </tbody>\n",
       "</table>\n",
       "</div>"
      ],
      "text/plain": [
       "     id       name  price       city          state country\n",
       "0   101     Orange    120     meerut  Uttar Pradesh   india\n",
       "1    99         99     99         99             99      99\n",
       "2    99         99     99         99             99      99\n",
       "3    99         99     99         99             99      99\n",
       "10  105  pineapple    190  Ghaziabad  uttar pradesh   India"
      ]
     },
     "execution_count": 22,
     "metadata": {},
     "output_type": "execute_result"
    }
   ],
   "source": [
    "data.loc[1:3] = 99 # opetional\n",
    "data"
   ]
  },
  {
   "cell_type": "markdown",
   "id": "0ef9c680",
   "metadata": {},
   "source": [
    "## Deleting Rows and Columns from DataFrame\n",
    "We can use DataFrame.drop() method to delete rows and columns from DataFrame.<br>\n",
    "We need to specify the name of labels to be dropped and axis from which they need to be dropped<br>\n",
    "To delete a row, parameter axis assigned to value 0,<br>\n",
    "To delete a columns ,parameter axis assigned to value 1"
   ]
  },
  {
   "cell_type": "code",
   "execution_count": 23,
   "id": "fc9da804",
   "metadata": {},
   "outputs": [],
   "source": [
    "list_dict = [\n",
    "    {\"id\" : 101,\"name\" : \"Orange\",\"price\" : 120,\"city\" : \"meerut\"},\n",
    "     {\"id\" : 102,\"name\" : \"Apple\",\"price\" : 150,\"city\" : \"Jhansi\"},\n",
    "     {\"id\" : 103,\"name\" : \"Mango\",\"price\" : 160,\"city\" : \"mumbai\"},\n",
    "     {\"id\" : 104,\"name\" : \"Banana\",\"price\" : 180,\"city\" : \"calicut\"},\n",
    "]\n",
    "main_data = pd.DataFrame(list_dict)\n",
    "main_data.loc[4] = [105,\"pineapple\",190,\"Ghaziabad\"]\n",
    "data = main_data"
   ]
  },
  {
   "cell_type": "code",
   "execution_count": 24,
   "id": "280d24fe",
   "metadata": {},
   "outputs": [
    {
     "data": {
      "text/html": [
       "<div>\n",
       "<style scoped>\n",
       "    .dataframe tbody tr th:only-of-type {\n",
       "        vertical-align: middle;\n",
       "    }\n",
       "\n",
       "    .dataframe tbody tr th {\n",
       "        vertical-align: top;\n",
       "    }\n",
       "\n",
       "    .dataframe thead th {\n",
       "        text-align: right;\n",
       "    }\n",
       "</style>\n",
       "<table border=\"1\" class=\"dataframe\">\n",
       "  <thead>\n",
       "    <tr style=\"text-align: right;\">\n",
       "      <th></th>\n",
       "      <th>id</th>\n",
       "      <th>name</th>\n",
       "      <th>price</th>\n",
       "      <th>city</th>\n",
       "    </tr>\n",
       "  </thead>\n",
       "  <tbody>\n",
       "    <tr>\n",
       "      <th>0</th>\n",
       "      <td>101</td>\n",
       "      <td>Orange</td>\n",
       "      <td>120</td>\n",
       "      <td>meerut</td>\n",
       "    </tr>\n",
       "    <tr>\n",
       "      <th>1</th>\n",
       "      <td>102</td>\n",
       "      <td>Apple</td>\n",
       "      <td>150</td>\n",
       "      <td>Jhansi</td>\n",
       "    </tr>\n",
       "    <tr>\n",
       "      <th>2</th>\n",
       "      <td>103</td>\n",
       "      <td>Mango</td>\n",
       "      <td>160</td>\n",
       "      <td>mumbai</td>\n",
       "    </tr>\n",
       "    <tr>\n",
       "      <th>3</th>\n",
       "      <td>104</td>\n",
       "      <td>Banana</td>\n",
       "      <td>180</td>\n",
       "      <td>calicut</td>\n",
       "    </tr>\n",
       "    <tr>\n",
       "      <th>4</th>\n",
       "      <td>105</td>\n",
       "      <td>pineapple</td>\n",
       "      <td>190</td>\n",
       "      <td>Ghaziabad</td>\n",
       "    </tr>\n",
       "  </tbody>\n",
       "</table>\n",
       "</div>"
      ],
      "text/plain": [
       "    id       name  price       city\n",
       "0  101     Orange    120     meerut\n",
       "1  102      Apple    150     Jhansi\n",
       "2  103      Mango    160     mumbai\n",
       "3  104     Banana    180    calicut\n",
       "4  105  pineapple    190  Ghaziabad"
      ]
     },
     "execution_count": 24,
     "metadata": {},
     "output_type": "execute_result"
    }
   ],
   "source": [
    "data"
   ]
  },
  {
   "cell_type": "code",
   "execution_count": 25,
   "id": "241a7eab",
   "metadata": {},
   "outputs": [
    {
     "data": {
      "text/html": [
       "<div>\n",
       "<style scoped>\n",
       "    .dataframe tbody tr th:only-of-type {\n",
       "        vertical-align: middle;\n",
       "    }\n",
       "\n",
       "    .dataframe tbody tr th {\n",
       "        vertical-align: top;\n",
       "    }\n",
       "\n",
       "    .dataframe thead th {\n",
       "        text-align: right;\n",
       "    }\n",
       "</style>\n",
       "<table border=\"1\" class=\"dataframe\">\n",
       "  <thead>\n",
       "    <tr style=\"text-align: right;\">\n",
       "      <th></th>\n",
       "      <th>id</th>\n",
       "      <th>name</th>\n",
       "      <th>price</th>\n",
       "      <th>city</th>\n",
       "    </tr>\n",
       "  </thead>\n",
       "  <tbody>\n",
       "    <tr>\n",
       "      <th>0</th>\n",
       "      <td>101</td>\n",
       "      <td>Orange</td>\n",
       "      <td>120</td>\n",
       "      <td>meerut</td>\n",
       "    </tr>\n",
       "    <tr>\n",
       "      <th>1</th>\n",
       "      <td>102</td>\n",
       "      <td>Apple</td>\n",
       "      <td>150</td>\n",
       "      <td>Jhansi</td>\n",
       "    </tr>\n",
       "    <tr>\n",
       "      <th>3</th>\n",
       "      <td>104</td>\n",
       "      <td>Banana</td>\n",
       "      <td>180</td>\n",
       "      <td>calicut</td>\n",
       "    </tr>\n",
       "    <tr>\n",
       "      <th>4</th>\n",
       "      <td>105</td>\n",
       "      <td>pineapple</td>\n",
       "      <td>190</td>\n",
       "      <td>Ghaziabad</td>\n",
       "    </tr>\n",
       "  </tbody>\n",
       "</table>\n",
       "</div>"
      ],
      "text/plain": [
       "    id       name  price       city\n",
       "0  101     Orange    120     meerut\n",
       "1  102      Apple    150     Jhansi\n",
       "3  104     Banana    180    calicut\n",
       "4  105  pineapple    190  Ghaziabad"
      ]
     },
     "execution_count": 25,
     "metadata": {},
     "output_type": "execute_result"
    }
   ],
   "source": [
    "data = data.drop(2, axis = 0)\n",
    "data"
   ]
  },
  {
   "cell_type": "code",
   "execution_count": 26,
   "id": "8b6402cc",
   "metadata": {},
   "outputs": [
    {
     "data": {
      "text/html": [
       "<div>\n",
       "<style scoped>\n",
       "    .dataframe tbody tr th:only-of-type {\n",
       "        vertical-align: middle;\n",
       "    }\n",
       "\n",
       "    .dataframe tbody tr th {\n",
       "        vertical-align: top;\n",
       "    }\n",
       "\n",
       "    .dataframe thead th {\n",
       "        text-align: right;\n",
       "    }\n",
       "</style>\n",
       "<table border=\"1\" class=\"dataframe\">\n",
       "  <thead>\n",
       "    <tr style=\"text-align: right;\">\n",
       "      <th></th>\n",
       "      <th>id</th>\n",
       "      <th>name</th>\n",
       "      <th>price</th>\n",
       "      <th>city</th>\n",
       "    </tr>\n",
       "  </thead>\n",
       "  <tbody>\n",
       "    <tr>\n",
       "      <th>0</th>\n",
       "      <td>101</td>\n",
       "      <td>Orange</td>\n",
       "      <td>120</td>\n",
       "      <td>meerut</td>\n",
       "    </tr>\n",
       "    <tr>\n",
       "      <th>1</th>\n",
       "      <td>102</td>\n",
       "      <td>Apple</td>\n",
       "      <td>150</td>\n",
       "      <td>Jhansi</td>\n",
       "    </tr>\n",
       "    <tr>\n",
       "      <th>2</th>\n",
       "      <td>103</td>\n",
       "      <td>Mango</td>\n",
       "      <td>160</td>\n",
       "      <td>mumbai</td>\n",
       "    </tr>\n",
       "    <tr>\n",
       "      <th>3</th>\n",
       "      <td>104</td>\n",
       "      <td>Banana</td>\n",
       "      <td>180</td>\n",
       "      <td>calicut</td>\n",
       "    </tr>\n",
       "    <tr>\n",
       "      <th>4</th>\n",
       "      <td>105</td>\n",
       "      <td>pineapple</td>\n",
       "      <td>190</td>\n",
       "      <td>Ghaziabad</td>\n",
       "    </tr>\n",
       "  </tbody>\n",
       "</table>\n",
       "</div>"
      ],
      "text/plain": [
       "    id       name  price       city\n",
       "0  101     Orange    120     meerut\n",
       "1  102      Apple    150     Jhansi\n",
       "2  103      Mango    160     mumbai\n",
       "3  104     Banana    180    calicut\n",
       "4  105  pineapple    190  Ghaziabad"
      ]
     },
     "execution_count": 26,
     "metadata": {},
     "output_type": "execute_result"
    }
   ],
   "source": [
    "data = main_data\n",
    "data"
   ]
  },
  {
   "cell_type": "code",
   "execution_count": 27,
   "id": "8c74f874",
   "metadata": {},
   "outputs": [
    {
     "data": {
      "text/html": [
       "<div>\n",
       "<style scoped>\n",
       "    .dataframe tbody tr th:only-of-type {\n",
       "        vertical-align: middle;\n",
       "    }\n",
       "\n",
       "    .dataframe tbody tr th {\n",
       "        vertical-align: top;\n",
       "    }\n",
       "\n",
       "    .dataframe thead th {\n",
       "        text-align: right;\n",
       "    }\n",
       "</style>\n",
       "<table border=\"1\" class=\"dataframe\">\n",
       "  <thead>\n",
       "    <tr style=\"text-align: right;\">\n",
       "      <th></th>\n",
       "      <th>id</th>\n",
       "      <th>name</th>\n",
       "      <th>price</th>\n",
       "      <th>city</th>\n",
       "    </tr>\n",
       "  </thead>\n",
       "  <tbody>\n",
       "    <tr>\n",
       "      <th>0</th>\n",
       "      <td>101</td>\n",
       "      <td>Orange</td>\n",
       "      <td>120</td>\n",
       "      <td>meerut</td>\n",
       "    </tr>\n",
       "    <tr>\n",
       "      <th>2</th>\n",
       "      <td>103</td>\n",
       "      <td>Mango</td>\n",
       "      <td>160</td>\n",
       "      <td>mumbai</td>\n",
       "    </tr>\n",
       "    <tr>\n",
       "      <th>4</th>\n",
       "      <td>105</td>\n",
       "      <td>pineapple</td>\n",
       "      <td>190</td>\n",
       "      <td>Ghaziabad</td>\n",
       "    </tr>\n",
       "  </tbody>\n",
       "</table>\n",
       "</div>"
      ],
      "text/plain": [
       "    id       name  price       city\n",
       "0  101     Orange    120     meerut\n",
       "2  103      Mango    160     mumbai\n",
       "4  105  pineapple    190  Ghaziabad"
      ]
     },
     "execution_count": 27,
     "metadata": {},
     "output_type": "execute_result"
    }
   ],
   "source": [
    "data = data.drop([1,3])\n",
    "data"
   ]
  },
  {
   "cell_type": "code",
   "execution_count": 28,
   "id": "3b695c0a",
   "metadata": {},
   "outputs": [],
   "source": [
    "# Renaming Row and columns label"
   ]
  },
  {
   "cell_type": "code",
   "execution_count": 29,
   "id": "58585a32",
   "metadata": {},
   "outputs": [
    {
     "data": {
      "text/html": [
       "<div>\n",
       "<style scoped>\n",
       "    .dataframe tbody tr th:only-of-type {\n",
       "        vertical-align: middle;\n",
       "    }\n",
       "\n",
       "    .dataframe tbody tr th {\n",
       "        vertical-align: top;\n",
       "    }\n",
       "\n",
       "    .dataframe thead th {\n",
       "        text-align: right;\n",
       "    }\n",
       "</style>\n",
       "<table border=\"1\" class=\"dataframe\">\n",
       "  <thead>\n",
       "    <tr style=\"text-align: right;\">\n",
       "      <th></th>\n",
       "      <th>id</th>\n",
       "      <th>name</th>\n",
       "      <th>price</th>\n",
       "      <th>city</th>\n",
       "    </tr>\n",
       "  </thead>\n",
       "  <tbody>\n",
       "    <tr>\n",
       "      <th>0</th>\n",
       "      <td>101</td>\n",
       "      <td>Orange</td>\n",
       "      <td>120</td>\n",
       "      <td>meerut</td>\n",
       "    </tr>\n",
       "    <tr>\n",
       "      <th>1</th>\n",
       "      <td>102</td>\n",
       "      <td>Apple</td>\n",
       "      <td>150</td>\n",
       "      <td>Jhansi</td>\n",
       "    </tr>\n",
       "    <tr>\n",
       "      <th>2</th>\n",
       "      <td>103</td>\n",
       "      <td>Mango</td>\n",
       "      <td>160</td>\n",
       "      <td>mumbai</td>\n",
       "    </tr>\n",
       "    <tr>\n",
       "      <th>3</th>\n",
       "      <td>104</td>\n",
       "      <td>Banana</td>\n",
       "      <td>180</td>\n",
       "      <td>calicut</td>\n",
       "    </tr>\n",
       "    <tr>\n",
       "      <th>4</th>\n",
       "      <td>105</td>\n",
       "      <td>pineapple</td>\n",
       "      <td>190</td>\n",
       "      <td>Ghaziabad</td>\n",
       "    </tr>\n",
       "  </tbody>\n",
       "</table>\n",
       "</div>"
      ],
      "text/plain": [
       "    id       name  price       city\n",
       "0  101     Orange    120     meerut\n",
       "1  102      Apple    150     Jhansi\n",
       "2  103      Mango    160     mumbai\n",
       "3  104     Banana    180    calicut\n",
       "4  105  pineapple    190  Ghaziabad"
      ]
     },
     "execution_count": 29,
     "metadata": {},
     "output_type": "execute_result"
    }
   ],
   "source": [
    "data = main_data\n",
    "data"
   ]
  },
  {
   "cell_type": "code",
   "execution_count": 30,
   "id": "3d8858bd",
   "metadata": {},
   "outputs": [
    {
     "data": {
      "text/html": [
       "<div>\n",
       "<style scoped>\n",
       "    .dataframe tbody tr th:only-of-type {\n",
       "        vertical-align: middle;\n",
       "    }\n",
       "\n",
       "    .dataframe tbody tr th {\n",
       "        vertical-align: top;\n",
       "    }\n",
       "\n",
       "    .dataframe thead th {\n",
       "        text-align: right;\n",
       "    }\n",
       "</style>\n",
       "<table border=\"1\" class=\"dataframe\">\n",
       "  <thead>\n",
       "    <tr style=\"text-align: right;\">\n",
       "      <th></th>\n",
       "      <th>id</th>\n",
       "      <th>name</th>\n",
       "      <th>price</th>\n",
       "      <th>city</th>\n",
       "    </tr>\n",
       "  </thead>\n",
       "  <tbody>\n",
       "    <tr>\n",
       "      <th>a</th>\n",
       "      <td>101</td>\n",
       "      <td>Orange</td>\n",
       "      <td>120</td>\n",
       "      <td>meerut</td>\n",
       "    </tr>\n",
       "    <tr>\n",
       "      <th>b</th>\n",
       "      <td>102</td>\n",
       "      <td>Apple</td>\n",
       "      <td>150</td>\n",
       "      <td>Jhansi</td>\n",
       "    </tr>\n",
       "    <tr>\n",
       "      <th>2</th>\n",
       "      <td>103</td>\n",
       "      <td>Mango</td>\n",
       "      <td>160</td>\n",
       "      <td>mumbai</td>\n",
       "    </tr>\n",
       "    <tr>\n",
       "      <th>3</th>\n",
       "      <td>104</td>\n",
       "      <td>Banana</td>\n",
       "      <td>180</td>\n",
       "      <td>calicut</td>\n",
       "    </tr>\n",
       "    <tr>\n",
       "      <th>4</th>\n",
       "      <td>105</td>\n",
       "      <td>pineapple</td>\n",
       "      <td>190</td>\n",
       "      <td>Ghaziabad</td>\n",
       "    </tr>\n",
       "  </tbody>\n",
       "</table>\n",
       "</div>"
      ],
      "text/plain": [
       "    id       name  price       city\n",
       "a  101     Orange    120     meerut\n",
       "b  102      Apple    150     Jhansi\n",
       "2  103      Mango    160     mumbai\n",
       "3  104     Banana    180    calicut\n",
       "4  105  pineapple    190  Ghaziabad"
      ]
     },
     "execution_count": 30,
     "metadata": {},
     "output_type": "execute_result"
    }
   ],
   "source": [
    "# Renaming row label\n",
    "data = data.rename({0:'a',1:'b'},axis = \"index\")\n",
    "data"
   ]
  },
  {
   "cell_type": "code",
   "execution_count": 31,
   "id": "d1610e7f",
   "metadata": {},
   "outputs": [
    {
     "data": {
      "text/html": [
       "<div>\n",
       "<style scoped>\n",
       "    .dataframe tbody tr th:only-of-type {\n",
       "        vertical-align: middle;\n",
       "    }\n",
       "\n",
       "    .dataframe tbody tr th {\n",
       "        vertical-align: top;\n",
       "    }\n",
       "\n",
       "    .dataframe thead th {\n",
       "        text-align: right;\n",
       "    }\n",
       "</style>\n",
       "<table border=\"1\" class=\"dataframe\">\n",
       "  <thead>\n",
       "    <tr style=\"text-align: right;\">\n",
       "      <th></th>\n",
       "      <th>user_id</th>\n",
       "      <th>full_name</th>\n",
       "      <th>price</th>\n",
       "      <th>city</th>\n",
       "    </tr>\n",
       "  </thead>\n",
       "  <tbody>\n",
       "    <tr>\n",
       "      <th>a</th>\n",
       "      <td>101</td>\n",
       "      <td>Orange</td>\n",
       "      <td>120</td>\n",
       "      <td>meerut</td>\n",
       "    </tr>\n",
       "    <tr>\n",
       "      <th>b</th>\n",
       "      <td>102</td>\n",
       "      <td>Apple</td>\n",
       "      <td>150</td>\n",
       "      <td>Jhansi</td>\n",
       "    </tr>\n",
       "    <tr>\n",
       "      <th>2</th>\n",
       "      <td>103</td>\n",
       "      <td>Mango</td>\n",
       "      <td>160</td>\n",
       "      <td>mumbai</td>\n",
       "    </tr>\n",
       "    <tr>\n",
       "      <th>3</th>\n",
       "      <td>104</td>\n",
       "      <td>Banana</td>\n",
       "      <td>180</td>\n",
       "      <td>calicut</td>\n",
       "    </tr>\n",
       "    <tr>\n",
       "      <th>4</th>\n",
       "      <td>105</td>\n",
       "      <td>pineapple</td>\n",
       "      <td>190</td>\n",
       "      <td>Ghaziabad</td>\n",
       "    </tr>\n",
       "  </tbody>\n",
       "</table>\n",
       "</div>"
      ],
      "text/plain": [
       "   user_id  full_name  price       city\n",
       "a      101     Orange    120     meerut\n",
       "b      102      Apple    150     Jhansi\n",
       "2      103      Mango    160     mumbai\n",
       "3      104     Banana    180    calicut\n",
       "4      105  pineapple    190  Ghaziabad"
      ]
     },
     "execution_count": 31,
     "metadata": {},
     "output_type": "execute_result"
    }
   ],
   "source": [
    "# Renaming columsn\n",
    "data = data.rename({\"id\":\"user_id\",\"name\" :\"full_name\"},axis = \"columns\")\n",
    "data"
   ]
  },
  {
   "cell_type": "markdown",
   "id": "fd212c9a",
   "metadata": {},
   "source": [
    "## Accessing DataFrame Element through Indexing\n",
    "Data element in a DataFrame can be accessed using indexing. There are two ways of indexing DataFrame<br>\n",
    "**Label based indexing & Boolean Indexing**\n"
   ]
  },
  {
   "cell_type": "markdown",
   "id": "4298312a",
   "metadata": {},
   "source": [
    "## (A) Label Based Indexing\n",
    "There are several ways in pandas to implement label based indexing. <br>\n",
    "**DataFrame.loc[]** is an important method that is used for label based indexing with Dataframe."
   ]
  },
  {
   "cell_type": "code",
   "execution_count": 48,
   "id": "878b9140",
   "metadata": {},
   "outputs": [
    {
     "data": {
      "text/html": [
       "<div>\n",
       "<style scoped>\n",
       "    .dataframe tbody tr th:only-of-type {\n",
       "        vertical-align: middle;\n",
       "    }\n",
       "\n",
       "    .dataframe tbody tr th {\n",
       "        vertical-align: top;\n",
       "    }\n",
       "\n",
       "    .dataframe thead th {\n",
       "        text-align: right;\n",
       "    }\n",
       "</style>\n",
       "<table border=\"1\" class=\"dataframe\">\n",
       "  <thead>\n",
       "    <tr style=\"text-align: right;\">\n",
       "      <th></th>\n",
       "      <th>id</th>\n",
       "      <th>name</th>\n",
       "      <th>price</th>\n",
       "      <th>city</th>\n",
       "    </tr>\n",
       "  </thead>\n",
       "  <tbody>\n",
       "    <tr>\n",
       "      <th>0</th>\n",
       "      <td>101</td>\n",
       "      <td>Orange</td>\n",
       "      <td>120</td>\n",
       "      <td>meerut</td>\n",
       "    </tr>\n",
       "    <tr>\n",
       "      <th>1</th>\n",
       "      <td>102</td>\n",
       "      <td>Apple</td>\n",
       "      <td>150</td>\n",
       "      <td>Jhansi</td>\n",
       "    </tr>\n",
       "    <tr>\n",
       "      <th>2</th>\n",
       "      <td>103</td>\n",
       "      <td>Mango</td>\n",
       "      <td>160</td>\n",
       "      <td>mumbai</td>\n",
       "    </tr>\n",
       "    <tr>\n",
       "      <th>3</th>\n",
       "      <td>104</td>\n",
       "      <td>Banana</td>\n",
       "      <td>180</td>\n",
       "      <td>calicut</td>\n",
       "    </tr>\n",
       "    <tr>\n",
       "      <th>4</th>\n",
       "      <td>105</td>\n",
       "      <td>pineapple</td>\n",
       "      <td>190</td>\n",
       "      <td>Ghaziabad</td>\n",
       "    </tr>\n",
       "  </tbody>\n",
       "</table>\n",
       "</div>"
      ],
      "text/plain": [
       "    id       name  price       city\n",
       "0  101     Orange    120     meerut\n",
       "1  102      Apple    150     Jhansi\n",
       "2  103      Mango    160     mumbai\n",
       "3  104     Banana    180    calicut\n",
       "4  105  pineapple    190  Ghaziabad"
      ]
     },
     "execution_count": 48,
     "metadata": {},
     "output_type": "execute_result"
    }
   ],
   "source": [
    "data = main_data\n",
    "data.head()"
   ]
  },
  {
   "cell_type": "code",
   "execution_count": 49,
   "id": "e91f7c70",
   "metadata": {},
   "outputs": [
    {
     "data": {
      "text/html": [
       "<div>\n",
       "<style scoped>\n",
       "    .dataframe tbody tr th:only-of-type {\n",
       "        vertical-align: middle;\n",
       "    }\n",
       "\n",
       "    .dataframe tbody tr th {\n",
       "        vertical-align: top;\n",
       "    }\n",
       "\n",
       "    .dataframe thead th {\n",
       "        text-align: right;\n",
       "    }\n",
       "</style>\n",
       "<table border=\"1\" class=\"dataframe\">\n",
       "  <thead>\n",
       "    <tr style=\"text-align: right;\">\n",
       "      <th></th>\n",
       "      <th>id</th>\n",
       "      <th>name</th>\n",
       "      <th>price</th>\n",
       "      <th>city</th>\n",
       "    </tr>\n",
       "  </thead>\n",
       "  <tbody>\n",
       "    <tr>\n",
       "      <th>0</th>\n",
       "      <td>101</td>\n",
       "      <td>Orange</td>\n",
       "      <td>120</td>\n",
       "      <td>meerut</td>\n",
       "    </tr>\n",
       "    <tr>\n",
       "      <th>1</th>\n",
       "      <td>102</td>\n",
       "      <td>Apple</td>\n",
       "      <td>150</td>\n",
       "      <td>Jhansi</td>\n",
       "    </tr>\n",
       "    <tr>\n",
       "      <th>2</th>\n",
       "      <td>103</td>\n",
       "      <td>Mango</td>\n",
       "      <td>160</td>\n",
       "      <td>mumbai</td>\n",
       "    </tr>\n",
       "    <tr>\n",
       "      <th>3</th>\n",
       "      <td>104</td>\n",
       "      <td>Banana</td>\n",
       "      <td>180</td>\n",
       "      <td>calicut</td>\n",
       "    </tr>\n",
       "    <tr>\n",
       "      <th>4</th>\n",
       "      <td>105</td>\n",
       "      <td>pineapple</td>\n",
       "      <td>190</td>\n",
       "      <td>Ghaziabad</td>\n",
       "    </tr>\n",
       "  </tbody>\n",
       "</table>\n",
       "</div>"
      ],
      "text/plain": [
       "    id       name  price       city\n",
       "0  101     Orange    120     meerut\n",
       "1  102      Apple    150     Jhansi\n",
       "2  103      Mango    160     mumbai\n",
       "3  104     Banana    180    calicut\n",
       "4  105  pineapple    190  Ghaziabad"
      ]
     },
     "execution_count": 49,
     "metadata": {},
     "output_type": "execute_result"
    }
   ],
   "source": [
    "data.loc[3] #\n",
    "# data = data.rename({0:'a',1:'b'},axis = \"index\")\n",
    "#data.loc['a']\n",
    "data"
   ]
  },
  {
   "cell_type": "code",
   "execution_count": 50,
   "id": "4045f7c0",
   "metadata": {},
   "outputs": [
    {
     "data": {
      "text/plain": [
       "id          103\n",
       "name      Mango\n",
       "price       160\n",
       "city     mumbai\n",
       "Name: 2, dtype: object"
      ]
     },
     "execution_count": 50,
     "metadata": {},
     "output_type": "execute_result"
    }
   ],
   "source": [
    "data.loc[2]"
   ]
  },
  {
   "cell_type": "code",
   "execution_count": 62,
   "id": "69b8f1dc",
   "metadata": {},
   "outputs": [],
   "source": [
    "# data.loc[:] # All element\n",
    "# data.loc[1:3]\n",
    "# data.loc[1:3,['name','price']]"
   ]
  },
  {
   "cell_type": "markdown",
   "id": "3e9fc081",
   "metadata": {},
   "source": [
    "## Boolean Indexing\n",
    "Boolean means a binary variable that can represent either of two states:<br>\n",
    "**True(indicated by 1)**:<br>\n",
    "**False (indicated by 0)**<br>\n",
    "In booelan indexing we can select the subset of data based on actual values in the DataFrame rather than\n",
    "thier rows/columns label.Thus we can use conditions on column names to filter data values."
   ]
  },
  {
   "cell_type": "code",
   "execution_count": 81,
   "id": "4233dfe0",
   "metadata": {},
   "outputs": [
    {
     "data": {
      "text/html": [
       "<div>\n",
       "<style scoped>\n",
       "    .dataframe tbody tr th:only-of-type {\n",
       "        vertical-align: middle;\n",
       "    }\n",
       "\n",
       "    .dataframe tbody tr th {\n",
       "        vertical-align: top;\n",
       "    }\n",
       "\n",
       "    .dataframe thead th {\n",
       "        text-align: right;\n",
       "    }\n",
       "</style>\n",
       "<table border=\"1\" class=\"dataframe\">\n",
       "  <thead>\n",
       "    <tr style=\"text-align: right;\">\n",
       "      <th></th>\n",
       "      <th>id</th>\n",
       "      <th>name</th>\n",
       "      <th>price</th>\n",
       "      <th>city</th>\n",
       "    </tr>\n",
       "  </thead>\n",
       "  <tbody>\n",
       "    <tr>\n",
       "      <th>0</th>\n",
       "      <td>101</td>\n",
       "      <td>Orange</td>\n",
       "      <td>120</td>\n",
       "      <td>meerut</td>\n",
       "    </tr>\n",
       "    <tr>\n",
       "      <th>1</th>\n",
       "      <td>102</td>\n",
       "      <td>Apple</td>\n",
       "      <td>150</td>\n",
       "      <td>Jhansi</td>\n",
       "    </tr>\n",
       "    <tr>\n",
       "      <th>2</th>\n",
       "      <td>103</td>\n",
       "      <td>Mango</td>\n",
       "      <td>160</td>\n",
       "      <td>mumbai</td>\n",
       "    </tr>\n",
       "    <tr>\n",
       "      <th>3</th>\n",
       "      <td>104</td>\n",
       "      <td>Banana</td>\n",
       "      <td>180</td>\n",
       "      <td>calicut</td>\n",
       "    </tr>\n",
       "    <tr>\n",
       "      <th>4</th>\n",
       "      <td>105</td>\n",
       "      <td>pineapple</td>\n",
       "      <td>190</td>\n",
       "      <td>Ghaziabad</td>\n",
       "    </tr>\n",
       "  </tbody>\n",
       "</table>\n",
       "</div>"
      ],
      "text/plain": [
       "    id       name  price       city\n",
       "0  101     Orange    120     meerut\n",
       "1  102      Apple    150     Jhansi\n",
       "2  103      Mango    160     mumbai\n",
       "3  104     Banana    180    calicut\n",
       "4  105  pineapple    190  Ghaziabad"
      ]
     },
     "execution_count": 81,
     "metadata": {},
     "output_type": "execute_result"
    }
   ],
   "source": [
    "data"
   ]
  },
  {
   "cell_type": "code",
   "execution_count": 99,
   "id": "990423ad",
   "metadata": {},
   "outputs": [
    {
     "data": {
      "text/plain": [
       "0    False\n",
       "1    False\n",
       "2     True\n",
       "3     True\n",
       "4     True\n",
       "Name: price, dtype: bool"
      ]
     },
     "execution_count": 99,
     "metadata": {},
     "output_type": "execute_result"
    }
   ],
   "source": [
    "data.loc[:,'price'] >150"
   ]
  },
  {
   "cell_type": "markdown",
   "id": "e5119b48",
   "metadata": {},
   "source": [
    "## Accessing Data Element Using Slicing"
   ]
  },
  {
   "cell_type": "code",
   "execution_count": 107,
   "id": "1b90cb7d",
   "metadata": {},
   "outputs": [
    {
     "data": {
      "text/html": [
       "<div>\n",
       "<style scoped>\n",
       "    .dataframe tbody tr th:only-of-type {\n",
       "        vertical-align: middle;\n",
       "    }\n",
       "\n",
       "    .dataframe tbody tr th {\n",
       "        vertical-align: top;\n",
       "    }\n",
       "\n",
       "    .dataframe thead th {\n",
       "        text-align: right;\n",
       "    }\n",
       "</style>\n",
       "<table border=\"1\" class=\"dataframe\">\n",
       "  <thead>\n",
       "    <tr style=\"text-align: right;\">\n",
       "      <th></th>\n",
       "      <th>name</th>\n",
       "      <th>price</th>\n",
       "    </tr>\n",
       "  </thead>\n",
       "  <tbody>\n",
       "    <tr>\n",
       "      <th>1</th>\n",
       "      <td>Apple</td>\n",
       "      <td>150</td>\n",
       "    </tr>\n",
       "    <tr>\n",
       "      <th>2</th>\n",
       "      <td>Mango</td>\n",
       "      <td>160</td>\n",
       "    </tr>\n",
       "    <tr>\n",
       "      <th>3</th>\n",
       "      <td>Banana</td>\n",
       "      <td>180</td>\n",
       "    </tr>\n",
       "  </tbody>\n",
       "</table>\n",
       "</div>"
      ],
      "text/plain": [
       "     name  price\n",
       "1   Apple    150\n",
       "2   Mango    160\n",
       "3  Banana    180"
      ]
     },
     "execution_count": 107,
     "metadata": {},
     "output_type": "execute_result"
    }
   ],
   "source": [
    "# data.loc[1:3,'name' :'city']\n",
    "data.loc[1:3,['name','price']]"
   ]
  },
  {
   "cell_type": "code",
   "execution_count": 108,
   "id": "6c1e94ae",
   "metadata": {},
   "outputs": [],
   "source": [
    "## Filtering rows in DataFrame"
   ]
  },
  {
   "cell_type": "code",
   "execution_count": 110,
   "id": "e791b30e",
   "metadata": {},
   "outputs": [
    {
     "data": {
      "text/html": [
       "<div>\n",
       "<style scoped>\n",
       "    .dataframe tbody tr th:only-of-type {\n",
       "        vertical-align: middle;\n",
       "    }\n",
       "\n",
       "    .dataframe tbody tr th {\n",
       "        vertical-align: top;\n",
       "    }\n",
       "\n",
       "    .dataframe thead th {\n",
       "        text-align: right;\n",
       "    }\n",
       "</style>\n",
       "<table border=\"1\" class=\"dataframe\">\n",
       "  <thead>\n",
       "    <tr style=\"text-align: right;\">\n",
       "      <th></th>\n",
       "      <th>id</th>\n",
       "      <th>name</th>\n",
       "      <th>price</th>\n",
       "      <th>city</th>\n",
       "    </tr>\n",
       "  </thead>\n",
       "  <tbody>\n",
       "    <tr>\n",
       "      <th>0</th>\n",
       "      <td>101</td>\n",
       "      <td>Orange</td>\n",
       "      <td>120</td>\n",
       "      <td>meerut</td>\n",
       "    </tr>\n",
       "    <tr>\n",
       "      <th>1</th>\n",
       "      <td>102</td>\n",
       "      <td>Apple</td>\n",
       "      <td>150</td>\n",
       "      <td>meerut</td>\n",
       "    </tr>\n",
       "    <tr>\n",
       "      <th>2</th>\n",
       "      <td>103</td>\n",
       "      <td>Mango</td>\n",
       "      <td>160</td>\n",
       "      <td>meerut</td>\n",
       "    </tr>\n",
       "    <tr>\n",
       "      <th>3</th>\n",
       "      <td>104</td>\n",
       "      <td>Banana</td>\n",
       "      <td>180</td>\n",
       "      <td>meerut</td>\n",
       "    </tr>\n",
       "    <tr>\n",
       "      <th>4</th>\n",
       "      <td>105</td>\n",
       "      <td>pineapple</td>\n",
       "      <td>190</td>\n",
       "      <td>meerut</td>\n",
       "    </tr>\n",
       "  </tbody>\n",
       "</table>\n",
       "</div>"
      ],
      "text/plain": [
       "    id       name  price    city\n",
       "0  101     Orange    120  meerut\n",
       "1  102      Apple    150  meerut\n",
       "2  103      Mango    160  meerut\n",
       "3  104     Banana    180  meerut\n",
       "4  105  pineapple    190  meerut"
      ]
     },
     "execution_count": 110,
     "metadata": {},
     "output_type": "execute_result"
    }
   ],
   "source": [
    "data.head()"
   ]
  },
  {
   "cell_type": "code",
   "execution_count": 123,
   "id": "9ebde476",
   "metadata": {},
   "outputs": [],
   "source": [
    "# data.loc[[True,False,False,False,True]]\n",
    "# data.loc[:,'price'] > 150\n",
    "# data[data.loc[:,'price'] >150]"
   ]
  },
  {
   "cell_type": "markdown",
   "id": "971f33d7",
   "metadata": {},
   "source": [
    "## Attributes of DataFrame"
   ]
  },
  {
   "cell_type": "code",
   "execution_count": 124,
   "id": "90c03179",
   "metadata": {},
   "outputs": [
    {
     "data": {
      "text/plain": [
       "Int64Index([0, 1, 2, 3, 4], dtype='int64')"
      ]
     },
     "execution_count": 124,
     "metadata": {},
     "output_type": "execute_result"
    }
   ],
   "source": [
    "data.index"
   ]
  },
  {
   "cell_type": "code",
   "execution_count": 125,
   "id": "99755f51",
   "metadata": {},
   "outputs": [
    {
     "data": {
      "text/plain": [
       "Index(['id', 'name', 'price', 'city'], dtype='object')"
      ]
     },
     "execution_count": 125,
     "metadata": {},
     "output_type": "execute_result"
    }
   ],
   "source": [
    "data.columns"
   ]
  },
  {
   "cell_type": "code",
   "execution_count": 126,
   "id": "0d01c7d7",
   "metadata": {},
   "outputs": [
    {
     "data": {
      "text/plain": [
       "array([[101, 'Orange', 120, 'meerut'],\n",
       "       [102, 'Apple', 150, 'meerut'],\n",
       "       [103, 'Mango', 160, 'meerut'],\n",
       "       [104, 'Banana', 180, 'meerut'],\n",
       "       [105, 'pineapple', 190, 'meerut']], dtype=object)"
      ]
     },
     "execution_count": 126,
     "metadata": {},
     "output_type": "execute_result"
    }
   ],
   "source": [
    "data.values"
   ]
  },
  {
   "cell_type": "code",
   "execution_count": 127,
   "id": "544aeea9",
   "metadata": {},
   "outputs": [
    {
     "data": {
      "text/plain": [
       "(5, 4)"
      ]
     },
     "execution_count": 127,
     "metadata": {},
     "output_type": "execute_result"
    }
   ],
   "source": [
    "data.shape"
   ]
  },
  {
   "cell_type": "code",
   "execution_count": 128,
   "id": "7094be4d",
   "metadata": {},
   "outputs": [
    {
     "data": {
      "text/plain": [
       "20"
      ]
     },
     "execution_count": 128,
     "metadata": {},
     "output_type": "execute_result"
    }
   ],
   "source": [
    "data.size"
   ]
  },
  {
   "cell_type": "code",
   "execution_count": 129,
   "id": "358e7ecd",
   "metadata": {},
   "outputs": [
    {
     "data": {
      "text/html": [
       "<div>\n",
       "<style scoped>\n",
       "    .dataframe tbody tr th:only-of-type {\n",
       "        vertical-align: middle;\n",
       "    }\n",
       "\n",
       "    .dataframe tbody tr th {\n",
       "        vertical-align: top;\n",
       "    }\n",
       "\n",
       "    .dataframe thead th {\n",
       "        text-align: right;\n",
       "    }\n",
       "</style>\n",
       "<table border=\"1\" class=\"dataframe\">\n",
       "  <thead>\n",
       "    <tr style=\"text-align: right;\">\n",
       "      <th></th>\n",
       "      <th>0</th>\n",
       "      <th>1</th>\n",
       "      <th>2</th>\n",
       "      <th>3</th>\n",
       "      <th>4</th>\n",
       "    </tr>\n",
       "  </thead>\n",
       "  <tbody>\n",
       "    <tr>\n",
       "      <th>id</th>\n",
       "      <td>101</td>\n",
       "      <td>102</td>\n",
       "      <td>103</td>\n",
       "      <td>104</td>\n",
       "      <td>105</td>\n",
       "    </tr>\n",
       "    <tr>\n",
       "      <th>name</th>\n",
       "      <td>Orange</td>\n",
       "      <td>Apple</td>\n",
       "      <td>Mango</td>\n",
       "      <td>Banana</td>\n",
       "      <td>pineapple</td>\n",
       "    </tr>\n",
       "    <tr>\n",
       "      <th>price</th>\n",
       "      <td>120</td>\n",
       "      <td>150</td>\n",
       "      <td>160</td>\n",
       "      <td>180</td>\n",
       "      <td>190</td>\n",
       "    </tr>\n",
       "    <tr>\n",
       "      <th>city</th>\n",
       "      <td>meerut</td>\n",
       "      <td>meerut</td>\n",
       "      <td>meerut</td>\n",
       "      <td>meerut</td>\n",
       "      <td>meerut</td>\n",
       "    </tr>\n",
       "  </tbody>\n",
       "</table>\n",
       "</div>"
      ],
      "text/plain": [
       "            0       1       2       3          4\n",
       "id        101     102     103     104        105\n",
       "name   Orange   Apple   Mango  Banana  pineapple\n",
       "price     120     150     160     180        190\n",
       "city   meerut  meerut  meerut  meerut     meerut"
      ]
     },
     "execution_count": 129,
     "metadata": {},
     "output_type": "execute_result"
    }
   ],
   "source": [
    "data.T"
   ]
  },
  {
   "cell_type": "code",
   "execution_count": 130,
   "id": "d46814d1",
   "metadata": {},
   "outputs": [
    {
     "data": {
      "text/html": [
       "<div>\n",
       "<style scoped>\n",
       "    .dataframe tbody tr th:only-of-type {\n",
       "        vertical-align: middle;\n",
       "    }\n",
       "\n",
       "    .dataframe tbody tr th {\n",
       "        vertical-align: top;\n",
       "    }\n",
       "\n",
       "    .dataframe thead th {\n",
       "        text-align: right;\n",
       "    }\n",
       "</style>\n",
       "<table border=\"1\" class=\"dataframe\">\n",
       "  <thead>\n",
       "    <tr style=\"text-align: right;\">\n",
       "      <th></th>\n",
       "      <th>id</th>\n",
       "      <th>name</th>\n",
       "      <th>price</th>\n",
       "      <th>city</th>\n",
       "    </tr>\n",
       "  </thead>\n",
       "  <tbody>\n",
       "    <tr>\n",
       "      <th>0</th>\n",
       "      <td>101</td>\n",
       "      <td>Orange</td>\n",
       "      <td>120</td>\n",
       "      <td>meerut</td>\n",
       "    </tr>\n",
       "    <tr>\n",
       "      <th>1</th>\n",
       "      <td>102</td>\n",
       "      <td>Apple</td>\n",
       "      <td>150</td>\n",
       "      <td>meerut</td>\n",
       "    </tr>\n",
       "    <tr>\n",
       "      <th>2</th>\n",
       "      <td>103</td>\n",
       "      <td>Mango</td>\n",
       "      <td>160</td>\n",
       "      <td>meerut</td>\n",
       "    </tr>\n",
       "    <tr>\n",
       "      <th>3</th>\n",
       "      <td>104</td>\n",
       "      <td>Banana</td>\n",
       "      <td>180</td>\n",
       "      <td>meerut</td>\n",
       "    </tr>\n",
       "    <tr>\n",
       "      <th>4</th>\n",
       "      <td>105</td>\n",
       "      <td>pineapple</td>\n",
       "      <td>190</td>\n",
       "      <td>meerut</td>\n",
       "    </tr>\n",
       "  </tbody>\n",
       "</table>\n",
       "</div>"
      ],
      "text/plain": [
       "    id       name  price    city\n",
       "0  101     Orange    120  meerut\n",
       "1  102      Apple    150  meerut\n",
       "2  103      Mango    160  meerut\n",
       "3  104     Banana    180  meerut\n",
       "4  105  pineapple    190  meerut"
      ]
     },
     "execution_count": 130,
     "metadata": {},
     "output_type": "execute_result"
    }
   ],
   "source": [
    "data.head()"
   ]
  },
  {
   "cell_type": "code",
   "execution_count": 131,
   "id": "98b84567",
   "metadata": {},
   "outputs": [
    {
     "data": {
      "text/html": [
       "<div>\n",
       "<style scoped>\n",
       "    .dataframe tbody tr th:only-of-type {\n",
       "        vertical-align: middle;\n",
       "    }\n",
       "\n",
       "    .dataframe tbody tr th {\n",
       "        vertical-align: top;\n",
       "    }\n",
       "\n",
       "    .dataframe thead th {\n",
       "        text-align: right;\n",
       "    }\n",
       "</style>\n",
       "<table border=\"1\" class=\"dataframe\">\n",
       "  <thead>\n",
       "    <tr style=\"text-align: right;\">\n",
       "      <th></th>\n",
       "      <th>id</th>\n",
       "      <th>name</th>\n",
       "      <th>price</th>\n",
       "      <th>city</th>\n",
       "    </tr>\n",
       "  </thead>\n",
       "  <tbody>\n",
       "    <tr>\n",
       "      <th>0</th>\n",
       "      <td>101</td>\n",
       "      <td>Orange</td>\n",
       "      <td>120</td>\n",
       "      <td>meerut</td>\n",
       "    </tr>\n",
       "    <tr>\n",
       "      <th>1</th>\n",
       "      <td>102</td>\n",
       "      <td>Apple</td>\n",
       "      <td>150</td>\n",
       "      <td>meerut</td>\n",
       "    </tr>\n",
       "    <tr>\n",
       "      <th>2</th>\n",
       "      <td>103</td>\n",
       "      <td>Mango</td>\n",
       "      <td>160</td>\n",
       "      <td>meerut</td>\n",
       "    </tr>\n",
       "    <tr>\n",
       "      <th>3</th>\n",
       "      <td>104</td>\n",
       "      <td>Banana</td>\n",
       "      <td>180</td>\n",
       "      <td>meerut</td>\n",
       "    </tr>\n",
       "    <tr>\n",
       "      <th>4</th>\n",
       "      <td>105</td>\n",
       "      <td>pineapple</td>\n",
       "      <td>190</td>\n",
       "      <td>meerut</td>\n",
       "    </tr>\n",
       "  </tbody>\n",
       "</table>\n",
       "</div>"
      ],
      "text/plain": [
       "    id       name  price    city\n",
       "0  101     Orange    120  meerut\n",
       "1  102      Apple    150  meerut\n",
       "2  103      Mango    160  meerut\n",
       "3  104     Banana    180  meerut\n",
       "4  105  pineapple    190  meerut"
      ]
     },
     "execution_count": 131,
     "metadata": {},
     "output_type": "execute_result"
    }
   ],
   "source": [
    "data.tail()"
   ]
  },
  {
   "cell_type": "code",
   "execution_count": null,
   "id": "3493cba7",
   "metadata": {},
   "outputs": [],
   "source": []
  }
 ],
 "metadata": {
  "kernelspec": {
   "display_name": "Python 3 (ipykernel)",
   "language": "python",
   "name": "python3"
  },
  "language_info": {
   "codemirror_mode": {
    "name": "ipython",
    "version": 3
   },
   "file_extension": ".py",
   "mimetype": "text/x-python",
   "name": "python",
   "nbconvert_exporter": "python",
   "pygments_lexer": "ipython3",
   "version": "3.10.4"
  }
 },
 "nbformat": 4,
 "nbformat_minor": 5
}
