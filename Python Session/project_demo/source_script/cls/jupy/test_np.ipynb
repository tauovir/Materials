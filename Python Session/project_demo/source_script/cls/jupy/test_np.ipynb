{
 "cells": [
  {
   "cell_type": "code",
   "execution_count": 1,
   "id": "a5af1143",
   "metadata": {},
   "outputs": [],
   "source": [
    "import numpy as np"
   ]
  },
  {
   "cell_type": "code",
   "execution_count": 2,
   "id": "3e6fd3d1",
   "metadata": {},
   "outputs": [
    {
     "data": {
      "text/plain": [
       "array([[[ 1,  2,  3,  4],\n",
       "        [10, 20, 30, 40]],\n",
       "\n",
       "       [[ 1,  2,  3,  4],\n",
       "        [10, 20, 30, 40]],\n",
       "\n",
       "       [[ 1,  2,  3,  4],\n",
       "        [10, 20, 30, 40]]])"
      ]
     },
     "execution_count": 2,
     "metadata": {},
     "output_type": "execute_result"
    }
   ],
   "source": [
    "d3 = [\n",
    "    [[1,2,3,4],[10,20,30,40]],\n",
    "    [[1,2,3,4],[10,20,30,40],],\n",
    "    [[1,2,3,4],[10,20,30,40],],\n",
    "    \n",
    "    ]\n",
    "ar = np.array(d3,dtype = \"int32\")\n",
    "ar"
   ]
  },
  {
   "cell_type": "code",
   "execution_count": 5,
   "id": "07eaa32c",
   "metadata": {},
   "outputs": [
    {
     "data": {
      "text/plain": [
       "4"
      ]
     },
     "execution_count": 5,
     "metadata": {},
     "output_type": "execute_result"
    }
   ],
   "source": [
    "ar[0,0,3]"
   ]
  },
  {
   "cell_type": "code",
   "execution_count": 17,
   "id": "f6b6c05a",
   "metadata": {},
   "outputs": [
    {
     "data": {
      "text/plain": [
       "(3, 2, 4)"
      ]
     },
     "execution_count": 17,
     "metadata": {},
     "output_type": "execute_result"
    }
   ],
   "source": [
    "ar.shape"
   ]
  },
  {
   "cell_type": "code",
   "execution_count": 22,
   "id": "7be9bb2c",
   "metadata": {},
   "outputs": [
    {
     "name": "stdout",
     "output_type": "stream",
     "text": [
      "1.0\n"
     ]
    },
    {
     "data": {
      "text/plain": [
       "10000000"
      ]
     },
     "execution_count": 22,
     "metadata": {},
     "output_type": "execute_result"
    }
   ],
   "source": [
    "# Test List\n",
    "import time\n",
    "list1 = [ i for i in range(10000000)]\n",
    "start_time = time.process_time()\n",
    "list2 = [x+2 for x in list1]\n",
    "end_time = time.process_time()\n",
    "print(end_time - start_time)\n",
    "len(list2)"
   ]
  },
  {
   "cell_type": "code",
   "execution_count": 21,
   "id": "f93aa481",
   "metadata": {},
   "outputs": [
    {
     "name": "stdout",
     "output_type": "stream",
     "text": [
      "0.015625\n"
     ]
    },
    {
     "data": {
      "text/plain": [
       "10000000"
      ]
     },
     "execution_count": 21,
     "metadata": {},
     "output_type": "execute_result"
    }
   ],
   "source": [
    "import time\n",
    "a1 = np.arange(10000000)\n",
    "start_time = time.process_time()\n",
    "a2 = a1 + 2\n",
    "end_time = time.process_time()\n",
    "print(end_time - start_time)\n",
    "len(a2)"
   ]
  },
  {
   "cell_type": "code",
   "execution_count": 55,
   "id": "d3c2f7ed",
   "metadata": {},
   "outputs": [],
   "source": [
    "# save np array data\n",
    "arr = np.arange(1,101).reshape(20,5)"
   ]
  },
  {
   "cell_type": "code",
   "execution_count": 57,
   "id": "bff337e6",
   "metadata": {},
   "outputs": [],
   "source": [
    "np.savetxt('np_data.txt',arr,delimiter = \"|\")"
   ]
  },
  {
   "cell_type": "code",
   "execution_count": 61,
   "id": "c6ee71a0",
   "metadata": {},
   "outputs": [],
   "source": [
    "# load Data\n",
    "data = np.loadtxt('np_data.txt',delimiter = \"|\")\n"
   ]
  },
  {
   "cell_type": "code",
   "execution_count": 62,
   "id": "ab5d77ba",
   "metadata": {},
   "outputs": [],
   "source": [
    "a = np.array([1,2,3], float)"
   ]
  },
  {
   "cell_type": "code",
   "execution_count": 63,
   "id": "f5beffbe",
   "metadata": {},
   "outputs": [
    {
     "data": {
      "text/plain": [
       "array([1., 2., 3.])"
      ]
     },
     "execution_count": 63,
     "metadata": {},
     "output_type": "execute_result"
    }
   ],
   "source": [
    "a"
   ]
  },
  {
   "cell_type": "code",
   "execution_count": 68,
   "id": "13aca654",
   "metadata": {},
   "outputs": [
    {
     "data": {
      "text/plain": [
       "[[1.0, 2.0, 3.0, 4.0, 5.0],\n",
       " [6.0, 7.0, 8.0, 9.0, 10.0],\n",
       " [11.0, 12.0, 13.0, 14.0, 15.0],\n",
       " [16.0, 17.0, 18.0, 19.0, 20.0],\n",
       " [21.0, 22.0, 23.0, 24.0, 25.0],\n",
       " [26.0, 27.0, 28.0, 29.0, 30.0],\n",
       " [31.0, 32.0, 33.0, 34.0, 35.0],\n",
       " [36.0, 37.0, 38.0, 39.0, 40.0],\n",
       " [41.0, 42.0, 43.0, 44.0, 45.0],\n",
       " [46.0, 47.0, 48.0, 49.0, 50.0],\n",
       " [51.0, 52.0, 53.0, 54.0, 55.0],\n",
       " [56.0, 57.0, 58.0, 59.0, 60.0],\n",
       " [61.0, 62.0, 63.0, 64.0, 65.0],\n",
       " [66.0, 67.0, 68.0, 69.0, 70.0],\n",
       " [71.0, 72.0, 73.0, 74.0, 75.0],\n",
       " [76.0, 77.0, 78.0, 79.0, 80.0],\n",
       " [81.0, 82.0, 83.0, 84.0, 85.0],\n",
       " [86.0, 87.0, 88.0, 89.0, 90.0],\n",
       " [91.0, 92.0, 93.0, 94.0, 95.0],\n",
       " [96.0, 97.0, 98.0, 99.0, 100.0]]"
      ]
     },
     "execution_count": 68,
     "metadata": {},
     "output_type": "execute_result"
    }
   ],
   "source": [
    "data.tolist()"
   ]
  },
  {
   "cell_type": "code",
   "execution_count": 70,
   "id": "9565b501",
   "metadata": {},
   "outputs": [
    {
     "data": {
      "text/plain": [
       "array([[99., 99., 99., 99., 99.],\n",
       "       [99., 99., 99., 99., 99.],\n",
       "       [99., 99., 99., 99., 99.],\n",
       "       [99., 99., 99., 99., 99.],\n",
       "       [99., 99., 99., 99., 99.],\n",
       "       [99., 99., 99., 99., 99.],\n",
       "       [99., 99., 99., 99., 99.],\n",
       "       [99., 99., 99., 99., 99.],\n",
       "       [99., 99., 99., 99., 99.],\n",
       "       [99., 99., 99., 99., 99.],\n",
       "       [99., 99., 99., 99., 99.],\n",
       "       [99., 99., 99., 99., 99.],\n",
       "       [99., 99., 99., 99., 99.],\n",
       "       [99., 99., 99., 99., 99.],\n",
       "       [99., 99., 99., 99., 99.],\n",
       "       [99., 99., 99., 99., 99.],\n",
       "       [99., 99., 99., 99., 99.],\n",
       "       [99., 99., 99., 99., 99.],\n",
       "       [99., 99., 99., 99., 99.],\n",
       "       [99., 99., 99., 99., 99.]])"
      ]
     },
     "execution_count": 70,
     "metadata": {},
     "output_type": "execute_result"
    }
   ],
   "source": [
    "data.fill(99)\n",
    "data"
   ]
  },
  {
   "cell_type": "code",
   "execution_count": 80,
   "id": "bc7a0668",
   "metadata": {},
   "outputs": [
    {
     "data": {
      "text/plain": [
       "array([[24.,  2.],\n",
       "       [ 3., -1.],\n",
       "       [ 3.,  5.]])"
      ]
     },
     "execution_count": 80,
     "metadata": {},
     "output_type": "execute_result"
    }
   ],
   "source": [
    "a = np.array([[24,2],[3,-1],[3,5]],float)\n",
    "a"
   ]
  },
  {
   "cell_type": "code",
   "execution_count": 83,
   "id": "7413640b",
   "metadata": {},
   "outputs": [
    {
     "data": {
      "text/plain": [
       "array([10.,  2.])"
      ]
     },
     "execution_count": 83,
     "metadata": {},
     "output_type": "execute_result"
    }
   ],
   "source": [
    "a.mean(axis = 0)"
   ]
  },
  {
   "cell_type": "code",
   "execution_count": 82,
   "id": "375824bf",
   "metadata": {},
   "outputs": [
    {
     "data": {
      "text/plain": [
       "array([13.,  1.,  4.])"
      ]
     },
     "execution_count": 82,
     "metadata": {},
     "output_type": "execute_result"
    }
   ],
   "source": [
    "a.mean(axis = 1)"
   ]
  },
  {
   "cell_type": "code",
   "execution_count": 84,
   "id": "6818b702",
   "metadata": {},
   "outputs": [
    {
     "data": {
      "text/plain": [
       "6.0"
      ]
     },
     "execution_count": 84,
     "metadata": {},
     "output_type": "execute_result"
    }
   ],
   "source": [
    "a.mean()"
   ]
  },
  {
   "cell_type": "code",
   "execution_count": 85,
   "id": "31b7e46a",
   "metadata": {},
   "outputs": [
    {
     "data": {
      "text/plain": [
       "24.0"
      ]
     },
     "execution_count": 85,
     "metadata": {},
     "output_type": "execute_result"
    }
   ],
   "source": [
    "a.max()"
   ]
  },
  {
   "cell_type": "code",
   "execution_count": 86,
   "id": "bf6418a3",
   "metadata": {},
   "outputs": [
    {
     "data": {
      "text/plain": [
       "array([24.,  5.])"
      ]
     },
     "execution_count": 86,
     "metadata": {},
     "output_type": "execute_result"
    }
   ],
   "source": [
    "a.max(axis = 0)"
   ]
  },
  {
   "cell_type": "code",
   "execution_count": 87,
   "id": "f1e522c1",
   "metadata": {},
   "outputs": [
    {
     "data": {
      "text/plain": [
       "array([24.,  3.,  5.])"
      ]
     },
     "execution_count": 87,
     "metadata": {},
     "output_type": "execute_result"
    }
   ],
   "source": [
    "a.max(axis = 1)"
   ]
  },
  {
   "cell_type": "code",
   "execution_count": 8,
   "id": "fb4107c2",
   "metadata": {},
   "outputs": [
    {
     "data": {
      "text/plain": [
       "array([[ 0,  1,  2],\n",
       "       [ 3,  4,  5],\n",
       "       [ 6,  7,  8],\n",
       "       [ 9, 10, 11],\n",
       "       [12, 13, 14],\n",
       "       [15, 16, 17],\n",
       "       [18, 19, 20],\n",
       "       [21, 22, 23],\n",
       "       [24, 25, 26],\n",
       "       [27, 28, 29]])"
      ]
     },
     "execution_count": 8,
     "metadata": {},
     "output_type": "execute_result"
    }
   ],
   "source": [
    "a = np.arange(0,30).reshape(10,3)\n",
    "a"
   ]
  },
  {
   "cell_type": "code",
   "execution_count": 23,
   "id": "8056e445",
   "metadata": {},
   "outputs": [],
   "source": [
    "a1=np.array(np.arange(0,10)).reshape(5,2)"
   ]
  },
  {
   "cell_type": "code",
   "execution_count": 24,
   "id": "8bd493a6",
   "metadata": {},
   "outputs": [
    {
     "data": {
      "text/plain": [
       "array([[0, 1],\n",
       "       [2, 3],\n",
       "       [4, 5],\n",
       "       [6, 7],\n",
       "       [8, 9]])"
      ]
     },
     "execution_count": 24,
     "metadata": {},
     "output_type": "execute_result"
    }
   ],
   "source": [
    "a1"
   ]
  },
  {
   "cell_type": "code",
   "execution_count": 15,
   "id": "486ca120",
   "metadata": {},
   "outputs": [
    {
     "data": {
      "text/plain": [
       "array([0, 1, 2, 3, 4, 5, 6, 7, 8, 9])"
      ]
     },
     "execution_count": 15,
     "metadata": {},
     "output_type": "execute_result"
    }
   ],
   "source": [
    "a2 = np.arange(0,10)\n",
    "a2"
   ]
  },
  {
   "cell_type": "code",
   "execution_count": null,
   "id": "bb129e13",
   "metadata": {},
   "outputs": [],
   "source": []
  }
 ],
 "metadata": {
  "kernelspec": {
   "display_name": "Python 3 (ipykernel)",
   "language": "python",
   "name": "python3"
  },
  "language_info": {
   "codemirror_mode": {
    "name": "ipython",
    "version": 3
   },
   "file_extension": ".py",
   "mimetype": "text/x-python",
   "name": "python",
   "nbconvert_exporter": "python",
   "pygments_lexer": "ipython3",
   "version": "3.10.4"
  }
 },
 "nbformat": 4,
 "nbformat_minor": 5
}
