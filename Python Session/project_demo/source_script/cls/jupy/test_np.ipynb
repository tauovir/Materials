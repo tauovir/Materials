{
 "cells": [
  {
   "cell_type": "code",
   "execution_count": 1,
   "id": "1fca1222",
   "metadata": {},
   "outputs": [],
   "source": [
    "import numpy as np"
   ]
  },
  {
   "cell_type": "code",
   "execution_count": 13,
   "id": "69f01497",
   "metadata": {},
   "outputs": [
    {
     "data": {
      "text/plain": [
       "array([[[ 1,  2,  3,  4],\n",
       "        [10, 20, 30, 40]],\n",
       "\n",
       "       [[ 1,  2,  3,  4],\n",
       "        [10, 20, 30, 40]],\n",
       "\n",
       "       [[ 1,  2,  3,  4],\n",
       "        [10, 20, 30, 40]]])"
      ]
     },
     "execution_count": 13,
     "metadata": {},
     "output_type": "execute_result"
    }
   ],
   "source": [
    "d3 = [\n",
    "    [\n",
    "    [1,2,3,4],\n",
    "    [10,20,30,40],\n",
    "    ],\n",
    "    [\n",
    "    [1,2,3,4],\n",
    "    [10,20,30,40],\n",
    "    ],\n",
    "    [\n",
    "    [1,2,3,4],\n",
    "    [10,20,30,40],\n",
    "    ],\n",
    "    \n",
    "    ]\n",
    "ar = np.array(d3,dtype = \"int32\")\n",
    "ar"
   ]
  },
  {
   "cell_type": "code",
   "execution_count": 26,
   "id": "b6b08ca9",
   "metadata": {},
   "outputs": [
    {
     "data": {
      "text/plain": [
       "array([[[30, 40]],\n",
       "\n",
       "       [[30, 40]]])"
      ]
     },
     "execution_count": 26,
     "metadata": {},
     "output_type": "execute_result"
    }
   ],
   "source": [
    "ar[0:2,1:2,2:4]"
   ]
  },
  {
   "cell_type": "code",
   "execution_count": 17,
   "id": "f3a427db",
   "metadata": {},
   "outputs": [
    {
     "data": {
      "text/plain": [
       "(3, 2, 4)"
      ]
     },
     "execution_count": 17,
     "metadata": {},
     "output_type": "execute_result"
    }
   ],
   "source": [
    "ar.shape"
   ]
  },
  {
   "cell_type": "code",
   "execution_count": 22,
   "id": "527e18e4",
   "metadata": {},
   "outputs": [
    {
     "name": "stdout",
     "output_type": "stream",
     "text": [
      "1.0\n"
     ]
    },
    {
     "data": {
      "text/plain": [
       "10000000"
      ]
     },
     "execution_count": 22,
     "metadata": {},
     "output_type": "execute_result"
    }
   ],
   "source": [
    "# Test List\n",
    "import time\n",
    "list1 = [ i for i in range(10000000)]\n",
    "start_time = time.process_time()\n",
    "list2 = [x+2 for x in list1]\n",
    "end_time = time.process_time()\n",
    "print(end_time - start_time)\n",
    "len(list2)"
   ]
  },
  {
   "cell_type": "code",
   "execution_count": 21,
   "id": "7dc0d613",
   "metadata": {},
   "outputs": [
    {
     "name": "stdout",
     "output_type": "stream",
     "text": [
      "0.015625\n"
     ]
    },
    {
     "data": {
      "text/plain": [
       "10000000"
      ]
     },
     "execution_count": 21,
     "metadata": {},
     "output_type": "execute_result"
    }
   ],
   "source": [
    "import time\n",
    "a1 = np.arange(10000000)\n",
    "start_time = time.process_time()\n",
    "a2 = a1 + 2\n",
    "end_time = time.process_time()\n",
    "print(end_time - start_time)\n",
    "len(a2)"
   ]
  },
  {
   "cell_type": "code",
   "execution_count": 55,
   "id": "0431eee5",
   "metadata": {},
   "outputs": [],
   "source": [
    "# save np array data\n",
    "arr = np.arange(1,101).reshape(20,5)"
   ]
  },
  {
   "cell_type": "code",
   "execution_count": 57,
   "id": "74ec8a16",
   "metadata": {},
   "outputs": [],
   "source": [
    "np.savetxt('np_data.txt',arr,delimiter = \"|\")"
   ]
  },
  {
   "cell_type": "code",
   "execution_count": 61,
   "id": "03d8297a",
   "metadata": {},
   "outputs": [],
   "source": [
    "# load Data\n",
    "data = np.loadtxt('np_data.txt',delimiter = \"|\")\n"
   ]
  },
  {
   "cell_type": "code",
   "execution_count": null,
   "id": "90d4a7d6",
   "metadata": {},
   "outputs": [],
   "source": []
  }
 ],
 "metadata": {
  "kernelspec": {
   "display_name": "Python 3 (ipykernel)",
   "language": "python",
   "name": "python3"
  },
  "language_info": {
   "codemirror_mode": {
    "name": "ipython",
    "version": 3
   },
   "file_extension": ".py",
   "mimetype": "text/x-python",
   "name": "python",
   "nbconvert_exporter": "python",
   "pygments_lexer": "ipython3",
   "version": "3.10.4"
  }
 },
 "nbformat": 4,
 "nbformat_minor": 5
}
